{
 "cells": [
  {
   "cell_type": "markdown",
   "metadata": {},
   "source": [
    "Data file size analysis to infer completeness of data set for each sample in GENEWIZ project 30-317737003"
   ]
  },
  {
   "cell_type": "code",
   "execution_count": 1,
   "metadata": {},
   "outputs": [
    {
     "name": "stdout",
     "output_type": "stream",
     "text": [
      "Welcome, Attila Jones!\n",
      "\n"
     ]
    }
   ],
   "source": [
    "%load_ext autoreload\n",
    "%autoreload 2\n",
    "import pandas as pd\n",
    "import synapseclient\n",
    "import synapseutils\n",
    "import re\n",
    "import io\n",
    "import subprocess\n",
    "import os.path\n",
    "import matplotlib.pyplot as plt\n",
    "import matplotlib\n",
    "import numpy as np\n",
    "syn = synapseclient.login()"
   ]
  },
  {
   "cell_type": "markdown",
   "metadata": {},
   "source": [
    "### Chaggai's table\n",
    "for conversion between GENEWIZ *Sample ID* and CMC *Individual ID*"
   ]
  },
  {
   "cell_type": "code",
   "execution_count": 2,
   "metadata": {},
   "outputs": [],
   "source": [
    "chaggai = pd.read_csv('/home/attila/projects/bsm/tables/samples-from-Chaggai.csv', index_col='GENEWIZ_serialn')"
   ]
  },
  {
   "cell_type": "markdown",
   "metadata": {},
   "source": [
    "### Data report by GENEWIZ"
   ]
  },
  {
   "cell_type": "code",
   "execution_count": 3,
   "metadata": {},
   "outputs": [],
   "source": [
    "def get_gw_report(fname='genewiz-report.csv'):\n",
    "    wdir = '/home/attila/projects/bsm/results/2020-05-20-genewiz-data-sizes/'\n",
    "    genewiz_report = pd.read_csv(wdir + os.path.sep + fname, index_col='Sample ID')\n",
    "    genewiz_report = genewiz_report.loc[chaggai.index, :]\n",
    "    genewiz_report['Yield (Gbases)'] = genewiz_report['Yield (Mbases)'] / 1e3\n",
    "    genewiz_report['GENEWIZ_serialn'] = genewiz_report.index\n",
    "    genewiz_report.index = [y + '_NeuN_pl' for y in chaggai['CMC_simple_id']]\n",
    "    genewiz_report['GENEWIZ_short_serialn'] = [re.sub('^([A-H])-.*$', '\\\\1', y) for y in genewiz_report['GENEWIZ_serialn']]\n",
    "    gwi = list(genewiz_report.index)\n",
    "    gwi.sort()\n",
    "    genewiz_report = genewiz_report.loc[gwi, :]\n",
    "    return(genewiz_report)\n",
    "\n",
    "genewiz_report = get_gw_report('genewiz-report.csv')\n",
    "nofailed = get_gw_report('genewiz-report-without-failed.csv')\n",
    "genewiz_report['# Reads w/o failed'] = nofailed['# Reads']\n",
    "genewiz_report['Yield (Gbases) w/o failed'] = nofailed['Yield (Gbases)']"
   ]
  },
  {
   "cell_type": "code",
   "execution_count": 22,
   "metadata": {},
   "outputs": [],
   "source": [
    "dict = '/big/data/refgenome/GRCh37/dna/hs37d5.dict'\n",
    "l1 = ['sed', '-n', '/^@SQ/ {s/[SL]N://g; p}; /\\tY\\t/ q', dict]\n",
    "p1 = subprocess.run(l1, capture_output=True)\n",
    "l2 = ['cut', '-f', '2,3']\n",
    "p2 = subprocess.run(l2, input=p1.stdout, capture_output=True)\n",
    "chr_len = pd.read_csv(io.BytesIO(p2.stdout), sep='\\t', names=['chr', 'length'], index_col='chr')\n",
    "chr_len.sum()\n",
    "genewiz_report['Coverage'] = genewiz_report['Yield (Mbases)'] / np.float(chr_len.sum()) * 1e6\n",
    "genewiz_report.to_csv('/home/attila/projects/bsm/results/2020-05-20-genewiz-data-sizes/coverage.csv')"
   ]
  },
  {
   "cell_type": "markdown",
   "metadata": {},
   "source": [
    "The samples where the failed flowcell makes a difference in terms of yield"
   ]
  },
  {
   "cell_type": "code",
   "execution_count": 5,
   "metadata": {},
   "outputs": [
    {
     "data": {
      "text/plain": [
       "MSSM_063_NeuN_pl    84\n",
       "MSSM_162_NeuN_pl    60\n",
       "MSSM_192_NeuN_pl    27\n",
       "MSSM_269_NeuN_pl    14\n",
       "PITT_098_NeuN_pl    38\n",
       "PITT_117_NeuN_pl     1\n",
       "Name: GENEWIZ_serialn, dtype: object"
      ]
     },
     "execution_count": 5,
     "metadata": {},
     "output_type": "execute_result"
    }
   ],
   "source": [
    "genewiz_report.loc[genewiz_report['Yield (Gbases)'] != genewiz_report['Yield (Gbases) w/o failed'], 'GENEWIZ_serialn']"
   ]
  },
  {
   "cell_type": "markdown",
   "metadata": {},
   "source": [
    "### FASTQ sizes"
   ]
  },
  {
   "cell_type": "code",
   "execution_count": 6,
   "metadata": {},
   "outputs": [],
   "source": [
    "def get_fastqs(s3_folder='30-317737003/'):\n",
    "    p1 = subprocess.run(['aws', 's3', 'ls', 's3://chesslab-bsmn/GENEWIZ/' + s3_folder], capture_output=True)\n",
    "    p2 = subprocess.run(['tr', '--squeeze', '\" \"', ','], input=p1.stdout, capture_output=True)\n",
    "    fastqs = pd.read_csv(io.StringIO(p2.stdout.decode('utf-8')), names=['Date', 'Time', 'FASTQ size B', 'Filename'], index_col='Filename')\n",
    "    fastqs = fastqs.loc[[i for i in fastqs.index if re.match('.*\\.fastq\\.gz', i)], :] # retain only fastq.gz files\n",
    "    fastqs['FASTQ size GiB'] = fastqs['FASTQ size B'] / 2 ** 30\n",
    "    genewiz_serialn = [re.sub('^([^_]+)_.*$', '\\\\1', i) for i in fastqs.index]\n",
    "    fastqs['Sample'] = [i + '_NeuN_pl' for i in list(chaggai.loc[genewiz_serialn, 'CMC_simple_id'])]\n",
    "    return(fastqs)"
   ]
  },
  {
   "cell_type": "code",
   "execution_count": 7,
   "metadata": {},
   "outputs": [],
   "source": [
    "fastqs = get_fastqs('30-317737003/')\n",
    "fastqs_12 = pd.concat([fastqs, get_fastqs('30-317737003_12_lanes/')], axis=0)"
   ]
  },
  {
   "cell_type": "code",
   "execution_count": 8,
   "metadata": {},
   "outputs": [],
   "source": [
    "def get_unmapped(fastqs): \n",
    "    unmapped = fastqs.groupby('Sample').sum()['FASTQ size GiB']\n",
    "    ix = list(unmapped.index)\n",
    "    ix.sort()\n",
    "    unmapped = unmapped.loc[ix]\n",
    "    return(unmapped)"
   ]
  },
  {
   "cell_type": "code",
   "execution_count": 9,
   "metadata": {},
   "outputs": [],
   "source": [
    "unmapped = get_unmapped(fastqs)\n",
    "unmapped_12 = get_unmapped(fastqs_12)"
   ]
  },
  {
   "cell_type": "code",
   "execution_count": 10,
   "metadata": {},
   "outputs": [
    {
     "data": {
      "text/plain": [
       "Sample\n",
       "MSSM_027_NeuN_pl    366.533664\n",
       "MSSM_055_NeuN_pl    417.480726\n",
       "MSSM_063_NeuN_pl     33.275386\n",
       "MSSM_069_NeuN_pl     86.257381\n",
       "MSSM_097_NeuN_pl    651.228232\n",
       "Name: FASTQ size GiB, dtype: float64"
      ]
     },
     "execution_count": 10,
     "metadata": {},
     "output_type": "execute_result"
    }
   ],
   "source": [
    "unmapped.head()"
   ]
  },
  {
   "cell_type": "markdown",
   "metadata": {},
   "source": [
    "### Putting it together"
   ]
  },
  {
   "cell_type": "code",
   "execution_count": 11,
   "metadata": {},
   "outputs": [],
   "source": [
    "genewiz = genewiz_report.loc[unmapped.index, :]\n",
    "genewiz['FASTQ size GiB'] = unmapped\n",
    "genewiz['FASTQ size GiB +12 lanes'] = unmapped_12"
   ]
  },
  {
   "cell_type": "markdown",
   "metadata": {},
   "source": [
    "### Intermezzo: coverage"
   ]
  },
  {
   "cell_type": "code",
   "execution_count": 12,
   "metadata": {},
   "outputs": [
    {
     "data": {
      "image/png": "[encoded data removed]",
      "text/plain": [
       "<Figure size 576x576 with 1 Axes>"
      ]
     },
     "metadata": {
      "needs_background": "light"
     },
     "output_type": "display_data"
    }
   ],
   "source": [
    "%matplotlib inline\n",
    "def yield_vs_fastqsize(Y='FASTQ size GiB', X1='Yield (Gbases)', X2=None, title='S3 folder: 30-317737003'):\n",
    "    fig, ax = plt.subplots(figsize=(8, 8))\n",
    "    ax.set_xlim([0, 1700])\n",
    "    ax.set_ylim([0, 850])\n",
    "    ax.set_xlabel('Reported yield (Gbases)')\n",
    "    ax.set_ylabel('FASTQ size GiB in S3 bucket')\n",
    "    ax.set_title(title)\n",
    "    for i in range(genewiz.shape[0]):\n",
    "        x1 = genewiz[X1][i]\n",
    "        y = genewiz[Y][i]\n",
    "        s = genewiz['GENEWIZ_short_serialn'][i]\n",
    "        if X2 is not None:\n",
    "            x2 = genewiz[X2][i]\n",
    "            if x1 != x2:\n",
    "                ax.text(x2, y, s=s, color='r', ha='center', va='center')\n",
    "                line = matplotlib.lines.Line2D([x1, x2], [y, y], linestyle=':')\n",
    "                ax.add_line(line)\n",
    "        ax.text(x1, y, s=s, ha='center', va='center')\n",
    "\n",
    "yield_vs_fastqsize(Y='FASTQ size GiB', X1='Yield (Gbases)', X2='Yield (Gbases) w/o failed', title='S3 folder: 30-317737003')"
   ]
  },
  {
   "cell_type": "code",
   "execution_count": 13,
   "metadata": {},
   "outputs": [
    {
     "data": {
      "image/png": "[encoded data removed]",
      "text/plain": [
       "<Figure size 576x576 with 1 Axes>"
      ]
     },
     "metadata": {
      "needs_background": "light"
     },
     "output_type": "display_data"
    }
   ],
   "source": [
    "yield_vs_fastqsize(Y='FASTQ size GiB +12 lanes', title='S3 folder: 30-317737003 + 30-317737003_12_lanes')"
   ]
  },
  {
   "cell_type": "code",
   "execution_count": 14,
   "metadata": {},
   "outputs": [],
   "source": [
    "outliers = ['65', '5', 'F', 'D', 'B', 'C', '84', '1', '60', '38', '14', '27']"
   ]
  },
  {
   "cell_type": "code",
   "execution_count": 15,
   "metadata": {},
   "outputs": [
    {
     "data": {
      "text/html": [
       "<div>\n",
       "<style scoped>\n",
       "    .dataframe tbody tr th:only-of-type {\n",
       "        vertical-align: middle;\n",
       "    }\n",
       "\n",
       "    .dataframe tbody tr th {\n",
       "        vertical-align: top;\n",
       "    }\n",
       "\n",
       "    .dataframe thead th {\n",
       "        text-align: right;\n",
       "    }\n",
       "</style>\n",
       "<table border=\"1\" class=\"dataframe\">\n",
       "  <thead>\n",
       "    <tr style=\"text-align: right;\">\n",
       "      <th></th>\n",
       "      <th>GENEWIZ_serialn</th>\n",
       "      <th>GENEWIZ_short_serialn</th>\n",
       "    </tr>\n",
       "    <tr>\n",
       "      <th>Sample</th>\n",
       "      <th></th>\n",
       "      <th></th>\n",
       "    </tr>\n",
       "  </thead>\n",
       "  <tbody>\n",
       "    <tr>\n",
       "      <th>MSSM_063_NeuN_pl</th>\n",
       "      <td>84</td>\n",
       "      <td>84</td>\n",
       "    </tr>\n",
       "    <tr>\n",
       "      <th>MSSM_097_NeuN_pl</th>\n",
       "      <td>C-MSSM-1199</td>\n",
       "      <td>C</td>\n",
       "    </tr>\n",
       "    <tr>\n",
       "      <th>MSSM_162_NeuN_pl</th>\n",
       "      <td>60</td>\n",
       "      <td>60</td>\n",
       "    </tr>\n",
       "    <tr>\n",
       "      <th>MSSM_192_NeuN_pl</th>\n",
       "      <td>27</td>\n",
       "      <td>27</td>\n",
       "    </tr>\n",
       "    <tr>\n",
       "      <th>MSSM_201_NeuN_pl</th>\n",
       "      <td>65</td>\n",
       "      <td>65</td>\n",
       "    </tr>\n",
       "    <tr>\n",
       "      <th>MSSM_269_NeuN_pl</th>\n",
       "      <td>14</td>\n",
       "      <td>14</td>\n",
       "    </tr>\n",
       "    <tr>\n",
       "      <th>MSSM_297_NeuN_pl</th>\n",
       "      <td>B-MSSM-1172</td>\n",
       "      <td>B</td>\n",
       "    </tr>\n",
       "    <tr>\n",
       "      <th>MSSM_308_NeuN_pl</th>\n",
       "      <td>5</td>\n",
       "      <td>5</td>\n",
       "    </tr>\n",
       "    <tr>\n",
       "      <th>MSSM_362_NeuN_pl</th>\n",
       "      <td>F-MSSM-1346</td>\n",
       "      <td>F</td>\n",
       "    </tr>\n",
       "    <tr>\n",
       "      <th>MSSM_379_NeuN_pl</th>\n",
       "      <td>D-MSSM-1238</td>\n",
       "      <td>D</td>\n",
       "    </tr>\n",
       "    <tr>\n",
       "      <th>PITT_098_NeuN_pl</th>\n",
       "      <td>38</td>\n",
       "      <td>38</td>\n",
       "    </tr>\n",
       "    <tr>\n",
       "      <th>PITT_117_NeuN_pl</th>\n",
       "      <td>1</td>\n",
       "      <td>1</td>\n",
       "    </tr>\n",
       "  </tbody>\n",
       "</table>\n",
       "</div>"
      ],
      "text/plain": [
       "                 GENEWIZ_serialn GENEWIZ_short_serialn\n",
       "Sample                                                \n",
       "MSSM_063_NeuN_pl              84                    84\n",
       "MSSM_097_NeuN_pl     C-MSSM-1199                     C\n",
       "MSSM_162_NeuN_pl              60                    60\n",
       "MSSM_192_NeuN_pl              27                    27\n",
       "MSSM_201_NeuN_pl              65                    65\n",
       "MSSM_269_NeuN_pl              14                    14\n",
       "MSSM_297_NeuN_pl     B-MSSM-1172                     B\n",
       "MSSM_308_NeuN_pl               5                     5\n",
       "MSSM_362_NeuN_pl     F-MSSM-1346                     F\n",
       "MSSM_379_NeuN_pl     D-MSSM-1238                     D\n",
       "PITT_098_NeuN_pl              38                    38\n",
       "PITT_117_NeuN_pl               1                     1"
      ]
     },
     "execution_count": 15,
     "metadata": {},
     "output_type": "execute_result"
    }
   ],
   "source": [
    "genewiz.loc[genewiz.isin({'GENEWIZ_short_serialn': outliers})['GENEWIZ_short_serialn'], ['GENEWIZ_serialn', 'GENEWIZ_short_serialn']]"
   ]
  },
  {
   "cell_type": "markdown",
   "metadata": {},
   "source": [
    "### CRAM sizes"
   ]
  },
  {
   "cell_type": "code",
   "execution_count": 16,
   "metadata": {},
   "outputs": [],
   "source": [
    "scratch = list(synapseutils.walk(syn, 'syn20735395'))[0][2] # get file list\n",
    "scratch = [y for y in scratch if re.match('^.*\\.cram$', y[0])] # retain only .cram files and remove everything else like .crai files\n",
    "entities = [syn.get(y[1], downloadFile=False) for y in scratch]"
   ]
  },
  {
   "cell_type": "code",
   "execution_count": 17,
   "metadata": {},
   "outputs": [
    {
     "ename": "TypeError",
     "evalue": "'str' object is not callable",
     "output_type": "error",
     "traceback": [
      "\u001b[0;31m---------------------------------------------------------------------------\u001b[0m",
      "\u001b[0;31mTypeError\u001b[0m                                 Traceback (most recent call last)",
      "\u001b[0;32m<ipython-input-17-d49e44be1667>\u001b[0m in \u001b[0;36m<module>\u001b[0;34m\u001b[0m\n\u001b[1;32m     16\u001b[0m     \u001b[0;32mreturn\u001b[0m\u001b[0;34m(\u001b[0m\u001b[0mdf\u001b[0m\u001b[0;34m)\u001b[0m\u001b[0;34m\u001b[0m\u001b[0;34m\u001b[0m\u001b[0m\n\u001b[1;32m     17\u001b[0m \u001b[0;34m\u001b[0m\u001b[0m\n\u001b[0;32m---> 18\u001b[0;31m \u001b[0mmapped\u001b[0m \u001b[0;34m=\u001b[0m \u001b[0mpd\u001b[0m\u001b[0;34m.\u001b[0m\u001b[0mconcat\u001b[0m\u001b[0;34m(\u001b[0m\u001b[0;34m[\u001b[0m\u001b[0mentity2df\u001b[0m\u001b[0;34m(\u001b[0m\u001b[0me\u001b[0m\u001b[0;34m)\u001b[0m \u001b[0;32mfor\u001b[0m \u001b[0me\u001b[0m \u001b[0;32min\u001b[0m \u001b[0mentities\u001b[0m\u001b[0;34m]\u001b[0m\u001b[0;34m)\u001b[0m\u001b[0;34m\u001b[0m\u001b[0;34m\u001b[0m\u001b[0m\n\u001b[0m\u001b[1;32m     19\u001b[0m \u001b[0mmapped\u001b[0m\u001b[0;34m.\u001b[0m\u001b[0mhead\u001b[0m\u001b[0;34m(\u001b[0m\u001b[0;34m)\u001b[0m\u001b[0;34m\u001b[0m\u001b[0;34m\u001b[0m\u001b[0m\n",
      "\u001b[0;32m<ipython-input-17-d49e44be1667>\u001b[0m in \u001b[0;36m<listcomp>\u001b[0;34m(.0)\u001b[0m\n\u001b[1;32m     16\u001b[0m     \u001b[0;32mreturn\u001b[0m\u001b[0;34m(\u001b[0m\u001b[0mdf\u001b[0m\u001b[0;34m)\u001b[0m\u001b[0;34m\u001b[0m\u001b[0;34m\u001b[0m\u001b[0m\n\u001b[1;32m     17\u001b[0m \u001b[0;34m\u001b[0m\u001b[0m\n\u001b[0;32m---> 18\u001b[0;31m \u001b[0mmapped\u001b[0m \u001b[0;34m=\u001b[0m \u001b[0mpd\u001b[0m\u001b[0;34m.\u001b[0m\u001b[0mconcat\u001b[0m\u001b[0;34m(\u001b[0m\u001b[0;34m[\u001b[0m\u001b[0mentity2df\u001b[0m\u001b[0;34m(\u001b[0m\u001b[0me\u001b[0m\u001b[0;34m)\u001b[0m \u001b[0;32mfor\u001b[0m \u001b[0me\u001b[0m \u001b[0;32min\u001b[0m \u001b[0mentities\u001b[0m\u001b[0;34m]\u001b[0m\u001b[0;34m)\u001b[0m\u001b[0;34m\u001b[0m\u001b[0;34m\u001b[0m\u001b[0m\n\u001b[0m\u001b[1;32m     19\u001b[0m \u001b[0mmapped\u001b[0m\u001b[0;34m.\u001b[0m\u001b[0mhead\u001b[0m\u001b[0;34m(\u001b[0m\u001b[0;34m)\u001b[0m\u001b[0;34m\u001b[0m\u001b[0;34m\u001b[0m\u001b[0m\n",
      "\u001b[0;32m<ipython-input-17-d49e44be1667>\u001b[0m in \u001b[0;36mentity2df\u001b[0;34m(e)\u001b[0m\n\u001b[1;32m      3\u001b[0m     \u001b[0msimple_id\u001b[0m \u001b[0;34m=\u001b[0m \u001b[0mre\u001b[0m\u001b[0;34m.\u001b[0m\u001b[0msub\u001b[0m\u001b[0;34m(\u001b[0m\u001b[0;34m'_(muscle|NeuN_pl|NeuN_mn).*$'\u001b[0m\u001b[0;34m,\u001b[0m \u001b[0;34m''\u001b[0m\u001b[0;34m,\u001b[0m \u001b[0me\u001b[0m\u001b[0;34m.\u001b[0m\u001b[0mname\u001b[0m\u001b[0;34m)\u001b[0m\u001b[0;34m\u001b[0m\u001b[0;34m\u001b[0m\u001b[0m\n\u001b[1;32m      4\u001b[0m     \u001b[0mindiv_id\u001b[0m \u001b[0;34m=\u001b[0m \u001b[0;34m'CMC_'\u001b[0m \u001b[0;34m+\u001b[0m \u001b[0msimple_id\u001b[0m\u001b[0;34m\u001b[0m\u001b[0;34m\u001b[0m\u001b[0m\n\u001b[0;32m----> 5\u001b[0;31m     \u001b[0md\u001b[0m \u001b[0;34m=\u001b[0m \u001b[0mdict\u001b[0m\u001b[0;34m(\u001b[0m\u001b[0;34m)\u001b[0m\u001b[0;34m\u001b[0m\u001b[0;34m\u001b[0m\u001b[0m\n\u001b[0m\u001b[1;32m      6\u001b[0m     \u001b[0md\u001b[0m\u001b[0;34m[\u001b[0m\u001b[0;34m'Individual ID'\u001b[0m\u001b[0;34m]\u001b[0m \u001b[0;34m=\u001b[0m \u001b[0mindiv_id\u001b[0m\u001b[0;34m\u001b[0m\u001b[0;34m\u001b[0m\u001b[0m\n\u001b[1;32m      7\u001b[0m     \u001b[0md\u001b[0m\u001b[0;34m[\u001b[0m\u001b[0;34m'Tissue'\u001b[0m\u001b[0;34m]\u001b[0m \u001b[0;34m=\u001b[0m \u001b[0mre\u001b[0m\u001b[0;34m.\u001b[0m\u001b[0msub\u001b[0m\u001b[0;34m(\u001b[0m\u001b[0;34m'^.*(muscle|NeuN_pl|NeuN_mn).*$'\u001b[0m\u001b[0;34m,\u001b[0m \u001b[0;34m'\\\\1'\u001b[0m\u001b[0;34m,\u001b[0m \u001b[0me\u001b[0m\u001b[0;34m.\u001b[0m\u001b[0mname\u001b[0m\u001b[0;34m)\u001b[0m\u001b[0;34m\u001b[0m\u001b[0;34m\u001b[0m\u001b[0m\n",
      "\u001b[0;31mTypeError\u001b[0m: 'str' object is not callable"
     ]
    }
   ],
   "source": [
    "def entity2df(e):\n",
    "    '''given Synapse entity e create one-lined data frame'''\n",
    "    simple_id = re.sub('_(muscle|NeuN_pl|NeuN_mn).*$', '', e.name)\n",
    "    indiv_id = 'CMC_' + simple_id\n",
    "    d = dict()\n",
    "    d['Individual ID'] = indiv_id\n",
    "    d['Tissue'] = re.sub('^.*(muscle|NeuN_pl|NeuN_mn).*$', '\\\\1', e.name)\n",
    "    d['File name'] = e.name\n",
    "    d['Modification time'] = e.modifiedOn\n",
    "    users = {'3388274': '@cmolitor', '3340241': '@taejeong', '3338602': '@attilajones'}\n",
    "    d['Created by'] = users[e.createdBy]\n",
    "    d['Modified by'] = users[e.modifiedBy]\n",
    "    d['CRAM size GiB'] = e._file_handle.contentSize / 2 ** 30\n",
    "    e._file_handle.contentSize\n",
    "    df = pd.DataFrame(d, index=[e.name.replace('.cram', '')])\n",
    "    return(df)\n",
    "\n",
    "mapped = pd.concat([entity2df(e) for e in entities])\n",
    "mapped.head()"
   ]
  },
  {
   "cell_type": "code",
   "execution_count": null,
   "metadata": {},
   "outputs": [],
   "source": [
    "shared_samples = list(set(unmapped.index).intersection(set(mapped.index)))\n",
    "shared_samples.sort()\n",
    "combined = pd.concat([unmapped.loc[shared_samples], mapped.loc[shared_samples, 'CRAM size GiB']], axis=1)"
   ]
  },
  {
   "cell_type": "code",
   "execution_count": null,
   "metadata": {},
   "outputs": [],
   "source": [
    "%connect_info"
   ]
  },
  {
   "cell_type": "code",
   "execution_count": null,
   "metadata": {},
   "outputs": [],
   "source": []
  }
 ],
 "metadata": {
  "kernelspec": {
   "display_name": "Python 3",
   "language": "python",
   "name": "python3"
  },
  "language_info": {
   "codemirror_mode": {
    "name": "ipython",
    "version": 3
   },
   "file_extension": ".py",
   "mimetype": "text/x-python",
   "name": "python",
   "nbconvert_exporter": "python",
   "pygments_lexer": "ipython3",
   "version": "3.7.6"
  }
 },
 "nbformat": 4,
 "nbformat_minor": 4
}
