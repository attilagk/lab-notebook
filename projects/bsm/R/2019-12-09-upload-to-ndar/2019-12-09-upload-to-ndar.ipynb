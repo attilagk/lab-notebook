{
 "cells": [
  {
   "cell_type": "markdown",
   "metadata": {},
   "source": [
    "This data upload, named 2019-12-09, uses the new cmc_submit2ndar.py command line tool based on the earlier version of the same file, the cmc_submit2ndar module, which can still be imported into a python session.  Cindy Molitor from Sage (cindy.molitor@sagebase.org) assisted me in validating the manifests.  David Obenshain of NIMH Data Archive Help Desk (ndahelp@mail.nih.gov) helped configure nda-tools v0.1.21, see /home/attila/.NDATools/settings.cfg since the first upload attempt failed."
   ]
  },
  {
   "cell_type": "markdown",
   "metadata": {},
   "source": [
    "Making manifests for the newest upload to NDA using the improved ~/projects/bsm/src/cmc_submit2ndar.py script."
   ]
  },
  {
   "cell_type": "code",
   "execution_count": 3,
   "metadata": {},
   "outputs": [],
   "source": [
    "%load_ext autoreload\n",
    "%autoreload 2\n",
    "#import cmc_submit2ndar\n",
    "import synapseclient\n",
    "import glob"
   ]
  },
  {
   "cell_type": "markdown",
   "metadata": {},
   "source": [
    "Call `/home/attila/projects/bsm/notebook/2019-12-09-upload-to-ndar/samples-to-upload`.  Note that a the following had to be done:\n",
    "* a pseudo-GUID had to be generated with the [NDA GUID tool](https://nda.nih.gov/s/guid/nda-guid.html) for individual CMC_MSSM_310\n",
    "* CMC_MSSM_310 was added to:\n",
    "    1. `ada:/projects/bsm/data/dnalib/BSM_Project_Chess.csv`\n",
    "    1. CMC_Human_WGS_metadata_working.csv [syn17021773](https://www.synapse.org/#!Synapse:syn17021773)\n",
    "    1. genomics_subject02_U01MH106891_Chess.csv [syn12128754](https://www.synapse.org/#!Synapse:syn12128754)\n",
    "    1. nichd_btb02_U01MH106891_Chess.csv [syn12154562](https://www.synapse.org/#!Synapse:syn12154562)\n",
    "* CMC_MSSM_168 and CMC_MSSM_327 have been similarly added although they are not among the current set of samples to be uploaded"
   ]
  },
  {
   "cell_type": "code",
   "execution_count": 4,
   "metadata": {},
   "outputs": [
    {
     "name": "stdout",
     "output_type": "stream",
     "text": [
      "chess-2019-12-09-genomics_sample03.csv\n",
      "chess-2019-12-09-genomics_subject02.csv\n",
      "chess-2019-12-09-nichd_btb02.csv\n",
      "genomics_sample03_template.csv\n",
      "genomics_subject02_U01MH106891_Chess.csv\n",
      "nichd_btb02_U01MH106891_Chess.csv\n",
      "samples-to-upload.csv\n"
     ]
    }
   ],
   "source": [
    "%%bash\n",
    "cd /projects/bsm/attila/results/2019-12-09-upload-to-ndar\n",
    "ls"
   ]
  },
  {
   "cell_type": "markdown",
   "metadata": {},
   "source": [
    "The format of the sample files is as below.  Files like these are the input to `~/projects/bsm/src/cmc_submit2ndar.py`"
   ]
  },
  {
   "cell_type": "code",
   "execution_count": 5,
   "metadata": {},
   "outputs": [
    {
     "name": "stdout",
     "output_type": "stream",
     "text": [
      "indiv,tissue\n",
      "MSSM_033,NeuN_pl\n",
      "MSSM_056,NeuN_pl\n",
      "MSSM_065,NeuN_pl\n",
      "MSSM_193,NeuN_pl\n",
      "MSSM_295,NeuN_pl\n",
      "MSSM_304,NeuN_pl\n",
      "MSSM_310,NeuN_pl\n",
      "MSSM_331,NeuN_pl\n",
      "MSSM_338,NeuN_pl\n",
      "PITT_036,NeuN_pl\n",
      "PITT_060,NeuN_pl\n",
      "PITT_101,NeuN_pl\n"
     ]
    }
   ],
   "source": [
    "%%bash\n",
    "cd /projects/bsm/attila/results/2019-12-09-upload-to-ndar\n",
    "cat samples-to-upload.csv"
   ]
  },
  {
   "cell_type": "markdown",
   "metadata": {},
   "source": [
    "The help message of the script:"
   ]
  },
  {
   "cell_type": "code",
   "execution_count": 6,
   "metadata": {},
   "outputs": [
    {
     "name": "stdout",
     "output_type": "stream",
     "text": [
      "usage: cmc_submit2ndar.py [-h] [-d TARGETDIR] [-p PREFIX] slistcsv\n",
      "\n",
      "positional arguments:\n",
      "  slistcsv              sample list CSV file\n",
      "\n",
      "optional arguments:\n",
      "  -h, --help            show this help message and exit\n",
      "  -d TARGETDIR, --targetdir TARGETDIR\n",
      "                        target directory\n",
      "  -p PREFIX, --prefix PREFIX\n",
      "                        prefix for output files\n"
     ]
    }
   ],
   "source": [
    "%%bash\n",
    "cd /projects/bsm/attila/results/2019-12-09-upload-to-ndar\n",
    "~/projects/bsm/src/cmc_submit2ndar.py -h"
   ]
  },
  {
   "cell_type": "markdown",
   "metadata": {},
   "source": [
    "Now run the script and generate the three manifests that describe all samples in `samples-to-upload-MSSM_310.csv`."
   ]
  },
  {
   "cell_type": "code",
   "execution_count": 135,
   "metadata": {},
   "outputs": [
    {
     "name": "stdout",
     "output_type": "stream",
     "text": [
      "Welcome, Attila Jones!\n",
      "\n",
      "processing MSSM_033 NeuN_pl\n",
      "processing MSSM_056 NeuN_pl\n",
      "processing MSSM_065 NeuN_pl\n",
      "processing MSSM_193 NeuN_pl\n",
      "processing MSSM_295 NeuN_pl\n",
      "processing MSSM_304 NeuN_pl\n",
      "processing MSSM_310 NeuN_pl\n",
      "processing MSSM_331 NeuN_pl\n",
      "processing MSSM_338 NeuN_pl\n",
      "processing PITT_036 NeuN_pl\n",
      "processing PITT_060 NeuN_pl\n",
      "processing PITT_101 NeuN_pl\n"
     ]
    }
   ],
   "source": [
    "%%bash\n",
    "cd /projects/bsm/attila/results/2019-12-09-upload-to-ndar\n",
    "~/projects/bsm/src/cmc_submit2ndar.py -d . -p chess-2019-12-09- samples-to-upload.csv"
   ]
  },
  {
   "cell_type": "markdown",
   "metadata": {},
   "source": [
    "The resulting files:"
   ]
  },
  {
   "cell_type": "code",
   "execution_count": 136,
   "metadata": {},
   "outputs": [
    {
     "name": "stdout",
     "output_type": "stream",
     "text": [
      "total 240\n",
      "-rw-rw-r-- 1 attila projects  39724 Dec 12 19:25 chess-2019-12-09-genomics_sample03.csv\n",
      "-rw-rw-r-- 1 attila projects   2539 Dec 12 19:25 chess-2019-12-09-genomics_subject02.csv\n",
      "-rw-rw-r-- 1 attila projects   7832 Dec 12 19:25 chess-2019-12-09-nichd_btb02.csv\n",
      "-rw-rw-r-- 1 attila projects    532 Dec 12 19:24 genomics_sample03_template.csv\n",
      "-rw-rw-r-- 1 attila projects  16373 Dec 12 19:24 genomics_subject02_U01MH106891_Chess.csv\n",
      "-rw-rw-r-- 1 attila projects 166318 Dec 12 19:24 nichd_btb02_U01MH106891_Chess.csv\n",
      "-rw-rw-r-- 1 attila projects    217 Dec 10 15:15 samples-to-upload.csv\n"
     ]
    }
   ],
   "source": [
    "%%bash\n",
    "ls -lt /projects/bsm/attila/results/2019-12-09-upload-to-ndar"
   ]
  },
  {
   "cell_type": "markdown",
   "metadata": {},
   "source": [
    "Finally, upload the manifests to Synapse folder syn21344929.  See email from cindy.molitor@sagebase.org from 12/3/2019."
   ]
  },
  {
   "cell_type": "code",
   "execution_count": 128,
   "metadata": {},
   "outputs": [
    {
     "name": "stdout",
     "output_type": "stream",
     "text": [
      "\n",
      "##################################################\n",
      " Uploading file to Synapse storage \n",
      "##################################################\n",
      "\n",
      "\n",
      "##################################################\n",
      " Uploading file to Synapse storage \n",
      "##################################################\n",
      "\n",
      "\n",
      "##################################################\n",
      " Uploading file to Synapse storage \n",
      "##################################################\n",
      "\n"
     ]
    },
    {
     "data": {
      "text/plain": [
       "[File(grant=['U01MH106891'], etag='2ee660f5-d1fa-4a12-8a5b-c412e4e5986f', cacheDir='/projects/bsm/attila/results/2019-12-09-upload-to-ndar', synapseStore=True, group=['Akbarian-Chess-Walsh'], modifiedBy='3338602', versionLabel='2', files=['chess-2019-12-09-genomics_subject02.csv'], nda_short_name=['genomics_subject02'], createdOn='2019-12-10T20:50:05.317Z', parentId='syn21344929', name='chess-2019-12-09-genomics_subject02.csv', _file_handle={'id': '46504203', 'etag': 'a281b7b6-3d12-40bd-b3f7-36155d903044', 'createdBy': '3338602', 'createdOn': '2019-12-13T00:05:52.000Z', 'concreteType': 'org.sagebionetworks.repo.model.file.S3FileHandle', 'contentType': 'text/csv', 'contentMd5': '205e621a8ab33ead0b10c94b94b36fbf', 'fileName': 'chess-2019-12-09-genomics_subject02.csv', 'storageLocationId': 1, 'contentSize': 2539, 'bucketName': 'proddata.sagebase.org', 'key': '3338602/5297553d-4f9f-4523-b337-b71b0dca70a6/chess-2019-12-09-genomics_subject02.csv', 'previewId': '46504204', 'isPreview': False, 'externalURL': None}, dataFileHandleId='46504203', modifiedOn='2019-12-13T00:05:52.661Z', concreteType='org.sagebionetworks.repo.model.FileEntity', id='syn21425918', createdBy='3338602', versionNumber=2, path='/projects/bsm/attila/results/2019-12-09-upload-to-ndar/chess-2019-12-09-genomics_subject02.csv', primary_investigator=['Chess']),\n",
       " File(grant=['U01MH106891'], cacheDir='/projects/bsm/attila/results/2019-12-09-upload-to-ndar', synapseStore=True, group=['Akbarian-Chess-Walsh'], modifiedBy='3338602', _file_handle={'id': '46504205', 'etag': '4fa90a85-4380-4f20-8fbc-babd71774e84', 'createdBy': '3338602', 'createdOn': '2019-12-13T00:05:54.000Z', 'concreteType': 'org.sagebionetworks.repo.model.file.S3FileHandle', 'contentType': 'text/csv', 'contentMd5': '2fd1c4ec2924c2a5008bc707e5af9c08', 'fileName': 'chess-2019-12-09-nichd_btb02.csv', 'storageLocationId': 1, 'contentSize': 7832, 'bucketName': 'proddata.sagebase.org', 'key': '3338602/b4571a2e-8d70-40b9-a8f7-8b78eb682ca0/chess-2019-12-09-nichd_btb02.csv', 'previewId': '46504206', 'isPreview': False, 'externalURL': None}, dataFileHandleId='46504205', nda_short_name=['nichd_btb02'], versionLabel='2', parentId='syn21344929', path='/projects/bsm/attila/results/2019-12-09-upload-to-ndar/chess-2019-12-09-nichd_btb02.csv', concreteType='org.sagebionetworks.repo.model.FileEntity', etag='b3c51e73-b7d9-4f9a-ae24-c1b98c5aa84e', name='chess-2019-12-09-nichd_btb02.csv', createdOn='2019-12-10T20:50:07.664Z', files=['chess-2019-12-09-nichd_btb02.csv'], id='syn21425919', modifiedOn='2019-12-13T00:05:55.488Z', createdBy='3338602', versionNumber=2, primary_investigator=['Chess']),\n",
       " File(files=['chess-2019-12-09-genomics_sample03.csv'], grant=['U01MH106891'], dataFileHandleId='46504207', cacheDir='/projects/bsm/attila/results/2019-12-09-upload-to-ndar', synapseStore=True, group=['Akbarian-Chess-Walsh'], modifiedBy='3338602', etag='2930cfca-8946-46e3-bf97-fad1ffea1ab7', id='syn21425920', versionLabel='2', _file_handle={'id': '46504207', 'etag': '0099c2a2-ac2a-441f-a660-e0a7fc6d59a9', 'createdBy': '3338602', 'createdOn': '2019-12-13T00:05:57.000Z', 'concreteType': 'org.sagebionetworks.repo.model.file.S3FileHandle', 'contentType': 'text/csv', 'contentMd5': '80458fafc3bd50faec2a5158beefa31b', 'fileName': 'chess-2019-12-09-genomics_sample03.csv', 'storageLocationId': 1, 'contentSize': 39724, 'bucketName': 'proddata.sagebase.org', 'key': '3338602/22498848-6fa3-4833-8482-796eb007db19/chess-2019-12-09-genomics_sample03.csv', 'isPreview': False, 'externalURL': None}, path='/projects/bsm/attila/results/2019-12-09-upload-to-ndar/chess-2019-12-09-genomics_sample03.csv', parentId='syn21344929', nda_short_name=['genomics_sample03'], modifiedOn='2019-12-13T00:05:57.011Z', createdOn='2019-12-10T20:50:10.519Z', concreteType='org.sagebionetworks.repo.model.FileEntity', name='chess-2019-12-09-genomics_sample03.csv', createdBy='3338602', versionNumber=2, primary_investigator=['Chess'])]"
      ]
     },
     "execution_count": 128,
     "metadata": {},
     "output_type": "execute_result"
    }
   ],
   "source": [
    "manifests = glob.glob('/projects/bsm/attila/results/2019-12-09-upload-to-ndar/chess*csv')\n",
    "[syn.store(synapseclient.File(m, parent='syn21344929')) for m in manifests]"
   ]
  },
  {
   "cell_type": "code",
   "execution_count": 11,
   "metadata": {},
   "outputs": [
    {
     "name": "stdout",
     "output_type": "stream",
     "text": [
      "usage: submit2nda.py [-h] [-t TITLE] [-u USER] [-p PASSWORD] [-c COLLECTION]\n",
      "                     [-l LIB] [-b]\n",
      "                     btb gsub gsam\n",
      "\n",
      "positional arguments:\n",
      "  btb                   b tissue bank file\n",
      "  gsub                  genomic subjects file\n",
      "  gsam                  genomic samples file\n",
      "\n",
      "optional arguments:\n",
      "  -h, --help            show this help message and exit\n",
      "  -t TITLE, --title TITLE\n",
      "                        submission title\n",
      "  -u USER, --user USER  NDA user name\n",
      "  -p PASSWORD, --password PASSWORD\n",
      "                        password\n",
      "  -c COLLECTION, --collection COLLECTION\n",
      "                        NDA collection\n",
      "  -l LIB, --lib LIB     TNseq calling algorithm\n",
      "  -b, --build           build package\n"
     ]
    }
   ],
   "source": [
    "%%bash\n",
    "/home/attila/projects/bsm/src/submit2nda.py -h"
   ]
  },
  {
   "cell_type": "code",
   "execution_count": null,
   "metadata": {},
   "outputs": [],
   "source": [
    "%%bash\n",
    "cd /projects/bsm/attila/results/2019-12-09-upload-to-ndar\n",
    "/home/attila/projects/bsm/src/submit2nda.py -t '2019-12-09' -b chess-2019-12-09-nichd_btb02.csv chess-2019-12-09-genomics_subject02.csv chess-2019-12-09-genomics_sample03.csv"
   ]
  },
  {
   "cell_type": "markdown",
   "metadata": {},
   "source": [
    "The first submission attempt (12/17/2019) failed so the NIMH Data Archive Help Desk was contacted.  David Obenshain identified the error (see his email of 12/30/2019) so the resubmission on 1/3/2020 was successful.  See `results/2019-12-09-upload-to-ndar/upload-20200102T134656.stdout`."
   ]
  }
 ],
 "metadata": {
  "kernelspec": {
   "display_name": "Python 3",
   "language": "python",
   "name": "python3"
  },
  "language_info": {
   "codemirror_mode": {
    "name": "ipython",
    "version": 3
   },
   "file_extension": ".py",
   "mimetype": "text/x-python",
   "name": "python",
   "nbconvert_exporter": "python",
   "pygments_lexer": "ipython3",
   "version": "3.7.4"
  }
 },
 "nbformat": 4,
 "nbformat_minor": 2
}
