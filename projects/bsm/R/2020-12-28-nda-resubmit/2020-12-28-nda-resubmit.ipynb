{
 "cells": [
  {
   "cell_type": "markdown",
   "metadata": {},
   "source": [
    "Resubmissions to NDA.  These are meant to fix earlier submissions with incorrect manifest files."
   ]
  },
  {
   "cell_type": "code",
   "execution_count": 1,
   "metadata": {},
   "outputs": [],
   "source": [
    "%load_ext autoreload\n",
    "%autoreload 2\n",
    "%reload_ext autoreload"
   ]
  },
  {
   "cell_type": "code",
   "execution_count": 2,
   "metadata": {},
   "outputs": [
    {
     "name": "stdout",
     "output_type": "stream",
     "text": [
      "big\n",
      "big.tar\n",
      "genomics_sample03.csv\n",
      "genomics_sample03-fix.csv\n",
      "genomics_sample03-old.csv\n",
      "genomics_subject02.csv\n",
      "nichd_btb02.csv\n",
      "submission_13812_files.csv\n"
     ]
    }
   ],
   "source": [
    "%%bash\n",
    "d=$HOME/projects/bsm/results/2020-12-28-nda-resubmit/submission_13889\n",
    "ls $d"
   ]
  },
  {
   "cell_type": "markdown",
   "metadata": {},
   "source": [
    "The difference between `genomics_sample03.csv` and `genomics_sample03-old.csv` is that the former contains a `sex` column, without which `genomics_sample03.csv` fails validation with an error.  The `sex` column did not use to be part of genomics_sample03 manifests but now it does; see [the specification](https://nda.nih.gov/data_structure.html?short_name=genomics_sample03).  For the error see `/home/attila/NDAValidationResults/validation_results_20210129T115207.csv`"
   ]
  },
  {
   "cell_type": "code",
   "execution_count": 3,
   "metadata": {},
   "outputs": [
    {
     "name": "stdout",
     "output_type": "stream",
     "text": [
      "#! /usr/bin/env bash\n",
      "\n",
      "#d=/home/attila/projects/bsm/ndar/benchmark/vt-python/test0\n",
      "d=$1\n",
      "#d=`realpath $1`\n",
      "f1=$d/nichd_btb02.csv\n",
      "f2=$d/genomics_subject02.csv\n",
      "f3=$d/genomics_sample03.csv\n",
      "\n",
      "vtcmd \\\n",
      "\t$f1 $f2 $f3 \\\n",
      "    -u attilagk \\\n",
      "    -p Chesslab13 \\\n",
      "    -a BSMN-S3 \\\n",
      "    -l $d \\\n",
      "    -t \"Chess lab\" \\\n",
      "    -d \"FASTQs and BAMs of the Chess lab data\" -b\n",
      "\n",
      "exit\n",
      "\n",
      "    -m $d \\\n"
     ]
    }
   ],
   "source": [
    "%%bash\n",
    "cat submit.sh"
   ]
  },
  {
   "cell_type": "code",
   "execution_count": 4,
   "metadata": {},
   "outputs": [
    {
     "name": "stdout",
     "output_type": "stream",
     "text": [
      "Running NDATools Version 0.2.3\n",
      "Opening log: /home/attila/NDAValidationResults/debug_log_20210129T124035.txt\n",
      "\n",
      "Validating files...\n",
      "Validation report output to: /home/attila/NDAValidationResults/validation_results_20210129T124035.csv\n",
      "\n",
      "Note: Your data has warnings. To save warnings, run again with -w argument.\n",
      "\n",
      "All files have finished validating.\n",
      "\n",
      "The following files passed validation:\n",
      "UUID 82807df6-1bc5-433d-88e4-a5937ed8d0f7: /home/attila/projects/bsm/results/2020-12-28-nda-resubmit/submission_13889/genomics_subject02.csv\n",
      "UUID 08de684d-5b84-4a19-afd3-7fc25fbbc5b1: /home/attila/projects/bsm/results/2020-12-28-nda-resubmit/submission_13889/nichd_btb02.csv\n",
      "UUID 52ee9897-016c-4a99-a323-c2d803c85a0f: /home/attila/projects/bsm/results/2020-12-28-nda-resubmit/submission_13889/genomics_sample03.csv\n",
      "\n",
      "Searching for associated files...\n",
      "Building Package\n",
      "\n",
      "\n",
      "Package Information:\n",
      "validation results: ['82807df6-1bc5-433d-88e4-a5937ed8d0f7', '52ee9897-016c-4a99-a323-c2d803c85a0f', '08de684d-5b84-4a19-afd3-7fc25fbbc5b1']\n",
      "submission_package_uuid: b091ee8f-4e5e-4301-b31f-a93ae991556b\n",
      "created date: 2021-01-29T12:40:38.422-0500\n",
      "expiration date: 2021-01-30T12:40:38.422-0500\n",
      "\n",
      "Package finished building.\n",
      "\n",
      "Downloading submission package.\n",
      "\n",
      "A copy of your submission package has been saved to: NDASubmission_attilagk_1611942038786/NDASubmissionPackages\n",
      "Requesting submission for package: b091ee8f-4e5e-4301-b31f-a93ae991556b\n",
      "Submission ID: 35570\n",
      "Preparing to upload associated files.\n",
      "\n",
      "Uploads complete.\n",
      "Checking Submission Status.\n",
      "\n",
      "You have successfully completed uploading files for submission 35570 with status: Submitted_Prototype\n"
     ]
    },
    {
     "name": "stderr",
     "output_type": "stream",
     "text": [
      "\r",
      "  0%|          | 0/3 [00:00<?, ?it/s]\r",
      " 33%|███▎      | 1/3 [00:00<00:01,  1.03it/s]\r",
      " 67%|██████▋   | 2/3 [00:01<00:00,  1.27it/s]\r",
      "100%|██████████| 3/3 [00:01<00:00,  1.71it/s]\r",
      "100%|██████████| 3/3 [00:01<00:00,  1.99it/s]\n",
      "\r",
      "Submission Package Download:   0%|          | 0.00/20.7k [00:00<?, ?bytes/s]\r",
      "Submission Package Download:  77%|███████▋  | 16.0k/20.7k [00:00<00:00, 47.0kbytes/s]\r",
      "Submission Package Download: 20.8kbytes [00:00, 26.9kbytes/s]                        \r",
      "Submission Package Download: 20.8kbytes [00:00, 29.7kbytes/s]\n",
      "\r",
      "Total Upload Progress: 0.00bytes [00:00, ?bytes/s]\r",
      "Total Upload Progress: 0.00bytes [00:07, ?bytes/s]\n"
     ]
    }
   ],
   "source": [
    "%%bash\n",
    "d=$HOME/projects/bsm/results/2020-12-28-nda-resubmit/submission_13889\n",
    "if true; then\n",
    "    ./submit.sh $d\n",
    "fi"
   ]
  },
  {
   "cell_type": "code",
   "execution_count": 3,
   "metadata": {},
   "outputs": [
    {
     "name": "stdout",
     "output_type": "stream",
     "text": [
      "{\n",
      "  \"shell_port\": 57073,\n",
      "  \"iopub_port\": 45067,\n",
      "  \"stdin_port\": 50449,\n",
      "  \"control_port\": 39327,\n",
      "  \"hb_port\": 52929,\n",
      "  \"ip\": \"127.0.0.1\",\n",
      "  \"key\": \"05cf47b8-df79f66d063e9bbe18ca4a79\",\n",
      "  \"transport\": \"tcp\",\n",
      "  \"signature_scheme\": \"hmac-sha256\",\n",
      "  \"kernel_name\": \"\"\n",
      "}\n",
      "\n",
      "Paste the above JSON into a file, and connect with:\n",
      "    $> jupyter <app> --existing <file>\n",
      "or, if you are local, you can connect with just:\n",
      "    $> jupyter <app> --existing kernel-240d5cf5-f0cc-4b96-a93d-45d21b6e8aa2.json\n",
      "or even just:\n",
      "    $> jupyter <app> --existing\n",
      "if this is the most recent Jupyter kernel you have started.\n"
     ]
    }
   ],
   "source": [
    "%connect_info"
   ]
  },
  {
   "cell_type": "code",
   "execution_count": null,
   "metadata": {},
   "outputs": [],
   "source": []
  }
 ],
 "metadata": {
  "kernelspec": {
   "display_name": "Python 3",
   "language": "python",
   "name": "python3"
  },
  "language_info": {
   "codemirror_mode": {
    "name": "ipython",
    "version": 3
   },
   "file_extension": ".py",
   "mimetype": "text/x-python",
   "name": "python",
   "nbconvert_exporter": "python",
   "pygments_lexer": "ipython3",
   "version": "3.7.6"
  }
 },
 "nbformat": 4,
 "nbformat_minor": 4
}
