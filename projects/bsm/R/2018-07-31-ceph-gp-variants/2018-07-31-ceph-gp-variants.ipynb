{
 "cells": [
  {
   "cell_type": "markdown",
   "metadata": {},
   "source": [
    "Germline callsets for CEPH/Utah grandparents produced by the Chess lab.  Not only the callsets but also the underlying sequencing data was produced in the Chess lab.  These \"chesslab\" callsets can be found together with Illumina's callsets on the same individuals on Ada at /projects/shared/platinum-genomes/ceph-utah-vars/."
   ]
  },
  {
   "cell_type": "markdown",
   "metadata": {},
   "source": [
    "## Variant calling\n",
    "\n",
    "```\n",
    "# on attila-ThinkS\n",
    "cd ~/projects/bsm/results/2018-07-31-ceph-gp-variants\n",
    "for gp in NA128{89,90,91}; do\n",
    "    ./do-mystrelka2Germline $gp\n",
    "done\n",
    "```\n",
    "The resulting VCFs are as follows\n",
    "```\n",
    "~/projects/bsm/results/2018-07-31-ceph-gp-variant/NA12889/strelka2Germline/results/variants/variants.vcf.gz\n",
    "~/projects/bsm/results/2018-07-31-ceph-gp-variant/NA12890/strelka2Germline/results/variants/variants.vcf.gz\n",
    "~/projects/bsm/results/2018-07-31-ceph-gp-variant/NA12891/strelka2Germline/results/variants/variants.vcf.gz\n",
    "```\n",
    "From an earlier analysis we already obtained the callset for NA12892\n",
    "```\n",
    "~/projects/bsm/results/2018-05-21-NA12892-variants/wgs/strelka2Germline/results/variants/variants.vcf.gz\n",
    "```\n",
    "\n",
    "## Illumina and Chesslab callsets organized\n",
    "\n",
    "### On attila-ThinkS\n",
    "\n",
    "I created the following symlinks (or in the case of NA12892 a copy; for explanation read below) to the VCFs mentioned above the following paths:\n",
    "```\n",
    "$ ls -1 ~/projects/bsm/results/calls/ceph-utah/chesslab/\n",
    "NA12889.vcf.gz\n",
    "NA12890.vcf.gz\n",
    "NA12891.vcf.gz\n",
    "NA12892.vcf.gz\n",
    "```\n",
    "NA12892 required a slight modification: its sample had to be renamed from Mix3A to NA12892 before copying it to the directory.  This is all impemented by `notebook/2018-07-31-ceph-gp-variants/NA12892-correct-sample-name`.\n",
    "\n",
    "The comparable VCFs from Illumina's own sequencing and variant calling are the ones that had been remapped from GRCh38 to GRCh37.  Symlinks to these can be found here:\n",
    "\n",
    "```\n",
    "$ ls -1 ~/projects/bsm/results/calls/ceph-utah/illumina/\n",
    "NA12889.vcf.gz\n",
    "NA12890.vcf.gz\n",
    "NA12891.vcf.gz\n",
    "NA12892.vcf.gz\n",
    "```\n",
    "\n",
    "### On Ada\n",
    "\n",
    "The same $2\\times 4$ VCFs are also on Ada.  The files/symlinks to these are found at:\n",
    "```\n",
    "$ ls -1 /projects/bsm/calls/ceph-utah/chesslab/*.vcf.gz\n",
    "NA12889.vcf.gz\n",
    "NA12890.vcf.gz\n",
    "NA12891.vcf.gz\n",
    "NA12892.vcf.gz\n",
    "```\n",
    "...and for the Illumina versions:\n",
    "```\n",
    "$ ls -1 /projects/bsm/calls/ceph-utah/illumina/*.vcf.gz\n",
    "NA12889.vcf.gz\n",
    "NA12890.vcf.gz\n",
    "NA12891.vcf.gz\n",
    "NA12892.vcf.gz\n",
    "```"
   ]
  }
 ],
 "metadata": {
  "kernelspec": {
   "display_name": "Python 3",
   "language": "python",
   "name": "python3"
  },
  "language_info": {
   "codemirror_mode": {
    "name": "ipython",
    "version": 3
   },
   "file_extension": ".py",
   "mimetype": "text/x-python",
   "name": "python",
   "nbconvert_exporter": "python",
   "pygments_lexer": "ipython3",
   "version": "3.5.3"
  }
 },
 "nbformat": 4,
 "nbformat_minor": 2
}
