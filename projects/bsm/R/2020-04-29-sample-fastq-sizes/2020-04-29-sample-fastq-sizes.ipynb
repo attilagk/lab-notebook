{
 "cells": [
  {
   "cell_type": "markdown",
   "metadata": {},
   "source": [
    "The coverage is estimated for each sample in the new GENEWIZ samples (project 30-317737003) and compared to that for previous samples."
   ]
  },
  {
   "cell_type": "code",
   "execution_count": 1,
   "metadata": {},
   "outputs": [],
   "source": [
    "%load_ext autoreload\n",
    "%autoreload 2\n",
    "%reload_ext autoreload\n",
    "import subprocess\n",
    "import pandas as pd\n",
    "import numpy as np\n",
    "import io\n",
    "import re\n",
    "import matplotlib.pyplot as plt\n",
    "from sklearn import linear_model, neighbors, model_selection"
   ]
  },
  {
   "cell_type": "markdown",
   "metadata": {},
   "source": [
    "## Preparation\n",
    "\n",
    "Running `notebook/2020-04-29-sample-fastq-sizes/runme.sh` on Ada and invoking the `nreads_from_idxstatslist()` function in the `get_nreads.py` module produced the following tables:"
   ]
  },
  {
   "cell_type": "code",
   "execution_count": 2,
   "metadata": {},
   "outputs": [
    {
     "name": "stdout",
     "output_type": "stream",
     "text": [
      "/home/attila/projects/bsm/results/2020-04-29-sample-fastq-sizes/coverage_genewiz.tsv\r\n",
      "/home/attila/projects/bsm/results/2020-04-29-sample-fastq-sizes/coverage.tsv\r\n",
      "/home/attila/projects/bsm/results/2020-04-29-sample-fastq-sizes/fastq-nblocks.tsv\r\n",
      "/home/attila/projects/bsm/results/2020-04-29-sample-fastq-sizes/nreads-genewiz.tsv\r\n",
      "/home/attila/projects/bsm/results/2020-04-29-sample-fastq-sizes/nreads.tsv\r\n"
     ]
    }
   ],
   "source": [
    "ls ~/projects/bsm/results/2020-04-29-sample-fastq-sizes/*.tsv"
   ]
  },
  {
   "cell_type": "markdown",
   "metadata": {},
   "source": [
    "Get the length of the reference genome"
   ]
  },
  {
   "cell_type": "code",
   "execution_count": 3,
   "metadata": {},
   "outputs": [
    {
     "name": "stdout",
     "output_type": "stream",
     "text": [
      "3.137454505 Gb\n"
     ]
    }
   ],
   "source": [
    "fai = pd.read_csv('/big/data/refgenome/GRCh37/dna/hs37d5.fa.fai', header=None, sep='\\t')\n",
    "hg_len_bp = fai.sum()[1]\n",
    "print(hg_len_bp / 10**9, 'Gb')"
   ]
  },
  {
   "cell_type": "markdown",
   "metadata": {},
   "source": [
    "The number of reads for the whole genome was obtained by summing over the number of mapped and unmapped reads for each contig, which in turn was obtained with `samtools idxstats` (see `get_nreads.py`).  The number of reads gave an estimate of coverage using the length of the human genome and the lenght of each read (151)."
   ]
  },
  {
   "cell_type": "code",
   "execution_count": 4,
   "metadata": {},
   "outputs": [
    {
     "data": {
      "text/html": [
       "<div>\n",
       "<style scoped>\n",
       "    .dataframe tbody tr th:only-of-type {\n",
       "        vertical-align: middle;\n",
       "    }\n",
       "\n",
       "    .dataframe tbody tr th {\n",
       "        vertical-align: top;\n",
       "    }\n",
       "\n",
       "    .dataframe thead th {\n",
       "        text-align: right;\n",
       "    }\n",
       "</style>\n",
       "<table border=\"1\" class=\"dataframe\">\n",
       "  <thead>\n",
       "    <tr style=\"text-align: right;\">\n",
       "      <th></th>\n",
       "      <th>nreads</th>\n",
       "      <th>path</th>\n",
       "      <th>coverage</th>\n",
       "    </tr>\n",
       "    <tr>\n",
       "      <th>sample</th>\n",
       "      <th></th>\n",
       "      <th></th>\n",
       "      <th></th>\n",
       "    </tr>\n",
       "  </thead>\n",
       "  <tbody>\n",
       "    <tr>\n",
       "      <th>PITT_091_NeuN_mn</th>\n",
       "      <td>1040763710</td>\n",
       "      <td>/projects/bsm/alignments/PITT_091/PITT_091_Neu...</td>\n",
       "      <td>50.090071</td>\n",
       "    </tr>\n",
       "    <tr>\n",
       "      <th>PITT_091_NeuN_pl</th>\n",
       "      <td>3091314178</td>\n",
       "      <td>/projects/bsm/alignments/PITT_091/PITT_091_Neu...</td>\n",
       "      <td>148.779350</td>\n",
       "    </tr>\n",
       "    <tr>\n",
       "      <th>PITT_101_NeuN_pl</th>\n",
       "      <td>3503572864</td>\n",
       "      <td>/projects/bsm/alignments/PITT_101/PITT_101_Neu...</td>\n",
       "      <td>168.620613</td>\n",
       "    </tr>\n",
       "    <tr>\n",
       "      <th>PITT_118_NeuN_mn</th>\n",
       "      <td>929306289</td>\n",
       "      <td>/projects/bsm/alignments/PITT_118/PITT_118_Neu...</td>\n",
       "      <td>44.725828</td>\n",
       "    </tr>\n",
       "    <tr>\n",
       "      <th>PITT_118_NeuN_pl</th>\n",
       "      <td>4221676035</td>\n",
       "      <td>/projects/bsm/alignments/PITT_118/PITT_118_Neu...</td>\n",
       "      <td>203.181618</td>\n",
       "    </tr>\n",
       "  </tbody>\n",
       "</table>\n",
       "</div>"
      ],
      "text/plain": [
       "                      nreads  \\\n",
       "sample                         \n",
       "PITT_091_NeuN_mn  1040763710   \n",
       "PITT_091_NeuN_pl  3091314178   \n",
       "PITT_101_NeuN_pl  3503572864   \n",
       "PITT_118_NeuN_mn   929306289   \n",
       "PITT_118_NeuN_pl  4221676035   \n",
       "\n",
       "                                                               path  \\\n",
       "sample                                                                \n",
       "PITT_091_NeuN_mn  /projects/bsm/alignments/PITT_091/PITT_091_Neu...   \n",
       "PITT_091_NeuN_pl  /projects/bsm/alignments/PITT_091/PITT_091_Neu...   \n",
       "PITT_101_NeuN_pl  /projects/bsm/alignments/PITT_101/PITT_101_Neu...   \n",
       "PITT_118_NeuN_mn  /projects/bsm/alignments/PITT_118/PITT_118_Neu...   \n",
       "PITT_118_NeuN_pl  /projects/bsm/alignments/PITT_118/PITT_118_Neu...   \n",
       "\n",
       "                    coverage  \n",
       "sample                        \n",
       "PITT_091_NeuN_mn   50.090071  \n",
       "PITT_091_NeuN_pl  148.779350  \n",
       "PITT_101_NeuN_pl  168.620613  \n",
       "PITT_118_NeuN_mn   44.725828  \n",
       "PITT_118_NeuN_pl  203.181618  "
      ]
     },
     "execution_count": 4,
     "metadata": {},
     "output_type": "execute_result"
    }
   ],
   "source": [
    "nreads = pd.read_csv('/home/attila/projects/bsm/results/2020-04-29-sample-fastq-sizes/nreads.tsv', sep='\\t', index_col='sample')\n",
    "nreads['coverage'] = nreads['nreads'] * 151 / hg_len_bp\n",
    "nreads.tail()"
   ]
  },
  {
   "cell_type": "markdown",
   "metadata": {},
   "source": [
    "Likewise we have the number of reads from the new GENEWIZ data"
   ]
  },
  {
   "cell_type": "code",
   "execution_count": 5,
   "metadata": {},
   "outputs": [
    {
     "data": {
      "text/html": [
       "<div>\n",
       "<style scoped>\n",
       "    .dataframe tbody tr th:only-of-type {\n",
       "        vertical-align: middle;\n",
       "    }\n",
       "\n",
       "    .dataframe tbody tr th {\n",
       "        vertical-align: top;\n",
       "    }\n",
       "\n",
       "    .dataframe thead th {\n",
       "        text-align: right;\n",
       "    }\n",
       "</style>\n",
       "<table border=\"1\" class=\"dataframe\">\n",
       "  <thead>\n",
       "    <tr style=\"text-align: right;\">\n",
       "      <th></th>\n",
       "      <th>nreads</th>\n",
       "      <th>path</th>\n",
       "      <th>coverage</th>\n",
       "    </tr>\n",
       "    <tr>\n",
       "      <th>sample</th>\n",
       "      <th></th>\n",
       "      <th></th>\n",
       "      <th></th>\n",
       "    </tr>\n",
       "  </thead>\n",
       "  <tbody>\n",
       "    <tr>\n",
       "      <th>MSSM_222_NeuN_pl</th>\n",
       "      <td>914638385</td>\n",
       "      <td>/home/attila/projects/bsm/results/2020-04-29-s...</td>\n",
       "      <td>44.019888</td>\n",
       "    </tr>\n",
       "    <tr>\n",
       "      <th>MSSM_370_NeuN_pl</th>\n",
       "      <td>1319744493</td>\n",
       "      <td>/home/attila/projects/bsm/results/2020-04-29-s...</td>\n",
       "      <td>63.516911</td>\n",
       "    </tr>\n",
       "    <tr>\n",
       "      <th>MSSM_364_NeuN_pl</th>\n",
       "      <td>1263470967</td>\n",
       "      <td>/home/attila/projects/bsm/results/2020-04-29-s...</td>\n",
       "      <td>60.808568</td>\n",
       "    </tr>\n",
       "    <tr>\n",
       "      <th>MSSM_321_NeuN_pl</th>\n",
       "      <td>1437017192</td>\n",
       "      <td>/home/attila/projects/bsm/results/2020-04-29-s...</td>\n",
       "      <td>69.161033</td>\n",
       "    </tr>\n",
       "    <tr>\n",
       "      <th>PITT_117_NeuN_pl</th>\n",
       "      <td>1107187714</td>\n",
       "      <td>/home/attila/projects/bsm/results/2020-04-29-s...</td>\n",
       "      <td>53.286938</td>\n",
       "    </tr>\n",
       "    <tr>\n",
       "      <th>MSSM_269_NeuN_pl</th>\n",
       "      <td>1245266049</td>\n",
       "      <td>/home/attila/projects/bsm/results/2020-04-29-s...</td>\n",
       "      <td>59.932398</td>\n",
       "    </tr>\n",
       "    <tr>\n",
       "      <th>MSSM_027_NeuN_pl</th>\n",
       "      <td>1350034836</td>\n",
       "      <td>/home/attila/projects/bsm/results/2020-04-29-s...</td>\n",
       "      <td>64.974730</td>\n",
       "    </tr>\n",
       "    <tr>\n",
       "      <th>MSSM_213_NeuN_pl</th>\n",
       "      <td>1194579509</td>\n",
       "      <td>/home/attila/projects/bsm/results/2020-04-29-s...</td>\n",
       "      <td>57.492947</td>\n",
       "    </tr>\n",
       "    <tr>\n",
       "      <th>PITT_071_NeuN_pl</th>\n",
       "      <td>1130946579</td>\n",
       "      <td>/home/attila/projects/bsm/results/2020-04-29-s...</td>\n",
       "      <td>54.430409</td>\n",
       "    </tr>\n",
       "  </tbody>\n",
       "</table>\n",
       "</div>"
      ],
      "text/plain": [
       "                      nreads  \\\n",
       "sample                         \n",
       "MSSM_222_NeuN_pl   914638385   \n",
       "MSSM_370_NeuN_pl  1319744493   \n",
       "MSSM_364_NeuN_pl  1263470967   \n",
       "MSSM_321_NeuN_pl  1437017192   \n",
       "PITT_117_NeuN_pl  1107187714   \n",
       "MSSM_269_NeuN_pl  1245266049   \n",
       "MSSM_027_NeuN_pl  1350034836   \n",
       "MSSM_213_NeuN_pl  1194579509   \n",
       "PITT_071_NeuN_pl  1130946579   \n",
       "\n",
       "                                                               path   coverage  \n",
       "sample                                                                          \n",
       "MSSM_222_NeuN_pl  /home/attila/projects/bsm/results/2020-04-29-s...  44.019888  \n",
       "MSSM_370_NeuN_pl  /home/attila/projects/bsm/results/2020-04-29-s...  63.516911  \n",
       "MSSM_364_NeuN_pl  /home/attila/projects/bsm/results/2020-04-29-s...  60.808568  \n",
       "MSSM_321_NeuN_pl  /home/attila/projects/bsm/results/2020-04-29-s...  69.161033  \n",
       "PITT_117_NeuN_pl  /home/attila/projects/bsm/results/2020-04-29-s...  53.286938  \n",
       "MSSM_269_NeuN_pl  /home/attila/projects/bsm/results/2020-04-29-s...  59.932398  \n",
       "MSSM_027_NeuN_pl  /home/attila/projects/bsm/results/2020-04-29-s...  64.974730  \n",
       "MSSM_213_NeuN_pl  /home/attila/projects/bsm/results/2020-04-29-s...  57.492947  \n",
       "PITT_071_NeuN_pl  /home/attila/projects/bsm/results/2020-04-29-s...  54.430409  "
      ]
     },
     "execution_count": 5,
     "metadata": {},
     "output_type": "execute_result"
    }
   ],
   "source": [
    "nreads_genewiz = pd.read_csv('/home/attila/projects/bsm/results/2020-04-29-sample-fastq-sizes/nreads-genewiz.tsv', sep='\\t', index_col='sample')\n",
    "nreads_genewiz['coverage'] = nreads_genewiz['nreads'] * 151 / hg_len_bp\n",
    "nreads_genewiz"
   ]
  },
  {
   "cell_type": "code",
   "execution_count": 6,
   "metadata": {},
   "outputs": [],
   "source": [
    "nreads.to_csv('/home/attila/projects/bsm/results/2020-04-29-sample-fastq-sizes/coverage.tsv')\n",
    "nreads_genewiz.to_csv('/home/attila/projects/bsm/results/2020-04-29-sample-fastq-sizes/coverage_genewiz.tsv')"
   ]
  },
  {
   "cell_type": "code",
   "execution_count": 7,
   "metadata": {},
   "outputs": [
    {
     "data": {
      "text/html": [
       "<div>\n",
       "<style scoped>\n",
       "    .dataframe tbody tr th:only-of-type {\n",
       "        vertical-align: middle;\n",
       "    }\n",
       "\n",
       "    .dataframe tbody tr th {\n",
       "        vertical-align: top;\n",
       "    }\n",
       "\n",
       "    .dataframe thead th {\n",
       "        text-align: right;\n",
       "    }\n",
       "</style>\n",
       "<table border=\"1\" class=\"dataframe\">\n",
       "  <thead>\n",
       "    <tr style=\"text-align: right;\">\n",
       "      <th></th>\n",
       "      <th>sample</th>\n",
       "      <th>nblocks, kB</th>\n",
       "      <th>file path</th>\n",
       "      <th>fq.gz size, GiB</th>\n",
       "    </tr>\n",
       "  </thead>\n",
       "  <tbody>\n",
       "    <tr>\n",
       "      <th>0</th>\n",
       "      <td>PITT_091_NeuN_pl</td>\n",
       "      <td>9021632</td>\n",
       "      <td>/projects/bsm/reads/PITT091_NeuN_pl/PITT091_Ne...</td>\n",
       "      <td>8.603699</td>\n",
       "    </tr>\n",
       "    <tr>\n",
       "      <th>1</th>\n",
       "      <td>PITT_091_NeuN_pl</td>\n",
       "      <td>8035760</td>\n",
       "      <td>/projects/bsm/reads/PITT091_NeuN_pl/PITT091_Ne...</td>\n",
       "      <td>7.663498</td>\n",
       "    </tr>\n",
       "    <tr>\n",
       "      <th>2</th>\n",
       "      <td>PITT_091_NeuN_pl</td>\n",
       "      <td>7769508</td>\n",
       "      <td>/projects/bsm/reads/PITT091_NeuN_pl/PITT091_Ne...</td>\n",
       "      <td>7.409580</td>\n",
       "    </tr>\n",
       "    <tr>\n",
       "      <th>3</th>\n",
       "      <td>PITT_091_NeuN_pl</td>\n",
       "      <td>8768292</td>\n",
       "      <td>/projects/bsm/reads/PITT091_NeuN_pl/PITT091_Ne...</td>\n",
       "      <td>8.362095</td>\n",
       "    </tr>\n",
       "    <tr>\n",
       "      <th>4</th>\n",
       "      <td>PITT_091_NeuN_pl</td>\n",
       "      <td>7779932</td>\n",
       "      <td>/projects/bsm/reads/PITT091_NeuN_pl/PITT091_Ne...</td>\n",
       "      <td>7.419521</td>\n",
       "    </tr>\n",
       "    <tr>\n",
       "      <th>...</th>\n",
       "      <td>...</td>\n",
       "      <td>...</td>\n",
       "      <td>...</td>\n",
       "      <td>...</td>\n",
       "    </tr>\n",
       "    <tr>\n",
       "      <th>2159</th>\n",
       "      <td>MSSM_109_NeuN_pl_</td>\n",
       "      <td>4391232</td>\n",
       "      <td>/projects/bsm/reads/MSSM109_NeuN_pl1/MSSM109_N...</td>\n",
       "      <td>4.187805</td>\n",
       "    </tr>\n",
       "    <tr>\n",
       "      <th>2160</th>\n",
       "      <td>MSSM_109_NeuN_pl_</td>\n",
       "      <td>4934676</td>\n",
       "      <td>/projects/bsm/reads/MSSM109_NeuN_pl1/MSSM109_N...</td>\n",
       "      <td>4.706074</td>\n",
       "    </tr>\n",
       "    <tr>\n",
       "      <th>2161</th>\n",
       "      <td>MSSM_109_NeuN_pl_</td>\n",
       "      <td>4306656</td>\n",
       "      <td>/projects/bsm/reads/MSSM109_NeuN_pl1/MSSM109_N...</td>\n",
       "      <td>4.107147</td>\n",
       "    </tr>\n",
       "    <tr>\n",
       "      <th>2162</th>\n",
       "      <td>MSSM_109_NeuN_pl_</td>\n",
       "      <td>4960984</td>\n",
       "      <td>/projects/bsm/reads/MSSM109_NeuN_pl1/MSSM109_N...</td>\n",
       "      <td>4.731163</td>\n",
       "    </tr>\n",
       "    <tr>\n",
       "      <th>2163</th>\n",
       "      <td>MSSM_109_NeuN_pl_</td>\n",
       "      <td>4142680</td>\n",
       "      <td>/projects/bsm/reads/MSSM109_NeuN_pl1/MSSM109_N...</td>\n",
       "      <td>3.950768</td>\n",
       "    </tr>\n",
       "  </tbody>\n",
       "</table>\n",
       "<p>2164 rows × 4 columns</p>\n",
       "</div>"
      ],
      "text/plain": [
       "                 sample  nblocks, kB  \\\n",
       "0      PITT_091_NeuN_pl      9021632   \n",
       "1      PITT_091_NeuN_pl      8035760   \n",
       "2      PITT_091_NeuN_pl      7769508   \n",
       "3      PITT_091_NeuN_pl      8768292   \n",
       "4      PITT_091_NeuN_pl      7779932   \n",
       "...                 ...          ...   \n",
       "2159  MSSM_109_NeuN_pl_      4391232   \n",
       "2160  MSSM_109_NeuN_pl_      4934676   \n",
       "2161  MSSM_109_NeuN_pl_      4306656   \n",
       "2162  MSSM_109_NeuN_pl_      4960984   \n",
       "2163  MSSM_109_NeuN_pl_      4142680   \n",
       "\n",
       "                                              file path  fq.gz size, GiB  \n",
       "0     /projects/bsm/reads/PITT091_NeuN_pl/PITT091_Ne...         8.603699  \n",
       "1     /projects/bsm/reads/PITT091_NeuN_pl/PITT091_Ne...         7.663498  \n",
       "2     /projects/bsm/reads/PITT091_NeuN_pl/PITT091_Ne...         7.409580  \n",
       "3     /projects/bsm/reads/PITT091_NeuN_pl/PITT091_Ne...         8.362095  \n",
       "4     /projects/bsm/reads/PITT091_NeuN_pl/PITT091_Ne...         7.419521  \n",
       "...                                                 ...              ...  \n",
       "2159  /projects/bsm/reads/MSSM109_NeuN_pl1/MSSM109_N...         4.187805  \n",
       "2160  /projects/bsm/reads/MSSM109_NeuN_pl1/MSSM109_N...         4.706074  \n",
       "2161  /projects/bsm/reads/MSSM109_NeuN_pl1/MSSM109_N...         4.107147  \n",
       "2162  /projects/bsm/reads/MSSM109_NeuN_pl1/MSSM109_N...         4.731163  \n",
       "2163  /projects/bsm/reads/MSSM109_NeuN_pl1/MSSM109_N...         3.950768  \n",
       "\n",
       "[2164 rows x 4 columns]"
      ]
     },
     "execution_count": 7,
     "metadata": {},
     "output_type": "execute_result"
    }
   ],
   "source": [
    "nblocks = pd.read_csv('/home/attila/projects/bsm/results/2020-04-29-sample-fastq-sizes/fastq-nblocks.tsv', sep='\\t')\n",
    "nblocks['fq.gz size, GiB'] = nblocks['nblocks, kB'] * 2 ** -20\n",
    "def fix_samplen(sname):\n",
    "    newname = re.sub('(MSSM|PITT)', '\\\\1_', sname)\n",
    "    newname = re.sub('(pl|mn)1', '\\\\1_', newname)\n",
    "    return(newname)\n",
    "nblocks['sample'] = [fix_samplen(s) for s in nblocks['sample']]\n",
    "nblocks"
   ]
  },
  {
   "cell_type": "markdown",
   "metadata": {},
   "source": [
    "Now get samples present in both data frame and filter data frames for those samples.  Then sort according to `nreads`."
   ]
  },
  {
   "cell_type": "code",
   "execution_count": 8,
   "metadata": {
    "scrolled": true
   },
   "outputs": [
    {
     "name": "stdout",
     "output_type": "stream",
     "text": [
      "                      nreads    coverage  fq.gz size, GiB\n",
      "sample                                                   \n",
      "MSSM_373_NeuN_pl  5126657796  246.736750       418.182316\n",
      "PITT_118_NeuN_pl  4221676035  203.181618       348.390968\n",
      "MSSM_215_NeuN_pl  3992458107  192.149774       323.420944\n",
      "MSSM_183_NeuN_pl  3733596080  179.691214       307.038284\n",
      "MSSM_369_NeuN_pl  3348853213  161.174237       272.427040 \n",
      "\n",
      "                      nreads   coverage  fq.gz size, GiB\n",
      "sample                                                 \n",
      "MSSM_118_muscle   802078851  38.602602        67.163513\n",
      "MSSM_183_muscle   794585616  38.241966        66.080299\n",
      "MSSM_179_NeuN_mn  767418276  36.934451        63.949398\n",
      "PITT_010_NeuN_mn  735747926  35.410214        61.114750\n",
      "MSSM_179_muscle   656607857  31.601346        66.167599\n"
     ]
    }
   ],
   "source": [
    "fsize = nblocks.groupby('sample').sum()\n",
    "samples = set(fsize.index).intersection(nreads.index)\n",
    "nreads = nreads.loc[samples, :].sort_values('nreads', ascending=False)\n",
    "fsize = fsize.loc[nreads.index, :]\n",
    "old = pd.concat([nreads, fsize], axis=1)[['nreads', 'coverage', 'fq.gz size, GiB']]\n",
    "print(old.head(), '\\n' * 2, old.tail())"
   ]
  },
  {
   "cell_type": "code",
   "execution_count": 9,
   "metadata": {},
   "outputs": [
    {
     "name": "stdout",
     "output_type": "stream",
     "text": [
      "                                                           location  date  \\\n",
      "#sample_id                                                                  \n",
      "MSSM_027_NeuN_pl  s3://chesslab-bsmn/GENEWIZ/30-317737003/26_R1_...     0   \n",
      "MSSM_352_NeuN_pl  s3://chesslab-bsmn/GENEWIZ/30-317737003/29_R1_...     0   \n",
      "PITT_072_NeuN_pl  s3://chesslab-bsmn/GENEWIZ/30-317737003/32_R1_...     0   \n",
      "PITT_071_NeuN_pl  s3://chesslab-bsmn/GENEWIZ/30-317737003/31_R1_...     0   \n",
      "PITT_050_NeuN_pl  s3://chesslab-bsmn/GENEWIZ/30-317737003/28_R1_...     0   \n",
      "\n",
      "                  time  fq.gz size, bytes  fq.gz size, GiB   coverage  \n",
      "#sample_id                                                             \n",
      "MSSM_027_NeuN_pl     0                  0                0  64.974730  \n",
      "MSSM_352_NeuN_pl     0                  0                0        NaN  \n",
      "PITT_072_NeuN_pl     0                  0                0        NaN  \n",
      "PITT_071_NeuN_pl     0                  0                0  54.430409  \n",
      "PITT_050_NeuN_pl     0                  0                0        NaN   \n",
      "\n",
      "                                                            location  date  \\\n",
      "#sample_id                                                                  \n",
      "MSSM_222_NeuN_pl  s3://chesslab-bsmn/GENEWIZ/30-317737003/30_R1_...     0   \n",
      "MSSM_213_NeuN_pl  s3://chesslab-bsmn/GENEWIZ/30-317737003/23_R1_...     0   \n",
      "MSSM_192_NeuN_pl  s3://chesslab-bsmn/GENEWIZ/30-317737003/27_R1_...     0   \n",
      "MSSM_168_NeuN_pl  s3://chesslab-bsmn/GENEWIZ/30-317737003/15_R1_...     0   \n",
      "PITT_117_NeuN_pl  s3://chesslab-bsmn/GENEWIZ/30-317737003/1_R1_0...     0   \n",
      "\n",
      "                  time  fq.gz size, bytes  fq.gz size, GiB   coverage  \n",
      "#sample_id                                                             \n",
      "MSSM_222_NeuN_pl     0                  0                0  44.019888  \n",
      "MSSM_213_NeuN_pl     0                  0                0  57.492947  \n",
      "MSSM_192_NeuN_pl     0                  0                0        NaN  \n",
      "MSSM_168_NeuN_pl     0                  0                0        NaN  \n",
      "PITT_117_NeuN_pl     0                  0                0  53.286938  \n"
     ]
    }
   ],
   "source": [
    "slist = pd.read_csv('/home/attila/projects/bsm/results/2020-04-07-GENEWIZ-samples/sample_list.tsv', sep='\\t', index_col='file_name')\n",
    "p1 = subprocess.run(['aws', 's3', 'ls', 's3://chesslab-bsmn/GENEWIZ/30-317737003/'], capture_output=True)\n",
    "p2 = subprocess.run(['tr', '--squeeze', '\" \"', ','], input=p1.stdout, capture_output=True)\n",
    "newdata = pd.read_csv(io.StringIO(p2.stdout.decode('utf-8')), names=['date', 'time', 'fq.gz size, bytes', 'filename'], index_col='filename')\n",
    "newdata['fq.gz size, GiB'] = newdata['fq.gz size, bytes'] / 2 ** 30\n",
    "newdata = pd.concat([slist, newdata], axis=1)\n",
    "new = newdata.groupby('#sample_id').sum().sort_values('fq.gz size, GiB', ascending=False)\n",
    "new['coverage'] = np.nan\n",
    "new.loc[nreads_genewiz.index, 'coverage'] = nreads_genewiz['coverage']\n",
    "print(new.head(), '\\n' * 2, new.tail())"
   ]
  },
  {
   "cell_type": "markdown",
   "metadata": {},
   "source": [
    "## Analysis\n",
    "### Exploration\n",
    "Plot **coverage** agains Gzipped fastq size (**fq.gz size, GiB**) for each sample.  Use both linear and log scale."
   ]
  },
  {
   "cell_type": "code",
   "execution_count": 10,
   "metadata": {
    "scrolled": true
   },
   "outputs": [
    {
     "data": {
      "image/png": "[encoded data removed]",
      "text/plain": [
       "<Figure size 864x432 with 2 Axes>"
      ]
     },
     "metadata": {
      "needs_background": "light"
     },
     "output_type": "display_data"
    }
   ],
   "source": [
    "def myscatter(ax, scale='linear'):\n",
    "    ax.scatter(old['fq.gz size, GiB'], old['coverage'], c='r', label='old data')\n",
    "    ax.scatter(new['fq.gz size, GiB'], new['coverage'], c='b', label='new data')\n",
    "    ax.set_xlabel('fq.gz size, GiB', fontsize='large')\n",
    "    ax.set_ylabel('coverage', fontsize='large')\n",
    "    ax.grid(b=True, which='both')\n",
    "    #ax.grid(b=True, which='minor', linestyle=':')\n",
    "    plt.xscale(scale)\n",
    "    plt.yscale(scale)\n",
    "    ax.set_title(scale + ' scale')\n",
    "    ax.legend()\n",
    "\n",
    "fig, ax = plt.subplots(1, 2, figsize=(12, 6))\n",
    "myscatter(ax[0], 'linear')\n",
    "myscatter(ax[1], 'log')"
   ]
  },
  {
   "cell_type": "markdown",
   "metadata": {},
   "source": [
    "The graph reveals a linear relationship for most samples, while some samples seem to be outliers.\n",
    "\n",
    "### Fitting linear model\n",
    "\n",
    "Fit linear model and evaluate squared error for each point of the training data"
   ]
  },
  {
   "cell_type": "code",
   "execution_count": 11,
   "metadata": {},
   "outputs": [
    {
     "name": "stderr",
     "output_type": "stream",
     "text": [
      "/home/attila/anaconda3/lib/python3.7/site-packages/ipykernel_launcher.py:3: RuntimeWarning: divide by zero encountered in log10\n",
      "  This is separate from the ipykernel package so we can avoid doing imports until\n",
      "/home/attila/anaconda3/lib/python3.7/site-packages/ipykernel_launcher.py:5: RuntimeWarning: divide by zero encountered in log10\n",
      "  \"\"\"\n"
     ]
    },
    {
     "ename": "ValueError",
     "evalue": "Input contains NaN, infinity or a value too large for dtype('float64').",
     "output_type": "error",
     "traceback": [
      "\u001b[0;31m---------------------------------------------------------------------------\u001b[0m",
      "\u001b[0;31mValueError\u001b[0m                                Traceback (most recent call last)",
      "\u001b[0;32m<ipython-input-11-3c5f5e89bcc0>\u001b[0m in \u001b[0;36m<module>\u001b[0;34m\u001b[0m\n\u001b[1;32m      5\u001b[0m \u001b[0mX_train\u001b[0m \u001b[0;34m=\u001b[0m \u001b[0mnp\u001b[0m\u001b[0;34m.\u001b[0m\u001b[0mlog10\u001b[0m\u001b[0;34m(\u001b[0m\u001b[0mnp\u001b[0m\u001b[0;34m.\u001b[0m\u001b[0mconcatenate\u001b[0m\u001b[0;34m(\u001b[0m\u001b[0;34m(\u001b[0m\u001b[0mnp\u001b[0m\u001b[0;34m.\u001b[0m\u001b[0marray\u001b[0m\u001b[0;34m(\u001b[0m\u001b[0mold\u001b[0m\u001b[0;34m[\u001b[0m\u001b[0;34m'fq.gz size, GiB'\u001b[0m\u001b[0;34m]\u001b[0m\u001b[0;34m)\u001b[0m\u001b[0;34m,\u001b[0m \u001b[0mnp\u001b[0m\u001b[0;34m.\u001b[0m\u001b[0marray\u001b[0m\u001b[0;34m(\u001b[0m\u001b[0mnew\u001b[0m\u001b[0;34m.\u001b[0m\u001b[0mloc\u001b[0m\u001b[0;34m[\u001b[0m\u001b[0mnew\u001b[0m\u001b[0;34m[\u001b[0m\u001b[0;34m'coverage'\u001b[0m\u001b[0;34m]\u001b[0m\u001b[0;34m.\u001b[0m\u001b[0mdropna\u001b[0m\u001b[0;34m(\u001b[0m\u001b[0;34m)\u001b[0m\u001b[0;34m.\u001b[0m\u001b[0mindex\u001b[0m\u001b[0;34m,\u001b[0m \u001b[0;34m'fq.gz size, GiB'\u001b[0m\u001b[0;34m]\u001b[0m\u001b[0;34m)\u001b[0m\u001b[0;34m)\u001b[0m\u001b[0;34m)\u001b[0m\u001b[0;34m)\u001b[0m\u001b[0;34m[\u001b[0m\u001b[0;34m:\u001b[0m\u001b[0;34m,\u001b[0m \u001b[0mnp\u001b[0m\u001b[0;34m.\u001b[0m\u001b[0mnewaxis\u001b[0m\u001b[0;34m]\u001b[0m\u001b[0;34m\u001b[0m\u001b[0;34m\u001b[0m\u001b[0m\n\u001b[1;32m      6\u001b[0m \u001b[0my_train\u001b[0m \u001b[0;34m=\u001b[0m  \u001b[0mnp\u001b[0m\u001b[0;34m.\u001b[0m\u001b[0mlog10\u001b[0m\u001b[0;34m(\u001b[0m\u001b[0mnp\u001b[0m\u001b[0;34m.\u001b[0m\u001b[0mconcatenate\u001b[0m\u001b[0;34m(\u001b[0m\u001b[0;34m(\u001b[0m\u001b[0mnp\u001b[0m\u001b[0;34m.\u001b[0m\u001b[0marray\u001b[0m\u001b[0;34m(\u001b[0m\u001b[0mold\u001b[0m\u001b[0;34m[\u001b[0m\u001b[0;34m'coverage'\u001b[0m\u001b[0;34m]\u001b[0m\u001b[0;34m)\u001b[0m\u001b[0;34m,\u001b[0m \u001b[0mnp\u001b[0m\u001b[0;34m.\u001b[0m\u001b[0marray\u001b[0m\u001b[0;34m(\u001b[0m\u001b[0mnew\u001b[0m\u001b[0;34m[\u001b[0m\u001b[0;34m'coverage'\u001b[0m\u001b[0;34m]\u001b[0m\u001b[0;34m.\u001b[0m\u001b[0mdropna\u001b[0m\u001b[0;34m(\u001b[0m\u001b[0;34m)\u001b[0m\u001b[0;34m)\u001b[0m\u001b[0;34m)\u001b[0m\u001b[0;34m)\u001b[0m\u001b[0;34m)\u001b[0m\u001b[0;34m[\u001b[0m\u001b[0;34m:\u001b[0m\u001b[0;34m,\u001b[0m \u001b[0mnp\u001b[0m\u001b[0;34m.\u001b[0m\u001b[0mnewaxis\u001b[0m\u001b[0;34m]\u001b[0m\u001b[0;34m\u001b[0m\u001b[0;34m\u001b[0m\u001b[0m\n\u001b[0;32m----> 7\u001b[0;31m \u001b[0mlm\u001b[0m \u001b[0;34m=\u001b[0m \u001b[0mlinear_model\u001b[0m\u001b[0;34m.\u001b[0m\u001b[0mLinearRegression\u001b[0m\u001b[0;34m(\u001b[0m\u001b[0;34m)\u001b[0m\u001b[0;34m.\u001b[0m\u001b[0mfit\u001b[0m\u001b[0;34m(\u001b[0m\u001b[0mX_train\u001b[0m\u001b[0;34m,\u001b[0m \u001b[0my_train\u001b[0m\u001b[0;34m)\u001b[0m\u001b[0;34m\u001b[0m\u001b[0;34m\u001b[0m\u001b[0m\n\u001b[0m\u001b[1;32m      8\u001b[0m \u001b[0my_hat\u001b[0m \u001b[0;34m=\u001b[0m \u001b[0mlm\u001b[0m\u001b[0;34m.\u001b[0m\u001b[0mpredict\u001b[0m\u001b[0;34m(\u001b[0m\u001b[0mX\u001b[0m\u001b[0;34m)\u001b[0m\u001b[0;34m\u001b[0m\u001b[0;34m\u001b[0m\u001b[0m\n\u001b[1;32m      9\u001b[0m \u001b[0mX_fig\u001b[0m \u001b[0;34m=\u001b[0m \u001b[0mnp\u001b[0m\u001b[0;34m.\u001b[0m\u001b[0mlinspace\u001b[0m\u001b[0;34m(\u001b[0m\u001b[0;36m1.5\u001b[0m\u001b[0;34m,\u001b[0m \u001b[0;36m2.7\u001b[0m\u001b[0;34m,\u001b[0m \u001b[0;36m2\u001b[0m\u001b[0;34m)\u001b[0m\u001b[0;34m[\u001b[0m\u001b[0;34m:\u001b[0m\u001b[0;34m,\u001b[0m \u001b[0mnp\u001b[0m\u001b[0;34m.\u001b[0m\u001b[0mnewaxis\u001b[0m\u001b[0;34m]\u001b[0m\u001b[0;34m\u001b[0m\u001b[0;34m\u001b[0m\u001b[0m\n",
      "\u001b[0;32m~/anaconda3/lib/python3.7/site-packages/sklearn/linear_model/_base.py\u001b[0m in \u001b[0;36mfit\u001b[0;34m(self, X, y, sample_weight)\u001b[0m\n\u001b[1;32m    517\u001b[0m \u001b[0;34m\u001b[0m\u001b[0m\n\u001b[1;32m    518\u001b[0m         X, y = self._validate_data(X, y, accept_sparse=accept_sparse,\n\u001b[0;32m--> 519\u001b[0;31m                                    y_numeric=True, multi_output=True)\n\u001b[0m\u001b[1;32m    520\u001b[0m \u001b[0;34m\u001b[0m\u001b[0m\n\u001b[1;32m    521\u001b[0m         \u001b[0;32mif\u001b[0m \u001b[0msample_weight\u001b[0m \u001b[0;32mis\u001b[0m \u001b[0;32mnot\u001b[0m \u001b[0;32mNone\u001b[0m\u001b[0;34m:\u001b[0m\u001b[0;34m\u001b[0m\u001b[0;34m\u001b[0m\u001b[0m\n",
      "\u001b[0;32m~/anaconda3/lib/python3.7/site-packages/sklearn/base.py\u001b[0m in \u001b[0;36m_validate_data\u001b[0;34m(self, X, y, reset, validate_separately, **check_params)\u001b[0m\n\u001b[1;32m    431\u001b[0m                 \u001b[0my\u001b[0m \u001b[0;34m=\u001b[0m \u001b[0mcheck_array\u001b[0m\u001b[0;34m(\u001b[0m\u001b[0my\u001b[0m\u001b[0;34m,\u001b[0m \u001b[0;34m**\u001b[0m\u001b[0mcheck_y_params\u001b[0m\u001b[0;34m)\u001b[0m\u001b[0;34m\u001b[0m\u001b[0;34m\u001b[0m\u001b[0m\n\u001b[1;32m    432\u001b[0m             \u001b[0;32melse\u001b[0m\u001b[0;34m:\u001b[0m\u001b[0;34m\u001b[0m\u001b[0;34m\u001b[0m\u001b[0m\n\u001b[0;32m--> 433\u001b[0;31m                 \u001b[0mX\u001b[0m\u001b[0;34m,\u001b[0m \u001b[0my\u001b[0m \u001b[0;34m=\u001b[0m \u001b[0mcheck_X_y\u001b[0m\u001b[0;34m(\u001b[0m\u001b[0mX\u001b[0m\u001b[0;34m,\u001b[0m \u001b[0my\u001b[0m\u001b[0;34m,\u001b[0m \u001b[0;34m**\u001b[0m\u001b[0mcheck_params\u001b[0m\u001b[0;34m)\u001b[0m\u001b[0;34m\u001b[0m\u001b[0;34m\u001b[0m\u001b[0m\n\u001b[0m\u001b[1;32m    434\u001b[0m             \u001b[0mout\u001b[0m \u001b[0;34m=\u001b[0m \u001b[0mX\u001b[0m\u001b[0;34m,\u001b[0m \u001b[0my\u001b[0m\u001b[0;34m\u001b[0m\u001b[0;34m\u001b[0m\u001b[0m\n\u001b[1;32m    435\u001b[0m \u001b[0;34m\u001b[0m\u001b[0m\n",
      "\u001b[0;32m~/anaconda3/lib/python3.7/site-packages/sklearn/utils/validation.py\u001b[0m in \u001b[0;36minner_f\u001b[0;34m(*args, **kwargs)\u001b[0m\n\u001b[1;32m     61\u001b[0m             \u001b[0mextra_args\u001b[0m \u001b[0;34m=\u001b[0m \u001b[0mlen\u001b[0m\u001b[0;34m(\u001b[0m\u001b[0margs\u001b[0m\u001b[0;34m)\u001b[0m \u001b[0;34m-\u001b[0m \u001b[0mlen\u001b[0m\u001b[0;34m(\u001b[0m\u001b[0mall_args\u001b[0m\u001b[0;34m)\u001b[0m\u001b[0;34m\u001b[0m\u001b[0;34m\u001b[0m\u001b[0m\n\u001b[1;32m     62\u001b[0m             \u001b[0;32mif\u001b[0m \u001b[0mextra_args\u001b[0m \u001b[0;34m<=\u001b[0m \u001b[0;36m0\u001b[0m\u001b[0;34m:\u001b[0m\u001b[0;34m\u001b[0m\u001b[0;34m\u001b[0m\u001b[0m\n\u001b[0;32m---> 63\u001b[0;31m                 \u001b[0;32mreturn\u001b[0m \u001b[0mf\u001b[0m\u001b[0;34m(\u001b[0m\u001b[0;34m*\u001b[0m\u001b[0margs\u001b[0m\u001b[0;34m,\u001b[0m \u001b[0;34m**\u001b[0m\u001b[0mkwargs\u001b[0m\u001b[0;34m)\u001b[0m\u001b[0;34m\u001b[0m\u001b[0;34m\u001b[0m\u001b[0m\n\u001b[0m\u001b[1;32m     64\u001b[0m \u001b[0;34m\u001b[0m\u001b[0m\n\u001b[1;32m     65\u001b[0m             \u001b[0;31m# extra_args > 0\u001b[0m\u001b[0;34m\u001b[0m\u001b[0;34m\u001b[0m\u001b[0;34m\u001b[0m\u001b[0m\n",
      "\u001b[0;32m~/anaconda3/lib/python3.7/site-packages/sklearn/utils/validation.py\u001b[0m in \u001b[0;36mcheck_X_y\u001b[0;34m(X, y, accept_sparse, accept_large_sparse, dtype, order, copy, force_all_finite, ensure_2d, allow_nd, multi_output, ensure_min_samples, ensure_min_features, y_numeric, estimator)\u001b[0m\n\u001b[1;32m    819\u001b[0m                     \u001b[0mensure_min_samples\u001b[0m\u001b[0;34m=\u001b[0m\u001b[0mensure_min_samples\u001b[0m\u001b[0;34m,\u001b[0m\u001b[0;34m\u001b[0m\u001b[0;34m\u001b[0m\u001b[0m\n\u001b[1;32m    820\u001b[0m                     \u001b[0mensure_min_features\u001b[0m\u001b[0;34m=\u001b[0m\u001b[0mensure_min_features\u001b[0m\u001b[0;34m,\u001b[0m\u001b[0;34m\u001b[0m\u001b[0;34m\u001b[0m\u001b[0m\n\u001b[0;32m--> 821\u001b[0;31m                     estimator=estimator)\n\u001b[0m\u001b[1;32m    822\u001b[0m     \u001b[0;32mif\u001b[0m \u001b[0mmulti_output\u001b[0m\u001b[0;34m:\u001b[0m\u001b[0;34m\u001b[0m\u001b[0;34m\u001b[0m\u001b[0m\n\u001b[1;32m    823\u001b[0m         y = check_array(y, accept_sparse='csr', force_all_finite=True,\n",
      "\u001b[0;32m~/anaconda3/lib/python3.7/site-packages/sklearn/utils/validation.py\u001b[0m in \u001b[0;36minner_f\u001b[0;34m(*args, **kwargs)\u001b[0m\n\u001b[1;32m     61\u001b[0m             \u001b[0mextra_args\u001b[0m \u001b[0;34m=\u001b[0m \u001b[0mlen\u001b[0m\u001b[0;34m(\u001b[0m\u001b[0margs\u001b[0m\u001b[0;34m)\u001b[0m \u001b[0;34m-\u001b[0m \u001b[0mlen\u001b[0m\u001b[0;34m(\u001b[0m\u001b[0mall_args\u001b[0m\u001b[0;34m)\u001b[0m\u001b[0;34m\u001b[0m\u001b[0;34m\u001b[0m\u001b[0m\n\u001b[1;32m     62\u001b[0m             \u001b[0;32mif\u001b[0m \u001b[0mextra_args\u001b[0m \u001b[0;34m<=\u001b[0m \u001b[0;36m0\u001b[0m\u001b[0;34m:\u001b[0m\u001b[0;34m\u001b[0m\u001b[0;34m\u001b[0m\u001b[0m\n\u001b[0;32m---> 63\u001b[0;31m                 \u001b[0;32mreturn\u001b[0m \u001b[0mf\u001b[0m\u001b[0;34m(\u001b[0m\u001b[0;34m*\u001b[0m\u001b[0margs\u001b[0m\u001b[0;34m,\u001b[0m \u001b[0;34m**\u001b[0m\u001b[0mkwargs\u001b[0m\u001b[0;34m)\u001b[0m\u001b[0;34m\u001b[0m\u001b[0;34m\u001b[0m\u001b[0m\n\u001b[0m\u001b[1;32m     64\u001b[0m \u001b[0;34m\u001b[0m\u001b[0m\n\u001b[1;32m     65\u001b[0m             \u001b[0;31m# extra_args > 0\u001b[0m\u001b[0;34m\u001b[0m\u001b[0;34m\u001b[0m\u001b[0;34m\u001b[0m\u001b[0m\n",
      "\u001b[0;32m~/anaconda3/lib/python3.7/site-packages/sklearn/utils/validation.py\u001b[0m in \u001b[0;36mcheck_array\u001b[0;34m(array, accept_sparse, accept_large_sparse, dtype, order, copy, force_all_finite, ensure_2d, allow_nd, ensure_min_samples, ensure_min_features, estimator)\u001b[0m\n\u001b[1;32m    662\u001b[0m         \u001b[0;32mif\u001b[0m \u001b[0mforce_all_finite\u001b[0m\u001b[0;34m:\u001b[0m\u001b[0;34m\u001b[0m\u001b[0;34m\u001b[0m\u001b[0m\n\u001b[1;32m    663\u001b[0m             _assert_all_finite(array,\n\u001b[0;32m--> 664\u001b[0;31m                                allow_nan=force_all_finite == 'allow-nan')\n\u001b[0m\u001b[1;32m    665\u001b[0m \u001b[0;34m\u001b[0m\u001b[0m\n\u001b[1;32m    666\u001b[0m     \u001b[0;32mif\u001b[0m \u001b[0mensure_min_samples\u001b[0m \u001b[0;34m>\u001b[0m \u001b[0;36m0\u001b[0m\u001b[0;34m:\u001b[0m\u001b[0;34m\u001b[0m\u001b[0;34m\u001b[0m\u001b[0m\n",
      "\u001b[0;32m~/anaconda3/lib/python3.7/site-packages/sklearn/utils/validation.py\u001b[0m in \u001b[0;36m_assert_all_finite\u001b[0;34m(X, allow_nan, msg_dtype)\u001b[0m\n\u001b[1;32m    104\u001b[0m                     \u001b[0mmsg_err\u001b[0m\u001b[0;34m.\u001b[0m\u001b[0mformat\u001b[0m\u001b[0;34m\u001b[0m\u001b[0;34m\u001b[0m\u001b[0m\n\u001b[1;32m    105\u001b[0m                     (type_err,\n\u001b[0;32m--> 106\u001b[0;31m                      msg_dtype if msg_dtype is not None else X.dtype)\n\u001b[0m\u001b[1;32m    107\u001b[0m             )\n\u001b[1;32m    108\u001b[0m     \u001b[0;31m# for object dtype data, we only check for NaNs (GH-13254)\u001b[0m\u001b[0;34m\u001b[0m\u001b[0;34m\u001b[0m\u001b[0;34m\u001b[0m\u001b[0m\n",
      "\u001b[0;31mValueError\u001b[0m: Input contains NaN, infinity or a value too large for dtype('float64')."
     ]
    }
   ],
   "source": [
    "X = np.log10(np.array(old['fq.gz size, GiB']))[:, np.newaxis]\n",
    "y = np.log10(np.array(old['coverage']))[:, np.newaxis]\n",
    "X_new = np.log10(np.array(new['fq.gz size, GiB']))[:, np.newaxis]\n",
    "y_new = np.log10(np.array(new['coverage']))[:, np.newaxis]\n",
    "X_train = np.log10(np.concatenate((np.array(old['fq.gz size, GiB']), np.array(new.loc[new['coverage'].dropna().index, 'fq.gz size, GiB']))))[:, np.newaxis]\n",
    "y_train =  np.log10(np.concatenate((np.array(old['coverage']), np.array(new['coverage'].dropna()))))[:, np.newaxis]\n",
    "lm = linear_model.LinearRegression().fit(X_train, y_train)\n",
    "y_hat = lm.predict(X)\n",
    "X_fig = np.linspace(1.5, 2.7, 2)[:, np.newaxis]\n",
    "y_fig = lm.predict(X_fig)\n",
    "y_new_pred = lm.predict(X_new)\n",
    "y_new_nona = np.log10(np.array(new['coverage'].dropna()))[:, np.newaxis]\n",
    "sq_error = (y_hat[:, 0] - y[:, 0]) ** 2\n",
    "sq_error_sorted = sq_error.copy()\n",
    "sq_error_sorted.sort()\n",
    "print(sq_error_sorted)"
   ]
  },
  {
   "cell_type": "markdown",
   "metadata": {},
   "source": [
    "Plot results:"
   ]
  },
  {
   "cell_type": "code",
   "execution_count": null,
   "metadata": {},
   "outputs": [],
   "source": [
    "fig, axes = plt.subplots(1, 2, figsize=(16, 8), sharey=True)\n",
    "ax = axes[0]\n",
    "ax.scatter(X[:, 0], y[:, 0], c='pink', edgecolor='red', marker='o', label='old data')\n",
    "#ax.scatter(X[:, 0], y[:, 0], s=5*sq_error/np.median(sq_error), c='pink', edgecolor='red', marker='o', label='old data (training)')\n",
    "ax.scatter(X_new[:, 0], y_new[:, 0], marker='o', c='lightblue', edgecolor='blue', label='new data')\n",
    "ax.plot(X_fig[:, 0], y_fig[:, 0], label='linear model', c='g')\n",
    "ax.scatter(X_new[:, 0], y_new_pred[:, 0], marker='+', c='b', s=100, label='new data (predicted)')\n",
    "ax.legend(fontsize='large')\n",
    "ax.set_title('Linear model and squared error\\nmarker size$\\propto$sq error')\n",
    "ax.set_xlabel('$\\log_{10} \\mathrm{filesize}$', fontsize='large')\n",
    "ax.set_ylabel('$\\log_{10} \\mathrm{coverage}$', fontsize='large')\n",
    "ax.grid(b=True, which='both')\n",
    "for sqe, s, xx, yy in zip(sq_error, old.index, X[:, 0], y[:, 0]):\n",
    "    if sqe > 1.7e-3:\n",
    "        ax.text(xx, yy, s, horizontalalignment='left', verticalalignment='center', fontsize='small')\n",
    "ax = axes[1]\n",
    "ax.grid(b=True, which='both', axis='y')\n",
    "bp = ax.boxplot((y, y_new_nona, y_new_pred), labels=['old data', 'new data', 'new data (predicted)'])"
   ]
  },
  {
   "cell_type": "code",
   "execution_count": null,
   "metadata": {},
   "outputs": [],
   "source": [
    "new['predicted coverage'] = 10 ** y_new_pred[:, 0]\n",
    "X_old = np.array(old['coverage'])[:, np.newaxis]\n",
    "X_new = np.array(new['predicted coverage'])[:, np.newaxis]\n",
    "X_fig = np.linspace(0, 300, 200)[:, np.newaxis]\n",
    "param_grid = {'bandwidth': np.logspace(-1, 3, 100), 'kernel': ['gaussian', 'tophat', 'epanechnikov', 'exponential', 'linear', 'cosine']}\n",
    "def plotter(ax, X, title):\n",
    "    kde = model_selection.GridSearchCV(neighbors.KernelDensity(), param_grid=param_grid, n_jobs=-1, cv=5, refit=False)\n",
    "    kde.fit(X)\n",
    "    kde1 = neighbors.KernelDensity(**kde.best_params_).fit(X)\n",
    "    logpdf = kde1.score_samples(X_fig)\n",
    "    y_f = np.concatenate(([0], np.exp(logpdf), [0]))\n",
    "    X_f = np.concatenate(([X_fig[0, 0]],  X_fig[:, 0], [X_fig[-1, 0]]))\n",
    "    ax.axhline()\n",
    "    ax.fill(X_f, y_f, label=title)\n",
    "    ax.scatter(X[:, 0], -5e-3 + 4e-3 * np.random.random(X.shape[0]), marker='+', color='k')\n",
    "    ax.set_ylabel('density', fontsize='large')\n",
    "    ax.set_title(title)\n",
    "    ax.axhline()\n",
    "    return((kde, kde1))"
   ]
  },
  {
   "cell_type": "code",
   "execution_count": null,
   "metadata": {},
   "outputs": [],
   "source": [
    "fig, ax = plt.subplots(2, 1, sharex=True, sharey=True, figsize=(8, 8))\n",
    "kde_old = plotter(ax[0], X_old, 'old data')\n",
    "kde_new = plotter(ax[1], X_new, 'new data (predicted)')\n",
    "ax[1].set_xlabel('coverage', fontsize='large')\n",
    "ax[1].set_xlim([0, 260])"
   ]
  },
  {
   "cell_type": "code",
   "execution_count": null,
   "metadata": {},
   "outputs": [],
   "source": [
    "%connect_info"
   ]
  }
 ],
 "metadata": {
  "kernelspec": {
   "display_name": "Python 3",
   "language": "python",
   "name": "python3"
  },
  "language_info": {
   "codemirror_mode": {
    "name": "ipython",
    "version": 3
   },
   "file_extension": ".py",
   "mimetype": "text/x-python",
   "name": "python",
   "nbconvert_exporter": "python",
   "pygments_lexer": "ipython3",
   "version": "3.7.6"
  }
 },
 "nbformat": 4,
 "nbformat_minor": 4
}
