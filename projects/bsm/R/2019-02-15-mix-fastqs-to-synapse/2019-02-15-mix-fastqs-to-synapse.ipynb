{
 "cells": [
  {
   "cell_type": "markdown",
   "metadata": {},
   "source": [
    "Sequencing data from the DNA mixes of CEPH/Utah grandparents are uploaded to the BSMN [Scratch Space](https://www.synapse.org/#!Synapse:syn10964481).\n",
    "\n",
    "This notebook must be run on server Ada since that's where the FASTQ files are stored."
   ]
  },
  {
   "cell_type": "code",
   "execution_count": 1,
   "metadata": {},
   "outputs": [
    {
     "name": "stdout",
     "output_type": "stream",
     "text": [
      "Welcome, Attila Gulyás-Kovács!\n",
      "\n"
     ]
    }
   ],
   "source": [
    "import synapseclient\n",
    "import re\n",
    "syn = synapseclient.login()"
   ]
  },
  {
   "cell_type": "markdown",
   "metadata": {},
   "source": [
    "The function below does the following things:\n",
    "\n",
    "1. Get the pathnames of all FASTQs for a given sample (Mix1, Mix2 or Mix3); this is based on `*-fastq-names`\n",
    "1. Given those pathnames upload FASTQs to a Synapse folder"
   ]
  },
  {
   "cell_type": "code",
   "execution_count": 2,
   "metadata": {},
   "outputs": [],
   "source": [
    "def store_sample(sample, parent, syn=syn):\n",
    "    '''\n",
    "    Store FASTQ files for sample in Synapse folder parent.\n",
    "    '''\n",
    "    \n",
    "    def local_files2list(bamdir=\"/projects/bsm/alignments/ceph-benchmark/\"):\n",
    "        '''\n",
    "        Create a list of pathnames from the -fastq-names file determined by bamdir and sample.\n",
    "        '''\n",
    "        file_list = sample + \"-fastq-names\"\n",
    "        with open(bamdir + file_list) as f:\n",
    "            return([re.sub('\\n', '', y) for y in f.readlines()])\n",
    "        \n",
    "    def store_files(local_files, folder):\n",
    "        '''\n",
    "        Store local files in pathname list local_files in folder in Synapse.\n",
    "        '''\n",
    "        stored_files = [ syn.store(synapseclient.File(y, parent=folder)) for y in local_files ]\n",
    "        return(stored_files)\n",
    "    \n",
    "    data_folder = synapseclient.Folder(sample, parent=parent)\n",
    "    data_folder = syn.store(data_folder)\n",
    "    return(store_files(local_files2list(), folder = data_folder))"
   ]
  },
  {
   "cell_type": "markdown",
   "metadata": {},
   "source": [
    "Now create and store the target Synapse folder..."
   ]
  },
  {
   "cell_type": "code",
   "execution_count": 3,
   "metadata": {},
   "outputs": [],
   "source": [
    "main_folder = \"syn18233572\" # bsmn-pipeline-test/genome_mapping folder on scratch space\n",
    "parent = syn.store(synapseclient.Folder(\"ceph_utah_mixes\", parent=main_folder))"
   ]
  },
  {
   "cell_type": "markdown",
   "metadata": {},
   "source": [
    "...and finally store files in [the Synapse folder](https://www.synapse.org/#!Synapse:syn18345708)"
   ]
  },
  {
   "cell_type": "code",
   "execution_count": 5,
   "metadata": {},
   "outputs": [],
   "source": [
    "stored_files = {s: store_sample(sample=s, parent=parent) for s in (\"Mix1A\", \"Mix2A\", \"Mix3A\")}"
   ]
  },
  {
   "cell_type": "code",
   "execution_count": null,
   "metadata": {},
   "outputs": [],
   "source": []
  }
 ],
 "metadata": {
  "kernelspec": {
   "display_name": "Python 3",
   "language": "python",
   "name": "python3"
  },
  "language_info": {
   "codemirror_mode": {
    "name": "ipython",
    "version": 3
   },
   "file_extension": ".py",
   "mimetype": "text/x-python",
   "name": "python",
   "nbconvert_exporter": "python",
   "pygments_lexer": "ipython3",
   "version": "3.6.7"
  }
 },
 "nbformat": 4,
 "nbformat_minor": 2
}
