{
 "cells": [
  {
   "cell_type": "markdown",
   "metadata": {},
   "source": [
    "The MSSM_118-Neun_pl sample was run by Taejeong using the master branch of development on the bsmn-pipeline on an AWS EC2 parallel cluster of the Abyzov lab.  Here I process the same sample using the installfix branch on a cluster of the Chess lab."
   ]
  },
  {
   "cell_type": "code",
   "execution_count": 2,
   "metadata": {},
   "outputs": [],
   "source": [
    "%load_ext autoreload\n",
    "%autoreload 2\n",
    "import synapseclient\n",
    "import synapseutils\n",
    "import pandas as pd\n",
    "import os\n",
    "import os.path"
   ]
  },
  {
   "cell_type": "markdown",
   "metadata": {},
   "source": [
    "The [WGS.SCZ.Chess](https://www.synapse.org/#!Synapse:syn21897893) (syn21897893) Synapse folder contains GATK HC callsets produced by Taejeong using the `--run-gatk-hc 50` option to `run_genome_mapping.sh`.  The smallest callset is `MSSM_118_brain.ploidy_50.filtered.vcf` (syn21898502), which corresponds to the MSSM_118-NeuN_pl sample.\n",
    "\n",
    "All fastq files for this sample were previously uploaded to Synapse folder MSSM_118_NeuN_pl [syn21966777](https://www.synapse.org/#!Synapse:syn21966777).  Now let's create a `sample_list.txt` file for these fastq files and upload it to the bsmn parallel cluster of the Chess lab!"
   ]
  },
  {
   "cell_type": "code",
   "execution_count": 3,
   "metadata": {},
   "outputs": [
    {
     "name": "stdout",
     "output_type": "stream",
     "text": [
      "Welcome, Attila Jones!\n",
      "\n"
     ]
    }
   ],
   "source": [
    "syn = synapseclient.login()"
   ]
  },
  {
   "cell_type": "code",
   "execution_count": 4,
   "metadata": {},
   "outputs": [
    {
     "data": {
      "text/html": [
       "<div>\n",
       "<style scoped>\n",
       "    .dataframe tbody tr th:only-of-type {\n",
       "        vertical-align: middle;\n",
       "    }\n",
       "\n",
       "    .dataframe tbody tr th {\n",
       "        vertical-align: top;\n",
       "    }\n",
       "\n",
       "    .dataframe thead th {\n",
       "        text-align: right;\n",
       "    }\n",
       "</style>\n",
       "<table border=\"1\" class=\"dataframe\">\n",
       "  <thead>\n",
       "    <tr style=\"text-align: right;\">\n",
       "      <th></th>\n",
       "      <th>sample_id</th>\n",
       "      <th>file_name</th>\n",
       "      <th>location</th>\n",
       "    </tr>\n",
       "  </thead>\n",
       "  <tbody>\n",
       "    <tr>\n",
       "      <th>0</th>\n",
       "      <td>MSSM_118_NeuN_pl</td>\n",
       "      <td>MSSM118_NeuN_pl_USPD16080281-D712_H5LNVALXX_L5...</td>\n",
       "      <td>syn21966882</td>\n",
       "    </tr>\n",
       "    <tr>\n",
       "      <th>1</th>\n",
       "      <td>MSSM_118_NeuN_pl</td>\n",
       "      <td>MSSM118_NeuN_pl_USPD16080281-D712_H5LNVALXX_L5...</td>\n",
       "      <td>syn21966905</td>\n",
       "    </tr>\n",
       "    <tr>\n",
       "      <th>2</th>\n",
       "      <td>MSSM_118_NeuN_pl</td>\n",
       "      <td>MSSM118_NeuN_pl_USPD16080281-D712_H5LNVALXX_L6...</td>\n",
       "      <td>syn21966883</td>\n",
       "    </tr>\n",
       "    <tr>\n",
       "      <th>3</th>\n",
       "      <td>MSSM_118_NeuN_pl</td>\n",
       "      <td>MSSM118_NeuN_pl_USPD16080281-D712_H5LNVALXX_L6...</td>\n",
       "      <td>syn21966929</td>\n",
       "    </tr>\n",
       "    <tr>\n",
       "      <th>4</th>\n",
       "      <td>MSSM_118_NeuN_pl</td>\n",
       "      <td>MSSM118_NeuN_pl_USPD16080281-D712_H5LNVALXX_L7...</td>\n",
       "      <td>syn21966895</td>\n",
       "    </tr>\n",
       "  </tbody>\n",
       "</table>\n",
       "</div>"
      ],
      "text/plain": [
       "          sample_id                                          file_name  \\\n",
       "0  MSSM_118_NeuN_pl  MSSM118_NeuN_pl_USPD16080281-D712_H5LNVALXX_L5...   \n",
       "1  MSSM_118_NeuN_pl  MSSM118_NeuN_pl_USPD16080281-D712_H5LNVALXX_L5...   \n",
       "2  MSSM_118_NeuN_pl  MSSM118_NeuN_pl_USPD16080281-D712_H5LNVALXX_L6...   \n",
       "3  MSSM_118_NeuN_pl  MSSM118_NeuN_pl_USPD16080281-D712_H5LNVALXX_L6...   \n",
       "4  MSSM_118_NeuN_pl  MSSM118_NeuN_pl_USPD16080281-D712_H5LNVALXX_L7...   \n",
       "\n",
       "      location  \n",
       "0  syn21966882  \n",
       "1  syn21966905  \n",
       "2  syn21966883  \n",
       "3  syn21966929  \n",
       "4  syn21966895  "
      ]
     },
     "execution_count": 4,
     "metadata": {},
     "output_type": "execute_result"
    }
   ],
   "source": [
    "flist = list(synapseutils.walk(syn, 'syn21966777'))[0][2]\n",
    "flist = pd.DataFrame(flist, columns = ['file_name', 'location'], dtype='str')\n",
    "flist['sample_id'] = 'MSSM_118_NeuN_pl'\n",
    "flist = pd.concat((flist.iloc[:, -1], flist.iloc[:, :-1]), axis=1)\n",
    "flist.head()"
   ]
  },
  {
   "cell_type": "markdown",
   "metadata": {},
   "source": [
    "Write table to a sample list file"
   ]
  },
  {
   "cell_type": "code",
   "execution_count": 5,
   "metadata": {},
   "outputs": [],
   "source": [
    "flistpath = '/home/attila/projects/bsm/results/2020-04-21-bsm-pipeline-mssm-118/sample_list.txt'\n",
    "flist.to_csv(flistpath, sep='\\t', header=False, index=False)"
   ]
  },
  {
   "cell_type": "markdown",
   "metadata": {},
   "source": [
    "Upload that file to the bsmn parallel cluster"
   ]
  },
  {
   "cell_type": "code",
   "execution_count": 6,
   "metadata": {},
   "outputs": [],
   "source": [
    "%%bash\n",
    "if false; then\n",
    "key=~/AWS-accounts/chesslab/id_rsa-aws-user-024812372148 # my private SSH key\n",
    "dns=ec2-3-12-140-74.us-east-2.compute.amazonaws.com # the master instance of the cluster\n",
    "fpath=/home/attila/projects/bsm/results/2020-04-21-bsm-pipeline-mssm-118/sample_list.txt\n",
    "scp -i $key $fpath ec2-user@$dns:/efs/tests/MSSM_118/\n",
    "fi"
   ]
  },
  {
   "cell_type": "markdown",
   "metadata": {},
   "source": [
    "Process sample with the bsmn-pipeline using the following command:\n",
    "```\n",
    "[ec2-user@ip-172-31-52-76 MSSM_118]$ /shared/bsmn-pipeline/run_genome_mapping.sh --sample-list sample_list.txt --run-gatk-hc 50 --upload syn21966777 > STDOUT-1 2> STDERR-1\n",
    "```"
   ]
  },
  {
   "cell_type": "markdown",
   "metadata": {},
   "source": [
    "## Consistency check\n",
    "\n",
    "Download the call set for MSSM_118_NeuN_pl produced by me (Attila) on the Chesslab's bsmn cluster"
   ]
  },
  {
   "cell_type": "code",
   "execution_count": 7,
   "metadata": {},
   "outputs": [],
   "source": [
    "%%bash\n",
    "host=ec2-user@ec2-3-12-140-74.us-east-2.compute.amazonaws.com\n",
    "key=~/AWS-accounts/chesslab/id_rsa-aws-user-024812372148\n",
    "srcdir=/efs/tests/MSSM_118/MSSM_118_NeuN_pl/gatk-hc\n",
    "dstdir=~/projects/bsm/results/2020-04-21-bsm-pipeline-mssm-118/gatk-hc\n",
    "if false; then\n",
    "mkdir -p $dstdir\n",
    "scp -r -i $key $host:$srcdir $dstdir/attila\n",
    "fi"
   ]
  },
  {
   "cell_type": "markdown",
   "metadata": {},
   "source": [
    "Now download the corresponding call set produced by Taejeong"
   ]
  },
  {
   "cell_type": "code",
   "execution_count": 8,
   "metadata": {},
   "outputs": [],
   "source": [
    "resdir = '/home/attila/projects/bsm/results/2020-04-21-bsm-pipeline-mssm-118/gatk-hc'\n",
    "dstdir = resdir + os.sep + 'taejeong'\n",
    "if not os.path.exists(dstdir):\n",
    "    os.mkdir(dstdir)\n",
    "e = syn.get('syn20815202', downloadLocation=dstdir)\n",
    "e1 = syn.get('syn20815203', downloadLocation=dstdir)"
   ]
  },
  {
   "cell_type": "markdown",
   "metadata": {},
   "source": [
    "Let's look at the files downloaded"
   ]
  },
  {
   "cell_type": "code",
   "execution_count": 9,
   "metadata": {},
   "outputs": [
    {
     "name": "stdout",
     "output_type": "stream",
     "text": [
      "/home/attila/projects/bsm/results/2020-04-21-bsm-pipeline-mssm-118/gatk-hc:\n",
      "isec\n",
      "report\n",
      "taejeong\n",
      "\n",
      "/home/attila/projects/bsm/results/2020-04-21-bsm-pipeline-mssm-118/gatk-hc/isec:\n",
      "0000.vcf\n",
      "0001.vcf\n",
      "README.txt\n",
      "report\n",
      "\n",
      "/home/attila/projects/bsm/results/2020-04-21-bsm-pipeline-mssm-118/gatk-hc/taejeong:\n",
      "MSSM_118_NeuN_pl.ploidy_50.vcf.gz\n",
      "MSSM_118_NeuN_pl.ploidy_50.vcf.gz.tbi\n"
     ]
    }
   ],
   "source": [
    "%%bash\n",
    "ls -R /home/attila/projects/bsm/results/2020-04-21-bsm-pipeline-mssm-118/gatk-hc"
   ]
  },
  {
   "cell_type": "markdown",
   "metadata": {},
   "source": [
    "### Results"
   ]
  },
  {
   "cell_type": "code",
   "execution_count": 13,
   "metadata": {},
   "outputs": [
    {
     "name": "stdout",
     "output_type": "stream",
     "text": [
      "3 private to\ttaejeong/MSSM_118_NeuN_pl.ploidy_50.vcf.gz\n",
      "1 private to\tattila/MSSM_118_NeuN_pl.ploidy_50.vcf.gz\n",
      "5085446 shared by both\ttaejeong/MSSM_118_NeuN_pl.ploidy_50.vcf.gz attila/MSSM_118_NeuN_pl.ploidy_50.vcf.gz\n"
     ]
    }
   ],
   "source": [
    "%%bash\n",
    "cd /home/attila/projects/bsm/results/2020-04-21-bsm-pipeline-mssm-118/gatk-hc\n",
    "if test ! -d isec; then\n",
    "taejeong=taejeong/MSSM_118_NeuN_pl.ploidy_50.vcf.gz\n",
    "attila=attila/MSSM_118_NeuN_pl.ploidy_50.vcf.gz\n",
    "bcftools isec $taejeong $attila -p isec\n",
    "fi\n",
    "cd isec\n",
    "if test ! -e report; then\n",
    "for vcf in 000[012].vcf; do\n",
    "bcftools view -H $vcf | wc -l | tr '\\n' ' '\n",
    "sed -n \"/$vcf/ { s/^.*\\(\\(private to\\|shared by\\).*$\\)/\\1/; p }\" README.txt\n",
    "done > report\n",
    "fi\n",
    "rm 000[23].vcf 2> /dev/null # remove the large files\n",
    "cd ..; rm -rf attila taejeong 2> /dev/null\n",
    "cat isec/report"
   ]
  },
  {
   "cell_type": "markdown",
   "metadata": {},
   "source": [
    "So from more than 5 million records only 3 and 1 are private to the taejeong and attila callset, respectively.\n",
    "\n",
    "Let's look at these differing records!"
   ]
  },
  {
   "cell_type": "code",
   "execution_count": 11,
   "metadata": {},
   "outputs": [
    {
     "name": "stdout",
     "output_type": "stream",
     "text": [
      "private to taejeong/...\n",
      "\n",
      "16\t46435547\t.\tT\tG\t1317.38\tVQSRTrancheSNP99.90to100.00\tAC=6;AF=0.12;AN=50;BaseQRankSum=0.86;DP=1319;FS=22.44;MLEAC=6;MLEAF=0.12;MQ=45.82;MQRankSum=-8.2;QD=1.03;ReadPosRankSum=7.31;SOR=3.89;VQSLOD=-1611;culprit=DP\tGT:AD:DP:GQ:PL\t0/0/0/0/0/0/0/0/0/0/0/0/0/0/0/0/0/0/0/0/0/0/0/0/0/0/0/0/0/0/0/0/0/0/0/0/0/0/0/0/0/0/0/0/1/1/1/1/1/1:1049,226:1275:3:1300,466,241,120,51,14,0,3,20,49,88,135,191,255,325,402,486,577,674,777,887,1004,1127,1258,1397,1543,1697,1861,2033,2216,2410,2616,2835,3068,3318,3585,3873,4184,4522,4891,5298,5749,6255,6831,7498,8289,9258,10508,12266,15251,36814\n",
      "16\t80908579\t.\tC\tA\t1647.45\tPASS\tAC=50;AF=1;AN=50;DP=46;FS=0;MLEAC=44;MLEAF=0.88;MQ=60;QD=28.02;SOR=0.874;VQSLOD=17.57;culprit=MQ\tGT:AD:DP:GQ:PL\t1/1/1/1/1/1/1/1/1/1/1/1/1/1/1/1/1/1/1/1/1/1/1/1/1/1/1/1/1/1/1/1/1/1/1/1/1/1/1/1/1/1/1/1/1/1/1/1/1/1:0,46:46:4:1393,747,621,545,491,449,414,385,359,336,316,297,280,265,250,237,224,212,201,191,181,171,162,153,145,137,129,122,115,108,101,94,88,82,76,71,65,60,54,49,44,39,35,30,25,21,17,12,8,4,0\n",
      "16\t88798360\t.\tT\tG\t34.73\tVQSRTrancheSNP99.00to99.90\tAC=3;AF=0.06;AN=50;BaseQRankSum=-2.582;DP=144;FS=8.48;MLEAC=3;MLEAF=0.06;MQ=58.05;MQRankSum=1.89;NEGATIVE_TRAIN_SITE;QD=0.94;ReadPosRankSum=-0.833;SOR=1.452;VQSLOD=-7.285;culprit=DP\tGT:AD:DP:GQ:PL\t0/0/0/0/0/0/0/0/0/0/0/0/0/0/0/0/0/0/0/0/0/0/0/0/0/0/0/0/0/0/0/0/0/0/0/0/0/0/0/0/0/0/0/0/0/0/0/1/1/1:33,4:37:0:24,5,2,0,0,0,1,3,4,6,8,10,13,15,18,21,24,28,31,35,39,43,47,51,56,61,66,72,77,83,90,96,104,111,119,128,137,147,158,169,182,197,212,231,252,276,306,345,399,491,983\n",
      "\n",
      "\n",
      "private to attila/...\n",
      "\n",
      "16\t46424347\t.\tG\tT\t136.56\tVQSRTrancheSNP99.90to100.00\tAC=1;AF=0.02;AN=50;BaseQRankSum=5.34;DP=332;FS=5.44;MLEAC=1;MLEAF=0.02;MQ=32.78;MQRankSum=1.8;QD=0.41;ReadPosRankSum=0.17;SOR=0.03;VQSLOD=-152.9;culprit=DP\tGT:AD:DP:GQ:PL\t0/0/0/0/0/0/0/0/0/0/0/0/0/0/0/0/0/0/0/0/0/0/0/0/0/0/0/0/0/0/0/0/0/0/0/0/0/0/0/0/0/0/0/0/0/0/0/0/0/1:322,9:331:2:135,0,2,16,35,57,82,108,136,165,196,228,261,295,331,367,406,445,486,528,572,618,665,715,766,819,875,933,994,1058,1125,1195,1269,1348,1431,1520,1615,1718,1828,1948,2080,2225,2387,2571,2783,3033,3338,3730,4278,5196,10274\n"
     ]
    }
   ],
   "source": [
    "%%bash\n",
    "cd /home/attila/projects/bsm/results/2020-04-21-bsm-pipeline-mssm-118/gatk-hc/isec/\n",
    "echo -e private to taejeong/...'\\n'\n",
    "bcftools view -H 0000.vcf\n",
    "echo -e '\\n\\n'private to attila/...'\\n'\n",
    "bcftools view -H 0001.vcf"
   ]
  },
  {
   "cell_type": "markdown",
   "metadata": {},
   "source": [
    "Interestingly, the records differ only on chromosome 16.\n",
    "\n",
    "## Conclusion\n",
    "There's a negligible difference between the callset produced by Taejeong and by me (Attila).  It's not clear what exactly lead to that minor difference.  Perhaps a different state of a random number generator used by GATK's HaplotypeCaller, perhaps different version of the installed software tools."
   ]
  },
  {
   "cell_type": "code",
   "execution_count": 12,
   "metadata": {},
   "outputs": [
    {
     "name": "stdout",
     "output_type": "stream",
     "text": [
      "{\n",
      "  \"shell_port\": 49193,\n",
      "  \"iopub_port\": 42321,\n",
      "  \"stdin_port\": 46011,\n",
      "  \"control_port\": 55969,\n",
      "  \"hb_port\": 60721,\n",
      "  \"ip\": \"127.0.0.1\",\n",
      "  \"key\": \"db012786-a1947e3ecd6b88a1be720519\",\n",
      "  \"transport\": \"tcp\",\n",
      "  \"signature_scheme\": \"hmac-sha256\",\n",
      "  \"kernel_name\": \"\"\n",
      "}\n",
      "\n",
      "Paste the above JSON into a file, and connect with:\n",
      "    $> jupyter <app> --existing <file>\n",
      "or, if you are local, you can connect with just:\n",
      "    $> jupyter <app> --existing kernel-54f6489a-334e-42ac-b04f-c388e41e7ca2.json\n",
      "or even just:\n",
      "    $> jupyter <app> --existing\n",
      "if this is the most recent Jupyter kernel you have started.\n"
     ]
    }
   ],
   "source": [
    "%connect_info"
   ]
  },
  {
   "cell_type": "code",
   "execution_count": null,
   "metadata": {},
   "outputs": [],
   "source": []
  }
 ],
 "metadata": {
  "kernelspec": {
   "display_name": "Python 3",
   "language": "python",
   "name": "python3"
  },
  "language_info": {
   "codemirror_mode": {
    "name": "ipython",
    "version": 3
   },
   "file_extension": ".py",
   "mimetype": "text/x-python",
   "name": "python",
   "nbconvert_exporter": "python",
   "pygments_lexer": "ipython3",
   "version": "3.7.6"
  }
 },
 "nbformat": 4,
 "nbformat_minor": 2
}
