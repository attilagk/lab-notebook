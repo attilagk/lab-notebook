{
 "cells": [
  {
   "cell_type": "markdown",
   "metadata": {},
   "source": [
    "Creating panel of normals (PON) for TNhaplotyper/MuTect2"
   ]
  },
  {
   "cell_type": "code",
   "execution_count": 1,
   "metadata": {},
   "outputs": [],
   "source": [
    "%load_ext autoreload\n",
    "%autoreload 2\n",
    "%matplotlib inline\n",
    "import attila_utils\n",
    "import os.path\n",
    "import glob\n",
    "import tnseq_pon"
   ]
  },
  {
   "cell_type": "markdown",
   "metadata": {},
   "source": [
    "Get the list of BAMs for the CMC samples"
   ]
  },
  {
   "cell_type": "code",
   "execution_count": 2,
   "metadata": {},
   "outputs": [
    {
     "data": {
      "text/plain": [
       "['/projects/bsm/alignments/PITT_118/PITT_118_NeuN_mn.bam',\n",
       " '/projects/bsm/alignments/PITT_118/PITT_118_NeuN_pl.bam',\n",
       " '/projects/bsm/alignments/PITT_101/PITT_101_NeuN_pl.bam',\n",
       " '/projects/bsm/alignments/MSSM_369/MSSM_369_NeuN_mn.bam',\n",
       " '/projects/bsm/alignments/MSSM_369/MSSM_369_NeuN_pl.bam',\n",
       " '/projects/bsm/alignments/MSSM_369/MSSM_369_muscle.bam',\n",
       " '/projects/bsm/alignments/MSSM_193/MSSM_193_NeuN_pl.bam',\n",
       " '/projects/bsm/alignments/MSSM_056/MSSM_056_muscle.bam',\n",
       " '/projects/bsm/alignments/MSSM_056/MSSM_056_NeuN_pl.bam',\n",
       " '/projects/bsm/alignments/MSSM_106/MSSM_106_NeuN_pl.bam',\n",
       " '/projects/bsm/alignments/MSSM_106/MSSM_106_muscle.bam',\n",
       " '/projects/bsm/alignments/MSSM_106/MSSM_106_NeuN_mn.bam',\n",
       " '/projects/bsm/alignments/MSSM_338/MSSM_338_NeuN_pl.bam',\n",
       " '/projects/bsm/alignments/PITT_036/PITT_036_NeuN_pl.bam',\n",
       " '/projects/bsm/alignments/MSSM_331/MSSM_331_muscle.bam',\n",
       " '/projects/bsm/alignments/MSSM_331/MSSM_331_NeuN_pl.bam',\n",
       " '/projects/bsm/alignments/MSSM_391/MSSM_391_NeuN_pl.bam',\n",
       " '/projects/bsm/alignments/MSSM_391/MSSM_391_muscle.bam',\n",
       " '/projects/bsm/alignments/MSSM_391/MSSM_391_NeuN_mn.bam',\n",
       " '/projects/bsm/alignments/PITT_060/PITT_060_NeuN_pl.bam',\n",
       " '/projects/bsm/alignments/MSSM_175/MSSM_175_NeuN_pl.bam',\n",
       " '/projects/bsm/alignments/MSSM_183/MSSM_183_muscle.bam',\n",
       " '/projects/bsm/alignments/MSSM_183/MSSM_183_NeuN_pl.bam',\n",
       " '/projects/bsm/alignments/MSSM_183/MSSM_183_NeuN_mn.bam',\n",
       " '/projects/bsm/alignments/MSSM_118/MSSM_118_NeuN_pl.bam',\n",
       " '/projects/bsm/alignments/MSSM_118/MSSM_118_muscle.bam',\n",
       " '/projects/bsm/alignments/MSSM_304/MSSM_304_NeuN_pl.bam',\n",
       " '/projects/bsm/alignments/MSSM_304/MSSM_304_muscle.bam',\n",
       " '/projects/bsm/alignments/MSSM_215/MSSM_215_NeuN_pl.bam',\n",
       " '/projects/bsm/alignments/MSSM_065/MSSM_065_NeuN_pl.bam',\n",
       " '/projects/bsm/alignments/MSSM_295/MSSM_295_NeuN_pl.bam',\n",
       " '/projects/bsm/alignments/MSSM_295/MSSM_295_muscle.bam',\n",
       " '/projects/bsm/alignments/MSSM_179/MSSM_179_NeuN_pl.bam',\n",
       " '/projects/bsm/alignments/MSSM_179/MSSM_179_muscle.bam',\n",
       " '/projects/bsm/alignments/MSSM_179/MSSM_179_NeuN_mn.bam',\n",
       " '/projects/bsm/alignments/MSSM_033/MSSM_033_NeuN_pl.bam',\n",
       " '/projects/bsm/alignments/MSSM_109/MSSM_109_NeuN_pl.bam',\n",
       " '/projects/bsm/alignments/MSSM_109/MSSM_109_muscle.bam',\n",
       " '/projects/bsm/alignments/MSSM_109/MSSM_109_NeuN_mn.bam',\n",
       " '/projects/bsm/alignments/MSSM_373/MSSM_373_NeuN_pl.bam',\n",
       " '/projects/bsm/alignments/MSSM_310/MSSM_310_NeuN_pl.bam',\n",
       " '/projects/bsm/alignments/PITT_010/PITT_010_NeuN_pl.bam',\n",
       " '/projects/bsm/alignments/PITT_010/PITT_010_NeuN_mn.bam',\n",
       " '/projects/bsm/alignments/PITT_064/PITT_064_NeuN_pl.bam',\n",
       " '/projects/bsm/alignments/PITT_064/PITT_064_NeuN_mn.bam',\n",
       " '/projects/bsm/alignments/PITT_091/PITT_091_NeuN_mn.bam',\n",
       " '/projects/bsm/alignments/PITT_091/PITT_091_NeuN_pl.bam']"
      ]
     },
     "execution_count": 2,
     "metadata": {},
     "output_type": "execute_result"
    }
   ],
   "source": [
    "bamlist = glob.glob('/projects/bsm/alignments/[MP][SI][ST][MT]_*/*.bam')\n",
    "bamlist                    "
   ]
  },
  {
   "cell_type": "markdown",
   "metadata": {},
   "source": [
    "This will be the name of the output PON VCF"
   ]
  },
  {
   "cell_type": "code",
   "execution_count": 3,
   "metadata": {},
   "outputs": [
    {
     "data": {
      "text/plain": [
       "'/projects/bsm/attila/results/2019-11-13-panel-of-normals/pon-v1.vcf.gz'"
      ]
     },
     "execution_count": 3,
     "metadata": {},
     "output_type": "execute_result"
    }
   ],
   "source": [
    "ponvcf = tnseq_pon.resultdir + os.path.sep + 'pon-v1.vcf.gz'\n",
    "ponvcf"
   ]
  },
  {
   "cell_type": "markdown",
   "metadata": {},
   "source": [
    "Create PON VCF"
   ]
  },
  {
   "cell_type": "code",
   "execution_count": 1,
   "metadata": {},
   "outputs": [],
   "source": [
    "if False:\n",
    "    proc = tnseq_pon.all_bam2pon_merge(bamlist=bamlist, ponvcf=ponvcf)\n",
    "    proc"
   ]
  },
  {
   "cell_type": "markdown",
   "metadata": {},
   "source": [
    "The job above was interrupted due to system breakdown on `attila-ThinkS`.  To complete the remainder of the job"
   ]
  },
  {
   "cell_type": "code",
   "execution_count": 30,
   "metadata": {},
   "outputs": [],
   "source": [
    "%%bash\n",
    "# this file will contain all the bams that haven't been processed for the PON yet\n",
    "resdir=/projects/bsm/attila/results/2019-11-13-panel-of-normals\n",
    "bamlist1=$resdir/bamlist-2019-12-20\n",
    "for bam in /projects/bsm/alignments/[MP][SI][ST][MT]_*/*.bam; do\n",
    "    bn=\"`basename $bam .bam`\"\n",
    "    if ! test -f $resdir/VCFs/$bn.vcf.gz; then\n",
    "        echo $bam\n",
    "    fi\n",
    "done > $bamlist1"
   ]
  },
  {
   "cell_type": "code",
   "execution_count": 56,
   "metadata": {},
   "outputs": [
    {
     "data": {
      "text/plain": [
       "['/projects/bsm/alignments/MSSM_179/MSSM_179_NeuN_mn.bam',\n",
       " '/projects/bsm/alignments/MSSM_183/MSSM_183_muscle.bam',\n",
       " '/projects/bsm/alignments/MSSM_183/MSSM_183_NeuN_pl.bam',\n",
       " '/projects/bsm/alignments/MSSM_295/MSSM_295_muscle.bam',\n",
       " '/projects/bsm/alignments/MSSM_304/MSSM_304_muscle.bam',\n",
       " '/projects/bsm/alignments/MSSM_310/MSSM_310_NeuN_pl.bam',\n",
       " '/projects/bsm/alignments/MSSM_373/MSSM_373_NeuN_pl.bam',\n",
       " '/projects/bsm/alignments/PITT_010/PITT_010_NeuN_pl.bam',\n",
       " '/projects/bsm/alignments/PITT_064/PITT_064_NeuN_mn.bam',\n",
       " '/projects/bsm/alignments/PITT_091/PITT_091_NeuN_mn.bam']"
      ]
     },
     "execution_count": 56,
     "metadata": {},
     "output_type": "execute_result"
    }
   ],
   "source": [
    "with open('/projects/bsm/attila/results/2019-11-13-panel-of-normals/bamlist-2019-12-20') as f:\n",
    "    bamlist1 = [b.rstrip('\\n') for b in f.readlines()]\n",
    "bamlist1[0::2][5:]"
   ]
  },
  {
   "cell_type": "code",
   "execution_count": 45,
   "metadata": {},
   "outputs": [
    {
     "data": {
      "text/plain": [
       "['/projects/bsm/alignments/MSSM_056/MSSM_056_NeuN_pl.bam',\n",
       " '/projects/bsm/alignments/MSSM_109/MSSM_109_muscle.bam',\n",
       " '/projects/bsm/alignments/MSSM_109/MSSM_109_NeuN_pl.bam',\n",
       " '/projects/bsm/alignments/MSSM_118/MSSM_118_NeuN_pl.bam',\n",
       " '/projects/bsm/alignments/MSSM_179/MSSM_179_muscle.bam',\n",
       " '/projects/bsm/alignments/MSSM_179/MSSM_179_NeuN_pl.bam',\n",
       " '/projects/bsm/alignments/MSSM_183/MSSM_183_NeuN_mn.bam',\n",
       " '/projects/bsm/alignments/MSSM_215/MSSM_215_NeuN_pl.bam',\n",
       " '/projects/bsm/alignments/MSSM_295/MSSM_295_NeuN_pl.bam',\n",
       " '/projects/bsm/alignments/MSSM_304/MSSM_304_NeuN_pl.bam',\n",
       " '/projects/bsm/alignments/MSSM_331/MSSM_331_NeuN_pl.bam',\n",
       " '/projects/bsm/alignments/PITT_010/PITT_010_NeuN_mn.bam',\n",
       " '/projects/bsm/alignments/PITT_036/PITT_036_NeuN_pl.bam',\n",
       " '/projects/bsm/alignments/PITT_064/PITT_064_NeuN_pl.bam',\n",
       " '/projects/bsm/alignments/PITT_091/PITT_091_NeuN_pl.bam']"
      ]
     },
     "execution_count": 45,
     "metadata": {},
     "output_type": "execute_result"
    }
   ],
   "source": [
    "bamlist1[1::2]"
   ]
  },
  {
   "cell_type": "code",
   "execution_count": null,
   "metadata": {},
   "outputs": [],
   "source": [
    "vcflist0 = [tnseq_pon.bam2pon(b) for b in bamlist1[0::2][5:]]"
   ]
  },
  {
   "cell_type": "markdown",
   "metadata": {},
   "source": [
    "## Samples included in the PON\n",
    "\n",
    "Which samples are included in the PON VCF?  Which are excluded from it?"
   ]
  },
  {
   "cell_type": "code",
   "execution_count": 23,
   "metadata": {},
   "outputs": [
    {
     "data": {
      "text/plain": [
       "{'MSSM_033_NeuN_pl',\n",
       " 'MSSM_056_NeuN_pl',\n",
       " 'MSSM_056_muscle',\n",
       " 'MSSM_065_NeuN_pl',\n",
       " 'MSSM_106_NeuN_mn',\n",
       " 'MSSM_106_NeuN_pl',\n",
       " 'MSSM_106_muscle',\n",
       " 'MSSM_109_NeuN_mn',\n",
       " 'MSSM_109_NeuN_pl',\n",
       " 'MSSM_109_muscle',\n",
       " 'MSSM_118_NeuN_pl',\n",
       " 'MSSM_118_muscle',\n",
       " 'MSSM_175_NeuN_pl',\n",
       " 'MSSM_179_NeuN_mn',\n",
       " 'MSSM_183_NeuN_mn',\n",
       " 'MSSM_183_NeuN_pl',\n",
       " 'MSSM_183_muscle',\n",
       " 'MSSM_193_NeuN_pl',\n",
       " 'MSSM_295_muscle',\n",
       " 'MSSM_304_muscle',\n",
       " 'MSSM_310_NeuN_pl',\n",
       " 'MSSM_331_muscle',\n",
       " 'MSSM_338_NeuN_pl',\n",
       " 'MSSM_369_NeuN_mn',\n",
       " 'MSSM_369_NeuN_pl',\n",
       " 'MSSM_369_muscle',\n",
       " 'MSSM_391_NeuN_mn',\n",
       " 'MSSM_391_NeuN_pl',\n",
       " 'MSSM_391_muscle',\n",
       " 'PITT_060_NeuN_pl',\n",
       " 'PITT_101_NeuN_pl',\n",
       " 'PITT_118_NeuN_mn',\n",
       " 'PITT_118_NeuN_pl'}"
      ]
     },
     "execution_count": 23,
     "metadata": {},
     "output_type": "execute_result"
    }
   ],
   "source": [
    "all_samples = set([os.path.basename(x).replace('.bam', '') for x in bamlist])\n",
    "vcfponlist = glob.glob('/projects/bsm/attila/results/2019-11-13-panel-of-normals/VCFs/*.vcf.gz')\n",
    "included_samples = set([os.path.basename(x).replace('.vcf.gz', '') for x in vcfponlist])\n",
    "included_samples"
   ]
  },
  {
   "cell_type": "code",
   "execution_count": 25,
   "metadata": {},
   "outputs": [
    {
     "data": {
      "text/plain": [
       "{'MSSM_179_NeuN_pl',\n",
       " 'MSSM_179_muscle',\n",
       " 'MSSM_215_NeuN_pl',\n",
       " 'MSSM_295_NeuN_pl',\n",
       " 'MSSM_304_NeuN_pl',\n",
       " 'MSSM_331_NeuN_pl',\n",
       " 'MSSM_373_NeuN_pl',\n",
       " 'PITT_010_NeuN_mn',\n",
       " 'PITT_010_NeuN_pl',\n",
       " 'PITT_036_NeuN_pl',\n",
       " 'PITT_064_NeuN_mn',\n",
       " 'PITT_064_NeuN_pl',\n",
       " 'PITT_091_NeuN_mn',\n",
       " 'PITT_091_NeuN_pl'}"
      ]
     },
     "execution_count": 25,
     "metadata": {},
     "output_type": "execute_result"
    }
   ],
   "source": [
    "excluded_samples = all_samples - included_samples\n",
    "excluded_samples"
   ]
  },
  {
   "cell_type": "raw",
   "metadata": {},
   "source": [
    "%connect_info"
   ]
  },
  {
   "cell_type": "code",
   "execution_count": null,
   "metadata": {},
   "outputs": [],
   "source": []
  }
 ],
 "metadata": {
  "kernelspec": {
   "display_name": "Python 3",
   "language": "python",
   "name": "python3"
  },
  "language_info": {
   "codemirror_mode": {
    "name": "ipython",
    "version": 3
   },
   "file_extension": ".py",
   "mimetype": "text/x-python",
   "name": "python",
   "nbconvert_exporter": "python",
   "pygments_lexer": "ipython3",
   "version": "3.7.4"
  }
 },
 "nbformat": 4,
 "nbformat_minor": 2
}
