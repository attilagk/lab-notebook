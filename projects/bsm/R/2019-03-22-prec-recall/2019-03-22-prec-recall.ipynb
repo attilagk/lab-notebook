{
 "cells": [
  {
   "cell_type": "markdown",
   "metadata": {},
   "source": [
    "Precision and recall for various callers with their default filters."
   ]
  },
  {
   "cell_type": "code",
   "execution_count": 1,
   "metadata": {},
   "outputs": [],
   "source": [
    "%load_ext autoreload\n",
    "%autoreload 2\n",
    "%matplotlib inline\n",
    "import matplotlib\n",
    "matplotlib.rcParams['figure.dpi'] = 150\n",
    "#matplotlib.rcParams['figure.figsize'] = [7, 5]\n",
    "from IPython.display import set_matplotlib_formats\n",
    "import attila_utils"
   ]
  },
  {
   "cell_type": "code",
   "execution_count": 2,
   "metadata": {},
   "outputs": [],
   "source": [
    "import pandas as pd\n",
    "import matplotlib.pyplot as plt\n",
    "import numpy as np\n",
    "import seaborn as sns"
   ]
  },
  {
   "cell_type": "code",
   "execution_count": 3,
   "metadata": {},
   "outputs": [],
   "source": [
    "%%bash\n",
    "## Calculate precision--recall.\n",
    "## Results are written to ~/projects/bsm/results/2019-03-22-prec-recall/chr22\n",
    "#~/projects/bsm/notebook/2019-03-22-prec-recall/do-prec-recall"
   ]
  },
  {
   "cell_type": "code",
   "execution_count": 4,
   "metadata": {},
   "outputs": [
    {
     "data": {
      "text/html": [
       "<div>\n",
       "<style scoped>\n",
       "    .dataframe tbody tr th:only-of-type {\n",
       "        vertical-align: middle;\n",
       "    }\n",
       "\n",
       "    .dataframe tbody tr th {\n",
       "        vertical-align: top;\n",
       "    }\n",
       "\n",
       "    .dataframe thead th {\n",
       "        text-align: right;\n",
       "    }\n",
       "</style>\n",
       "<table border=\"1\" class=\"dataframe\">\n",
       "  <thead>\n",
       "    <tr style=\"text-align: right;\">\n",
       "      <th></th>\n",
       "      <th>callset</th>\n",
       "      <th>path</th>\n",
       "      <th>C</th>\n",
       "      <th>V</th>\n",
       "      <th>CV</th>\n",
       "      <th>precision</th>\n",
       "      <th>recall</th>\n",
       "      <th>vartype</th>\n",
       "    </tr>\n",
       "  </thead>\n",
       "  <tbody>\n",
       "    <tr>\n",
       "      <th>0</th>\n",
       "      <td>lofreqSomatic</td>\n",
       "      <td>/big/results/bsm/2019-03-22-prec-recall/chr22/...</td>\n",
       "      <td>4759</td>\n",
       "      <td>90436</td>\n",
       "      <td>4751</td>\n",
       "      <td>0.998319</td>\n",
       "      <td>0.052534</td>\n",
       "      <td>snp</td>\n",
       "    </tr>\n",
       "    <tr>\n",
       "      <th>1</th>\n",
       "      <td>somaticSniper</td>\n",
       "      <td>/big/results/bsm/2019-03-22-prec-recall/chr22/...</td>\n",
       "      <td>15609</td>\n",
       "      <td>90436</td>\n",
       "      <td>13824</td>\n",
       "      <td>0.885643</td>\n",
       "      <td>0.152859</td>\n",
       "      <td>snp</td>\n",
       "    </tr>\n",
       "    <tr>\n",
       "      <th>2</th>\n",
       "      <td>strelka2Germline2s</td>\n",
       "      <td>/big/results/bsm/2019-03-22-prec-recall/chr22/...</td>\n",
       "      <td>53790</td>\n",
       "      <td>90436</td>\n",
       "      <td>53439</td>\n",
       "      <td>0.993475</td>\n",
       "      <td>0.590904</td>\n",
       "      <td>snp</td>\n",
       "    </tr>\n",
       "    <tr>\n",
       "      <th>3</th>\n",
       "      <td>strelka2Somatic</td>\n",
       "      <td>/big/results/bsm/2019-03-22-prec-recall/chr22/...</td>\n",
       "      <td>21152</td>\n",
       "      <td>90436</td>\n",
       "      <td>20723</td>\n",
       "      <td>0.979718</td>\n",
       "      <td>0.229145</td>\n",
       "      <td>snp</td>\n",
       "    </tr>\n",
       "    <tr>\n",
       "      <th>4</th>\n",
       "      <td>Tnseq</td>\n",
       "      <td>/big/results/bsm/2019-03-22-prec-recall/chr22/...</td>\n",
       "      <td>16062</td>\n",
       "      <td>90436</td>\n",
       "      <td>15628</td>\n",
       "      <td>0.972980</td>\n",
       "      <td>0.172807</td>\n",
       "      <td>snp</td>\n",
       "    </tr>\n",
       "    <tr>\n",
       "      <th>0</th>\n",
       "      <td>strelka2Germline2s</td>\n",
       "      <td>/big/results/bsm/2019-03-22-prec-recall/chr22/...</td>\n",
       "      <td>15188</td>\n",
       "      <td>24821</td>\n",
       "      <td>12714</td>\n",
       "      <td>0.837108</td>\n",
       "      <td>0.512228</td>\n",
       "      <td>indel</td>\n",
       "    </tr>\n",
       "    <tr>\n",
       "      <th>1</th>\n",
       "      <td>strelka2Somatic</td>\n",
       "      <td>/big/results/bsm/2019-03-22-prec-recall/chr22/...</td>\n",
       "      <td>1597</td>\n",
       "      <td>24821</td>\n",
       "      <td>1560</td>\n",
       "      <td>0.976832</td>\n",
       "      <td>0.062850</td>\n",
       "      <td>indel</td>\n",
       "    </tr>\n",
       "    <tr>\n",
       "      <th>2</th>\n",
       "      <td>Tnseq</td>\n",
       "      <td>/big/results/bsm/2019-03-22-prec-recall/chr22/...</td>\n",
       "      <td>1252</td>\n",
       "      <td>24821</td>\n",
       "      <td>1106</td>\n",
       "      <td>0.883387</td>\n",
       "      <td>0.044559</td>\n",
       "      <td>indel</td>\n",
       "    </tr>\n",
       "  </tbody>\n",
       "</table>\n",
       "</div>"
      ],
      "text/plain": [
       "              callset                                               path  \\\n",
       "0       lofreqSomatic  /big/results/bsm/2019-03-22-prec-recall/chr22/...   \n",
       "1       somaticSniper  /big/results/bsm/2019-03-22-prec-recall/chr22/...   \n",
       "2  strelka2Germline2s  /big/results/bsm/2019-03-22-prec-recall/chr22/...   \n",
       "3     strelka2Somatic  /big/results/bsm/2019-03-22-prec-recall/chr22/...   \n",
       "4               Tnseq  /big/results/bsm/2019-03-22-prec-recall/chr22/...   \n",
       "0  strelka2Germline2s  /big/results/bsm/2019-03-22-prec-recall/chr22/...   \n",
       "1     strelka2Somatic  /big/results/bsm/2019-03-22-prec-recall/chr22/...   \n",
       "2               Tnseq  /big/results/bsm/2019-03-22-prec-recall/chr22/...   \n",
       "\n",
       "       C      V     CV  precision    recall vartype  \n",
       "0   4759  90436   4751   0.998319  0.052534     snp  \n",
       "1  15609  90436  13824   0.885643  0.152859     snp  \n",
       "2  53790  90436  53439   0.993475  0.590904     snp  \n",
       "3  21152  90436  20723   0.979718  0.229145     snp  \n",
       "4  16062  90436  15628   0.972980  0.172807     snp  \n",
       "0  15188  24821  12714   0.837108  0.512228   indel  \n",
       "1   1597  24821   1560   0.976832  0.062850   indel  \n",
       "2   1252  24821   1106   0.883387  0.044559   indel  "
      ]
     },
     "execution_count": 4,
     "metadata": {},
     "output_type": "execute_result"
    }
   ],
   "source": [
    "csvs = {t:'~/projects/bsm/results/2019-03-22-prec-recall/chr22/' + t + '/prec-recall.csv' for t in ['snp', 'indel']}\n",
    "prs = {t: pd.read_csv('~/projects/bsm/results/2019-03-22-prec-recall/chr22/' + t + '/prec-recall.csv') for t in ['snp', 'indel']}\n",
    "prs = {t: pd.concat([prs[t], pd.DataFrame({'vartype': [t] * len(prs[t].index)}, dtype='category')], axis=1) for t in prs.keys()}\n",
    "prs = pd.concat(prs.values(), axis=0)\n",
    "prs"
   ]
  },
  {
   "cell_type": "code",
   "execution_count": 6,
   "metadata": {},
   "outputs": [
    {
     "data": {
      "text/plain": [
       "['named-figure/prec-recall-mix1-mix3.png',\n",
       " 'named-figure/prec-recall-mix1-mix3.pdf']"
      ]
     },
     "execution_count": 6,
     "metadata": {},
     "output_type": "execute_result"
    },
    {
     "data": {
      "image/png": "[encoded data removed]",
      "text/plain": [
       "<Figure size 940.9x360 with 2 Axes>"
      ]
     },
     "metadata": {},
     "output_type": "display_data"
    }
   ],
   "source": [
    "sns.set(style='whitegrid')\n",
    "sns.set_context('talk')\n",
    "g = sns.relplot(x='recall', y='precision', col='vartype', hue='callset', style='callset', s=150, data=prs)\n",
    "attila_utils.savefig(g, 'prec-recall-mix1-mix3')"
   ]
  },
  {
   "cell_type": "markdown",
   "metadata": {},
   "source": [
    "Comparing these left subplot (`vartype = snp`) to [Chaggai's results](https://www.synapse.org/#!Synapse:syn18463992) reveals some differences, which might be due to the following differences in calculating precision and recall:\n",
    "1. My plot above is based on the complete truth set while Chaggai's on the subset that contains only those variants for which individual NA12892 is homozygous.  This is probably the most important difference.\n",
    "1. For each CEPH/Utah grandparent I combined our germline callset with Illumina's by using union while Chaggai took the intersection.  Since the two sets overlap to a great extent, this doesn't seem to matter much.\n",
    "1. My filtering/treatment for various minor classes of variants using `bcftools` is likely to show differences from Chaggai's custom scripts."
   ]
  },
  {
   "cell_type": "code",
   "execution_count": null,
   "metadata": {},
   "outputs": [],
   "source": []
  }
 ],
 "metadata": {
  "kernelspec": {
   "display_name": "Python 3",
   "language": "python",
   "name": "python3"
  },
  "language_info": {
   "codemirror_mode": {
    "name": "ipython",
    "version": 3
   },
   "file_extension": ".py",
   "mimetype": "text/x-python",
   "name": "python",
   "nbconvert_exporter": "python",
   "pygments_lexer": "ipython3",
   "version": "3.5.3"
  }
 },
 "nbformat": 4,
 "nbformat_minor": 2
}
