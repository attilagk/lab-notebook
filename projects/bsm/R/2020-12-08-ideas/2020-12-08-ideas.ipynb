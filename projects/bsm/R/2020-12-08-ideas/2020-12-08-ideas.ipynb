{
 "cells": [
  {
   "cell_type": "markdown",
   "metadata": {},
   "source": [
    "Ideas that emerged often during reading papers."
   ]
  },
  {
   "cell_type": "markdown",
   "metadata": {},
   "source": [
    "# Ideas\n",
    "\n",
    "* gene sets\n",
    "    * neurodevelopmental read about synaptic maturation and SCZ aetiology\n",
    "    * CNVs rare and de novo small variants in SCZ\n",
    "    * genes expressed in the DLPFC: CMC data set?\n",
    "    * for a lot of gene sets see the supplementary materials in [The contribution of rare variants to risk of schizophrenia in individuals with and without intellectual disability](https://www.ncbi.nlm.nih.gov/pmc/articles/PMC5533219/)\n",
    "* related phenotypes\n",
    "    * ASD: include also ASD cases from Walsh lab data?\n",
    "    * Bipolar disorder: the most shared heritability with SCZ but no somatic variant data set\n",
    "* Gene Ontology\n",
    "    * research terms related to cellular component, molecular function, biological process that have been implicated in SCZ\n",
    "    * calculate enrichment of genes overlapping variants in GO categories for SCZ and Control variants\n",
    "* recurrence\n",
    "    * recurrent somatic mutations\n",
    "    * recurrent elements containing somatic mutations\n",
    "* common + rare variant risk additivity\n",
    "    * polygenic risk score (PRS) vs somatic variants with proposed risk for SCZ; our sample size is probably too small but we could talk to PRS experts\n",
    "* functional definitions\n",
    "    * loss of function LoF: stop-gain, splice, frameshift indels (see [SLC6A1 paper](https://www.ncbi.nlm.nih.gov/pmc/articles/PMC7007300/))\n",
    "    * LOEUF score, see [The mutational constraint spectrum gnomAD paper](https://www.nature.com/articles/s41586-020-2308-7#Sec12)\n",
    "* hypotheses, analyses: enrichent for somatic variants in SCZ?\n",
    "    * combine TF binding site annotation with nearest up or downstream gene and SCZ-related gene sets\n",
    "    * adult and *embryonic*\n",
    "    brain specific regulatory elements\n",
    "    * immune system (what are the relevant cell types in synaptic pruning?)\n",
    "    * expressed genes in the brain (general and brain-specific): CMC or GTEx see [omnigenic paper](https://www.ncbi.nlm.nih.gov/pmc/articles/PMC5536862)\n",
    "* allele frequency (AF)\n",
    "    * characterization\n",
    "    * use it as weight on functional variants"
   ]
  },
  {
   "cell_type": "code",
   "execution_count": null,
   "metadata": {},
   "outputs": [],
   "source": []
  }
 ],
 "metadata": {
  "kernelspec": {
   "display_name": "Python 3",
   "language": "python",
   "name": "python3"
  },
  "language_info": {
   "codemirror_mode": {
    "name": "ipython",
    "version": 3
   },
   "file_extension": ".py",
   "mimetype": "text/x-python",
   "name": "python",
   "nbconvert_exporter": "python",
   "pygments_lexer": "ipython3",
   "version": "3.7.6"
  }
 },
 "nbformat": 4,
 "nbformat_minor": 4
}
