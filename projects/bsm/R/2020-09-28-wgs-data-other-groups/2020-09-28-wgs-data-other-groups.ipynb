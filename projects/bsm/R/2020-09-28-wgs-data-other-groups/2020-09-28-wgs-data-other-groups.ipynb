{
 "cells": [
  {
   "cell_type": "markdown",
   "metadata": {},
   "source": [
    "Surveying data from other groups of the BSMN consortium that could be used to extend the control group of our schizophrenia study."
   ]
  },
  {
   "cell_type": "code",
   "execution_count": 1,
   "metadata": {},
   "outputs": [
    {
     "name": "stdout",
     "output_type": "stream",
     "text": [
      "Welcome, Attila Jones!\n",
      "\n"
     ]
    }
   ],
   "source": [
    "%load_ext autoreload\n",
    "%autoreload 2\n",
    "%reload_ext autoreload\n",
    "from matplotlib import pyplot as plt\n",
    "from IPython.core.display import HTML\n",
    "import pandas as pd\n",
    "import re\n",
    "import bsmnwgs\n",
    "import attila_utils"
   ]
  },
  {
   "cell_type": "code",
   "execution_count": 2,
   "metadata": {},
   "outputs": [],
   "source": [
    "synIDs = {'Gleeson': {'genomics_subject02': ['syn20570442'], 'nichd_btb02': ['syn20635486']},\n",
    "'Moran': {'genomics_subject02': ['syn18381371'], 'nichd_btb02': ['syn18381373']},\n",
    "'Pevsner': {'genomics_subject02': ['syn18433975'], 'nichd_btb02': ['syn18433976']},\n",
    "'Vaccarino': {'genomics_subject02': ['syn12031220'], 'nichd_btb02': ['syn12031303']},\n",
    "'Walsh': {'genomics_subject02': ['syn17227559'], 'nichd_btb02': ['syn17227560']},\n",
    "'Weinberger': {'genomics_subject02': ['syn16797371', 'syn21570709'], 'nichd_btb02': ['syn16797373', 'syn21570710']}}"
   ]
  },
  {
   "cell_type": "code",
   "execution_count": 3,
   "metadata": {},
   "outputs": [],
   "source": [
    "def get_manifest_type(mtype):\n",
    "    manifests = dict()\n",
    "    for PI, d in synIDs.items():\n",
    "        m = bsmnwgs.get_manifests(synids=d[mtype], project=PI, maniftype=mtype)\n",
    "        manifests.update({PI: m})\n",
    "    return(manifests)\n",
    "\n",
    "subject02s = get_manifest_type(mtype='genomics_subject02')\n",
    "btb02s = get_manifest_type(mtype='nichd_btb02')"
   ]
  },
  {
   "cell_type": "markdown",
   "metadata": {},
   "source": [
    "## Inspecting manifests\n",
    "\n",
    "Let's print the tail of both types of manifest for each PI!"
   ]
  },
  {
   "cell_type": "code",
   "execution_count": 4,
   "metadata": {},
   "outputs": [
    {
     "name": "stdout",
     "output_type": "stream",
     "text": [
      "Gleeson\n"
     ]
    },
    {
     "data": {
      "text/html": [
       "<table border=\"1\" class=\"dataframe\">\n",
       "  <thead>\n",
       "    <tr style=\"text-align: right;\">\n",
       "      <th></th>\n",
       "      <th>subjectkey</th>\n",
       "      <th>disorder</th>\n",
       "      <th>sample_id_original</th>\n",
       "      <th>celltype</th>\n",
       "      <th>br_reg</th>\n",
       "    </tr>\n",
       "  </thead>\n",
       "  <tbody>\n",
       "    <tr>\n",
       "      <th>20</th>\n",
       "      <td>NDARED547KHB</td>\n",
       "      <td>NaN</td>\n",
       "      <td>6102810951</td>\n",
       "      <td>NaN</td>\n",
       "      <td>NaN</td>\n",
       "    </tr>\n",
       "    <tr>\n",
       "      <th>21</th>\n",
       "      <td>NDARED547KHB</td>\n",
       "      <td>NaN</td>\n",
       "      <td>1269270133</td>\n",
       "      <td>NaN</td>\n",
       "      <td>NaN</td>\n",
       "    </tr>\n",
       "    <tr>\n",
       "      <th>22</th>\n",
       "      <td>NDARED547KHB</td>\n",
       "      <td>NaN</td>\n",
       "      <td>9244521147</td>\n",
       "      <td>NaN</td>\n",
       "      <td>prefrontal cortex</td>\n",
       "    </tr>\n",
       "    <tr>\n",
       "      <th>23</th>\n",
       "      <td>NDARED547KHB</td>\n",
       "      <td>NaN</td>\n",
       "      <td>6932213467</td>\n",
       "      <td>NaN</td>\n",
       "      <td>occipital cortex</td>\n",
       "    </tr>\n",
       "    <tr>\n",
       "      <th>24</th>\n",
       "      <td>NDARED547KHB</td>\n",
       "      <td>NaN</td>\n",
       "      <td>9492138871</td>\n",
       "      <td>NaN</td>\n",
       "      <td>NaN</td>\n",
       "    </tr>\n",
       "  </tbody>\n",
       "</table>"
      ],
      "text/plain": [
       "<IPython.core.display.HTML object>"
      ]
     },
     "metadata": {},
     "output_type": "display_data"
    },
    {
     "data": {
      "text/html": [
       "<table border=\"1\" class=\"dataframe\">\n",
       "  <thead>\n",
       "    <tr style=\"text-align: right;\">\n",
       "      <th></th>\n",
       "      <th>subjectkey</th>\n",
       "      <th>phenotype</th>\n",
       "      <th>sample_description</th>\n",
       "    </tr>\n",
       "  </thead>\n",
       "  <tbody>\n",
       "    <tr>\n",
       "      <th>0</th>\n",
       "      <td>NDARED547KHB</td>\n",
       "      <td>Global Geriatric Decline</td>\n",
       "      <td>brain</td>\n",
       "    </tr>\n",
       "  </tbody>\n",
       "</table>"
      ],
      "text/plain": [
       "<IPython.core.display.HTML object>"
      ]
     },
     "metadata": {},
     "output_type": "display_data"
    },
    {
     "name": "stdout",
     "output_type": "stream",
     "text": [
      "\n",
      "\n",
      "Moran\n"
     ]
    },
    {
     "data": {
      "text/html": [
       "<table border=\"1\" class=\"dataframe\">\n",
       "  <thead>\n",
       "    <tr style=\"text-align: right;\">\n",
       "      <th></th>\n",
       "      <th>subjectkey</th>\n",
       "      <th>disorder</th>\n",
       "      <th>sample_id_original</th>\n",
       "      <th>celltype</th>\n",
       "      <th>br_reg</th>\n",
       "    </tr>\n",
       "  </thead>\n",
       "  <tbody>\n",
       "    <tr>\n",
       "      <th>5</th>\n",
       "      <td>NDARGV580CWV</td>\n",
       "      <td>Control</td>\n",
       "      <td>Br5415</td>\n",
       "      <td>NaN</td>\n",
       "      <td>cerebellum</td>\n",
       "    </tr>\n",
       "    <tr>\n",
       "      <th>6</th>\n",
       "      <td>NDAREU049CBP</td>\n",
       "      <td>Control</td>\n",
       "      <td>Br5459</td>\n",
       "      <td>NaN</td>\n",
       "      <td>cerebellum</td>\n",
       "    </tr>\n",
       "    <tr>\n",
       "      <th>7</th>\n",
       "      <td>NDARRX596NEB</td>\n",
       "      <td>Schizophrenia</td>\n",
       "      <td>Br5475</td>\n",
       "      <td>NaN</td>\n",
       "      <td>cerebellum</td>\n",
       "    </tr>\n",
       "    <tr>\n",
       "      <th>8</th>\n",
       "      <td>NDARRH300TMK</td>\n",
       "      <td>Schizophrenia</td>\n",
       "      <td>Br5485</td>\n",
       "      <td>NaN</td>\n",
       "      <td>cerebellum</td>\n",
       "    </tr>\n",
       "    <tr>\n",
       "      <th>9</th>\n",
       "      <td>NDARRY635XWH</td>\n",
       "      <td>Schizophrenia</td>\n",
       "      <td>Br5488</td>\n",
       "      <td>NaN</td>\n",
       "      <td>cerebellum</td>\n",
       "    </tr>\n",
       "  </tbody>\n",
       "</table>"
      ],
      "text/plain": [
       "<IPython.core.display.HTML object>"
      ]
     },
     "metadata": {},
     "output_type": "display_data"
    },
    {
     "data": {
      "text/html": [
       "<table border=\"1\" class=\"dataframe\">\n",
       "  <thead>\n",
       "    <tr style=\"text-align: right;\">\n",
       "      <th></th>\n",
       "      <th>subjectkey</th>\n",
       "      <th>phenotype</th>\n",
       "      <th>sample_description</th>\n",
       "    </tr>\n",
       "  </thead>\n",
       "  <tbody>\n",
       "    <tr>\n",
       "      <th>5</th>\n",
       "      <td>NDARGV580CWV</td>\n",
       "      <td>Control</td>\n",
       "      <td>cerebellum</td>\n",
       "    </tr>\n",
       "    <tr>\n",
       "      <th>6</th>\n",
       "      <td>NDAREU049CBP</td>\n",
       "      <td>Control</td>\n",
       "      <td>cerebellum</td>\n",
       "    </tr>\n",
       "    <tr>\n",
       "      <th>7</th>\n",
       "      <td>NDARRX596NEB</td>\n",
       "      <td>Schizophrenia</td>\n",
       "      <td>cerebellum</td>\n",
       "    </tr>\n",
       "    <tr>\n",
       "      <th>8</th>\n",
       "      <td>NDARRH300TMK</td>\n",
       "      <td>Schizophrenia</td>\n",
       "      <td>cerebellum</td>\n",
       "    </tr>\n",
       "    <tr>\n",
       "      <th>9</th>\n",
       "      <td>NDARRY635XWH</td>\n",
       "      <td>Schizophrenia</td>\n",
       "      <td>cerebellum</td>\n",
       "    </tr>\n",
       "  </tbody>\n",
       "</table>"
      ],
      "text/plain": [
       "<IPython.core.display.HTML object>"
      ]
     },
     "metadata": {},
     "output_type": "display_data"
    },
    {
     "name": "stdout",
     "output_type": "stream",
     "text": [
      "\n",
      "\n",
      "Pevsner\n"
     ]
    },
    {
     "data": {
      "text/html": [
       "<table border=\"1\" class=\"dataframe\">\n",
       "  <thead>\n",
       "    <tr style=\"text-align: right;\">\n",
       "      <th></th>\n",
       "      <th>subjectkey</th>\n",
       "      <th>disorder</th>\n",
       "      <th>sample_id_original</th>\n",
       "      <th>celltype</th>\n",
       "      <th>br_reg</th>\n",
       "    </tr>\n",
       "  </thead>\n",
       "  <tbody>\n",
       "    <tr>\n",
       "      <th>24</th>\n",
       "      <td>NDAR_INV51J7Y022</td>\n",
       "      <td>No Diagnosis on Axis I</td>\n",
       "      <td>Br2080</td>\n",
       "      <td>NaN</td>\n",
       "      <td>NaN</td>\n",
       "    </tr>\n",
       "    <tr>\n",
       "      <th>25</th>\n",
       "      <td>NDAR_INVY99VUP0G</td>\n",
       "      <td>Bipolar I MRE Manic Psychotic</td>\n",
       "      <td>Br2238</td>\n",
       "      <td>NaN</td>\n",
       "      <td>NaN</td>\n",
       "    </tr>\n",
       "    <tr>\n",
       "      <th>26</th>\n",
       "      <td>NDAR_INV9VKLJAM4</td>\n",
       "      <td>No Diagnosis on Axis I</td>\n",
       "      <td>Br2257</td>\n",
       "      <td>NaN</td>\n",
       "      <td>NaN</td>\n",
       "    </tr>\n",
       "    <tr>\n",
       "      <th>27</th>\n",
       "      <td>NDAR_INV9VE3YNDH</td>\n",
       "      <td>Bipolar I MRE Depressed Psychotic</td>\n",
       "      <td>Br2269</td>\n",
       "      <td>NaN</td>\n",
       "      <td>NaN</td>\n",
       "    </tr>\n",
       "    <tr>\n",
       "      <th>28</th>\n",
       "      <td>NDAR_INV6RXY2HC3</td>\n",
       "      <td>No Diagnosis on Axis I</td>\n",
       "      <td>Br2288</td>\n",
       "      <td>NaN</td>\n",
       "      <td>NaN</td>\n",
       "    </tr>\n",
       "  </tbody>\n",
       "</table>"
      ],
      "text/plain": [
       "<IPython.core.display.HTML object>"
      ]
     },
     "metadata": {},
     "output_type": "display_data"
    },
    {
     "data": {
      "text/html": [
       "<table border=\"1\" class=\"dataframe\">\n",
       "  <thead>\n",
       "    <tr style=\"text-align: right;\">\n",
       "      <th></th>\n",
       "      <th>subjectkey</th>\n",
       "      <th>phenotype</th>\n",
       "      <th>sample_description</th>\n",
       "    </tr>\n",
       "  </thead>\n",
       "  <tbody>\n",
       "    <tr>\n",
       "      <th>24</th>\n",
       "      <td>NDAR_INV51J7Y022</td>\n",
       "      <td>No Diagnosis on Axis I</td>\n",
       "      <td>frontal cortex</td>\n",
       "    </tr>\n",
       "    <tr>\n",
       "      <th>25</th>\n",
       "      <td>NDAR_INVY99VUP0G</td>\n",
       "      <td>Bipolar I MRE Manic Psychotic, Alcohol Abuse</td>\n",
       "      <td>frontal cortex</td>\n",
       "    </tr>\n",
       "    <tr>\n",
       "      <th>26</th>\n",
       "      <td>NDAR_INV9VKLJAM4</td>\n",
       "      <td>No Diagnosis on Axis I</td>\n",
       "      <td>frontal cortex</td>\n",
       "    </tr>\n",
       "    <tr>\n",
       "      <th>27</th>\n",
       "      <td>NDAR_INV9VE3YNDH</td>\n",
       "      <td>Bipolar I MRE Depressed Psychotic, Opioid Dependence</td>\n",
       "      <td>frontal cortex</td>\n",
       "    </tr>\n",
       "    <tr>\n",
       "      <th>28</th>\n",
       "      <td>NDAR_INV6RXY2HC3</td>\n",
       "      <td>No Diagnosis on Axis I</td>\n",
       "      <td>frontal cortex</td>\n",
       "    </tr>\n",
       "  </tbody>\n",
       "</table>"
      ],
      "text/plain": [
       "<IPython.core.display.HTML object>"
      ]
     },
     "metadata": {},
     "output_type": "display_data"
    },
    {
     "name": "stdout",
     "output_type": "stream",
     "text": [
      "\n",
      "\n",
      "Vaccarino\n"
     ]
    },
    {
     "data": {
      "text/html": [
       "<table border=\"1\" class=\"dataframe\">\n",
       "  <thead>\n",
       "    <tr style=\"text-align: right;\">\n",
       "      <th></th>\n",
       "      <th>subjectkey</th>\n",
       "      <th>disorder</th>\n",
       "      <th>sample_id_original</th>\n",
       "      <th>celltype</th>\n",
       "      <th>br_reg</th>\n",
       "    </tr>\n",
       "  </thead>\n",
       "  <tbody>\n",
       "    <tr>\n",
       "      <th>22</th>\n",
       "      <td>NDAR_INVEUAH999H</td>\n",
       "      <td>Normal</td>\n",
       "      <td>7087-CDPT</td>\n",
       "      <td>bulk</td>\n",
       "      <td>putamen_caudate</td>\n",
       "    </tr>\n",
       "    <tr>\n",
       "      <th>23</th>\n",
       "      <td>NDAR_INV260ECBT8</td>\n",
       "      <td>Normal</td>\n",
       "      <td>5813-BA6FA</td>\n",
       "      <td>bulk</td>\n",
       "      <td>cortex</td>\n",
       "    </tr>\n",
       "    <tr>\n",
       "      <th>24</th>\n",
       "      <td>NDAR_INV260ECBT8</td>\n",
       "      <td>Normal</td>\n",
       "      <td>5813-CDPT</td>\n",
       "      <td>bulk</td>\n",
       "      <td>putamen_caudate</td>\n",
       "    </tr>\n",
       "    <tr>\n",
       "      <th>25</th>\n",
       "      <td>NDAR_INVRD5V510Y</td>\n",
       "      <td>Normal</td>\n",
       "      <td>3932-CDPT</td>\n",
       "      <td>bulk</td>\n",
       "      <td>putamen_caudate</td>\n",
       "    </tr>\n",
       "    <tr>\n",
       "      <th>26</th>\n",
       "      <td>NDAR_INVZFPD5Z6V</td>\n",
       "      <td>Normal</td>\n",
       "      <td>5873-CDPT</td>\n",
       "      <td>bulk</td>\n",
       "      <td>putamen_caudate</td>\n",
       "    </tr>\n",
       "  </tbody>\n",
       "</table>"
      ],
      "text/plain": [
       "<IPython.core.display.HTML object>"
      ]
     },
     "metadata": {},
     "output_type": "display_data"
    },
    {
     "data": {
      "text/html": [
       "<table border=\"1\" class=\"dataframe\">\n",
       "  <thead>\n",
       "    <tr style=\"text-align: right;\">\n",
       "      <th></th>\n",
       "      <th>subjectkey</th>\n",
       "      <th>phenotype</th>\n",
       "      <th>sample_description</th>\n",
       "    </tr>\n",
       "  </thead>\n",
       "  <tbody>\n",
       "    <tr>\n",
       "      <th>11</th>\n",
       "      <td>NDAR_INVDNRXJ41X</td>\n",
       "      <td>control</td>\n",
       "      <td>brain</td>\n",
       "    </tr>\n",
       "    <tr>\n",
       "      <th>12</th>\n",
       "      <td>NDAR_INVEUAH999H</td>\n",
       "      <td>control</td>\n",
       "      <td>brain</td>\n",
       "    </tr>\n",
       "    <tr>\n",
       "      <th>13</th>\n",
       "      <td>NDAR_INV260ECBT8</td>\n",
       "      <td>control</td>\n",
       "      <td>brain</td>\n",
       "    </tr>\n",
       "    <tr>\n",
       "      <th>14</th>\n",
       "      <td>NDAR_INVRD5V510Y</td>\n",
       "      <td>control</td>\n",
       "      <td>brain</td>\n",
       "    </tr>\n",
       "    <tr>\n",
       "      <th>15</th>\n",
       "      <td>NDAR_INVZFPD5Z6V</td>\n",
       "      <td>control</td>\n",
       "      <td>brain</td>\n",
       "    </tr>\n",
       "  </tbody>\n",
       "</table>"
      ],
      "text/plain": [
       "<IPython.core.display.HTML object>"
      ]
     },
     "metadata": {},
     "output_type": "display_data"
    },
    {
     "name": "stdout",
     "output_type": "stream",
     "text": [
      "\n",
      "\n",
      "Walsh\n"
     ]
    },
    {
     "data": {
      "text/html": [
       "<table border=\"1\" class=\"dataframe\">\n",
       "  <thead>\n",
       "    <tr style=\"text-align: right;\">\n",
       "      <th></th>\n",
       "      <th>subjectkey</th>\n",
       "      <th>disorder</th>\n",
       "      <th>sample_id_original</th>\n",
       "      <th>celltype</th>\n",
       "      <th>br_reg</th>\n",
       "    </tr>\n",
       "  </thead>\n",
       "  <tbody>\n",
       "    <tr>\n",
       "      <th>74</th>\n",
       "      <td>NDAR_INVMR608HT9</td>\n",
       "      <td>NaN</td>\n",
       "      <td>UMB5939F</td>\n",
       "      <td>saliva</td>\n",
       "      <td>NaN</td>\n",
       "    </tr>\n",
       "    <tr>\n",
       "      <th>75</th>\n",
       "      <td>NDAR_INVLA347WBF</td>\n",
       "      <td>NaN</td>\n",
       "      <td>UMB5939M</td>\n",
       "      <td>saliva</td>\n",
       "      <td>NaN</td>\n",
       "    </tr>\n",
       "    <tr>\n",
       "      <th>76</th>\n",
       "      <td>NDARYX624FEY</td>\n",
       "      <td>NaN</td>\n",
       "      <td>UMB797</td>\n",
       "      <td>frontal cortex</td>\n",
       "      <td>NaN</td>\n",
       "    </tr>\n",
       "    <tr>\n",
       "      <th>77</th>\n",
       "      <td>NDAR_INVTN706HNW</td>\n",
       "      <td>NaN</td>\n",
       "      <td>UMB818</td>\n",
       "      <td>frontal cortex</td>\n",
       "      <td>NaN</td>\n",
       "    </tr>\n",
       "    <tr>\n",
       "      <th>78</th>\n",
       "      <td>NDAR_INVVH788TM6</td>\n",
       "      <td>NaN</td>\n",
       "      <td>UMB914</td>\n",
       "      <td>frontal cortex</td>\n",
       "      <td>NaN</td>\n",
       "    </tr>\n",
       "  </tbody>\n",
       "</table>"
      ],
      "text/plain": [
       "<IPython.core.display.HTML object>"
      ]
     },
     "metadata": {},
     "output_type": "display_data"
    },
    {
     "data": {
      "text/html": [
       "<table border=\"1\" class=\"dataframe\">\n",
       "  <thead>\n",
       "    <tr style=\"text-align: right;\">\n",
       "      <th></th>\n",
       "      <th>subjectkey</th>\n",
       "      <th>phenotype</th>\n",
       "      <th>sample_description</th>\n",
       "    </tr>\n",
       "  </thead>\n",
       "  <tbody>\n",
       "    <tr>\n",
       "      <th>74</th>\n",
       "      <td>NDAR_INVMR608HT9</td>\n",
       "      <td>Normal</td>\n",
       "      <td>saliva</td>\n",
       "    </tr>\n",
       "    <tr>\n",
       "      <th>75</th>\n",
       "      <td>NDAR_INVLA347WBF</td>\n",
       "      <td>Normal</td>\n",
       "      <td>saliva</td>\n",
       "    </tr>\n",
       "    <tr>\n",
       "      <th>76</th>\n",
       "      <td>NDARYX624FEY</td>\n",
       "      <td>Autism</td>\n",
       "      <td>frontal cortex</td>\n",
       "    </tr>\n",
       "    <tr>\n",
       "      <th>77</th>\n",
       "      <td>NDAR_INVTN706HNW</td>\n",
       "      <td>Normal</td>\n",
       "      <td>frontal cortex</td>\n",
       "    </tr>\n",
       "    <tr>\n",
       "      <th>78</th>\n",
       "      <td>NDAR_INVVH788TM6</td>\n",
       "      <td>Normal</td>\n",
       "      <td>frontal cortex</td>\n",
       "    </tr>\n",
       "  </tbody>\n",
       "</table>"
      ],
      "text/plain": [
       "<IPython.core.display.HTML object>"
      ]
     },
     "metadata": {},
     "output_type": "display_data"
    },
    {
     "name": "stdout",
     "output_type": "stream",
     "text": [
      "\n",
      "\n",
      "Weinberger\n"
     ]
    },
    {
     "data": {
      "text/html": [
       "<table border=\"1\" class=\"dataframe\">\n",
       "  <thead>\n",
       "    <tr style=\"text-align: right;\">\n",
       "      <th></th>\n",
       "      <th>subjectkey</th>\n",
       "      <th>disorder</th>\n",
       "      <th>sample_id_original</th>\n",
       "      <th>celltype</th>\n",
       "      <th>br_reg</th>\n",
       "    </tr>\n",
       "  </thead>\n",
       "  <tbody>\n",
       "    <tr>\n",
       "      <th>82</th>\n",
       "      <td>NDARRT904HJE</td>\n",
       "      <td>NaN</td>\n",
       "      <td>Br5660_tripleneg</td>\n",
       "      <td>NaN</td>\n",
       "      <td>DLPFC</td>\n",
       "    </tr>\n",
       "    <tr>\n",
       "      <th>83</th>\n",
       "      <td>NDARUB276TVW</td>\n",
       "      <td>NaN</td>\n",
       "      <td>Br5888_MBPpos</td>\n",
       "      <td>NaN</td>\n",
       "      <td>DLPFC</td>\n",
       "    </tr>\n",
       "    <tr>\n",
       "      <th>84</th>\n",
       "      <td>NDARUB276TVW</td>\n",
       "      <td>NaN</td>\n",
       "      <td>Br5888_SLC17A7pos</td>\n",
       "      <td>NaN</td>\n",
       "      <td>DLPFC</td>\n",
       "    </tr>\n",
       "    <tr>\n",
       "      <th>85</th>\n",
       "      <td>NDARUB276TVW</td>\n",
       "      <td>NaN</td>\n",
       "      <td>Br5888_SNAP25pos</td>\n",
       "      <td>NaN</td>\n",
       "      <td>DLPFC</td>\n",
       "    </tr>\n",
       "    <tr>\n",
       "      <th>86</th>\n",
       "      <td>NDARUB276TVW</td>\n",
       "      <td>NaN</td>\n",
       "      <td>Br5888_tripleneg</td>\n",
       "      <td>NaN</td>\n",
       "      <td>DLPFC</td>\n",
       "    </tr>\n",
       "  </tbody>\n",
       "</table>"
      ],
      "text/plain": [
       "<IPython.core.display.HTML object>"
      ]
     },
     "metadata": {},
     "output_type": "display_data"
    },
    {
     "data": {
      "text/html": [
       "<table border=\"1\" class=\"dataframe\">\n",
       "  <thead>\n",
       "    <tr style=\"text-align: right;\">\n",
       "      <th></th>\n",
       "      <th>subjectkey</th>\n",
       "      <th>phenotype</th>\n",
       "      <th>sample_description</th>\n",
       "    </tr>\n",
       "  </thead>\n",
       "  <tbody>\n",
       "    <tr>\n",
       "      <th>17</th>\n",
       "      <td>NDARUG441NXW</td>\n",
       "      <td>Schizophrenia</td>\n",
       "      <td>brain</td>\n",
       "    </tr>\n",
       "    <tr>\n",
       "      <th>18</th>\n",
       "      <td>NDARRX596NEB</td>\n",
       "      <td>Schizophrenia</td>\n",
       "      <td>brain</td>\n",
       "    </tr>\n",
       "    <tr>\n",
       "      <th>19</th>\n",
       "      <td>NDARRY635XWH</td>\n",
       "      <td>Schizophrenia</td>\n",
       "      <td>brain</td>\n",
       "    </tr>\n",
       "    <tr>\n",
       "      <th>20</th>\n",
       "      <td>NDARRT904HJE</td>\n",
       "      <td>Control</td>\n",
       "      <td>brain</td>\n",
       "    </tr>\n",
       "    <tr>\n",
       "      <th>21</th>\n",
       "      <td>NDARUB276TVW</td>\n",
       "      <td>Schizophrenia</td>\n",
       "      <td>brain</td>\n",
       "    </tr>\n",
       "  </tbody>\n",
       "</table>"
      ],
      "text/plain": [
       "<IPython.core.display.HTML object>"
      ]
     },
     "metadata": {},
     "output_type": "display_data"
    },
    {
     "name": "stdout",
     "output_type": "stream",
     "text": [
      "\n",
      "\n"
     ]
    }
   ],
   "source": [
    "bcols = ['subjectkey', 'disorder', 'sample_id_original', 'celltype', 'br_reg']\n",
    "scols = ['subjectkey', 'phenotype', 'sample_description']\n",
    "for PI in btb02s.keys():\n",
    "    print(PI)\n",
    "    m = btb02s[PI]\n",
    "    display(HTML(m.tail().loc[:, bcols].to_html()))\n",
    "    #print('\\n')\n",
    "    m = subject02s[PI]\n",
    "    display(HTML(m.tail().loc[:, scols].to_html()))\n",
    "    print('\\n')"
   ]
  },
  {
   "cell_type": "markdown",
   "metadata": {},
   "source": [
    "## Number of control samples\n",
    "### The Chess data set"
   ]
  },
  {
   "cell_type": "code",
   "execution_count": 5,
   "metadata": {},
   "outputs": [],
   "source": [
    "nctr = {'Chess': 25}\n",
    "ncas = {'Chess': 61}"
   ]
  },
  {
   "cell_type": "markdown",
   "metadata": {},
   "source": [
    "### The Gleeson data set"
   ]
  },
  {
   "cell_type": "code",
   "execution_count": 6,
   "metadata": {},
   "outputs": [],
   "source": [
    "nctr.update({'Gleeson': 0})\n",
    "ncas.update({'Gleeson': 1})"
   ]
  },
  {
   "cell_type": "markdown",
   "metadata": {},
   "source": [
    "### The Moran data set\n",
    "This consists of only cerebellar samples"
   ]
  },
  {
   "cell_type": "code",
   "execution_count": 7,
   "metadata": {},
   "outputs": [],
   "source": [
    "all(btb02s['Moran']['br_reg'] == 'cerebellum')\n",
    "nctr.update({'Moran (cerebellum)': 5})\n",
    "ncas.update({'Moran (cerebellum)': 5})"
   ]
  },
  {
   "cell_type": "markdown",
   "metadata": {},
   "source": [
    "### The Pevsner data set\n",
    "Number of control individuals"
   ]
  },
  {
   "cell_type": "code",
   "execution_count": 8,
   "metadata": {},
   "outputs": [],
   "source": [
    "nctr.update({'Pevsner (WES)': sum((subject02s['Pevsner']['phenotype'] == 'No Diagnosis on Axis I'))})\n",
    "ncas.update({'Pevsner (WES)': sum((subject02s['Pevsner']['phenotype'] != 'No Diagnosis on Axis I'))})"
   ]
  },
  {
   "cell_type": "markdown",
   "metadata": {},
   "source": [
    "### The Vaccarino data set"
   ]
  },
  {
   "cell_type": "code",
   "execution_count": 9,
   "metadata": {},
   "outputs": [],
   "source": [
    "vb = btb02s['Vaccarino']\n",
    "nctr.update({'Vaccarino': sum((vb['disorder'] == 'Normal') & (vb['br_reg'] == 'cortex'))})\n",
    "ncas.update({'Vaccarino': sum((vb['disorder'] != 'Normal') & (vb['br_reg'] == 'cortex'))})"
   ]
  },
  {
   "cell_type": "markdown",
   "metadata": {},
   "source": [
    "### The Walsh data set"
   ]
  },
  {
   "cell_type": "code",
   "execution_count": 10,
   "metadata": {},
   "outputs": [],
   "source": [
    "wab = btb02s['Walsh']\n",
    "was = subject02s['Walsh']\n",
    "\n",
    "def count_walsh(phenotype='Normal'):\n",
    "    group = was.loc[was['phenotype'] == phenotype, 'subjectkey']\n",
    "    rows = wab['subjectkey'].isin(group) & (wab['celltype'] == 'frontal cortex')\n",
    "    return(sum(rows))\n",
    "\n",
    "#controls = was.loc[was['phenotype'] == 'Normal', 'subjectkey']\n",
    "#rows = wab['subjectkey'].isin(controls) & (wab['celltype'] == 'frontal cortex')\n",
    "nctr.update({'Walsh': count_walsh('Normal')})\n",
    "ncas.update({'Walsh': count_walsh('Autism')})"
   ]
  },
  {
   "cell_type": "markdown",
   "metadata": {},
   "source": [
    "### The Weinberger data set\n",
    "\n",
    "Samples from the DLPFC were further classified according to three markers:\n",
    "\n",
    "* [MBP](https://en.wikipedia.org/wiki/Myelin_basic_protein), myelin basic protein\n",
    "* [SLC17A7](https://en.wikipedia.org/wiki/Vesicular_glutamate_transporter_1), vesicular glutamate transporter 1\n",
    "* [SNAP25](https://en.wikipedia.org/wiki/SNAP25), Synaptosomal-Associated Protein, 25kDa"
   ]
  },
  {
   "cell_type": "code",
   "execution_count": 11,
   "metadata": {},
   "outputs": [],
   "source": [
    "web = btb02s['Weinberger']\n",
    "wes = subject02s['Weinberger']\n",
    "\n",
    "def get_positives(marker='MBP'):\n",
    "    matchstr = '^.*' + marker + 'pos'\n",
    "    positives = [bool(re.match(matchstr, x)) for x in web['sample_id_original']]\n",
    "    return(positives)\n",
    "\n",
    "def count_weinberger(phenotype='Control', marker='MBP'):\n",
    "    controls = wes.loc[wes['phenotype'] == phenotype, 'subjectkey']\n",
    "    rows = web['subjectkey'].isin(controls) & (web['br_reg'] == 'DLPFC')\n",
    "    return(sum(rows & get_positives(marker)))\n",
    "\n",
    "nctr.update({'Weinberger_MBP': count_weinberger('Control', 'MBP')})\n",
    "nctr.update({'Weinberger_SLC17A7': count_weinberger('Control', 'SLC17A7')})\n",
    "nctr.update({'Weinberger_SNAP25': count_weinberger('Control', 'SNAP25')})\n",
    "\n",
    "ncas.update({'Weinberger_MBP': count_weinberger('Schizophrenia', 'MBP')})\n",
    "ncas.update({'Weinberger_SLC17A7': count_weinberger('Schizophrenia', 'SLC17A7')})\n",
    "ncas.update({'Weinberger_SNAP25': count_weinberger('Schizophrenia', 'SNAP25')})"
   ]
  },
  {
   "cell_type": "code",
   "execution_count": 12,
   "metadata": {},
   "outputs": [
    {
     "data": {
      "text/plain": [
       "['named-figure/bsmn-case-control-ssizes.png',\n",
       " 'named-figure/bsmn-case-control-ssizes.pdf']"
      ]
     },
     "execution_count": 12,
     "metadata": {},
     "output_type": "execute_result"
    },
    {
     "data": {
      "image/png": "[encoded data removed]",
      "text/plain": [
       "<Figure size 432x288 with 1 Axes>"
      ]
     },
     "metadata": {
      "needs_background": "light"
     },
     "output_type": "display_data"
    }
   ],
   "source": [
    "df = pd.DataFrame({'Control': nctr, 'Case': ncas})\n",
    "# remove the Pevsner data set since it's WES and not WGS\n",
    "df = df.loc[df.index != 'Pevsner (WES)']\n",
    "fig, ax = plt.subplots(figsize=(6, 4))\n",
    "ax = df.plot(kind='barh', ax=ax)\n",
    "ax.set_xlabel('sequenced cortical samples')\n",
    "attila_utils.savefig(fig, 'bsmn-case-control-ssizes')"
   ]
  },
  {
   "cell_type": "markdown",
   "metadata": {},
   "source": [
    "## Summary\n",
    "\n",
    "The tails (above) and the entire contents of the manifests reveal that\n",
    "\n",
    "* The Gleeson data set may be excluded because it's based on a single individual with Global Geriatric Decline\n",
    "* The Moran data set is also to be excluded because it's only from cerebellar samples\n",
    "* The Pevsner data set contains 10 frontal cortex samples from control individuals\n",
    "* The Walsh data set has 15 frontal cortex samples, each from a distinct control individual\n",
    "* The Weinberger DLPFC control samples are marked by one of three neuronal markers (or are marked as triple negative).  **TODO**: Find out which of those samples might be useful! "
   ]
  },
  {
   "cell_type": "code",
   "execution_count": 13,
   "metadata": {},
   "outputs": [
    {
     "name": "stdout",
     "output_type": "stream",
     "text": [
      "{\n",
      "  \"shell_port\": 33381,\n",
      "  \"iopub_port\": 44225,\n",
      "  \"stdin_port\": 44467,\n",
      "  \"control_port\": 57993,\n",
      "  \"hb_port\": 37143,\n",
      "  \"ip\": \"127.0.0.1\",\n",
      "  \"key\": \"07fef17c-b6a9da8331904a6656bbd8af\",\n",
      "  \"transport\": \"tcp\",\n",
      "  \"signature_scheme\": \"hmac-sha256\",\n",
      "  \"kernel_name\": \"\"\n",
      "}\n",
      "\n",
      "Paste the above JSON into a file, and connect with:\n",
      "    $> jupyter <app> --existing <file>\n",
      "or, if you are local, you can connect with just:\n",
      "    $> jupyter <app> --existing kernel-391b6fe8-d9a1-4372-9a1f-08b383eaea2a.json\n",
      "or even just:\n",
      "    $> jupyter <app> --existing\n",
      "if this is the most recent Jupyter kernel you have started.\n"
     ]
    }
   ],
   "source": [
    "%connect_info"
   ]
  },
  {
   "cell_type": "code",
   "execution_count": null,
   "metadata": {},
   "outputs": [],
   "source": []
  }
 ],
 "metadata": {
  "kernelspec": {
   "display_name": "Python 3",
   "language": "python",
   "name": "python3"
  },
  "language_info": {
   "codemirror_mode": {
    "name": "ipython",
    "version": 3
   },
   "file_extension": ".py",
   "mimetype": "text/x-python",
   "name": "python",
   "nbconvert_exporter": "python",
   "pygments_lexer": "ipython3",
   "version": "3.7.6"
  }
 },
 "nbformat": 4,
 "nbformat_minor": 4
}
