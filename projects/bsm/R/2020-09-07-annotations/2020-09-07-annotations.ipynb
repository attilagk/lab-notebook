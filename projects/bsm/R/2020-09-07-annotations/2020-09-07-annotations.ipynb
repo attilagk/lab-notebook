{
 "cells": [
  {
   "cell_type": "markdown",
   "metadata": {},
   "source": [
    "Addig annotations from SNPnexus output files"
   ]
  },
  {
   "cell_type": "code",
   "execution_count": 1,
   "metadata": {},
   "outputs": [],
   "source": [
    "%load_ext autoreload\n",
    "%autoreload 2\n",
    "%reload_ext autoreload\n",
    "from matplotlib import pyplot as plt\n",
    "import statsmodels.api as sm\n",
    "import statsmodels.formula.api as smf\n",
    "from bsmcalls import individuals\n",
    "from bsmcalls import readVCF\n",
    "from bsmcalls import SNPnexus\n",
    "from bsmcalls import operations\n",
    "from bsmcalls import preprocessing\n",
    "import pandas as pd\n",
    "import numpy as np\n",
    "import re\n",
    "import pickle\n",
    "import os.path\n",
    "import attila_utils\n",
    "%matplotlib inline"
   ]
  },
  {
   "cell_type": "markdown",
   "metadata": {},
   "source": [
    "## Annotation with SNPnexus\n",
    "[SNPnexus](https://www.snp-nexus.org/v4/) is a recently updated web service that uses numerous databases to annotate human genomic variants (see [this article](https://academic.oup.com/nar/article/48/W1/W185/5851388)).  The short sections below present information regarding the way I used SNPnexus to annotate our somatic variant calls.  The following settings were used:\n",
    "\n",
    "* Human Assembly: GRCh37/hg19\n",
    "* filtered VCF files were uploaded\n",
    "* all annotation categories were selected\n",
    "* *TXT per annotation*\n",
    "\n",
    "### Overlapping genes\n",
    "A key annotation of *Overlapped and Nearest Genes*, stored in the `near_gens.txt` output file of SNPnexus.  Each variant is overlapped by zero, one or more genes. In the last case two or more genes overlap each other around the given variant and `near_gens.txt` lists the same variant in multiple rows corresponding to the multiple overlapping genes. Since my `calls` DataFrame must contain exactly one row for each variant I collapsed those multiple rows into one by listing the overlapping genes in a single colon (`:`) separated string.\n",
    "\n",
    "[This article](https://www.nature.com/articles/s41598-019-49802-w) presents a study of overlapping genes and shows that sometimes more than 5 genes may overlap at a locus.  This means that for each variant I should come up with a---possibly empty---set of genes that overlap that variant.\n",
    "\n",
    "### Selecting sets of annotations\n",
    "\n",
    "See `notebook/2020-09-07-annotations/examine-annot-files.csv`, which lists all the annotation files and whether they were incuded in further analysis based on two criteria\n",
    "\n",
    "1. redundance: several sets annotations provide very similar information therefore only one of those were included\n",
    "2. relevance: cancer related annotations were excluded\n",
    "\n",
    "## Implementation\n",
    "\n",
    "See `SNPnexus.do_annot` for details"
   ]
  },
  {
   "cell_type": "code",
   "execution_count": 2,
   "metadata": {},
   "outputs": [
    {
     "name": "stdout",
     "output_type": "stream",
     "text": [
      "loading raw annotations DataFrame from /home/attila/projects/bsm/results/2020-09-07-annotations/annot.p\n",
      "writing raw annotations DataFrame to CSV /home/attila/projects/bsm/results/2020-09-07-annotations/annot.csv\n"
     ]
    }
   ],
   "source": [
    "calls = individuals.get_datasets()\n",
    "fpath = '/home/attila/projects/bsm/results/2020-09-07-annotations/annot'\n",
    "picklepath = fpath + '.p'\n",
    "csvpath = fpath + '.csv'\n",
    "if not os.path.exists(picklepath):\n",
    "    annot_raw = SNPnexus.do_annot(calls=calls)\n",
    "else:\n",
    "    print('loading raw annotations DataFrame from', picklepath)\n",
    "    with open(picklepath, 'rb') as f:\n",
    "        annot_raw = pickle.load(f)\n",
    "print('writing raw annotations DataFrame to CSV', csvpath)\n",
    "annot_raw.to_csv(csvpath)"
   ]
  },
  {
   "cell_type": "code",
   "execution_count": 3,
   "metadata": {},
   "outputs": [
    {
     "name": "stdout",
     "output_type": "stream",
     "text": [
      "<class 'pandas.core.frame.DataFrame'>\n",
      "MultiIndex: 11824 entries, ('AN02255', 'frontal cortex', '1', 4798634, 'T/G') to ('UMB914', 'frontal cortex', 'X', 130133640, 'C/T')\n",
      "Columns: 133 entries, REF to remm_ReMM Score\n",
      "dtypes: Int64(23), category(47), float64(50), int64(2), object(11)\n",
      "memory usage: 9.7+ MB\n"
     ]
    }
   ],
   "source": [
    "fpath = '/home/attila/projects/bsm/results/2020-09-07-annotations/annotated-calls'\n",
    "# write files without filtering\n",
    "data = SNPnexus.merge_clean(calls, annot_raw, dofilter=False)\n",
    "data.to_csv(fpath + '-full.csv')\n",
    "pickle.dump(data, open(fpath + '-full.p', 'wb'))\n",
    "data.info()"
   ]
  },
  {
   "cell_type": "markdown",
   "metadata": {},
   "source": [
    "Note that these data contain superfluous observations:\n",
    "* NeuN_mn or muscle tissue from the Chess dataset\n",
    "* low quality calls for the Walsh dataset\n",
    "\n",
    "We remove these with `dofilter=True`"
   ]
  },
  {
   "cell_type": "code",
   "execution_count": 4,
   "metadata": {},
   "outputs": [
    {
     "name": "stdout",
     "output_type": "stream",
     "text": [
      "<class 'pandas.core.frame.DataFrame'>\n",
      "MultiIndex: 6426 entries, ('CMC_MSSM_027', '1', 11973569, 'C/T') to ('UMB914', 'X', 130133640, 'C/T')\n",
      "Columns: 133 entries, REF to remm_ReMM Score\n",
      "dtypes: Int64(23), category(47), float64(50), int64(2), object(11)\n",
      "memory usage: 5.4+ MB\n"
     ]
    }
   ],
   "source": [
    "# repeat with filtering\n",
    "data = SNPnexus.merge_clean(calls, annot_raw, dofilter=True)\n",
    "data.to_csv(fpath + '.csv')\n",
    "pickle.dump(data, open(fpath + '.p', 'wb'))\n",
    "#del annot_raw\n",
    "data.info()"
   ]
  },
  {
   "cell_type": "markdown",
   "metadata": {},
   "source": [
    "## How to load data?\n",
    "\n",
    "See implementation: `SNPnexus.load_data()`"
   ]
  },
  {
   "cell_type": "code",
   "execution_count": 5,
   "metadata": {},
   "outputs": [],
   "source": [
    "fpath = '/home/attila/projects/bsm/results/2020-09-07-annotations/annotated-calls.p'\n",
    "with open(fpath, 'rb') as f:\n",
    "    data = pickle.load(f)"
   ]
  },
  {
   "cell_type": "markdown",
   "metadata": {},
   "source": [
    "## Some checks\n",
    "Let's look at the consistency between the `ensembl_.*` and the `near_gens_Overlapped Gene` columns!  There are more calls annotated (i.e not `NaN`) by `ensembl_.*` than by `near_gens_Overlapped Gene`:"
   ]
  },
  {
   "cell_type": "code",
   "execution_count": 6,
   "metadata": {},
   "outputs": [
    {
     "name": "stdout",
     "output_type": "stream",
     "text": [
      "263 non overlapping genes in with some predicted function in ensembl\n",
      "0 overlapping genes in without any predicted function in ensembl\n"
     ]
    }
   ],
   "source": [
    "ensembl_pred_fun = operations.anyquery('ensembl_Predicted Function', data).iloc[:, 0]\n",
    "near_gens_overlap = operations.anyquery('near_gens_Overlapped Gene', data).iloc[:, 0]\n",
    "print(sum(ensembl_pred_fun & ~ near_gens_overlap), 'non overlapping genes in with some predicted function in ensembl')\n",
    "print(sum(~ ensembl_pred_fun & near_gens_overlap), 'overlapping genes in without any predicted function in ensembl')"
   ]
  },
  {
   "cell_type": "markdown",
   "metadata": {},
   "source": [
    "But the only inconsistency between the `ensembl_.*` and the `near_gens_Overlapped Gene` columns is at where `ensembl_Predicted Function` is either `3downstream` or `5upstream`"
   ]
  },
  {
   "cell_type": "code",
   "execution_count": 7,
   "metadata": {},
   "outputs": [
    {
     "data": {
      "text/plain": [
       "{'3downstream', '5upstream'}"
      ]
     },
     "execution_count": 7,
     "metadata": {},
     "output_type": "execute_result"
    }
   ],
   "source": [
    "s = data.loc[(ensembl_pred_fun & ~ near_gens_overlap), 'ensembl_Predicted Function']\n",
    "S = set()\n",
    "s.dropna().apply(lambda x: S.update(x))\n",
    "S"
   ]
  },
  {
   "cell_type": "markdown",
   "metadata": {},
   "source": [
    "The conclusion from this bit of analysis is that the `ensembl_Symbol` column has the same information as `near_gens_Overlapped Gene` and the thus `ensembl_Gene` can be used to query with stable ensembl IDs instead of unstable symbols (gene names)."
   ]
  },
  {
   "cell_type": "markdown",
   "metadata": {},
   "source": [
    "## Andy's questions\n",
    "\n",
    "* Roadmap epigenome annotation of SNPnexus: what does it exactly mean?\n",
    "* mutation types (A/C, ...): how does the mutational spectrum in the outlier sample compare to that in other samples?\n",
    "* brain expressed genes combined with chromatin state DLPFC\n",
    "* control callsets from other BSMN groups"
   ]
  },
  {
   "cell_type": "code",
   "execution_count": 8,
   "metadata": {
    "scrolled": true
   },
   "outputs": [
    {
     "name": "stdout",
     "output_type": "stream",
     "text": [
      "{\n",
      "  \"shell_port\": 44005,\n",
      "  \"iopub_port\": 41107,\n",
      "  \"stdin_port\": 59801,\n",
      "  \"control_port\": 52345,\n",
      "  \"hb_port\": 43023,\n",
      "  \"ip\": \"127.0.0.1\",\n",
      "  \"key\": \"07abedbc-7752c57903b8267c720ba677\",\n",
      "  \"transport\": \"tcp\",\n",
      "  \"signature_scheme\": \"hmac-sha256\",\n",
      "  \"kernel_name\": \"\"\n",
      "}\n",
      "\n",
      "Paste the above JSON into a file, and connect with:\n",
      "    $> jupyter <app> --existing <file>\n",
      "or, if you are local, you can connect with just:\n",
      "    $> jupyter <app> --existing kernel-11bbdcbc-e740-4e7a-a832-cd580a9dd664.json\n",
      "or even just:\n",
      "    $> jupyter <app> --existing\n",
      "if this is the most recent Jupyter kernel you have started.\n"
     ]
    }
   ],
   "source": [
    "%connect_info"
   ]
  },
  {
   "cell_type": "code",
   "execution_count": null,
   "metadata": {},
   "outputs": [],
   "source": []
  }
 ],
 "metadata": {
  "kernelspec": {
   "display_name": "Python 3",
   "language": "python",
   "name": "python3"
  },
  "language_info": {
   "codemirror_mode": {
    "name": "ipython",
    "version": 3
   },
   "file_extension": ".py",
   "mimetype": "text/x-python",
   "name": "python",
   "nbconvert_exporter": "python",
   "pygments_lexer": "ipython3",
   "version": "3.7.6"
  }
 },
 "nbformat": 4,
 "nbformat_minor": 4
}
