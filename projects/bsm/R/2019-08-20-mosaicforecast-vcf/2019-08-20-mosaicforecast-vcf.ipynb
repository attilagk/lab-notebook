{
 "cells": [
  {
   "cell_type": "markdown",
   "metadata": {},
   "source": [
    "MosaicForecast [https://github.com/parklab/MosaicForecast](https://github.com/parklab/MosaicForecast) is a somatic variant caller recently developed by Yanmei Dou in the Park Lab at Harvard.  I extended the MosaicForecast software tool with a converter mf2vcf.py, which converts the TSV formatted output of MosaicForecast to VCF.  Here I demonstrate the utility of [mf2vcf.py](https://github.com/attilagk/MosaicForecast/blob/master/mf2vcf.py). "
   ]
  },
  {
   "cell_type": "code",
   "execution_count": 1,
   "metadata": {},
   "outputs": [],
   "source": [
    "%load_ext autoreload\n",
    "%autoreload 2\n",
    "%matplotlib inline\n",
    "import attila_utils\n",
    "import matplotlib\n",
    "matplotlib.rcParams['figure.dpi'] = 150\n",
    "from IPython.display import set_matplotlib_formats"
   ]
  },
  {
   "cell_type": "markdown",
   "metadata": {},
   "source": [
    "## Input files"
   ]
  },
  {
   "cell_type": "code",
   "execution_count": 19,
   "metadata": {},
   "outputs": [
    {
     "name": "stdout",
     "output_type": "stream",
     "text": [
      "   2122247 Mix1A.MF.predictions\n",
      "       200 test0.MF.predictions\n",
      "   2122447 total\n"
     ]
    }
   ],
   "source": [
    "%%bash\n",
    "cd ~/projects/bsm/results/2019-08-20-mosaicforecast-vcf/\n",
    "rm *.vcf.gz*\n",
    "wc -l *"
   ]
  },
  {
   "cell_type": "markdown",
   "metadata": {},
   "source": [
    "`Mix1A.MF.predictions` contains more than two million calls for the whole genome.  A light weight sample file `test0.MF.predictions`, with only 200 calls, was extracted from `Mix1A.MF.predictions`.  Looking at the content of `test0.MF.predictions` shows the familiar structure of TSV files.  (Note that only the first 6 columns and first 10 lines are shown.)"
   ]
  },
  {
   "cell_type": "code",
   "execution_count": 20,
   "metadata": {},
   "outputs": [
    {
     "name": "stdout",
     "output_type": "stream",
     "text": [
      "id\tconflict_num\tmappability\ttype\tlength\tGCcontent\n",
      "Mix1A.BQSR~1~13302~C~T\t0\t0.0416667\tSNP\t0\t0.666666666666667\n",
      "Mix1A.BQSR~1~14933~G~A\t0\t0.916667\tSNP\t0\t0.523809523809524\n",
      "Mix1A.BQSR~1~14948~G~A\t0\t0.458333\tSNP\t0\t0.904761904761905\n",
      "Mix1A.BQSR~1~16103~T~G\t0\t0.666667\tSNP\t0\t0.666666666666667\n",
      "Mix1A.BQSR~1~16257~G~C\t0\t0.333333\tSNP\t0\t0.619047619047619\n",
      "Mix1A.BQSR~1~16288~C~G\t0\t0.666667\tSNP\t0\t0.571428571428571\n",
      "Mix1A.BQSR~1~19776~A~G\t0\t0.916667\tSNP\t0\t0.666666666666667\n",
      "Mix1A.BQSR~1~20129~C~T\t0\t0.666667\tSNP\t0\t0.666666666666667\n",
      "Mix1A.BQSR~1~20136~T~C\t0\t0.583333\tSNP\t0\t0.80952380952381\n"
     ]
    }
   ],
   "source": [
    "%%bash\n",
    "cd ~/projects/bsm/results/2019-08-20-mosaicforecast-vcf/\n",
    "head -n10 test0.MF.predictions | cut -f1-6"
   ]
  },
  {
   "cell_type": "markdown",
   "metadata": {},
   "source": [
    "## The `mf2vcf.py` script\n",
    "\n",
    "Calling `mf2vcf.py` without arguments prompts the help message:"
   ]
  },
  {
   "cell_type": "code",
   "execution_count": 1,
   "metadata": {},
   "outputs": [
    {
     "name": "stdout",
     "output_type": "stream",
     "text": [
      "\n",
      "    Convert MosaicForecast output MF.predictions into a sorted, gzipped, indexed VCF\n",
      "\n",
      "    Usage:\n",
      "\n",
      "    mf2vcf.py <input.MF.predictions refseq.fa output.vcf.gz\n",
      "    or\n",
      "    cat input.MF.predictions | mf2vcf.py refseq.fa output.vcf.gz\n",
      "\n",
      "\n",
      "    Details:\n",
      "\n",
      "    Currently gzip compressed VCF is the only supported output type.\n",
      "\n",
      "    For each INFO, FILTER, and FORMAT field the appropriate ID,\n",
      "    Number, Type, and 'Description' must be specified by editing the __info__,\n",
      "    __filter__, and __format__ dictionaries in mf2vcf.py.\n",
      "\n",
      "    The pandas Python package must be installed.\n",
      "    \n"
     ]
    }
   ],
   "source": [
    "%%bash\n",
    "mf2vcf.py"
   ]
  },
  {
   "cell_type": "markdown",
   "metadata": {},
   "source": [
    "`mf2vcf.py` was designed to take the TSV file from STDIN because writing the TSV into a file might be unnecessary when a sorted, gzipped (and indexed) VCF file is available. The TSV is not only unsorted but also uncompressed and therefore can come with a large file size.\n",
    "\n",
    "## Testing the converter"
   ]
  },
  {
   "cell_type": "code",
   "execution_count": 24,
   "metadata": {},
   "outputs": [
    {
     "name": "stderr",
     "output_type": "stream",
     "text": [
      "Writing to /tmp/bcftools-sort.IzD9c7\n",
      "Merging 1 temporary files\n",
      "Cleaning\n",
      "Done\n"
     ]
    }
   ],
   "source": [
    "%%bash\n",
    "cd ~/projects/bsm/results/2019-08-20-mosaicforecast-vcf/\n",
    "mf2vcf.py <test0.MF.predictions $REFSEQ test0.vcf.gz"
   ]
  },
  {
   "cell_type": "markdown",
   "metadata": {},
   "source": [
    "The output VCF is shown below (only the first and last ten records are shown for brevity)."
   ]
  },
  {
   "cell_type": "code",
   "execution_count": 27,
   "metadata": {},
   "outputs": [
    {
     "name": "stdout",
     "output_type": "stream",
     "text": [
      "##fileformat=VCFv4.3\n",
      "##FILTER=<ID=PASS,Description=\"All filters passed\">\n",
      "##source=MosaicForecast\n",
      "##reference=file:///big/data/refgenome/GRCh37/hs37d5/hs37d5.fa\n",
      "##contig=<ID=1,length=249250621>\n",
      "##contig=<ID=2,length=243199373>\n",
      "##contig=<ID=3,length=198022430>\n",
      "##contig=<ID=4,length=191154276>\n",
      "##contig=<ID=5,length=180915260>\n",
      "##contig=<ID=6,length=171115067>\n",
      "##contig=<ID=7,length=159138663>\n",
      "##contig=<ID=8,length=146364022>\n",
      "##contig=<ID=9,length=141213431>\n",
      "##contig=<ID=10,length=135534747>\n",
      "##contig=<ID=11,length=135006516>\n",
      "##contig=<ID=12,length=133851895>\n",
      "##contig=<ID=13,length=115169878>\n",
      "##contig=<ID=14,length=107349540>\n",
      "##contig=<ID=15,length=102531392>\n",
      "##contig=<ID=16,length=90354753>\n",
      "##contig=<ID=17,length=81195210>\n",
      "##contig=<ID=18,length=78077248>\n",
      "##contig=<ID=19,length=59128983>\n",
      "##contig=<ID=20,length=63025520>\n",
      "##contig=<ID=21,length=48129895>\n",
      "##contig=<ID=22,length=51304566>\n",
      "##contig=<ID=X,length=155270560>\n",
      "##contig=<ID=Y,length=59373566>\n",
      "##contig=<ID=MT,length=16569>\n",
      "##contig=<ID=GL000207.1,length=4262>\n",
      "##contig=<ID=GL000226.1,length=15008>\n",
      "##contig=<ID=GL000229.1,length=19913>\n",
      "##contig=<ID=GL000231.1,length=27386>\n",
      "##contig=<ID=GL000210.1,length=27682>\n",
      "##contig=<ID=GL000239.1,length=33824>\n",
      "##contig=<ID=GL000235.1,length=34474>\n",
      "##contig=<ID=GL000201.1,length=36148>\n",
      "##contig=<ID=GL000247.1,length=36422>\n",
      "##contig=<ID=GL000245.1,length=36651>\n",
      "##contig=<ID=GL000197.1,length=37175>\n",
      "##contig=<ID=GL000203.1,length=37498>\n",
      "##contig=<ID=GL000246.1,length=38154>\n",
      "##contig=<ID=GL000249.1,length=38502>\n",
      "##contig=<ID=GL000196.1,length=38914>\n",
      "##contig=<ID=GL000248.1,length=39786>\n",
      "##contig=<ID=GL000244.1,length=39929>\n",
      "##contig=<ID=GL000238.1,length=39939>\n",
      "##contig=<ID=GL000202.1,length=40103>\n",
      "##contig=<ID=GL000234.1,length=40531>\n",
      "##contig=<ID=GL000232.1,length=40652>\n",
      "##contig=<ID=GL000206.1,length=41001>\n",
      "##contig=<ID=GL000240.1,length=41933>\n",
      "##contig=<ID=GL000236.1,length=41934>\n",
      "##contig=<ID=GL000241.1,length=42152>\n",
      "##contig=<ID=GL000243.1,length=43341>\n",
      "##contig=<ID=GL000242.1,length=43523>\n",
      "##contig=<ID=GL000230.1,length=43691>\n",
      "##contig=<ID=GL000237.1,length=45867>\n",
      "##contig=<ID=GL000233.1,length=45941>\n",
      "##contig=<ID=GL000204.1,length=81310>\n",
      "##contig=<ID=GL000198.1,length=90085>\n",
      "##contig=<ID=GL000208.1,length=92689>\n",
      "##contig=<ID=GL000191.1,length=106433>\n",
      "##contig=<ID=GL000227.1,length=128374>\n",
      "##contig=<ID=GL000228.1,length=129120>\n",
      "##contig=<ID=GL000214.1,length=137718>\n",
      "##contig=<ID=GL000221.1,length=155397>\n",
      "##contig=<ID=GL000209.1,length=159169>\n",
      "##contig=<ID=GL000218.1,length=161147>\n",
      "##contig=<ID=GL000220.1,length=161802>\n",
      "##contig=<ID=GL000213.1,length=164239>\n",
      "##contig=<ID=GL000211.1,length=166566>\n",
      "##contig=<ID=GL000199.1,length=169874>\n",
      "##contig=<ID=GL000217.1,length=172149>\n",
      "##contig=<ID=GL000216.1,length=172294>\n",
      "##contig=<ID=GL000215.1,length=172545>\n",
      "##contig=<ID=GL000205.1,length=174588>\n",
      "##contig=<ID=GL000219.1,length=179198>\n",
      "##contig=<ID=GL000224.1,length=179693>\n",
      "##contig=<ID=GL000223.1,length=180455>\n",
      "##contig=<ID=GL000195.1,length=182896>\n",
      "##contig=<ID=GL000212.1,length=186858>\n",
      "##contig=<ID=GL000222.1,length=186861>\n",
      "##contig=<ID=GL000200.1,length=187035>\n",
      "##contig=<ID=GL000193.1,length=189789>\n",
      "##contig=<ID=GL000194.1,length=191469>\n",
      "##contig=<ID=GL000225.1,length=211173>\n",
      "##contig=<ID=GL000192.1,length=547496>\n",
      "##contig=<ID=NC_007605,length=171823>\n",
      "##contig=<ID=hs37d5,length=35477943>\n",
      "##INFO=<ID=MAPPABILITY,Number=1,Type=Float,Description=\"UMAP mappability score at the candidate site (k=24)\">\n",
      "##INFO=<ID=TYPE,Number=1,Type=String,Description=\"type of the candidate mutation (SNP, MNP, INS or DEL)\">\n",
      "##INFO=<ID=LENGTH,Number=1,Type=Integer,Description=\"difference of base pair lengh of ref and alt allele for candidate sites\">\n",
      "##INFO=<ID=GCCONTENT,Number=1,Type=Float,Description=\"20-bp local GCcontent\">\n",
      "##INFO=<ID=QUERYPOS_P,Number=1,Type=Float,Description=\"p-value or effect size by wilcoxon's rank sum test of base query positions of ref and alt alleles\">\n",
      "##INFO=<ID=SEQPOS_P,Number=1,Type=Float,Description=\"p-value or effect size by wilcoxon's rank sum test of base sequencing cycles of ref and alt alleles\">\n",
      "##INFO=<ID=BASEQ_P,Number=1,Type=Float,Description=\"p-value or effect size by Wilcoxon's rank sum test of base qualities of ref and alt alleles\">\n",
      "##INFO=<ID=BASEQ_T,Number=1,Type=Float,Description=\"The test statistic under the large-sample approximation that the rank sum statistic is normally distributed (wilcox rank sum test of base qualites of alt alleles vs. ref alleles)\">\n",
      "##INFO=<ID=CONTEXT,Number=1,Type=String,Description=\"three-nucleotide base context on the reads surrounding the mutant position\">\n",
      "##INFO=<ID=SB_P,Number=1,Type=Float,Description=\"p-value or effect size by Fisher's exact test of strand bias for ref and alt alleles\">\n",
      "##INFO=<ID=SB_READ12_P,Number=1,Type=Float,Description=\"p-value or effect size by Fisher's exact test of read1/read2 bias for ref and alt alleles\">\n",
      "##INFO=<ID=MOSAIC_LIKELIHOOD,Number=1,Type=Float,Description=\"mosaic genotype likelihood calculated (assuming uniform distribution of mosaics allele fraction from 0-1)\">\n",
      "##INFO=<ID=HET_LIKELIHOOD,Number=1,Type=Float,Description=\"Genotype likelihood of the variant being germline heterozygous\">\n",
      "##INFO=<ID=REFHOM_LIKELIHOOD,Number=1,Type=Float,Description=\"reference-homozygous genotype likelihood\">\n",
      "##FILTER=<ID=het,Description=\"To be specified\">\n",
      "##FILTER=<ID=refhom,Description=\"To be specified\">\n",
      "##FILTER=<ID=repeat,Description=\"To be specified\">\n",
      "##FORMAT=<ID=REF_SOFTCLIP,Number=1,Type=Float,Description=\"proportion of soft-clipped reads for ref reads\">\n",
      "##FORMAT=<ID=ALT_SOFTCLIP,Number=1,Type=Float,Description=\"proportion of soft-clipped reads for alt reads\">\n",
      "##FORMAT=<ID=LEFTPOS_P,Number=1,Type=Float,Description=\"p-value or effect size by wilcoxon's rank sum test of left-most positions of ref and alt reads\">\n",
      "##FORMAT=<ID=REF_BASEQ1B_P,Number=1,Type=Float,Description=\"p-value or effect size by Wilcoxon's rank sum test of base qualities from ref reads at mutant position, compared with base qualities from ref reads at 1bp downtream of the mutant position\">\n",
      "##FORMAT=<ID=REF_BASEQ1B_T,Number=1,Type=Float,Description=\"The test statistic under the large-sample approximation that the rank sum statistic is normally distributed (wilcox rank sum test of base qualities from ref reads at mutant position, compared with base qualities from ref reads at 1bp downtream of the mutant position)\">\n",
      "##FORMAT=<ID=ALT_BASEQ1B_P,Number=1,Type=Float,Description=\"p-value or effect size by Wilcoxon's rank sum test of base qualities from alt reads at mutant position, compared with base qualities from alt reads at 1bp downtream of the mutant position\">\n",
      "##FORMAT=<ID=ALT_BASEQ1B_T,Number=1,Type=Float,Description=\"The test statistic under the large-sample approximation that the rank sum statistic is normally distributed (wilcox rank sum test of base qualities from alt reads at mutant position, compared with base qualities from alt reads at 1bp downtream of the mutant position)\">\n",
      "##FORMAT=<ID=MAJOR_MISMATCHES_MEAN,Number=1,Type=Float,Description=\"average mismatches per ref reads\">\n",
      "##FORMAT=<ID=MINOR_MISMATCHES_MEAN,Number=1,Type=Float,Description=\"average mismatches per alt reads\">\n",
      "##FORMAT=<ID=MISMATCHES_P,Number=1,Type=Float,Description=\"p-value or effect size by Wilcoxon's rank sum test of mismatches per ref reads vs. mismatches per alt reads\">\n",
      "##FORMAT=<ID=MAPQ_P,Number=1,Type=Float,Description=\"p-value or effect size by Wilcoxon's rank sum test of mapping qualities of ref and alt reads\">\n",
      "##FORMAT=<ID=MAPQ_DIFFERENCE,Number=1,Type=Float,Description=\"difference of average map quality per alt reads vs. average map quality per ref reads\">\n",
      "##FORMAT=<ID=AF,Number=1,Type=Float,Description=\"variant allele fraction\">\n",
      "##FORMAT=<ID=DP,Number=1,Type=Integer,Description=\"read depth at mutant position\">\n",
      "##FORMAT=<ID=DP_DIFF,Number=1,Type=Float,Description=\"difference of average read depths of local (<200bp) and distant (>2kb) regions\">\n",
      "##FORMAT=<ID=CONFLICT_NUM,Number=1,Type=Integer,Description=\"number of read pairs supporting both ref and alt alleles\">\n",
      "##bcftools_viewVersion=1.9+htslib-1.9\n",
      "##bcftools_viewCommand=view -h test0.vcf.gz; Date=Tue Aug 27 13:40:28 2019\n",
      "#CHROM\tPOS\tID\tREF\tALT\tQUAL\tFILTER\tINFO\tFORMAT\tMix1A.BQSR\n",
      "1\t13302\tMISSING\tC\tT\t0\thet\tMAPPABILITY=0.04167;TYPE=SNP;LENGTH=0;GCCONTENT=0.6667;QUERYPOS_P=0.6847;SEQPOS_P=0.9122;BASEQ_P=2.33e-06;BASEQ_T=-4.722;CONTEXT=ACG;SB_P=0.5484;SB_READ12_P=0.4232;MOSAIC_LIKELIHOOD=0.1161;HET_LIKELIHOOD=0.8839;REFHOM_LIKELIHOOD=0\tREF_SOFTCLIP:ALT_SOFTCLIP:LEFTPOS_P:REF_BASEQ1B_P:REF_BASEQ1B_T:ALT_BASEQ1B_P:ALT_BASEQ1B_T:MAJOR_MISMATCHES_MEAN:MINOR_MISMATCHES_MEAN:MISMATCHES_P:MAPQ_P:MAPQ_DIFFERENCE:AF:DP:DP_DIFF:CONFLICT_NUM\t0:0.01961:0.6847:0.05264:-2.315:0.08794:1.769:0.001528:0.01386:8.193e-15:1.08e-10:23.76:0.5152:99:-144.2:0\n",
      "1\t14933\tMISSING\tG\tA\t0\trepeat\tMAPPABILITY=0.9167;TYPE=SNP;LENGTH=0;GCCONTENT=0.5238;QUERYPOS_P=0.6201;SEQPOS_P=0.368;BASEQ_P=0.05573;BASEQ_T=-1.913;CONTEXT=ACC;SB_P=0.5123;SB_READ12_P=0.7466;MOSAIC_LIKELIHOOD=1;HET_LIKELIHOOD=0;REFHOM_LIKELIHOOD=1.082e-07\tREF_SOFTCLIP:ALT_SOFTCLIP:LEFTPOS_P:REF_BASEQ1B_P:REF_BASEQ1B_T:ALT_BASEQ1B_P:ALT_BASEQ1B_T:MAJOR_MISMATCHES_MEAN:MINOR_MISMATCHES_MEAN:MISMATCHES_P:MAPQ_P:MAPQ_DIFFERENCE:AF:DP:DP_DIFF:CONFLICT_NUM\t0.01027:0:0.6311:2.578e-08:-5.753:0.4142:0.1325:0.01194:0.02519:1.703e-05:0.7661:1.425:0.0299:301:60.66:0\n",
      "1\t14948\tMISSING\tG\tA\t0\trepeat\tMAPPABILITY=0.4583;TYPE=SNP;LENGTH=0;GCCONTENT=0.9048;QUERYPOS_P=0.1356;SEQPOS_P=0.1466;BASEQ_P=0.01516;BASEQ_T=-2.429;CONTEXT=CCG;SB_P=0.3389;SB_READ12_P=0.7502;MOSAIC_LIKELIHOOD=1;HET_LIKELIHOOD=0;REFHOM_LIKELIHOOD=1.893e-08\tREF_SOFTCLIP:ALT_SOFTCLIP:LEFTPOS_P:REF_BASEQ1B_P:REF_BASEQ1B_T:ALT_BASEQ1B_P:ALT_BASEQ1B_T:MAJOR_MISMATCHES_MEAN:MINOR_MISMATCHES_MEAN:MISMATCHES_P:MAPQ_P:MAPQ_DIFFERENCE:AF:DP:DP_DIFF:CONFLICT_NUM\t0.006897:0:0.1327:0.4645:-0.2234:0.7306:0.7348:0.01152:0.02533:0.0001766:0.7428:-3.217:0.03333:300:62.12:0\n",
      "1\t16103\tMISSING\tT\tG\t0\thet\tMAPPABILITY=0.6667;TYPE=SNP;LENGTH=0;GCCONTENT=0.6667;QUERYPOS_P=0.3771;SEQPOS_P=0.06562;BASEQ_P=5.077e-06;BASEQ_T=4.562;CONTEXT=GTG;SB_P=0.1281;SB_READ12_P=0.3058;MOSAIC_LIKELIHOOD=0.1262;HET_LIKELIHOOD=0.8738;REFHOM_LIKELIHOOD=0\tREF_SOFTCLIP:ALT_SOFTCLIP:LEFTPOS_P:REF_BASEQ1B_P:REF_BASEQ1B_T:ALT_BASEQ1B_P:ALT_BASEQ1B_T:MAJOR_MISMATCHES_MEAN:MINOR_MISMATCHES_MEAN:MISMATCHES_P:MAPQ_P:MAPQ_DIFFERENCE:AF:DP:DP_DIFF:CONFLICT_NUM\t0:0.02222:0.3671:0.1821:2.041:0.1458:0.5649:0.0028:0.02:1.734e-13:3.839e-12:22.18:0.4737:95:-159.4:0\n",
      "1\t16257\tMISSING\tG\tC\t0\tPASS\tMAPPABILITY=0.3333;TYPE=SNP;LENGTH=0;GCCONTENT=0.619;QUERYPOS_P=0.8185;SEQPOS_P=0.3349;BASEQ_P=0.0144;BASEQ_T=-2.447;CONTEXT=GGG;SB_P=0.54;SB_READ12_P=0.5092;MOSAIC_LIKELIHOOD=1;HET_LIKELIHOOD=1.077e-29;REFHOM_LIKELIHOOD=3.315e-40\tREF_SOFTCLIP:ALT_SOFTCLIP:LEFTPOS_P:REF_BASEQ1B_P:REF_BASEQ1B_T:ALT_BASEQ1B_P:ALT_BASEQ1B_T:MAJOR_MISMATCHES_MEAN:MINOR_MISMATCHES_MEAN:MISMATCHES_P:MAPQ_P:MAPQ_DIFFERENCE:AF:DP:DP_DIFF:CONFLICT_NUM\t0.005495:0:0.8185:0.2887:0.02401:6.065e-05:4.559:0.00685:0.01681:5.997e-07:0.8961:0.1206:0.1122:205:-26.68:0\n",
      "1\t16288\tMISSING\tC\tG\t0\trepeat\tMAPPABILITY=0.6667;TYPE=SNP;LENGTH=0;GCCONTENT=0.5714;QUERYPOS_P=0.01892;SEQPOS_P=0.04405;BASEQ_P=0.003823;BASEQ_T=-2.892;CONTEXT=ACA;SB_P=0.6673;SB_READ12_P=0.7194;MOSAIC_LIKELIHOOD=1;HET_LIKELIHOOD=2.92e-18;REFHOM_LIKELIHOOD=0\tREF_SOFTCLIP:ALT_SOFTCLIP:LEFTPOS_P:REF_BASEQ1B_P:REF_BASEQ1B_T:ALT_BASEQ1B_P:ALT_BASEQ1B_T:MAJOR_MISMATCHES_MEAN:MINOR_MISMATCHES_MEAN:MISMATCHES_P:MAPQ_P:MAPQ_DIFFERENCE:AF:DP:DP_DIFF:CONFLICT_NUM\t0.006024:0:0.01892:1.433e-13:-8.371:0.2771:-1.028:0.008313:0.01649:7.257e-09:1.921e-05:14.77:0.1863:204:-6.089:0\n",
      "1\t19776\tMISSING\tA\tG\t0\thet\tMAPPABILITY=0.9167;TYPE=SNP;LENGTH=0;GCCONTENT=0.6667;QUERYPOS_P=0.0002303;SEQPOS_P=0.004938;BASEQ_P=8.143e-05;BASEQ_T=3.94;CONTEXT=GAC;SB_P=0.002525;SB_READ12_P=0.7847;MOSAIC_LIKELIHOOD=0.9235;HET_LIKELIHOOD=0.07654;REFHOM_LIKELIHOOD=1.018e-36\tREF_SOFTCLIP:ALT_SOFTCLIP:LEFTPOS_P:REF_BASEQ1B_P:REF_BASEQ1B_T:ALT_BASEQ1B_P:ALT_BASEQ1B_T:MAJOR_MISMATCHES_MEAN:MINOR_MISMATCHES_MEAN:MISMATCHES_P:MAPQ_P:MAPQ_DIFFERENCE:AF:DP:DP_DIFF:CONFLICT_NUM\t0:0:0.0002303:0.0003218:2.111:0.0003549:-2.774:0.003492:0.01123:3.532e-07:0.00227:12.45:0.3115:61:-49.55:0\n",
      "1\t20129\tMISSING\tC\tT\t0\trepeat\tMAPPABILITY=0.6667;TYPE=SNP;LENGTH=0;GCCONTENT=0.6667;QUERYPOS_P=0.3872;SEQPOS_P=0.5208;BASEQ_P=3.467e-07;BASEQ_T=-5.096;CONTEXT=GCG;SB_P=0.8569;SB_READ12_P=0.5904;MOSAIC_LIKELIHOOD=1;HET_LIKELIHOOD=5.60519e-45;REFHOM_LIKELIHOOD=0\tREF_SOFTCLIP:ALT_SOFTCLIP:LEFTPOS_P:REF_BASEQ1B_P:REF_BASEQ1B_T:ALT_BASEQ1B_P:ALT_BASEQ1B_T:MAJOR_MISMATCHES_MEAN:MINOR_MISMATCHES_MEAN:MISMATCHES_P:MAPQ_P:MAPQ_DIFFERENCE:AF:DP:DP_DIFF:CONFLICT_NUM\t0.01095:0:0.3778:0.4361:-1.036:0.0113:2.37:0.008686:0.01118:0.0003814:0.03381:7.275:0.1104:308:168.1:0\n",
      "1\t20136\tMISSING\tT\tC\t0\trepeat\tMAPPABILITY=0.5833;TYPE=SNP;LENGTH=0;GCCONTENT=0.8095;QUERYPOS_P=0.8869;SEQPOS_P=0.5753;BASEQ_P=0.001745;BASEQ_T=3.131;CONTEXT=GAC;SB_P=0.1108;SB_READ12_P=0.7723;MOSAIC_LIKELIHOOD=1;HET_LIKELIHOOD=3.24e-28;REFHOM_LIKELIHOOD=0\tREF_SOFTCLIP:ALT_SOFTCLIP:LEFTPOS_P:REF_BASEQ1B_P:REF_BASEQ1B_T:ALT_BASEQ1B_P:ALT_BASEQ1B_T:MAJOR_MISMATCHES_MEAN:MINOR_MISMATCHES_MEAN:MISMATCHES_P:MAPQ_P:MAPQ_DIFFERENCE:AF:DP:DP_DIFF:CONFLICT_NUM\t0.01176:0.01724:0.9034:0.0008757:3.733:0.1527:-0.6101:0.007634:0.01724:4.854e-11:1.671e-08:13.98:0.1853:313:170.8:0\n",
      "1\t20144\tMISSING\tG\tA\t0\trepeat\tMAPPABILITY=0.25;TYPE=SNP;LENGTH=0;GCCONTENT=0.7143;QUERYPOS_P=0.9454;SEQPOS_P=0.9021;BASEQ_P=0.158;BASEQ_T=-1.412;CONTEXT=GCC;SB_P=0.5988;SB_READ12_P=0.2946;MOSAIC_LIKELIHOOD=1;HET_LIKELIHOOD=0;REFHOM_LIKELIHOOD=4.54e-21\tREF_SOFTCLIP:ALT_SOFTCLIP:LEFTPOS_P:REF_BASEQ1B_P:REF_BASEQ1B_T:ALT_BASEQ1B_P:ALT_BASEQ1B_T:MAJOR_MISMATCHES_MEAN:MINOR_MISMATCHES_MEAN:MISMATCHES_P:MAPQ_P:MAPQ_DIFFERENCE:AF:DP:DP_DIFF:CONFLICT_NUM\t0.009615:0:0.9176:0.5249:0.536:0.2195:0.7051:0.009637:0.006667:0.8176:0.2212:-5.716:0.04587:327:176.4:0\n",
      "...\n",
      "...\n",
      "...\n",
      "...\n",
      "...\n",
      "...\n",
      "...\n",
      "...\n",
      "...\n",
      "...\n",
      "Y\t59030027\tMISSING\tA\tC\t0\trepeat\tMAPPABILITY=0.5417;TYPE=SNP;LENGTH=0;GCCONTENT=0.3333;QUERYPOS_P=0.02037;SEQPOS_P=0.6267;BASEQ_P=8.55e-21;BASEQ_T=9.353;CONTEXT=CTA;SB_P=7.428e-11;SB_READ12_P=0.4173;MOSAIC_LIKELIHOOD=1;HET_LIKELIHOOD=1.288e-06;REFHOM_LIKELIHOOD=0\tREF_SOFTCLIP:ALT_SOFTCLIP:LEFTPOS_P:REF_BASEQ1B_P:REF_BASEQ1B_T:ALT_BASEQ1B_P:ALT_BASEQ1B_T:MAJOR_MISMATCHES_MEAN:MINOR_MISMATCHES_MEAN:MISMATCHES_P:MAPQ_P:MAPQ_DIFFERENCE:AF:DP:DP_DIFF:CONFLICT_NUM\t0.007812:0:0.02012:9.501e-05:2.903:4.665e-09:-7.497:0.01068:0.03509:4.526e-21:7.891e-23:38.4:0.2928:181:19.25:0\n",
      "Y\t59030044\tMISSING\tT\tC\t0\trepeat\tMAPPABILITY=0.375;TYPE=SNP;LENGTH=0;GCCONTENT=0.1905;QUERYPOS_P=0.04037;SEQPOS_P=0.8416;BASEQ_P=0.1184;BASEQ_T=1.561;CONTEXT=AAT;SB_P=6.949e-11;SB_READ12_P=0.7289;MOSAIC_LIKELIHOOD=1;HET_LIKELIHOOD=1.354e-09;REFHOM_LIKELIHOOD=0\tREF_SOFTCLIP:ALT_SOFTCLIP:LEFTPOS_P:REF_BASEQ1B_P:REF_BASEQ1B_T:ALT_BASEQ1B_P:ALT_BASEQ1B_T:MAJOR_MISMATCHES_MEAN:MINOR_MISMATCHES_MEAN:MISMATCHES_P:MAPQ_P:MAPQ_DIFFERENCE:AF:DP:DP_DIFF:CONFLICT_NUM\t0.007576:0.02273:0.04752:0.5203:-0.7835:0.8401:-0.1252:0.01263:0.03894:3.623e-18:8.083e-22:41.98:0.25:176:11.73:0\n",
      "Y\t59030061\tMISSING\tA\tG\t0\trepeat\tMAPPABILITY=1;TYPE=SNP;LENGTH=0;GCCONTENT=0.4286;QUERYPOS_P=0.3511;SEQPOS_P=0.2042;BASEQ_P=1.392e-11;BASEQ_T=6.759;CONTEXT=ATG;SB_P=1.179e-15;SB_READ12_P=0.6009;MOSAIC_LIKELIHOOD=1;HET_LIKELIHOOD=3.95e-07;REFHOM_LIKELIHOOD=0\tREF_SOFTCLIP:ALT_SOFTCLIP:LEFTPOS_P:REF_BASEQ1B_P:REF_BASEQ1B_T:ALT_BASEQ1B_P:ALT_BASEQ1B_T:MAJOR_MISMATCHES_MEAN:MINOR_MISMATCHES_MEAN:MISMATCHES_P:MAPQ_P:MAPQ_DIFFERENCE:AF:DP:DP_DIFF:CONFLICT_NUM\t0:0.02222:0.3855:0.0004521:3.2:3.08e-09:7.521:0.01356:0.03556:3.296e-14:5.77e-23:44.14:0.2744:164:-3.411:0\n",
      "Y\t59030077\tMISSING\tT\tC\t0\trepeat\tMAPPABILITY=0.75;TYPE=SNP;LENGTH=0;GCCONTENT=0.7143;QUERYPOS_P=0.1326;SEQPOS_P=0.8883;BASEQ_P=2.874e-16;BASEQ_T=8.178;CONTEXT=CAG;SB_P=1.506e-09;SB_READ12_P=1;MOSAIC_LIKELIHOOD=1;HET_LIKELIHOOD=8.138e-06;REFHOM_LIKELIHOOD=0\tREF_SOFTCLIP:ALT_SOFTCLIP:LEFTPOS_P:REF_BASEQ1B_P:REF_BASEQ1B_T:ALT_BASEQ1B_P:ALT_BASEQ1B_T:MAJOR_MISMATCHES_MEAN:MINOR_MISMATCHES_MEAN:MISMATCHES_P:MAPQ_P:MAPQ_DIFFERENCE:AF:DP:DP_DIFF:CONFLICT_NUM\t0.008475:0:0.13:0.002245:4.466:0.005598:-3.771:0.01492:0.03333:2.437e-14:1.397e-24:45.53:0.2976:168:-14.64:0\n",
      "Y\t59030666\tMISSING\tA\tC\t0\thet\tMAPPABILITY=1;TYPE=SNP;LENGTH=0;GCCONTENT=0.2857;QUERYPOS_P=0.02605;SEQPOS_P=0.1426;BASEQ_P=1.383e-07;BASEQ_T=5.267;CONTEXT=CAG;SB_P=6.356e-06;SB_READ12_P=0.8201;MOSAIC_LIKELIHOOD=0.8537;HET_LIKELIHOOD=0.1463;REFHOM_LIKELIHOOD=0\tREF_SOFTCLIP:ALT_SOFTCLIP:LEFTPOS_P:REF_BASEQ1B_P:REF_BASEQ1B_T:ALT_BASEQ1B_P:ALT_BASEQ1B_T:MAJOR_MISMATCHES_MEAN:MINOR_MISMATCHES_MEAN:MISMATCHES_P:MAPQ_P:MAPQ_DIFFERENCE:AF:DP:DP_DIFF:CONFLICT_NUM\t0.06897:0:0.01429:7.542e-05:3.763:0.03779:1.923:0.01425:0.02543:2.737e-06:4.312e-08:20.59:0.6506:83:-202.7:0\n",
      "Y\t59031714\tMISSING\tG\tT\t0\trepeat\tMAPPABILITY=0.4167;TYPE=SNP;LENGTH=0;GCCONTENT=0.5238;QUERYPOS_P=0.2645;SEQPOS_P=0.6703;BASEQ_P=0.0753;BASEQ_T=-1.779;CONTEXT=GCC;SB_P=0.661;SB_READ12_P=1;MOSAIC_LIKELIHOOD=0.9937;HET_LIKELIHOOD=0.006305;REFHOM_LIKELIHOOD=0\tREF_SOFTCLIP:ALT_SOFTCLIP:LEFTPOS_P:REF_BASEQ1B_P:REF_BASEQ1B_T:ALT_BASEQ1B_P:ALT_BASEQ1B_T:MAJOR_MISMATCHES_MEAN:MINOR_MISMATCHES_MEAN:MISMATCHES_P:MAPQ_P:MAPQ_DIFFERENCE:AF:DP:DP_DIFF:CONFLICT_NUM\t0.0155:0:0.2693:0.06239:1.258:0.04307:2.113:0.02067:0.0364:1.163e-20:6.089e-16:25.88:0.3645:203:18.09:0\n",
      "Y\t59031721\tMISSING\tA\tG\t0\trepeat\tMAPPABILITY=0.625;TYPE=SNP;LENGTH=0;GCCONTENT=0.5714;QUERYPOS_P=0.1543;SEQPOS_P=0.4771;BASEQ_P=5.416e-09;BASEQ_T=5.834;CONTEXT=ATG;SB_P=0.4611;SB_READ12_P=1;MOSAIC_LIKELIHOOD=0.9976;HET_LIKELIHOOD=0.002372;REFHOM_LIKELIHOOD=0\tREF_SOFTCLIP:ALT_SOFTCLIP:LEFTPOS_P:REF_BASEQ1B_P:REF_BASEQ1B_T:ALT_BASEQ1B_P:ALT_BASEQ1B_T:MAJOR_MISMATCHES_MEAN:MINOR_MISMATCHES_MEAN:MISMATCHES_P:MAPQ_P:MAPQ_DIFFERENCE:AF:DP:DP_DIFF:CONFLICT_NUM\t0.0155:0:0.1528:0.002812:1.548:0.2639:2.097:0.02098:0.0354:2.456e-17:4.705e-16:25.74:0.355:200:16.3:0\n",
      "Y\t59032175\tMISSING\tT\tC\t0\trepeat\tMAPPABILITY=0.625;TYPE=SNP;LENGTH=0;GCCONTENT=0.5238;QUERYPOS_P=0.0003138;SEQPOS_P=0.2703;BASEQ_P=7.187e-06;BASEQ_T=4.488;CONTEXT=CAA;SB_P=1;SB_READ12_P=0.4767;MOSAIC_LIKELIHOOD=1;HET_LIKELIHOOD=3.902e-07;REFHOM_LIKELIHOOD=2.212e-37\tREF_SOFTCLIP:ALT_SOFTCLIP:LEFTPOS_P:REF_BASEQ1B_P:REF_BASEQ1B_T:ALT_BASEQ1B_P:ALT_BASEQ1B_T:MAJOR_MISMATCHES_MEAN:MINOR_MISMATCHES_MEAN:MISMATCHES_P:MAPQ_P:MAPQ_DIFFERENCE:AF:DP:DP_DIFF:CONFLICT_NUM\t0.1392:0.5909:7.577e-05:0.01334:3.404:0.6791:-0.6103:0.01122:0.02212:4.773e-07:3.617e-11:35.12:0.2178:101:-78.43:0\n",
      "Y\t59032197\tMISSING\tT\tC\t0\trepeat\tMAPPABILITY=0.2083;TYPE=SNP;LENGTH=0;GCCONTENT=0.4286;QUERYPOS_P=0.005979;SEQPOS_P=0.4971;BASEQ_P=0.0002907;BASEQ_T=3.623;CONTEXT=CAA;SB_P=0.8043;SB_READ12_P=0.6166;MOSAIC_LIKELIHOOD=1;HET_LIKELIHOOD=5.459e-06;REFHOM_LIKELIHOOD=1.135e-34\tREF_SOFTCLIP:ALT_SOFTCLIP:LEFTPOS_P:REF_BASEQ1B_P:REF_BASEQ1B_T:ALT_BASEQ1B_P:ALT_BASEQ1B_T:MAJOR_MISMATCHES_MEAN:MINOR_MISMATCHES_MEAN:MISMATCHES_P:MAPQ_P:MAPQ_DIFFERENCE:AF:DP:DP_DIFF:CONFLICT_NUM\t0.1408:0.619:0.003594:0.001996:3.376:0.3908:-0.7169:0.01465:0.02127:5.156e-06:1.919e-10:34.57:0.2283:92:-91.14:0\n",
      "Y\t59032545\tMISSING\tA\tC\t0\trepeat\tMAPPABILITY=0.625;TYPE=SNP;LENGTH=0;GCCONTENT=0.4286;QUERYPOS_P=0.8829;SEQPOS_P=0.634;BASEQ_P=0.8339;BASEQ_T=0.2097;CONTEXT=ATT;SB_P=0.1526;SB_READ12_P=0.489;MOSAIC_LIKELIHOOD=1;HET_LIKELIHOOD=1.047e-17;REFHOM_LIKELIHOOD=2.86e-16\tREF_SOFTCLIP:ALT_SOFTCLIP:LEFTPOS_P:REF_BASEQ1B_P:REF_BASEQ1B_T:ALT_BASEQ1B_P:ALT_BASEQ1B_T:MAJOR_MISMATCHES_MEAN:MINOR_MISMATCHES_MEAN:MISMATCHES_P:MAPQ_P:MAPQ_DIFFERENCE:AF:DP:DP_DIFF:CONFLICT_NUM\t0.01031:0:0.8829:0.1038:-0.6482:0.8646:-0.4857:0.01766:0.03704:0.0001923:0.05616:10.91:0.08491:106:-13.57:0\n"
     ]
    }
   ],
   "source": [
    "%%bash\n",
    "cd ~/projects/bsm/results/2019-08-20-mosaicforecast-vcf/\n",
    "bcftools view -h test0.vcf.gz\n",
    "bcftools view -H test0.vcf.gz | head -n10\n",
    "for i in {1..10}; do\n",
    "    echo '...'\n",
    "done\n",
    "bcftools view -H test0.vcf.gz | tail -n10"
   ]
  },
  {
   "cell_type": "markdown",
   "metadata": {},
   "source": [
    "Note the following points:"
   ]
  },
  {
   "cell_type": "code",
   "execution_count": 3,
   "metadata": {},
   "outputs": [
    {
     "name": "stdout",
     "output_type": "stream",
     "text": [
      "{\n",
      "  \"shell_port\": 57177,\n",
      "  \"iopub_port\": 37493,\n",
      "  \"stdin_port\": 47711,\n",
      "  \"control_port\": 41619,\n",
      "  \"hb_port\": 49979,\n",
      "  \"ip\": \"127.0.0.1\",\n",
      "  \"key\": \"c7c4efc8-411c2df7a11e183fbc94d8f8\",\n",
      "  \"transport\": \"tcp\",\n",
      "  \"signature_scheme\": \"hmac-sha256\",\n",
      "  \"kernel_name\": \"\"\n",
      "}\n",
      "\n",
      "Paste the above JSON into a file, and connect with:\n",
      "    $> jupyter <app> --existing <file>\n",
      "or, if you are local, you can connect with just:\n",
      "    $> jupyter <app> --existing kernel-fc2e3ffc-deb8-4e8f-972a-21daccd48e7a.json\n",
      "or even just:\n",
      "    $> jupyter <app> --existing\n",
      "if this is the most recent Jupyter kernel you have started.\n"
     ]
    }
   ],
   "source": [
    "%connect_info"
   ]
  },
  {
   "cell_type": "code",
   "execution_count": null,
   "metadata": {},
   "outputs": [],
   "source": []
  }
 ],
 "metadata": {
  "kernelspec": {
   "display_name": "Python 3",
   "language": "python",
   "name": "python3"
  },
  "language_info": {
   "codemirror_mode": {
    "name": "ipython",
    "version": 3
   },
   "file_extension": ".py",
   "mimetype": "text/x-python",
   "name": "python",
   "nbconvert_exporter": "python",
   "pygments_lexer": "ipython3",
   "version": "3.7.3"
  }
 },
 "nbformat": 4,
 "nbformat_minor": 2
}
