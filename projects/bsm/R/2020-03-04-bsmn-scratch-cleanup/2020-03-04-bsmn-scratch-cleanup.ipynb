{
 "cells": [
  {
   "cell_type": "markdown",
   "metadata": {},
   "source": [
    "Kenneth Daily's email of 3/4/2020 says: \"The NIMH Data Archive has provided 200TB of space for the consortium to use as 'scratch' space for data generation and processing. We have been notified that the current usage exceeds the 200TB limit by approximately 60TB. Hence, files from this storage location need to be removed.\"  Here I compare files/samples on the scratch space to those on NDA."
   ]
  },
  {
   "cell_type": "code",
   "execution_count": 61,
   "metadata": {},
   "outputs": [
    {
     "name": "stdout",
     "output_type": "stream",
     "text": [
      "The autoreload extension is already loaded. To reload it, use:\n",
      "  %reload_ext autoreload\n"
     ]
    }
   ],
   "source": [
    "%load_ext autoreload\n",
    "%autoreload 2\n",
    "%matplotlib inline\n",
    "import synapseclient\n",
    "import synapseutils\n",
    "import numpy as np\n",
    "import re"
   ]
  },
  {
   "cell_type": "code",
   "execution_count": 4,
   "metadata": {},
   "outputs": [
    {
     "name": "stdout",
     "output_type": "stream",
     "text": [
      "Welcome, Attila Jones!\n",
      "\n"
     ]
    }
   ],
   "source": [
    "syn = synapseclient.Synapse()\n",
    "syn.login()"
   ]
  },
  {
   "cell_type": "markdown",
   "metadata": {},
   "source": [
    "The following Chess lab samples have been processed by Taejeong with his bsmn-pipeline: "
   ]
  },
  {
   "cell_type": "code",
   "execution_count": 48,
   "metadata": {},
   "outputs": [
    {
     "data": {
      "text/plain": [
       "{'MSSM_056_muscle',\n",
       " 'MSSM_106_NeuN_mn',\n",
       " 'MSSM_106_NeuN_pl',\n",
       " 'MSSM_106_muscle',\n",
       " 'MSSM_109_NeuN_mn',\n",
       " 'MSSM_109_NeuN_pl',\n",
       " 'MSSM_109_muscle',\n",
       " 'MSSM_118_NeuN_pl',\n",
       " 'MSSM_118_muscle',\n",
       " 'MSSM_175_NeuN_pl',\n",
       " 'MSSM_179_NeuN_mn',\n",
       " 'MSSM_179_NeuN_pl',\n",
       " 'MSSM_179_muscle',\n",
       " 'MSSM_183_NeuN_mn',\n",
       " 'MSSM_183_NeuN_pl',\n",
       " 'MSSM_183_muscle',\n",
       " 'MSSM_215_NeuN_pl',\n",
       " 'MSSM_295_muscle',\n",
       " 'MSSM_304_muscle',\n",
       " 'MSSM_331_muscle',\n",
       " 'MSSM_369_NeuN_mn',\n",
       " 'MSSM_369_NeuN_pl',\n",
       " 'MSSM_369_muscle',\n",
       " 'MSSM_373_NeuN_pl',\n",
       " 'MSSM_391_NeuN_mn',\n",
       " 'MSSM_391_NeuN_pl',\n",
       " 'MSSM_391_muscle',\n",
       " 'PITT_010_NeuN_mn',\n",
       " 'PITT_010_NeuN_pl',\n",
       " 'PITT_064_NeuN_mn',\n",
       " 'PITT_064_NeuN_pl',\n",
       " 'PITT_091_NeuN_mn',\n",
       " 'PITT_091_NeuN_pl',\n",
       " 'PITT_118_NeuN_mn',\n",
       " 'PITT_118_NeuN_pl'}"
      ]
     },
     "execution_count": 48,
     "metadata": {},
     "output_type": "execute_result"
    }
   ],
   "source": [
    "alns = list(synapseutils.walk(syn, 'syn20735395'))\n",
    "flist = [t[0] for t in alns[0][2]]\n",
    "samples = set([f.replace('.cram', '').replace('.crai', '') for f in flist])\n",
    "samples"
   ]
  },
  {
   "cell_type": "markdown",
   "metadata": {},
   "source": [
    "For these samples the following file types are present (taking `MSSM_106_NeuN_pl` as an example):"
   ]
  },
  {
   "cell_type": "code",
   "execution_count": 89,
   "metadata": {},
   "outputs": [
    {
     "name": "stdout",
     "output_type": "stream",
     "text": [
      "MSSM_106_NeuN_pl.cram\n",
      "MSSM_106_NeuN_pl.cram.crai\n",
      "MSSM_106_NeuN_pl.flagstat.txt\n",
      "MSSM_106_NeuN_pl.ploidy_12.vcf.gz\n",
      "MSSM_106_NeuN_pl.ploidy_12.vcf.gz.tbi\n",
      "MSSM_106_NeuN_pl.ploidy_2.vcf.gz\n",
      "MSSM_106_NeuN_pl.ploidy_2.vcf.gz.tbi\n",
      "MSSM_106_NeuN_pl.ploidy_50.vcf.gz\n",
      "MSSM_106_NeuN_pl.ploidy_50.vcf.gz.tbi\n",
      "MSSM_106_NeuN_pl.unmapped.bam\n"
     ]
    }
   ],
   "source": [
    "for dirpath, dirname, filenames in synapseutils.walk(syn, 'syn20806589'):\n",
    "    for f in filenames:\n",
    "        fn = f[0]\n",
    "        if re.match('^MSSM_106_NeuN_pl.*', fn) is not None:\n",
    "            print(fn)"
   ]
  },
  {
   "cell_type": "code",
   "execution_count": 1,
   "metadata": {},
   "outputs": [
    {
     "name": "stdout",
     "output_type": "stream",
     "text": [
      "{\n",
      "  \"shell_port\": 53533,\n",
      "  \"iopub_port\": 39541,\n",
      "  \"stdin_port\": 46451,\n",
      "  \"control_port\": 43651,\n",
      "  \"hb_port\": 39279,\n",
      "  \"ip\": \"127.0.0.1\",\n",
      "  \"key\": \"a1b5a67b-cdc8b9f2fe04b3cf462bf285\",\n",
      "  \"transport\": \"tcp\",\n",
      "  \"signature_scheme\": \"hmac-sha256\",\n",
      "  \"kernel_name\": \"\"\n",
      "}\n",
      "\n",
      "Paste the above JSON into a file, and connect with:\n",
      "    $> jupyter <app> --existing <file>\n",
      "or, if you are local, you can connect with just:\n",
      "    $> jupyter <app> --existing kernel-4d68fc8e-1e5f-4a14-8eb9-b759774265cd.json\n",
      "or even just:\n",
      "    $> jupyter <app> --existing\n",
      "if this is the most recent Jupyter kernel you have started.\n"
     ]
    }
   ],
   "source": [
    "%connect_info"
   ]
  },
  {
   "cell_type": "code",
   "execution_count": null,
   "metadata": {},
   "outputs": [],
   "source": []
  }
 ],
 "metadata": {
  "kernelspec": {
   "display_name": "Python 3",
   "language": "python",
   "name": "python3"
  },
  "language_info": {
   "codemirror_mode": {
    "name": "ipython",
    "version": 3
   },
   "file_extension": ".py",
   "mimetype": "text/x-python",
   "name": "python",
   "nbconvert_exporter": "python",
   "pygments_lexer": "ipython3",
   "version": "3.7.4"
  }
 },
 "nbformat": 4,
 "nbformat_minor": 2
}
