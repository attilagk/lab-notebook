{
 "cells": [
  {
   "cell_type": "markdown",
   "metadata": {},
   "source": [
    "Setting up data transfer from Synapse scratch space to Google Cloud Platform (GCP).  This involves several transfer steps because the AWS S3 bucket of the scratch space is owned by NDAR and therefore we don't have the permissions to transfer directly to a GPC bucket."
   ]
  },
  {
   "cell_type": "markdown",
   "metadata": {},
   "source": [
    "The steps of transfer are:\n",
    "\n",
    "1. Scratch Space $\\rightarrow$ `/efs` on the bsmn AWS parallel cluster\n",
    "1. $\\rightarrow$ `s3://chesslab-bsmn/alignments/`\n",
    "1. $\\rightarrow$ GPC bucket `chesslab-bsmn`\n",
    "\n",
    "The first two steps are implemented by [mvaln.py](https://github.com/attilagk/pclusterbin/blob/main/mvaln.py).  The third step is done using the [Transfer Service](https://console.cloud.google.com/transfer) of the GPC console."
   ]
  },
  {
   "cell_type": "code",
   "execution_count": 1,
   "metadata": {},
   "outputs": [
    {
     "name": "stdout",
     "output_type": "stream",
     "text": [
      "{\n",
      "  \"shell_port\": 40699,\n",
      "  \"iopub_port\": 52241,\n",
      "  \"stdin_port\": 37249,\n",
      "  \"control_port\": 51093,\n",
      "  \"hb_port\": 52177,\n",
      "  \"ip\": \"127.0.0.1\",\n",
      "  \"key\": \"5cafbddf-1b3fa42c798235c1f58c87c6\",\n",
      "  \"transport\": \"tcp\",\n",
      "  \"signature_scheme\": \"hmac-sha256\",\n",
      "  \"kernel_name\": \"\"\n",
      "}\n",
      "\n",
      "Paste the above JSON into a file, and connect with:\n",
      "    $> jupyter <app> --existing <file>\n",
      "or, if you are local, you can connect with just:\n",
      "    $> jupyter <app> --existing kernel-e9bccb06-d6d2-4141-8f37-f91f0496321c.json\n",
      "or even just:\n",
      "    $> jupyter <app> --existing\n",
      "if this is the most recent Jupyter kernel you have started.\n"
     ]
    }
   ],
   "source": [
    "%connect_info"
   ]
  },
  {
   "cell_type": "code",
   "execution_count": null,
   "metadata": {},
   "outputs": [],
   "source": []
  }
 ],
 "metadata": {
  "kernelspec": {
   "display_name": "Python 3",
   "language": "python",
   "name": "python3"
  },
  "language_info": {
   "codemirror_mode": {
    "name": "ipython",
    "version": 3
   },
   "file_extension": ".py",
   "mimetype": "text/x-python",
   "name": "python",
   "nbconvert_exporter": "python",
   "pygments_lexer": "ipython3",
   "version": "3.7.6"
  }
 },
 "nbformat": 4,
 "nbformat_minor": 4
}
