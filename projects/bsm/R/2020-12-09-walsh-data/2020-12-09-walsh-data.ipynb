{
 "cells": [
  {
   "cell_type": "markdown",
   "metadata": {},
   "source": [
    "Annotating and reading the Walsh lab data that was uniformly processed by Taejeon Bae using the bsmn-pipeline.  The number of calls per sample is unexpectedly high in this data set: much higher than reported by Rodin et al (see https://www.biorxiv.org/content/10.1101/2020.02.11.944413v1), who used MosaicForecast instead of the bsmn-pipeline."
   ]
  },
  {
   "cell_type": "code",
   "execution_count": 1,
   "metadata": {},
   "outputs": [],
   "source": [
    "%load_ext autoreload\n",
    "%autoreload 2\n",
    "%reload_ext autoreload\n",
    "from matplotlib import pyplot as plt\n",
    "import pandas as pd\n",
    "import numpy as np\n",
    "import attila_utils\n",
    "from bsmcalls import readVCF, individuals, preprocessing\n",
    "import attila_utils\n",
    "%matplotlib inline"
   ]
  },
  {
   "cell_type": "code",
   "execution_count": 2,
   "metadata": {},
   "outputs": [],
   "source": [
    "data = individuals.get_datasets(merge=True)\n",
    "data['tissue'] = data.index.get_level_values('Tissue')\n",
    "data['individual ID'] = data.index.get_level_values('Individual ID')\n",
    "def get_dataset(dataset='Chess'):\n",
    "    dset = data.copy().loc[data['Dataset'] == dataset, :]\n",
    "    dset['Dx'] = dset['Dx'].cat.remove_unused_categories()\n",
    "    return(dset)\n",
    "\n",
    "chess = get_dataset('Chess')\n",
    "walsh = get_dataset('Walsh')"
   ]
  },
  {
   "cell_type": "markdown",
   "metadata": {},
   "source": [
    "Filter for `HC` (see `FILTER` field)"
   ]
  },
  {
   "cell_type": "code",
   "execution_count": 3,
   "metadata": {},
   "outputs": [],
   "source": [
    "HC_list = ['HC/PASS', 'HC;PASS/PASS']\n",
    "walsh = walsh.loc[walsh['FILTER/PASS'].isin(HC_list)]"
   ]
  },
  {
   "cell_type": "code",
   "execution_count": 4,
   "metadata": {},
   "outputs": [],
   "source": [
    "def get_margins(df):\n",
    "    df = df.copy()\n",
    "    df = pd.concat([df, df.sum(axis=1)], axis=1)\n",
    "    df = pd.concat([df, pd.DataFrame(df.sum(axis=0)).T], axis=0)\n",
    "    df = df.rename({0: 'Sum'}, axis=0).rename({0: 'Sum'}, axis=1)\n",
    "    return(df)"
   ]
  },
  {
   "cell_type": "code",
   "execution_count": 5,
   "metadata": {},
   "outputs": [],
   "source": [
    "def concat_counts(c, w):\n",
    "    c = c.rename({'SCZ': 'Case'}, axis=1).loc[['NeuN_pl']].rename({'NeuN_pl': 'Chess'}, axis=0)\n",
    "    w = w.rename({'ASD': 'Case'}, axis=1).rename({'frontal cortex': 'Walsh'}, axis=0)\n",
    "    counts = pd.concat([c, w])\n",
    "    return(counts)"
   ]
  },
  {
   "cell_type": "markdown",
   "metadata": {},
   "source": [
    "### Total number of calls"
   ]
  },
  {
   "cell_type": "code",
   "execution_count": 6,
   "metadata": {},
   "outputs": [
    {
     "data": {
      "text/plain": [
       "['named-figure/ncalls-chess-walsh-barplot.png',\n",
       " 'named-figure/ncalls-chess-walsh-barplot.pdf']"
      ]
     },
     "execution_count": 6,
     "metadata": {},
     "output_type": "execute_result"
    },
    {
     "data": {
      "image/png": "[encoded data removed]",
      "text/plain": [
       "<Figure size 432x432 with 2 Axes>"
      ]
     },
     "metadata": {
      "needs_background": "light"
     },
     "output_type": "display_data"
    }
   ],
   "source": [
    "c = chess.groupby(['Tissue', 'Dx']).size()\n",
    "w = walsh.groupby(['Tissue', 'Dx']).size()\n",
    "# plot\n",
    "fig, ax = plt.subplots(2, 1, sharex=True, figsize=(6, 6), gridspec_kw=dict(height_ratios=[3, 1]))\n",
    "c.unstack().plot(kind='barh', ax=ax[0], legend=False)\n",
    "w.unstack().loc[:, ['Control', 'ASD']].plot(kind='barh', ax=ax[1])\n",
    "ax[0].set_title('Calls')\n",
    "ax[1].set_xlabel('count')\n",
    "ax[0].legend(loc='lower center')\n",
    "ax[1].legend(loc='lower center')\n",
    "attila_utils.savefig(fig, 'ncalls-chess-walsh-barplot')"
   ]
  },
  {
   "cell_type": "code",
   "execution_count": 21,
   "metadata": {},
   "outputs": [
    {
     "data": {
      "text/html": [
       "<div>\n",
       "<style scoped>\n",
       "    .dataframe tbody tr th:only-of-type {\n",
       "        vertical-align: middle;\n",
       "    }\n",
       "\n",
       "    .dataframe tbody tr th {\n",
       "        vertical-align: top;\n",
       "    }\n",
       "\n",
       "    .dataframe thead th {\n",
       "        text-align: right;\n",
       "    }\n",
       "</style>\n",
       "<table border=\"1\" class=\"dataframe\">\n",
       "  <thead>\n",
       "    <tr style=\"text-align: right;\">\n",
       "      <th>Dx</th>\n",
       "      <th>Control</th>\n",
       "      <th>SCZ</th>\n",
       "    </tr>\n",
       "    <tr>\n",
       "      <th>Tissue</th>\n",
       "      <th></th>\n",
       "      <th></th>\n",
       "    </tr>\n",
       "  </thead>\n",
       "  <tbody>\n",
       "    <tr>\n",
       "      <th>NeuN_mn</th>\n",
       "      <td>0</td>\n",
       "      <td>1</td>\n",
       "    </tr>\n",
       "    <tr>\n",
       "      <th>NeuN_pl</th>\n",
       "      <td>895</td>\n",
       "      <td>2488</td>\n",
       "    </tr>\n",
       "    <tr>\n",
       "      <th>muscle</th>\n",
       "      <td>6</td>\n",
       "      <td>21</td>\n",
       "    </tr>\n",
       "  </tbody>\n",
       "</table>\n",
       "</div>"
      ],
      "text/plain": [
       "Dx       Control   SCZ\n",
       "Tissue                \n",
       "NeuN_mn        0     1\n",
       "NeuN_pl      895  2488\n",
       "muscle         6    21"
      ]
     },
     "execution_count": 21,
     "metadata": {},
     "output_type": "execute_result"
    }
   ],
   "source": [
    "c.unstack()"
   ]
  },
  {
   "cell_type": "code",
   "execution_count": 22,
   "metadata": {},
   "outputs": [
    {
     "data": {
      "text/html": [
       "<div>\n",
       "<style scoped>\n",
       "    .dataframe tbody tr th:only-of-type {\n",
       "        vertical-align: middle;\n",
       "    }\n",
       "\n",
       "    .dataframe tbody tr th {\n",
       "        vertical-align: top;\n",
       "    }\n",
       "\n",
       "    .dataframe thead th {\n",
       "        text-align: right;\n",
       "    }\n",
       "</style>\n",
       "<table border=\"1\" class=\"dataframe\">\n",
       "  <thead>\n",
       "    <tr style=\"text-align: right;\">\n",
       "      <th>Dx</th>\n",
       "      <th>ASD</th>\n",
       "      <th>Control</th>\n",
       "    </tr>\n",
       "    <tr>\n",
       "      <th>Tissue</th>\n",
       "      <th></th>\n",
       "      <th></th>\n",
       "    </tr>\n",
       "  </thead>\n",
       "  <tbody>\n",
       "    <tr>\n",
       "      <th>frontal cortex</th>\n",
       "      <td>2285</td>\n",
       "      <td>758</td>\n",
       "    </tr>\n",
       "  </tbody>\n",
       "</table>\n",
       "</div>"
      ],
      "text/plain": [
       "Dx               ASD  Control\n",
       "Tissue                       \n",
       "frontal cortex  2285      758"
      ]
     },
     "execution_count": 22,
     "metadata": {},
     "output_type": "execute_result"
    }
   ],
   "source": [
    "w.unstack()"
   ]
  },
  {
   "cell_type": "markdown",
   "metadata": {},
   "source": [
    "Put results together: use only NeuN_pl calls from the Chess data set"
   ]
  },
  {
   "cell_type": "code",
   "execution_count": 7,
   "metadata": {},
   "outputs": [
    {
     "data": {
      "text/html": [
       "<div>\n",
       "<style scoped>\n",
       "    .dataframe tbody tr th:only-of-type {\n",
       "        vertical-align: middle;\n",
       "    }\n",
       "\n",
       "    .dataframe tbody tr th {\n",
       "        vertical-align: top;\n",
       "    }\n",
       "\n",
       "    .dataframe thead th {\n",
       "        text-align: right;\n",
       "    }\n",
       "</style>\n",
       "<table border=\"1\" class=\"dataframe\">\n",
       "  <thead>\n",
       "    <tr style=\"text-align: right;\">\n",
       "      <th></th>\n",
       "      <th>Control</th>\n",
       "      <th>Case</th>\n",
       "      <th>Sum</th>\n",
       "    </tr>\n",
       "  </thead>\n",
       "  <tbody>\n",
       "    <tr>\n",
       "      <th>Chess</th>\n",
       "      <td>895</td>\n",
       "      <td>2488</td>\n",
       "      <td>3383</td>\n",
       "    </tr>\n",
       "    <tr>\n",
       "      <th>Walsh</th>\n",
       "      <td>758</td>\n",
       "      <td>2285</td>\n",
       "      <td>3043</td>\n",
       "    </tr>\n",
       "    <tr>\n",
       "      <th>Sum</th>\n",
       "      <td>1653</td>\n",
       "      <td>4773</td>\n",
       "      <td>6426</td>\n",
       "    </tr>\n",
       "  </tbody>\n",
       "</table>\n",
       "</div>"
      ],
      "text/plain": [
       "       Control  Case   Sum\n",
       "Chess      895  2488  3383\n",
       "Walsh      758  2285  3043\n",
       "Sum       1653  4773  6426"
      ]
     },
     "execution_count": 7,
     "metadata": {},
     "output_type": "execute_result"
    }
   ],
   "source": [
    "get_margins(concat_counts(c.unstack(), w.unstack()))"
   ]
  },
  {
   "cell_type": "markdown",
   "metadata": {},
   "source": [
    "### Number of samples"
   ]
  },
  {
   "cell_type": "code",
   "execution_count": 8,
   "metadata": {},
   "outputs": [
    {
     "data": {
      "text/plain": [
       "['named-figure/nsamples-chess-walsh-barplot.png',\n",
       " 'named-figure/nsamples-chess-walsh-barplot.pdf']"
      ]
     },
     "execution_count": 8,
     "metadata": {},
     "output_type": "execute_result"
    },
    {
     "data": {
      "image/png": "[encoded data removed]",
      "text/plain": [
       "<Figure size 432x432 with 2 Axes>"
      ]
     },
     "metadata": {
      "needs_background": "light"
     },
     "output_type": "display_data"
    }
   ],
   "source": [
    "def get_nsamples(df):\n",
    "    d = {name: len(group.index.get_level_values('Individual ID').unique()) for name, group in df.groupby(['Tissue', 'Dx'])}\n",
    "    val = pd.Series(d).unstack().fillna(0).astype('int64')\n",
    "    return(val)\n",
    "\n",
    "def get_nsamples2(df):\n",
    "    '''This implementation uses pivot tables'''\n",
    "    df = df.copy()\n",
    "    df['Ind ID'] = df.index.get_level_values('Individual ID')\n",
    "    val = df.pivot_table(values='Ind ID', columns='Dx', index='Tissue', aggfunc='nunique')\n",
    "    #val = df.pivot_table(values='Ind ID', columns='Dx', index='Tissue', aggfunc=lambda x: len(pd.unique(x)))\n",
    "    val = val.fillna(0).astype('int64')\n",
    "    return(val)\n",
    "                         \n",
    "\n",
    "# plot\n",
    "fig, ax = plt.subplots(2, 1, sharex=True, figsize=(6, 6), gridspec_kw=dict(height_ratios=[3, 1]))\n",
    "get_nsamples(chess).plot(kind='barh', legend=False, ax=ax[0])\n",
    "get_nsamples(walsh).loc[:, ['Control', 'ASD']].plot(kind='barh', legend=False, ax=ax[1])\n",
    "ax[0].set_title('Samples')\n",
    "ax[1].set_xlabel('count')\n",
    "ax[0].legend(loc='lower center')\n",
    "ax[1].legend(loc='lower center')\n",
    "attila_utils.savefig(fig, 'nsamples-chess-walsh-barplot')"
   ]
  },
  {
   "cell_type": "code",
   "execution_count": 9,
   "metadata": {},
   "outputs": [
    {
     "data": {
      "text/html": [
       "<div>\n",
       "<style scoped>\n",
       "    .dataframe tbody tr th:only-of-type {\n",
       "        vertical-align: middle;\n",
       "    }\n",
       "\n",
       "    .dataframe tbody tr th {\n",
       "        vertical-align: top;\n",
       "    }\n",
       "\n",
       "    .dataframe thead th {\n",
       "        text-align: right;\n",
       "    }\n",
       "</style>\n",
       "<table border=\"1\" class=\"dataframe\">\n",
       "  <thead>\n",
       "    <tr style=\"text-align: right;\">\n",
       "      <th></th>\n",
       "      <th>Control</th>\n",
       "      <th>Case</th>\n",
       "      <th>Sum</th>\n",
       "    </tr>\n",
       "  </thead>\n",
       "  <tbody>\n",
       "    <tr>\n",
       "      <th>Chess</th>\n",
       "      <td>25</td>\n",
       "      <td>61</td>\n",
       "      <td>86</td>\n",
       "    </tr>\n",
       "    <tr>\n",
       "      <th>Walsh</th>\n",
       "      <td>15</td>\n",
       "      <td>57</td>\n",
       "      <td>72</td>\n",
       "    </tr>\n",
       "    <tr>\n",
       "      <th>Sum</th>\n",
       "      <td>40</td>\n",
       "      <td>118</td>\n",
       "      <td>158</td>\n",
       "    </tr>\n",
       "  </tbody>\n",
       "</table>\n",
       "</div>"
      ],
      "text/plain": [
       "       Control  Case  Sum\n",
       "Chess       25    61   86\n",
       "Walsh       15    57   72\n",
       "Sum         40   118  158"
      ]
     },
     "execution_count": 9,
     "metadata": {},
     "output_type": "execute_result"
    }
   ],
   "source": [
    "get_margins(concat_counts(c=get_nsamples(chess), w=get_nsamples(walsh)))"
   ]
  },
  {
   "cell_type": "markdown",
   "metadata": {},
   "source": [
    "### Calls per sample"
   ]
  },
  {
   "cell_type": "code",
   "execution_count": 10,
   "metadata": {},
   "outputs": [],
   "source": [
    "def indiv_stats(calls, tissue, Dx):\n",
    "    counts = calls.groupby(['Tissue', 'Dx'])['individual ID'].value_counts()\n",
    "    counts = counts.xs((tissue, Dx), level=('Tissue', 'Dx'))\n",
    "    meanDP = calls.loc[calls['individual ID'].isin(counts.index)].groupby('Individual ID')['DP'].mean()\n",
    "    df = pd.concat([counts, meanDP], axis=1).rename({'individual ID': 'n calls', 'DP': 'read depth'}, axis=1)\n",
    "    return(df)\n",
    "\n",
    "ccon = indiv_stats(chess, 'NeuN_pl', 'Control')\n",
    "caff = indiv_stats(chess, 'NeuN_pl', 'SCZ')\n",
    "wcon = indiv_stats(walsh, 'frontal cortex', 'Control')\n",
    "waff = indiv_stats(walsh, 'frontal cortex', 'ASD')"
   ]
  },
  {
   "cell_type": "code",
   "execution_count": 11,
   "metadata": {},
   "outputs": [
    {
     "data": {
      "text/plain": [
       "Text(0.5, 0, '# calls per sample')"
      ]
     },
     "execution_count": 11,
     "metadata": {},
     "output_type": "execute_result"
    },
    {
     "data": {
      "image/png": "[encoded data removed]",
      "text/plain": [
       "<Figure size 432x288 with 2 Axes>"
      ]
     },
     "metadata": {
      "needs_background": "light"
     },
     "output_type": "display_data"
    }
   ],
   "source": [
    "%matplotlib inline\n",
    "# plot figure\n",
    "fig, ax = plt.subplots(2,1, sharex=True)\n",
    "lines = ax[0].boxplot([ccon['n calls'], caff['n calls']], vert=False, labels=['Control', 'SCZ'])\n",
    "ax[0].set_title('Chess data')\n",
    "lines = ax[1].boxplot([wcon['n calls'], waff['n calls']], vert=False, labels=['Control', 'ASD'])\n",
    "ax[1].set_title('Walsh data')\n",
    "ax[1].set_xlabel('# calls per sample')\n"
   ]
  },
  {
   "cell_type": "code",
   "execution_count": 12,
   "metadata": {},
   "outputs": [
    {
     "data": {
      "text/plain": [
       "['named-figure/ncalls-chess-walsh-hist.png',\n",
       " 'named-figure/ncalls-chess-walsh-hist.pdf']"
      ]
     },
     "execution_count": 12,
     "metadata": {},
     "output_type": "execute_result"
    },
    {
     "data": {
      "image/png": "[encoded data removed]",
      "text/plain": [
       "<Figure size 432x432 with 2 Axes>"
      ]
     },
     "metadata": {
      "needs_background": "light"
     },
     "output_type": "display_data"
    }
   ],
   "source": [
    "bins = np.arange(0, 304, 8)\n",
    "fig, ax = plt.subplots(2, 1, sharex=True, figsize=(6, 6))\n",
    "pd.concat([ccon['n calls'], caff['n calls']], axis=0).hist(ax=ax[0])\n",
    "pd.concat([wcon['n calls'], waff['n calls']], axis=0).hist(ax=ax[1])\n",
    "ax[0].set_title('Chess data')\n",
    "ax[1].set_title('Walsh data')\n",
    "ax[1].set_title('Walsh data')\n",
    "ax[0].set_ylabel('# samples')\n",
    "ax[1].set_ylabel('# samples')\n",
    "ax[1].set_xlabel('# calls')\n",
    "attila_utils.savefig(fig, 'ncalls-chess-walsh-hist')"
   ]
  },
  {
   "cell_type": "code",
   "execution_count": 13,
   "metadata": {},
   "outputs": [
    {
     "data": {
      "text/plain": [
       "['named-figure/ncalls-depth-chess-walsh.png',\n",
       " 'named-figure/ncalls-depth-chess-walsh.pdf']"
      ]
     },
     "execution_count": 13,
     "metadata": {},
     "output_type": "execute_result"
    },
    {
     "data": {
      "image/png": "[encoded data removed]",
      "text/plain": [
       "<Figure size 576x432 with 2 Axes>"
      ]
     },
     "metadata": {
      "needs_background": "light"
     },
     "output_type": "display_data"
    }
   ],
   "source": [
    "fig, ax = plt.subplots(1, 2, figsize=(8, 6), sharex=True, sharey=True)\n",
    "ax[0].scatter(x='read depth', y='n calls', c='C0', data=ccon, label='Control')\n",
    "ax[0].scatter(x='read depth', y='n calls', c='C1', data=caff, label='SCZ')\n",
    "ax[0].set_title('Chess data')\n",
    "ax[0].legend()\n",
    "ax[1].scatter(x='read depth', y='n calls', c='C0', data=wcon, label='Control')\n",
    "ax[1].scatter(x='read depth', y='n calls', c='C1', data=waff, label='AFF')\n",
    "ax[1].set_title('Walsh data')\n",
    "ax[1].legend()\n",
    "attila_utils.savefig(fig, 'ncalls-depth-chess-walsh')"
   ]
  },
  {
   "cell_type": "code",
   "execution_count": 14,
   "metadata": {},
   "outputs": [
    {
     "name": "stdout",
     "output_type": "stream",
     "text": [
      "{\n",
      "  \"shell_port\": 52871,\n",
      "  \"iopub_port\": 49383,\n",
      "  \"stdin_port\": 53513,\n",
      "  \"control_port\": 43535,\n",
      "  \"hb_port\": 59681,\n",
      "  \"ip\": \"127.0.0.1\",\n",
      "  \"key\": \"5b359368-f0914c1688e7ae897a16ad15\",\n",
      "  \"transport\": \"tcp\",\n",
      "  \"signature_scheme\": \"hmac-sha256\",\n",
      "  \"kernel_name\": \"\"\n",
      "}\n",
      "\n",
      "Paste the above JSON into a file, and connect with:\n",
      "    $> jupyter <app> --existing <file>\n",
      "or, if you are local, you can connect with just:\n",
      "    $> jupyter <app> --existing kernel-f2387dcc-e53c-4e7b-94a5-e1d3fb92c2f8.json\n",
      "or even just:\n",
      "    $> jupyter <app> --existing\n",
      "if this is the most recent Jupyter kernel you have started.\n"
     ]
    }
   ],
   "source": [
    "%connect_info"
   ]
  },
  {
   "cell_type": "code",
   "execution_count": null,
   "metadata": {},
   "outputs": [],
   "source": []
  }
 ],
 "metadata": {
  "kernelspec": {
   "display_name": "Python 3",
   "language": "python",
   "name": "python3"
  },
  "language_info": {
   "codemirror_mode": {
    "name": "ipython",
    "version": 3
   },
   "file_extension": ".py",
   "mimetype": "text/x-python",
   "name": "python",
   "nbconvert_exporter": "python",
   "pygments_lexer": "ipython3",
   "version": "3.7.6"
  }
 },
 "nbformat": 4,
 "nbformat_minor": 4
}
