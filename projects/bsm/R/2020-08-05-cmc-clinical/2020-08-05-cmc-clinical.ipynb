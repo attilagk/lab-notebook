{
 "cells": [
  {
   "cell_type": "markdown",
   "metadata": {},
   "source": [
    "Inspection of the entire CMC Human clinical data set and its subset that is relevant to our BSM study."
   ]
  },
  {
   "cell_type": "code",
   "execution_count": 1,
   "metadata": {},
   "outputs": [],
   "source": [
    "%load_ext autoreload\n",
    "%autoreload 2\n",
    "%reload_ext autoreload\n",
    "from matplotlib import pyplot as plt\n",
    "import pandas as pd\n",
    "import numpy as np\n",
    "import statsmodels.api as sm\n",
    "import synapseclient\n",
    "import fwsel\n",
    "from bsmcalls import individuals\n",
    "from bsmcalls import preprocessing\n",
    "import re"
   ]
  },
  {
   "cell_type": "markdown",
   "metadata": {},
   "source": [
    "## Data set\n",
    "### Import and general properties"
   ]
  },
  {
   "cell_type": "code",
   "execution_count": 2,
   "metadata": {},
   "outputs": [
    {
     "name": "stdout",
     "output_type": "stream",
     "text": [
      "116 samples from 95 individuals\n"
     ]
    }
   ],
   "source": [
    "samples = pd.read_csv('/big/results/bsm/2020-05-18-processed-samples/all_samples.csv')\n",
    "indivs = list(set(samples['Individual ID']))\n",
    "indivs.sort()\n",
    "print(len(samples), 'samples from', len(indivs), 'individuals')"
   ]
  },
  {
   "cell_type": "code",
   "execution_count": 3,
   "metadata": {},
   "outputs": [],
   "source": [
    "calls, clin = individuals.get_data(merge=False, cols2drop=[])"
   ]
  },
  {
   "cell_type": "markdown",
   "metadata": {},
   "source": [
    "For the following individuals no somatic variants have been called (yet)."
   ]
  },
  {
   "cell_type": "code",
   "execution_count": 4,
   "metadata": {},
   "outputs": [
    {
     "data": {
      "text/plain": [
       "{'CMC_MSSM_033',\n",
       " 'CMC_MSSM_063',\n",
       " 'CMC_MSSM_065',\n",
       " 'CMC_MSSM_164',\n",
       " 'CMC_MSSM_192',\n",
       " 'CMC_MSSM_287',\n",
       " 'CMC_MSSM_309',\n",
       " 'CMC_MSSM_310',\n",
       " 'CMC_MSSM_338',\n",
       " 'CMC_MSSM_405'}"
      ]
     },
     "execution_count": 4,
     "metadata": {},
     "output_type": "execute_result"
    }
   ],
   "source": [
    "set(indivs) - set(clin.index)"
   ]
  },
  {
   "cell_type": "markdown",
   "metadata": {},
   "source": [
    "### Variables with missing values"
   ]
  },
  {
   "cell_type": "code",
   "execution_count": 5,
   "metadata": {},
   "outputs": [
    {
     "name": "stdout",
     "output_type": "stream",
     "text": [
      "<class 'pandas.core.frame.DataFrame'>\n",
      "Index: 85 entries, CMC_MSSM_099 to CMC_MSSM_340\n",
      "Data columns (total 23 columns):\n",
      " #   Column                   Non-Null Count  Dtype   \n",
      "---  ------                   --------------  -----   \n",
      " 0   Institution              85 non-null     category\n",
      " 1   Reported Gender          85 non-null     category\n",
      " 2   Sex                      85 non-null     category\n",
      " 3   Ethnicity                85 non-null     category\n",
      " 4   ageOfDeath               85 non-null     float64 \n",
      " 5   Brain Weight (in grams)  84 non-null     float64 \n",
      " 6   PMI (in hours)           85 non-null     float64 \n",
      " 7   Dx                       85 non-null     category\n",
      " 8   Year of Autopsy          85 non-null     float64 \n",
      " 9   Benzodiazepines          85 non-null     category\n",
      " 10  Anticonvulsants          85 non-null     category\n",
      " 11  AntipsychTyp             85 non-null     category\n",
      " 12  AntipsychAtyp            85 non-null     category\n",
      " 13  Antidepress              85 non-null     category\n",
      " 14  Lithium                  85 non-null     category\n",
      " 15  Alcohol                  85 non-null     category\n",
      " 16  Illicitsub               85 non-null     category\n",
      " 17  causeOfDeath             84 non-null     category\n",
      " 18  EV.1                     79 non-null     float64 \n",
      " 19  EV.2                     79 non-null     float64 \n",
      " 20  EV.3                     79 non-null     float64 \n",
      " 21  EV.4                     79 non-null     float64 \n",
      " 22  EV.5                     79 non-null     float64 \n",
      "dtypes: category(14), float64(9)\n",
      "memory usage: 9.2+ KB\n"
     ]
    }
   ],
   "source": [
    "clin.info()"
   ]
  },
  {
   "cell_type": "markdown",
   "metadata": {},
   "source": [
    "### ReportedGender and Sex\n",
    "\n",
    "One of the individuals was a schizophrenic male with Klinefelter syndrome."
   ]
  },
  {
   "cell_type": "code",
   "execution_count": 6,
   "metadata": {},
   "outputs": [
    {
     "data": {
      "text/plain": [
       "Reported Gender  Sex  Dx     \n",
       "Female           XX   Control     7\n",
       "                      SCZ        22\n",
       "                 XXY  Control     0\n",
       "                      SCZ         0\n",
       "                 XY   Control     0\n",
       "                      SCZ         0\n",
       "Male             XX   Control     0\n",
       "                      SCZ         0\n",
       "                 XXY  Control     0\n",
       "                      SCZ         1\n",
       "                 XY   Control    18\n",
       "                      SCZ        37\n",
       "dtype: int64"
      ]
     },
     "execution_count": 6,
     "metadata": {},
     "output_type": "execute_result"
    }
   ],
   "source": [
    "clin.groupby(['Reported Gender', 'Sex', 'Dx']).size()"
   ]
  },
  {
   "cell_type": "code",
   "execution_count": 7,
   "metadata": {},
   "outputs": [
    {
     "data": {
      "text/html": [
       "<div>\n",
       "<style scoped>\n",
       "    .dataframe tbody tr th:only-of-type {\n",
       "        vertical-align: middle;\n",
       "    }\n",
       "\n",
       "    .dataframe tbody tr th {\n",
       "        vertical-align: top;\n",
       "    }\n",
       "\n",
       "    .dataframe thead th {\n",
       "        text-align: right;\n",
       "    }\n",
       "</style>\n",
       "<table border=\"1\" class=\"dataframe\">\n",
       "  <thead>\n",
       "    <tr style=\"text-align: right;\">\n",
       "      <th></th>\n",
       "      <th>Reported Gender</th>\n",
       "      <th>Sex</th>\n",
       "    </tr>\n",
       "  </thead>\n",
       "  <tbody>\n",
       "    <tr>\n",
       "      <th>CMC_MSSM_213</th>\n",
       "      <td>Male</td>\n",
       "      <td>XXY</td>\n",
       "    </tr>\n",
       "  </tbody>\n",
       "</table>\n",
       "</div>"
      ],
      "text/plain": [
       "             Reported Gender  Sex\n",
       "CMC_MSSM_213            Male  XXY"
      ]
     },
     "execution_count": 7,
     "metadata": {},
     "output_type": "execute_result"
    }
   ],
   "source": [
    "clin.loc[clin['Sex'] == 'XXY', ['Reported Gender', 'Sex']]"
   ]
  },
  {
   "cell_type": "markdown",
   "metadata": {},
   "source": [
    "Note that there are no transgender individuals with canonical XX or XY chromosomes. It is simpler to keep ReportedGender and drop Sex because the latter is a three level factor whose third level, XXY, occurs only in one individual.  So we could do something like this:"
   ]
  },
  {
   "cell_type": "code",
   "execution_count": 8,
   "metadata": {},
   "outputs": [],
   "source": [
    "#clin = clin.drop(columns='Sex') # this is essentially the same as \"Sex\" "
   ]
  },
  {
   "cell_type": "markdown",
   "metadata": {},
   "source": [
    "But in what's next we deal with that more systematically.\n",
    "\n",
    "### Correlation between variables\n",
    "\n",
    "First we create `clinnum`, a completely numeric version of `clin`, in which the categorical variables have been replaced with the corresponding dummy variables."
   ]
  },
  {
   "cell_type": "code",
   "execution_count": 9,
   "metadata": {},
   "outputs": [
    {
     "data": {
      "image/png": "[encoded data removed]",
      "text/plain": [
       "<Figure size 864x864 with 2 Axes>"
      ]
     },
     "metadata": {
      "needs_background": "light"
     },
     "output_type": "display_data"
    }
   ],
   "source": [
    "def dummify(df=clin):\n",
    "    numeric = df.select_dtypes(exclude='category')\n",
    "    categorical = df.select_dtypes(include='category')\n",
    "    dummy = pd.get_dummies(categorical)\n",
    "    dfnum = pd.concat([numeric, dummy], axis=1)\n",
    "    return(dfnum)\n",
    "\n",
    "def corrmatplot(dfnum):\n",
    "    corrmat = dfnum.corr()\n",
    "    fig, ax = plt.subplots(figsize=(12,12))\n",
    "    sm.graphics.plot_corr(corrmat, ax=ax, xnames=dfnum.columns, ynames=dfnum.columns)\n",
    "    cb = plt.colorbar(ax.get_images()[0])\n",
    "    cb.set_label('Correlation')\n",
    "    return((fig, ax))\n",
    "\n",
    "%matplotlib inline\n",
    "clinnum = dummify(clin)\n",
    "fig, ax = corrmatplot(clinnum)"
   ]
  },
  {
   "cell_type": "markdown",
   "metadata": {},
   "source": [
    "The following can be observed:\n",
    "\n",
    "* Reported Gender and Sex are very strongly correlated as discussed above\n",
    "* Ethnicity correlates with EV.1 and EV.3\n",
    "* Level 0 of causeOfDeath is unused (no observations supporting it)\n",
    "* Further notable correlations:\n",
    "    * Institution and ageOfDeath\n",
    "    * DiabetesInsDep and Alcohol (also: DiabetesNonInsDep and Alcohol\n",
    "    \n",
    "Conclusion: exclude Sex.  This is implemented now by the `cols2drop=['Sex']` default argument of `bsmcalls.individuals.get_data`."
   ]
  },
  {
   "cell_type": "markdown",
   "metadata": {},
   "source": [
    "### Preprocess for modeling"
   ]
  },
  {
   "cell_type": "code",
   "execution_count": 10,
   "metadata": {},
   "outputs": [
    {
     "data": {
      "text/html": [
       "<div>\n",
       "<style scoped>\n",
       "    .dataframe tbody tr th:only-of-type {\n",
       "        vertical-align: middle;\n",
       "    }\n",
       "\n",
       "    .dataframe tbody tr th {\n",
       "        vertical-align: top;\n",
       "    }\n",
       "\n",
       "    .dataframe thead th {\n",
       "        text-align: right;\n",
       "    }\n",
       "</style>\n",
       "<table border=\"1\" class=\"dataframe\">\n",
       "  <thead>\n",
       "    <tr style=\"text-align: right;\">\n",
       "      <th></th>\n",
       "      <th>Institution</th>\n",
       "      <th>ReportedGender</th>\n",
       "      <th>Sex</th>\n",
       "      <th>Ethnicity</th>\n",
       "      <th>ageOfDeath</th>\n",
       "      <th>BrainWeightingrams</th>\n",
       "      <th>PMIinhours</th>\n",
       "      <th>Dx</th>\n",
       "      <th>YearofAutopsy</th>\n",
       "      <th>Benzodiazepines</th>\n",
       "      <th>...</th>\n",
       "      <th>Antidepress</th>\n",
       "      <th>Lithium</th>\n",
       "      <th>Alcohol</th>\n",
       "      <th>Illicitsub</th>\n",
       "      <th>causeOfDeath</th>\n",
       "      <th>EV1</th>\n",
       "      <th>EV2</th>\n",
       "      <th>EV3</th>\n",
       "      <th>EV4</th>\n",
       "      <th>EV5</th>\n",
       "    </tr>\n",
       "  </thead>\n",
       "  <tbody>\n",
       "    <tr>\n",
       "      <th>CMC_MSSM_099</th>\n",
       "      <td>MSSM</td>\n",
       "      <td>Female</td>\n",
       "      <td>XX</td>\n",
       "      <td>African-American</td>\n",
       "      <td>-0.311668</td>\n",
       "      <td>-0.521106</td>\n",
       "      <td>-1.057727</td>\n",
       "      <td>0</td>\n",
       "      <td>0.157623</td>\n",
       "      <td>0</td>\n",
       "      <td>...</td>\n",
       "      <td>1</td>\n",
       "      <td>0</td>\n",
       "      <td>0</td>\n",
       "      <td>0</td>\n",
       "      <td>1</td>\n",
       "      <td>-2.352409</td>\n",
       "      <td>0.121748</td>\n",
       "      <td>0.564939</td>\n",
       "      <td>0.047467</td>\n",
       "      <td>0.367871</td>\n",
       "    </tr>\n",
       "    <tr>\n",
       "      <th>CMC_MSSM_352</th>\n",
       "      <td>MSSM</td>\n",
       "      <td>Male</td>\n",
       "      <td>XY</td>\n",
       "      <td>Caucasian</td>\n",
       "      <td>-0.188163</td>\n",
       "      <td>-1.126569</td>\n",
       "      <td>-1.262319</td>\n",
       "      <td>1</td>\n",
       "      <td>-0.621327</td>\n",
       "      <td>0</td>\n",
       "      <td>...</td>\n",
       "      <td>0</td>\n",
       "      <td>0</td>\n",
       "      <td>0</td>\n",
       "      <td>0</td>\n",
       "      <td>1</td>\n",
       "      <td>0.499584</td>\n",
       "      <td>-0.026264</td>\n",
       "      <td>0.225710</td>\n",
       "      <td>0.261236</td>\n",
       "      <td>0.496765</td>\n",
       "    </tr>\n",
       "    <tr>\n",
       "      <th>CMC_PITT_024</th>\n",
       "      <td>Pitt</td>\n",
       "      <td>Female</td>\n",
       "      <td>XX</td>\n",
       "      <td>Caucasian</td>\n",
       "      <td>-1.608469</td>\n",
       "      <td>0.674427</td>\n",
       "      <td>-0.065077</td>\n",
       "      <td>1</td>\n",
       "      <td>0.469203</td>\n",
       "      <td>0</td>\n",
       "      <td>...</td>\n",
       "      <td>1</td>\n",
       "      <td>0</td>\n",
       "      <td>0</td>\n",
       "      <td>0</td>\n",
       "      <td>5</td>\n",
       "      <td>0.565168</td>\n",
       "      <td>0.670172</td>\n",
       "      <td>0.171777</td>\n",
       "      <td>0.270921</td>\n",
       "      <td>0.183473</td>\n",
       "    </tr>\n",
       "    <tr>\n",
       "      <th>CMC_PITT_052</th>\n",
       "      <td>Pitt</td>\n",
       "      <td>Male</td>\n",
       "      <td>XY</td>\n",
       "      <td>Caucasian</td>\n",
       "      <td>-0.496925</td>\n",
       "      <td>1.880222</td>\n",
       "      <td>0.238022</td>\n",
       "      <td>1</td>\n",
       "      <td>0.936573</td>\n",
       "      <td>0</td>\n",
       "      <td>...</td>\n",
       "      <td>1</td>\n",
       "      <td>0</td>\n",
       "      <td>0</td>\n",
       "      <td>0</td>\n",
       "      <td>5</td>\n",
       "      <td>0.538337</td>\n",
       "      <td>0.537886</td>\n",
       "      <td>0.200020</td>\n",
       "      <td>-0.048272</td>\n",
       "      <td>-0.231317</td>\n",
       "    </tr>\n",
       "    <tr>\n",
       "      <th>CMC_MSSM_142</th>\n",
       "      <td>MSSM</td>\n",
       "      <td>Female</td>\n",
       "      <td>XX</td>\n",
       "      <td>Caucasian</td>\n",
       "      <td>0.738123</td>\n",
       "      <td>-0.941852</td>\n",
       "      <td>-1.330516</td>\n",
       "      <td>1</td>\n",
       "      <td>-1.244487</td>\n",
       "      <td>0</td>\n",
       "      <td>...</td>\n",
       "      <td>0</td>\n",
       "      <td>0</td>\n",
       "      <td>1</td>\n",
       "      <td>0</td>\n",
       "      <td>1</td>\n",
       "      <td>0.529806</td>\n",
       "      <td>0.823618</td>\n",
       "      <td>0.082195</td>\n",
       "      <td>-0.280686</td>\n",
       "      <td>0.194008</td>\n",
       "    </tr>\n",
       "    <tr>\n",
       "      <th>...</th>\n",
       "      <td>...</td>\n",
       "      <td>...</td>\n",
       "      <td>...</td>\n",
       "      <td>...</td>\n",
       "      <td>...</td>\n",
       "      <td>...</td>\n",
       "      <td>...</td>\n",
       "      <td>...</td>\n",
       "      <td>...</td>\n",
       "      <td>...</td>\n",
       "      <td>...</td>\n",
       "      <td>...</td>\n",
       "      <td>...</td>\n",
       "      <td>...</td>\n",
       "      <td>...</td>\n",
       "      <td>...</td>\n",
       "      <td>...</td>\n",
       "      <td>...</td>\n",
       "      <td>...</td>\n",
       "      <td>...</td>\n",
       "      <td>...</td>\n",
       "    </tr>\n",
       "    <tr>\n",
       "      <th>CMC_MSSM_348</th>\n",
       "      <td>MSSM</td>\n",
       "      <td>Female</td>\n",
       "      <td>XX</td>\n",
       "      <td>Caucasian</td>\n",
       "      <td>1.355647</td>\n",
       "      <td>0.104881</td>\n",
       "      <td>1.821715</td>\n",
       "      <td>1</td>\n",
       "      <td>-0.777117</td>\n",
       "      <td>0</td>\n",
       "      <td>...</td>\n",
       "      <td>0</td>\n",
       "      <td>0</td>\n",
       "      <td>0</td>\n",
       "      <td>0</td>\n",
       "      <td>1</td>\n",
       "      <td>0.445518</td>\n",
       "      <td>-2.198854</td>\n",
       "      <td>0.090958</td>\n",
       "      <td>-1.169817</td>\n",
       "      <td>-1.225072</td>\n",
       "    </tr>\n",
       "    <tr>\n",
       "      <th>CMC_PITT_064</th>\n",
       "      <td>Pitt</td>\n",
       "      <td>Male</td>\n",
       "      <td>XY</td>\n",
       "      <td>Caucasian</td>\n",
       "      <td>-0.805687</td>\n",
       "      <td>1.213186</td>\n",
       "      <td>0.260754</td>\n",
       "      <td>0</td>\n",
       "      <td>1.248153</td>\n",
       "      <td>0</td>\n",
       "      <td>...</td>\n",
       "      <td>0</td>\n",
       "      <td>0</td>\n",
       "      <td>0</td>\n",
       "      <td>0</td>\n",
       "      <td>1</td>\n",
       "      <td>0.537126</td>\n",
       "      <td>0.790520</td>\n",
       "      <td>0.250359</td>\n",
       "      <td>0.157020</td>\n",
       "      <td>-0.205863</td>\n",
       "    </tr>\n",
       "    <tr>\n",
       "      <th>CMC_PITT_082</th>\n",
       "      <td>Pitt</td>\n",
       "      <td>Male</td>\n",
       "      <td>XY</td>\n",
       "      <td>Caucasian</td>\n",
       "      <td>-0.373421</td>\n",
       "      <td>0.930979</td>\n",
       "      <td>-0.345444</td>\n",
       "      <td>0</td>\n",
       "      <td>-0.932907</td>\n",
       "      <td>0</td>\n",
       "      <td>...</td>\n",
       "      <td>0</td>\n",
       "      <td>0</td>\n",
       "      <td>0</td>\n",
       "      <td>0</td>\n",
       "      <td>1</td>\n",
       "      <td>0.539925</td>\n",
       "      <td>0.989394</td>\n",
       "      <td>0.155134</td>\n",
       "      <td>-0.823816</td>\n",
       "      <td>0.866481</td>\n",
       "    </tr>\n",
       "    <tr>\n",
       "      <th>CMC_MSSM_027</th>\n",
       "      <td>MSSM</td>\n",
       "      <td>Male</td>\n",
       "      <td>XY</td>\n",
       "      <td>Caucasian</td>\n",
       "      <td>-0.064658</td>\n",
       "      <td>0.027915</td>\n",
       "      <td>-0.671276</td>\n",
       "      <td>1</td>\n",
       "      <td>-1.088697</td>\n",
       "      <td>0</td>\n",
       "      <td>...</td>\n",
       "      <td>0</td>\n",
       "      <td>0</td>\n",
       "      <td>1</td>\n",
       "      <td>0</td>\n",
       "      <td>1</td>\n",
       "      <td>0.475874</td>\n",
       "      <td>-1.023532</td>\n",
       "      <td>0.229492</td>\n",
       "      <td>3.074290</td>\n",
       "      <td>-0.656323</td>\n",
       "    </tr>\n",
       "    <tr>\n",
       "      <th>CMC_MSSM_340</th>\n",
       "      <td>MSSM</td>\n",
       "      <td>Male</td>\n",
       "      <td>XY</td>\n",
       "      <td>African-American</td>\n",
       "      <td>0.552866</td>\n",
       "      <td>-0.993162</td>\n",
       "      <td>0.677516</td>\n",
       "      <td>1</td>\n",
       "      <td>-0.309747</td>\n",
       "      <td>0</td>\n",
       "      <td>...</td>\n",
       "      <td>0</td>\n",
       "      <td>0</td>\n",
       "      <td>0</td>\n",
       "      <td>0</td>\n",
       "      <td>1</td>\n",
       "      <td>0.432008</td>\n",
       "      <td>-2.168133</td>\n",
       "      <td>0.081880</td>\n",
       "      <td>-0.657578</td>\n",
       "      <td>1.405711</td>\n",
       "    </tr>\n",
       "  </tbody>\n",
       "</table>\n",
       "<p>85 rows × 23 columns</p>\n",
       "</div>"
      ],
      "text/plain": [
       "             Institution ReportedGender Sex         Ethnicity  ageOfDeath  \\\n",
       "CMC_MSSM_099        MSSM         Female  XX  African-American   -0.311668   \n",
       "CMC_MSSM_352        MSSM           Male  XY         Caucasian   -0.188163   \n",
       "CMC_PITT_024        Pitt         Female  XX         Caucasian   -1.608469   \n",
       "CMC_PITT_052        Pitt           Male  XY         Caucasian   -0.496925   \n",
       "CMC_MSSM_142        MSSM         Female  XX         Caucasian    0.738123   \n",
       "...                  ...            ...  ..               ...         ...   \n",
       "CMC_MSSM_348        MSSM         Female  XX         Caucasian    1.355647   \n",
       "CMC_PITT_064        Pitt           Male  XY         Caucasian   -0.805687   \n",
       "CMC_PITT_082        Pitt           Male  XY         Caucasian   -0.373421   \n",
       "CMC_MSSM_027        MSSM           Male  XY         Caucasian   -0.064658   \n",
       "CMC_MSSM_340        MSSM           Male  XY  African-American    0.552866   \n",
       "\n",
       "              BrainWeightingrams  PMIinhours  Dx  YearofAutopsy  \\\n",
       "CMC_MSSM_099           -0.521106   -1.057727   0       0.157623   \n",
       "CMC_MSSM_352           -1.126569   -1.262319   1      -0.621327   \n",
       "CMC_PITT_024            0.674427   -0.065077   1       0.469203   \n",
       "CMC_PITT_052            1.880222    0.238022   1       0.936573   \n",
       "CMC_MSSM_142           -0.941852   -1.330516   1      -1.244487   \n",
       "...                          ...         ...  ..            ...   \n",
       "CMC_MSSM_348            0.104881    1.821715   1      -0.777117   \n",
       "CMC_PITT_064            1.213186    0.260754   0       1.248153   \n",
       "CMC_PITT_082            0.930979   -0.345444   0      -0.932907   \n",
       "CMC_MSSM_027            0.027915   -0.671276   1      -1.088697   \n",
       "CMC_MSSM_340           -0.993162    0.677516   1      -0.309747   \n",
       "\n",
       "             Benzodiazepines  ... Antidepress Lithium Alcohol Illicitsub  \\\n",
       "CMC_MSSM_099               0  ...           1       0       0          0   \n",
       "CMC_MSSM_352               0  ...           0       0       0          0   \n",
       "CMC_PITT_024               0  ...           1       0       0          0   \n",
       "CMC_PITT_052               0  ...           1       0       0          0   \n",
       "CMC_MSSM_142               0  ...           0       0       1          0   \n",
       "...                      ...  ...         ...     ...     ...        ...   \n",
       "CMC_MSSM_348               0  ...           0       0       0          0   \n",
       "CMC_PITT_064               0  ...           0       0       0          0   \n",
       "CMC_PITT_082               0  ...           0       0       0          0   \n",
       "CMC_MSSM_027               0  ...           0       0       1          0   \n",
       "CMC_MSSM_340               0  ...           0       0       0          0   \n",
       "\n",
       "             causeOfDeath       EV1       EV2       EV3       EV4       EV5  \n",
       "CMC_MSSM_099            1 -2.352409  0.121748  0.564939  0.047467  0.367871  \n",
       "CMC_MSSM_352            1  0.499584 -0.026264  0.225710  0.261236  0.496765  \n",
       "CMC_PITT_024            5  0.565168  0.670172  0.171777  0.270921  0.183473  \n",
       "CMC_PITT_052            5  0.538337  0.537886  0.200020 -0.048272 -0.231317  \n",
       "CMC_MSSM_142            1  0.529806  0.823618  0.082195 -0.280686  0.194008  \n",
       "...                   ...       ...       ...       ...       ...       ...  \n",
       "CMC_MSSM_348            1  0.445518 -2.198854  0.090958 -1.169817 -1.225072  \n",
       "CMC_PITT_064            1  0.537126  0.790520  0.250359  0.157020 -0.205863  \n",
       "CMC_PITT_082            1  0.539925  0.989394  0.155134 -0.823816  0.866481  \n",
       "CMC_MSSM_027            1  0.475874 -1.023532  0.229492  3.074290 -0.656323  \n",
       "CMC_MSSM_340            1  0.432008 -2.168133  0.081880 -0.657578  1.405711  \n",
       "\n",
       "[85 rows x 23 columns]"
      ]
     },
     "execution_count": 10,
     "metadata": {},
     "output_type": "execute_result"
    }
   ],
   "source": [
    "clin1 = preprocessing.preprocess(clin)\n",
    "clin1"
   ]
  },
  {
   "cell_type": "markdown",
   "metadata": {},
   "source": [
    "## Modeling\n",
    "### Forward selection\n",
    "\n",
    "I used [this implementation](https://planspace.org/20150423-forward_selection_with_statsmodels/) of forward variable selection.  In this implementation the adjusted R-squared statistic was the score that was maximized as the algorithm progressed. "
   ]
  },
  {
   "cell_type": "code",
   "execution_count": 11,
   "metadata": {},
   "outputs": [],
   "source": [
    "best = fwsel.forward_selected(clin1, 'Dx')"
   ]
  },
  {
   "cell_type": "markdown",
   "metadata": {},
   "source": [
    "The results below show that typical and atypical antipsychotics have the most significant \"effect\" on schizophrenia "
   ]
  },
  {
   "cell_type": "code",
   "execution_count": 12,
   "metadata": {},
   "outputs": [
    {
     "data": {
      "text/plain": [
       "'Dx ~ AntipsychAtyp + YearofAutopsy + AntipsychTyp + EV3 + Institution + Benzodiazepines + causeOfDeath + Ethnicity + ReportedGender + Alcohol + PMIinhours + BrainWeightingrams + EV1 + EV4 + 1'"
      ]
     },
     "execution_count": 12,
     "metadata": {},
     "output_type": "execute_result"
    }
   ],
   "source": [
    "best.model.formula"
   ]
  },
  {
   "cell_type": "code",
   "execution_count": 13,
   "metadata": {},
   "outputs": [
    {
     "data": {
      "text/html": [
       "<table class=\"simpletable\">\n",
       "<caption>OLS Regression Results</caption>\n",
       "<tr>\n",
       "  <th>Dep. Variable:</th>           <td>Dx</td>        <th>  R-squared:         </th> <td>   0.689</td>\n",
       "</tr>\n",
       "<tr>\n",
       "  <th>Model:</th>                   <td>OLS</td>       <th>  Adj. R-squared:    </th> <td>   0.604</td>\n",
       "</tr>\n",
       "<tr>\n",
       "  <th>Method:</th>             <td>Least Squares</td>  <th>  F-statistic:       </th> <td>   8.111</td>\n",
       "</tr>\n",
       "<tr>\n",
       "  <th>Date:</th>             <td>Fri, 21 Aug 2020</td> <th>  Prob (F-statistic):</th> <td>1.02e-10</td>\n",
       "</tr>\n",
       "<tr>\n",
       "  <th>Time:</th>                 <td>14:28:49</td>     <th>  Log-Likelihood:    </th> <td> -4.2023</td>\n",
       "</tr>\n",
       "<tr>\n",
       "  <th>No. Observations:</th>      <td>    85</td>      <th>  AIC:               </th> <td>   46.40</td>\n",
       "</tr>\n",
       "<tr>\n",
       "  <th>Df Residuals:</th>          <td>    66</td>      <th>  BIC:               </th> <td>   92.81</td>\n",
       "</tr>\n",
       "<tr>\n",
       "  <th>Df Model:</th>              <td>    18</td>      <th>                     </th>     <td> </td>   \n",
       "</tr>\n",
       "<tr>\n",
       "  <th>Covariance Type:</th>      <td>nonrobust</td>    <th>                     </th>     <td> </td>   \n",
       "</tr>\n",
       "</table>\n",
       "<table class=\"simpletable\">\n",
       "<tr>\n",
       "             <td></td>               <th>coef</th>     <th>std err</th>      <th>t</th>      <th>P>|t|</th>  <th>[0.025</th>    <th>0.975]</th>  \n",
       "</tr>\n",
       "<tr>\n",
       "  <th>Intercept</th>              <td>    0.4326</td> <td>    0.146</td> <td>    2.972</td> <td> 0.004</td> <td>    0.142</td> <td>    0.723</td>\n",
       "</tr>\n",
       "<tr>\n",
       "  <th>AntipsychAtyp[T.1]</th>     <td>    0.5170</td> <td>    0.076</td> <td>    6.765</td> <td> 0.000</td> <td>    0.364</td> <td>    0.670</td>\n",
       "</tr>\n",
       "<tr>\n",
       "  <th>AntipsychTyp[T.1]</th>      <td>    0.4414</td> <td>    0.097</td> <td>    4.527</td> <td> 0.000</td> <td>    0.247</td> <td>    0.636</td>\n",
       "</tr>\n",
       "<tr>\n",
       "  <th>Institution[T.Pitt]</th>    <td>   -0.1949</td> <td>    0.099</td> <td>   -1.968</td> <td> 0.053</td> <td>   -0.393</td> <td>    0.003</td>\n",
       "</tr>\n",
       "<tr>\n",
       "  <th>Benzodiazepines[T.1]</th>   <td>   -0.2556</td> <td>    0.096</td> <td>   -2.658</td> <td> 0.010</td> <td>   -0.448</td> <td>   -0.064</td>\n",
       "</tr>\n",
       "<tr>\n",
       "  <th>causeOfDeath[T.2]</th>      <td>    0.4436</td> <td>    0.229</td> <td>    1.933</td> <td> 0.058</td> <td>   -0.015</td> <td>    0.902</td>\n",
       "</tr>\n",
       "<tr>\n",
       "  <th>causeOfDeath[T.3]</th>      <td>    0.4872</td> <td>    0.230</td> <td>    2.120</td> <td> 0.038</td> <td>    0.028</td> <td>    0.946</td>\n",
       "</tr>\n",
       "<tr>\n",
       "  <th>causeOfDeath[T.4]</th>      <td>   -0.1273</td> <td>    0.252</td> <td>   -0.505</td> <td> 0.615</td> <td>   -0.630</td> <td>    0.376</td>\n",
       "</tr>\n",
       "<tr>\n",
       "  <th>causeOfDeath[T.5]</th>      <td>    0.1783</td> <td>    0.111</td> <td>    1.603</td> <td> 0.114</td> <td>   -0.044</td> <td>    0.400</td>\n",
       "</tr>\n",
       "<tr>\n",
       "  <th>Ethnicity[T.Caucasian]</th> <td>    0.1453</td> <td>    0.145</td> <td>    1.003</td> <td> 0.320</td> <td>   -0.144</td> <td>    0.435</td>\n",
       "</tr>\n",
       "<tr>\n",
       "  <th>Ethnicity[T.Hispanic]</th>  <td>   -0.5401</td> <td>    0.319</td> <td>   -1.694</td> <td> 0.095</td> <td>   -1.177</td> <td>    0.097</td>\n",
       "</tr>\n",
       "<tr>\n",
       "  <th>ReportedGender[T.Male]</th> <td>   -0.0951</td> <td>    0.076</td> <td>   -1.257</td> <td> 0.213</td> <td>   -0.246</td> <td>    0.056</td>\n",
       "</tr>\n",
       "<tr>\n",
       "  <th>Alcohol[T.1]</th>           <td>    0.1216</td> <td>    0.092</td> <td>    1.315</td> <td> 0.193</td> <td>   -0.063</td> <td>    0.306</td>\n",
       "</tr>\n",
       "<tr>\n",
       "  <th>YearofAutopsy</th>          <td>   -0.1898</td> <td>    0.040</td> <td>   -4.703</td> <td> 0.000</td> <td>   -0.270</td> <td>   -0.109</td>\n",
       "</tr>\n",
       "<tr>\n",
       "  <th>EV3</th>                    <td>    0.0647</td> <td>    0.046</td> <td>    1.419</td> <td> 0.161</td> <td>   -0.026</td> <td>    0.156</td>\n",
       "</tr>\n",
       "<tr>\n",
       "  <th>PMIinhours</th>             <td>    0.0538</td> <td>    0.034</td> <td>    1.582</td> <td> 0.118</td> <td>   -0.014</td> <td>    0.122</td>\n",
       "</tr>\n",
       "<tr>\n",
       "  <th>BrainWeightingrams</th>     <td>   -0.0622</td> <td>    0.044</td> <td>   -1.429</td> <td> 0.158</td> <td>   -0.149</td> <td>    0.025</td>\n",
       "</tr>\n",
       "<tr>\n",
       "  <th>EV1</th>                    <td>   -0.0563</td> <td>    0.049</td> <td>   -1.151</td> <td> 0.254</td> <td>   -0.154</td> <td>    0.041</td>\n",
       "</tr>\n",
       "<tr>\n",
       "  <th>EV4</th>                    <td>    0.0360</td> <td>    0.035</td> <td>    1.033</td> <td> 0.305</td> <td>   -0.034</td> <td>    0.106</td>\n",
       "</tr>\n",
       "</table>\n",
       "<table class=\"simpletable\">\n",
       "<tr>\n",
       "  <th>Omnibus:</th>       <td> 1.203</td> <th>  Durbin-Watson:     </th> <td>   2.102</td>\n",
       "</tr>\n",
       "<tr>\n",
       "  <th>Prob(Omnibus):</th> <td> 0.548</td> <th>  Jarque-Bera (JB):  </th> <td>   1.048</td>\n",
       "</tr>\n",
       "<tr>\n",
       "  <th>Skew:</th>          <td>-0.043</td> <th>  Prob(JB):          </th> <td>   0.592</td>\n",
       "</tr>\n",
       "<tr>\n",
       "  <th>Kurtosis:</th>      <td> 2.463</td> <th>  Cond. No.          </th> <td>    18.1</td>\n",
       "</tr>\n",
       "</table><br/><br/>Warnings:<br/>[1] Standard Errors assume that the covariance matrix of the errors is correctly specified."
      ],
      "text/plain": [
       "<class 'statsmodels.iolib.summary.Summary'>\n",
       "\"\"\"\n",
       "                            OLS Regression Results                            \n",
       "==============================================================================\n",
       "Dep. Variable:                     Dx   R-squared:                       0.689\n",
       "Model:                            OLS   Adj. R-squared:                  0.604\n",
       "Method:                 Least Squares   F-statistic:                     8.111\n",
       "Date:                Fri, 21 Aug 2020   Prob (F-statistic):           1.02e-10\n",
       "Time:                        14:28:49   Log-Likelihood:                -4.2023\n",
       "No. Observations:                  85   AIC:                             46.40\n",
       "Df Residuals:                      66   BIC:                             92.81\n",
       "Df Model:                          18                                         \n",
       "Covariance Type:            nonrobust                                         \n",
       "==========================================================================================\n",
       "                             coef    std err          t      P>|t|      [0.025      0.975]\n",
       "------------------------------------------------------------------------------------------\n",
       "Intercept                  0.4326      0.146      2.972      0.004       0.142       0.723\n",
       "AntipsychAtyp[T.1]         0.5170      0.076      6.765      0.000       0.364       0.670\n",
       "AntipsychTyp[T.1]          0.4414      0.097      4.527      0.000       0.247       0.636\n",
       "Institution[T.Pitt]       -0.1949      0.099     -1.968      0.053      -0.393       0.003\n",
       "Benzodiazepines[T.1]      -0.2556      0.096     -2.658      0.010      -0.448      -0.064\n",
       "causeOfDeath[T.2]          0.4436      0.229      1.933      0.058      -0.015       0.902\n",
       "causeOfDeath[T.3]          0.4872      0.230      2.120      0.038       0.028       0.946\n",
       "causeOfDeath[T.4]         -0.1273      0.252     -0.505      0.615      -0.630       0.376\n",
       "causeOfDeath[T.5]          0.1783      0.111      1.603      0.114      -0.044       0.400\n",
       "Ethnicity[T.Caucasian]     0.1453      0.145      1.003      0.320      -0.144       0.435\n",
       "Ethnicity[T.Hispanic]     -0.5401      0.319     -1.694      0.095      -1.177       0.097\n",
       "ReportedGender[T.Male]    -0.0951      0.076     -1.257      0.213      -0.246       0.056\n",
       "Alcohol[T.1]               0.1216      0.092      1.315      0.193      -0.063       0.306\n",
       "YearofAutopsy             -0.1898      0.040     -4.703      0.000      -0.270      -0.109\n",
       "EV3                        0.0647      0.046      1.419      0.161      -0.026       0.156\n",
       "PMIinhours                 0.0538      0.034      1.582      0.118      -0.014       0.122\n",
       "BrainWeightingrams        -0.0622      0.044     -1.429      0.158      -0.149       0.025\n",
       "EV1                       -0.0563      0.049     -1.151      0.254      -0.154       0.041\n",
       "EV4                        0.0360      0.035      1.033      0.305      -0.034       0.106\n",
       "==============================================================================\n",
       "Omnibus:                        1.203   Durbin-Watson:                   2.102\n",
       "Prob(Omnibus):                  0.548   Jarque-Bera (JB):                1.048\n",
       "Skew:                          -0.043   Prob(JB):                        0.592\n",
       "Kurtosis:                       2.463   Cond. No.                         18.1\n",
       "==============================================================================\n",
       "\n",
       "Warnings:\n",
       "[1] Standard Errors assume that the covariance matrix of the errors is correctly specified.\n",
       "\"\"\""
      ]
     },
     "execution_count": 13,
     "metadata": {},
     "output_type": "execute_result"
    }
   ],
   "source": [
    "best.summary()"
   ]
  },
  {
   "cell_type": "markdown",
   "metadata": {},
   "source": [
    "### Antipsychotics\n",
    "\n",
    "The following summary shows that out of 67 schizophrenic individuals 28 did not take any antipsychotics."
   ]
  },
  {
   "cell_type": "code",
   "execution_count": 14,
   "metadata": {},
   "outputs": [
    {
     "data": {
      "text/plain": [
       "Dx       AntipsychTyp  AntipsychAtyp\n",
       "Control  0             0                24\n",
       "                       1                 1\n",
       "         1             0                 0\n",
       "                       1                 0\n",
       "SCZ      0             0                25\n",
       "                       1                21\n",
       "         1             0                 8\n",
       "                       1                 6\n",
       "dtype: int64"
      ]
     },
     "execution_count": 14,
     "metadata": {},
     "output_type": "execute_result"
    }
   ],
   "source": [
    "clin.groupby(['Dx', 'AntipsychTyp', 'AntipsychAtyp']).size()"
   ]
  },
  {
   "cell_type": "markdown",
   "metadata": {},
   "source": [
    "### Fit diagnostics\n",
    "\n",
    "Atypical antipsychothics `AntipsychAtyp` had the most significant effect on disease status `Dx`.  Below are regression plots for this variable that show residuals as well as regression coefficients (slopes of solid straight lines in lower plots)."
   ]
  },
  {
   "cell_type": "code",
   "execution_count": 15,
   "metadata": {},
   "outputs": [
    {
     "data": {
      "image/png": "[encoded data removed]",
      "text/plain": [
       "<Figure size 432x288 with 4 Axes>"
      ]
     },
     "execution_count": 15,
     "metadata": {},
     "output_type": "execute_result"
    },
    {
     "data": {
      "image/png": "[encoded data removed]",
      "text/plain": [
       "<Figure size 432x288 with 4 Axes>"
      ]
     },
     "metadata": {
      "needs_background": "light"
     },
     "output_type": "display_data"
    }
   ],
   "source": [
    "%matplotlib tk\n",
    "sm.graphics.plot_regress_exog(best, 'AntipsychAtyp[T.1]')"
   ]
  },
  {
   "cell_type": "markdown",
   "metadata": {},
   "source": [
    "### What about Ethnicity?\n",
    "\n",
    "To address this question we exclude EV_3 and repeat the forward variable selection"
   ]
  },
  {
   "cell_type": "code",
   "execution_count": 16,
   "metadata": {},
   "outputs": [],
   "source": [
    "best1 = fwsel.forward_selected(clin1.drop(columns=['EV3']), 'Dx')"
   ]
  },
  {
   "cell_type": "code",
   "execution_count": 17,
   "metadata": {},
   "outputs": [
    {
     "data": {
      "text/plain": [
       "'Dx ~ AntipsychAtyp + YearofAutopsy + AntipsychTyp + Ethnicity + Institution + Benzodiazepines + causeOfDeath + ReportedGender + Alcohol + PMIinhours + 1'"
      ]
     },
     "execution_count": 17,
     "metadata": {},
     "output_type": "execute_result"
    }
   ],
   "source": [
    "best1.model.formula"
   ]
  },
  {
   "cell_type": "markdown",
   "metadata": {},
   "source": [
    "Recall the previous formula"
   ]
  },
  {
   "cell_type": "code",
   "execution_count": 18,
   "metadata": {},
   "outputs": [
    {
     "data": {
      "text/plain": [
       "'Dx ~ AntipsychAtyp + YearofAutopsy + AntipsychTyp + EV3 + Institution + Benzodiazepines + causeOfDeath + Ethnicity + ReportedGender + Alcohol + PMIinhours + BrainWeightingrams + EV1 + EV4 + 1'"
      ]
     },
     "execution_count": 18,
     "metadata": {},
     "output_type": "execute_result"
    }
   ],
   "source": [
    "best.model.formula"
   ]
  },
  {
   "cell_type": "markdown",
   "metadata": {},
   "source": [
    "Comparing the new `best1` to the previous `best` we see that Ethinicity has been selected in `best1` instead of EV_5 and EV_2.  EV_4 is still selected in `best1`."
   ]
  },
  {
   "cell_type": "code",
   "execution_count": 19,
   "metadata": {},
   "outputs": [
    {
     "data": {
      "text/html": [
       "<table class=\"simpletable\">\n",
       "<caption>OLS Regression Results</caption>\n",
       "<tr>\n",
       "  <th>Dep. Variable:</th>           <td>Dx</td>        <th>  R-squared:         </th> <td>   0.666</td>\n",
       "</tr>\n",
       "<tr>\n",
       "  <th>Model:</th>                   <td>OLS</td>       <th>  Adj. R-squared:    </th> <td>   0.599</td>\n",
       "</tr>\n",
       "<tr>\n",
       "  <th>Method:</th>             <td>Least Squares</td>  <th>  F-statistic:       </th> <td>   9.957</td>\n",
       "</tr>\n",
       "<tr>\n",
       "  <th>Date:</th>             <td>Fri, 21 Aug 2020</td> <th>  Prob (F-statistic):</th> <td>9.43e-12</td>\n",
       "</tr>\n",
       "<tr>\n",
       "  <th>Time:</th>                 <td>14:28:54</td>     <th>  Log-Likelihood:    </th> <td> -7.2283</td>\n",
       "</tr>\n",
       "<tr>\n",
       "  <th>No. Observations:</th>      <td>    85</td>      <th>  AIC:               </th> <td>   44.46</td>\n",
       "</tr>\n",
       "<tr>\n",
       "  <th>Df Residuals:</th>          <td>    70</td>      <th>  BIC:               </th> <td>   81.10</td>\n",
       "</tr>\n",
       "<tr>\n",
       "  <th>Df Model:</th>              <td>    14</td>      <th>                     </th>     <td> </td>   \n",
       "</tr>\n",
       "<tr>\n",
       "  <th>Covariance Type:</th>      <td>nonrobust</td>    <th>                     </th>     <td> </td>   \n",
       "</tr>\n",
       "</table>\n",
       "<table class=\"simpletable\">\n",
       "<tr>\n",
       "             <td></td>               <th>coef</th>     <th>std err</th>      <th>t</th>      <th>P>|t|</th>  <th>[0.025</th>    <th>0.975]</th>  \n",
       "</tr>\n",
       "<tr>\n",
       "  <th>Intercept</th>              <td>    0.6091</td> <td>    0.105</td> <td>    5.796</td> <td> 0.000</td> <td>    0.399</td> <td>    0.819</td>\n",
       "</tr>\n",
       "<tr>\n",
       "  <th>AntipsychAtyp[T.1]</th>     <td>    0.5407</td> <td>    0.075</td> <td>    7.205</td> <td> 0.000</td> <td>    0.391</td> <td>    0.690</td>\n",
       "</tr>\n",
       "<tr>\n",
       "  <th>AntipsychTyp[T.1]</th>      <td>    0.4806</td> <td>    0.094</td> <td>    5.117</td> <td> 0.000</td> <td>    0.293</td> <td>    0.668</td>\n",
       "</tr>\n",
       "<tr>\n",
       "  <th>Ethnicity[T.Caucasian]</th> <td>   -0.0314</td> <td>    0.101</td> <td>   -0.312</td> <td> 0.756</td> <td>   -0.232</td> <td>    0.169</td>\n",
       "</tr>\n",
       "<tr>\n",
       "  <th>Ethnicity[T.Hispanic]</th>  <td>   -0.9010</td> <td>    0.230</td> <td>   -3.910</td> <td> 0.000</td> <td>   -1.361</td> <td>   -0.441</td>\n",
       "</tr>\n",
       "<tr>\n",
       "  <th>Institution[T.Pitt]</th>    <td>   -0.2470</td> <td>    0.090</td> <td>   -2.751</td> <td> 0.008</td> <td>   -0.426</td> <td>   -0.068</td>\n",
       "</tr>\n",
       "<tr>\n",
       "  <th>Benzodiazepines[T.1]</th>   <td>   -0.2299</td> <td>    0.095</td> <td>   -2.426</td> <td> 0.018</td> <td>   -0.419</td> <td>   -0.041</td>\n",
       "</tr>\n",
       "<tr>\n",
       "  <th>causeOfDeath[T.2]</th>      <td>    0.3762</td> <td>    0.225</td> <td>    1.674</td> <td> 0.099</td> <td>   -0.072</td> <td>    0.824</td>\n",
       "</tr>\n",
       "<tr>\n",
       "  <th>causeOfDeath[T.3]</th>      <td>    0.5511</td> <td>    0.228</td> <td>    2.417</td> <td> 0.018</td> <td>    0.096</td> <td>    1.006</td>\n",
       "</tr>\n",
       "<tr>\n",
       "  <th>causeOfDeath[T.4]</th>      <td>    0.0572</td> <td>    0.213</td> <td>    0.269</td> <td> 0.789</td> <td>   -0.367</td> <td>    0.481</td>\n",
       "</tr>\n",
       "<tr>\n",
       "  <th>causeOfDeath[T.5]</th>      <td>    0.1385</td> <td>    0.109</td> <td>    1.270</td> <td> 0.208</td> <td>   -0.079</td> <td>    0.356</td>\n",
       "</tr>\n",
       "<tr>\n",
       "  <th>ReportedGender[T.Male]</th> <td>   -0.1400</td> <td>    0.072</td> <td>   -1.938</td> <td> 0.057</td> <td>   -0.284</td> <td>    0.004</td>\n",
       "</tr>\n",
       "<tr>\n",
       "  <th>Alcohol[T.1]</th>           <td>    0.1559</td> <td>    0.091</td> <td>    1.719</td> <td> 0.090</td> <td>   -0.025</td> <td>    0.337</td>\n",
       "</tr>\n",
       "<tr>\n",
       "  <th>YearofAutopsy</th>          <td>   -0.2026</td> <td>    0.039</td> <td>   -5.154</td> <td> 0.000</td> <td>   -0.281</td> <td>   -0.124</td>\n",
       "</tr>\n",
       "<tr>\n",
       "  <th>PMIinhours</th>             <td>    0.0472</td> <td>    0.033</td> <td>    1.419</td> <td> 0.160</td> <td>   -0.019</td> <td>    0.114</td>\n",
       "</tr>\n",
       "</table>\n",
       "<table class=\"simpletable\">\n",
       "<tr>\n",
       "  <th>Omnibus:</th>       <td> 0.420</td> <th>  Durbin-Watson:     </th> <td>   2.106</td>\n",
       "</tr>\n",
       "<tr>\n",
       "  <th>Prob(Omnibus):</th> <td> 0.810</td> <th>  Jarque-Bera (JB):  </th> <td>   0.581</td>\n",
       "</tr>\n",
       "<tr>\n",
       "  <th>Skew:</th>          <td> 0.078</td> <th>  Prob(JB):          </th> <td>   0.748</td>\n",
       "</tr>\n",
       "<tr>\n",
       "  <th>Kurtosis:</th>      <td> 2.626</td> <th>  Cond. No.          </th> <td>    12.7</td>\n",
       "</tr>\n",
       "</table><br/><br/>Warnings:<br/>[1] Standard Errors assume that the covariance matrix of the errors is correctly specified."
      ],
      "text/plain": [
       "<class 'statsmodels.iolib.summary.Summary'>\n",
       "\"\"\"\n",
       "                            OLS Regression Results                            \n",
       "==============================================================================\n",
       "Dep. Variable:                     Dx   R-squared:                       0.666\n",
       "Model:                            OLS   Adj. R-squared:                  0.599\n",
       "Method:                 Least Squares   F-statistic:                     9.957\n",
       "Date:                Fri, 21 Aug 2020   Prob (F-statistic):           9.43e-12\n",
       "Time:                        14:28:54   Log-Likelihood:                -7.2283\n",
       "No. Observations:                  85   AIC:                             44.46\n",
       "Df Residuals:                      70   BIC:                             81.10\n",
       "Df Model:                          14                                         \n",
       "Covariance Type:            nonrobust                                         \n",
       "==========================================================================================\n",
       "                             coef    std err          t      P>|t|      [0.025      0.975]\n",
       "------------------------------------------------------------------------------------------\n",
       "Intercept                  0.6091      0.105      5.796      0.000       0.399       0.819\n",
       "AntipsychAtyp[T.1]         0.5407      0.075      7.205      0.000       0.391       0.690\n",
       "AntipsychTyp[T.1]          0.4806      0.094      5.117      0.000       0.293       0.668\n",
       "Ethnicity[T.Caucasian]    -0.0314      0.101     -0.312      0.756      -0.232       0.169\n",
       "Ethnicity[T.Hispanic]     -0.9010      0.230     -3.910      0.000      -1.361      -0.441\n",
       "Institution[T.Pitt]       -0.2470      0.090     -2.751      0.008      -0.426      -0.068\n",
       "Benzodiazepines[T.1]      -0.2299      0.095     -2.426      0.018      -0.419      -0.041\n",
       "causeOfDeath[T.2]          0.3762      0.225      1.674      0.099      -0.072       0.824\n",
       "causeOfDeath[T.3]          0.5511      0.228      2.417      0.018       0.096       1.006\n",
       "causeOfDeath[T.4]          0.0572      0.213      0.269      0.789      -0.367       0.481\n",
       "causeOfDeath[T.5]          0.1385      0.109      1.270      0.208      -0.079       0.356\n",
       "ReportedGender[T.Male]    -0.1400      0.072     -1.938      0.057      -0.284       0.004\n",
       "Alcohol[T.1]               0.1559      0.091      1.719      0.090      -0.025       0.337\n",
       "YearofAutopsy             -0.2026      0.039     -5.154      0.000      -0.281      -0.124\n",
       "PMIinhours                 0.0472      0.033      1.419      0.160      -0.019       0.114\n",
       "==============================================================================\n",
       "Omnibus:                        0.420   Durbin-Watson:                   2.106\n",
       "Prob(Omnibus):                  0.810   Jarque-Bera (JB):                0.581\n",
       "Skew:                           0.078   Prob(JB):                        0.748\n",
       "Kurtosis:                       2.626   Cond. No.                         12.7\n",
       "==============================================================================\n",
       "\n",
       "Warnings:\n",
       "[1] Standard Errors assume that the covariance matrix of the errors is correctly specified.\n",
       "\"\"\""
      ]
     },
     "execution_count": 19,
     "metadata": {},
     "output_type": "execute_result"
    }
   ],
   "source": [
    "best1.summary()"
   ]
  },
  {
   "cell_type": "markdown",
   "metadata": {},
   "source": [
    "The summary shows that including EV_3 is beneficial for fit (R-squared, Adj. R-squared, AIC, BIC) although the effect is not enormous."
   ]
  },
  {
   "cell_type": "markdown",
   "metadata": {},
   "source": [
    "## Conclusions\n",
    "\n",
    "* Much of the CMC clinical data is missing.  Filtering removed most variables leaving about a dozen, some of which had one missing valueh, which were imputed using the sample mean (or mode for categorical variables)\n",
    "* Reported Gender and Sex are nearly identical.  Sex is a three level factor: XX, XY and XXY. The third level, XXY, occurs in only one individual, a schizophrenic male with Klinefelter syndrome.  To avoid colinearity between these two variables one of them needs to be removed.  Removing Sex leaves the simpler (two level) Reported Gender in the data set.\n",
    "* The remaining 12 variables were split to 1 response (`Dx`) and 11 explanatory variables.  8/11 explanatory variables were selected with a forward strategy using normal linear models and adjusted R-squared as score.\n",
    "* Among the 8 selected explanatory variables only AntipsychAtyp, AntipsychAtyp, Alcohol and Ancestry EV.3 (or Ethinicity if EV.3 has been omitted) had significant ($p \\le 0.01$) \"effect\" on disease status.  Not quite significant effects were displayed by Institution and Gender.\n",
    "* AntipsychAtyp, AntipsychAtyp might be assumed to be an *a posteriori* conditions relative to the onset of schizophrenia.  That assumption means they do not carry risk for schizophrenia.  On the other hand, Ancestry (Ethinicity) is clearly an *a priori* condition and as the regression coefficient's t-statistic suggests being African American carries risk relative to Hispanic individuals.\n",
    "* Thus *a posteriori* explanatory variables may or may not be included in further analyses. \n",
    "    * If they *are* included they improve fit\n",
    "    * If they are *not* included they might confound inference.  Despite that excluding all clinical variables (except individual ID) is beneficial because ordinary least squares (OLS) can be used instead of generalized ones (GLS)."
   ]
  },
  {
   "cell_type": "code",
   "execution_count": 20,
   "metadata": {},
   "outputs": [
    {
     "name": "stdout",
     "output_type": "stream",
     "text": [
      "{\n",
      "  \"shell_port\": 32901,\n",
      "  \"iopub_port\": 43751,\n",
      "  \"stdin_port\": 39255,\n",
      "  \"control_port\": 53817,\n",
      "  \"hb_port\": 47335,\n",
      "  \"ip\": \"127.0.0.1\",\n",
      "  \"key\": \"5e29c81c-2a2b6274b284cb07c35dc5de\",\n",
      "  \"transport\": \"tcp\",\n",
      "  \"signature_scheme\": \"hmac-sha256\",\n",
      "  \"kernel_name\": \"\"\n",
      "}\n",
      "\n",
      "Paste the above JSON into a file, and connect with:\n",
      "    $> jupyter <app> --existing <file>\n",
      "or, if you are local, you can connect with just:\n",
      "    $> jupyter <app> --existing kernel-59afaff0-34a8-43b0-81ec-3c3f1a2fa640.json\n",
      "or even just:\n",
      "    $> jupyter <app> --existing\n",
      "if this is the most recent Jupyter kernel you have started.\n"
     ]
    }
   ],
   "source": [
    "%connect_info"
   ]
  },
  {
   "cell_type": "code",
   "execution_count": null,
   "metadata": {},
   "outputs": [],
   "source": []
  }
 ],
 "metadata": {
  "kernelspec": {
   "display_name": "Python 3",
   "language": "python",
   "name": "python3"
  },
  "language_info": {
   "codemirror_mode": {
    "name": "ipython",
    "version": 3
   },
   "file_extension": ".py",
   "mimetype": "text/x-python",
   "name": "python",
   "nbconvert_exporter": "python",
   "pygments_lexer": "ipython3",
   "version": "3.7.6"
  }
 },
 "nbformat": 4,
 "nbformat_minor": 4
}
