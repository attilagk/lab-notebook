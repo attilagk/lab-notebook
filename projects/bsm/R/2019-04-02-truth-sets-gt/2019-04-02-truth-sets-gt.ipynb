{
 "cells": [
  {
   "cell_type": "markdown",
   "metadata": {},
   "source": [
    "Here we create a truth subset for each of the 80 joint genotypes given a variant type (snp or indel)."
   ]
  },
  {
   "cell_type": "code",
   "execution_count": 6,
   "metadata": {},
   "outputs": [],
   "source": [
    "%load_ext autoreload\n",
    "%autoreload 2\n",
    "%matplotlib inline\n",
    "import matplotlib\n",
    "matplotlib.rcParams['figure.dpi'] = 150\n",
    "#matplotlib.rcParams['figure.figsize'] = [7, 5]\n",
    "from IPython.display import set_matplotlib_formats\n",
    "set_matplotlib_formats('png', 'pdf')"
   ]
  },
  {
   "cell_type": "markdown",
   "metadata": {},
   "source": [
    "The main (shell) script `truth-sets-gt` below uses `truth_sets_gt.py`, which creates a truth subset for each joint genotype."
   ]
  },
  {
   "cell_type": "code",
   "execution_count": 12,
   "metadata": {},
   "outputs": [
    {
     "name": "stdout",
     "output_type": "stream",
     "text": [
      "\n",
      "Description\n",
      "\n",
      "Usage:\n",
      "truth-sets-gt [-a aaf_of_gt] [-s ts_gt_script] [-h] wdir\n",
      "\n",
      "Argument(s)\n",
      "    wdir (/home/attila/projects/bsm/results/2019-03-18-truth-sets/chr22/): working directory (tree); output of 2019-03-18-truth-sets/truth-sets\n",
      "\n",
      "Options:\n",
      "    a) aaf_of_gt (/home/attila/projects/bsm/results/2019-03-12-prec-recall-design/aaf_of_gt.csv): CSV file; output of joint_gt_ceph.get_aaf_of_gt; see 2019-03-12-prec-recall-design\n",
      "    s) ts_gt_script (/home/attila/projects/bsm/notebook/2019-04-02-truth-sets-gt/truth_sets_gt.py): script that creates truth subsets for all joint genotypes\n",
      "    h) displayHelp (flag): display this help page\n"
     ]
    }
   ],
   "source": [
    "%%bash\n",
    "mainscript=\"/home/attila/projects/bsm/notebook/2019-04-02-truth-sets-gt/truth-sets-gt\"\n",
    "$mainscript -h"
   ]
  },
  {
   "cell_type": "code",
   "execution_count": 18,
   "metadata": {},
   "outputs": [
    {
     "name": "stdout",
     "output_type": "stream",
     "text": [
      "/home/attila/projects/bsm/results/2019-03-18-truth-sets/chr22//snp/truthset/genotypes/0001.vcf.gz\n",
      "/home/attila/projects/bsm/results/2019-03-18-truth-sets/chr22//snp/truthset/genotypes/0002.vcf.gz\n",
      "/home/attila/projects/bsm/results/2019-03-18-truth-sets/chr22//snp/truthset/genotypes/0010.vcf.gz\n",
      "/home/attila/projects/bsm/results/2019-03-18-truth-sets/chr22//snp/truthset/genotypes/0011.vcf.gz\n",
      "/home/attila/projects/bsm/results/2019-03-18-truth-sets/chr22//snp/truthset/genotypes/0012.vcf.gz\n",
      "/home/attila/projects/bsm/results/2019-03-18-truth-sets/chr22//snp/truthset/genotypes/0020.vcf.gz\n",
      "/home/attila/projects/bsm/results/2019-03-18-truth-sets/chr22//snp/truthset/genotypes/0021.vcf.gz\n",
      "/home/attila/projects/bsm/results/2019-03-18-truth-sets/chr22//snp/truthset/genotypes/0022.vcf.gz\n",
      "/home/attila/projects/bsm/results/2019-03-18-truth-sets/chr22//snp/truthset/genotypes/0100.vcf.gz\n",
      "/home/attila/projects/bsm/results/2019-03-18-truth-sets/chr22//snp/truthset/genotypes/0101.vcf.gz\n",
      "/home/attila/projects/bsm/results/2019-03-18-truth-sets/chr22//snp/truthset/genotypes/0102.vcf.gz\n",
      "/home/attila/projects/bsm/results/2019-03-18-truth-sets/chr22//snp/truthset/genotypes/0110.vcf.gz\n",
      "/home/attila/projects/bsm/results/2019-03-18-truth-sets/chr22//snp/truthset/genotypes/0111.vcf.gz\n",
      "/home/attila/projects/bsm/results/2019-03-18-truth-sets/chr22//snp/truthset/genotypes/0112.vcf.gz\n",
      "/home/attila/projects/bsm/results/2019-03-18-truth-sets/chr22//snp/truthset/genotypes/0120.vcf.gz\n",
      "/home/attila/projects/bsm/results/2019-03-18-truth-sets/chr22//snp/truthset/genotypes/0121.vcf.gz\n",
      "/home/attila/projects/bsm/results/2019-03-18-truth-sets/chr22//snp/truthset/genotypes/0122.vcf.gz\n",
      "/home/attila/projects/bsm/results/2019-03-18-truth-sets/chr22//snp/truthset/genotypes/0200.vcf.gz\n",
      "/home/attila/projects/bsm/results/2019-03-18-truth-sets/chr22//snp/truthset/genotypes/0201.vcf.gz\n",
      "/home/attila/projects/bsm/results/2019-03-18-truth-sets/chr22//snp/truthset/genotypes/0202.vcf.gz\n",
      "/home/attila/projects/bsm/results/2019-03-18-truth-sets/chr22//snp/truthset/genotypes/0210.vcf.gz\n",
      "/home/attila/projects/bsm/results/2019-03-18-truth-sets/chr22//snp/truthset/genotypes/0211.vcf.gz\n",
      "/home/attila/projects/bsm/results/2019-03-18-truth-sets/chr22//snp/truthset/genotypes/0212.vcf.gz\n",
      "/home/attila/projects/bsm/results/2019-03-18-truth-sets/chr22//snp/truthset/genotypes/0220.vcf.gz\n",
      "/home/attila/projects/bsm/results/2019-03-18-truth-sets/chr22//snp/truthset/genotypes/0221.vcf.gz\n",
      "/home/attila/projects/bsm/results/2019-03-18-truth-sets/chr22//snp/truthset/genotypes/0222.vcf.gz\n",
      "/home/attila/projects/bsm/results/2019-03-18-truth-sets/chr22//snp/truthset/genotypes/1000.vcf.gz\n",
      "/home/attila/projects/bsm/results/2019-03-18-truth-sets/chr22//snp/truthset/genotypes/1001.vcf.gz\n",
      "/home/attila/projects/bsm/results/2019-03-18-truth-sets/chr22//snp/truthset/genotypes/1002.vcf.gz\n",
      "/home/attila/projects/bsm/results/2019-03-18-truth-sets/chr22//snp/truthset/genotypes/1010.vcf.gz\n",
      "/home/attila/projects/bsm/results/2019-03-18-truth-sets/chr22//snp/truthset/genotypes/1011.vcf.gz\n",
      "/home/attila/projects/bsm/results/2019-03-18-truth-sets/chr22//snp/truthset/genotypes/1012.vcf.gz\n",
      "/home/attila/projects/bsm/results/2019-03-18-truth-sets/chr22//snp/truthset/genotypes/1020.vcf.gz\n",
      "/home/attila/projects/bsm/results/2019-03-18-truth-sets/chr22//snp/truthset/genotypes/1021.vcf.gz\n",
      "/home/attila/projects/bsm/results/2019-03-18-truth-sets/chr22//snp/truthset/genotypes/1022.vcf.gz\n",
      "/home/attila/projects/bsm/results/2019-03-18-truth-sets/chr22//snp/truthset/genotypes/1100.vcf.gz\n",
      "/home/attila/projects/bsm/results/2019-03-18-truth-sets/chr22//snp/truthset/genotypes/1101.vcf.gz\n",
      "/home/attila/projects/bsm/results/2019-03-18-truth-sets/chr22//snp/truthset/genotypes/1102.vcf.gz\n",
      "/home/attila/projects/bsm/results/2019-03-18-truth-sets/chr22//snp/truthset/genotypes/1110.vcf.gz\n",
      "/home/attila/projects/bsm/results/2019-03-18-truth-sets/chr22//snp/truthset/genotypes/1111.vcf.gz\n",
      "/home/attila/projects/bsm/results/2019-03-18-truth-sets/chr22//snp/truthset/genotypes/1112.vcf.gz\n",
      "/home/attila/projects/bsm/results/2019-03-18-truth-sets/chr22//snp/truthset/genotypes/1120.vcf.gz\n",
      "/home/attila/projects/bsm/results/2019-03-18-truth-sets/chr22//snp/truthset/genotypes/1121.vcf.gz\n",
      "/home/attila/projects/bsm/results/2019-03-18-truth-sets/chr22//snp/truthset/genotypes/1122.vcf.gz\n",
      "/home/attila/projects/bsm/results/2019-03-18-truth-sets/chr22//snp/truthset/genotypes/1200.vcf.gz\n",
      "/home/attila/projects/bsm/results/2019-03-18-truth-sets/chr22//snp/truthset/genotypes/1201.vcf.gz\n",
      "/home/attila/projects/bsm/results/2019-03-18-truth-sets/chr22//snp/truthset/genotypes/1202.vcf.gz\n",
      "/home/attila/projects/bsm/results/2019-03-18-truth-sets/chr22//snp/truthset/genotypes/1210.vcf.gz\n",
      "/home/attila/projects/bsm/results/2019-03-18-truth-sets/chr22//snp/truthset/genotypes/1211.vcf.gz\n",
      "/home/attila/projects/bsm/results/2019-03-18-truth-sets/chr22//snp/truthset/genotypes/1212.vcf.gz\n",
      "/home/attila/projects/bsm/results/2019-03-18-truth-sets/chr22//snp/truthset/genotypes/1220.vcf.gz\n",
      "/home/attila/projects/bsm/results/2019-03-18-truth-sets/chr22//snp/truthset/genotypes/1221.vcf.gz\n",
      "/home/attila/projects/bsm/results/2019-03-18-truth-sets/chr22//snp/truthset/genotypes/1222.vcf.gz\n",
      "/home/attila/projects/bsm/results/2019-03-18-truth-sets/chr22//snp/truthset/genotypes/2000.vcf.gz\n",
      "/home/attila/projects/bsm/results/2019-03-18-truth-sets/chr22//snp/truthset/genotypes/2001.vcf.gz\n",
      "/home/attila/projects/bsm/results/2019-03-18-truth-sets/chr22//snp/truthset/genotypes/2002.vcf.gz\n",
      "/home/attila/projects/bsm/results/2019-03-18-truth-sets/chr22//snp/truthset/genotypes/2010.vcf.gz\n",
      "/home/attila/projects/bsm/results/2019-03-18-truth-sets/chr22//snp/truthset/genotypes/2011.vcf.gz\n",
      "/home/attila/projects/bsm/results/2019-03-18-truth-sets/chr22//snp/truthset/genotypes/2012.vcf.gz\n",
      "/home/attila/projects/bsm/results/2019-03-18-truth-sets/chr22//snp/truthset/genotypes/2020.vcf.gz\n",
      "/home/attila/projects/bsm/results/2019-03-18-truth-sets/chr22//snp/truthset/genotypes/2021.vcf.gz\n",
      "/home/attila/projects/bsm/results/2019-03-18-truth-sets/chr22//snp/truthset/genotypes/2022.vcf.gz\n",
      "/home/attila/projects/bsm/results/2019-03-18-truth-sets/chr22//snp/truthset/genotypes/2100.vcf.gz\n",
      "/home/attila/projects/bsm/results/2019-03-18-truth-sets/chr22//snp/truthset/genotypes/2101.vcf.gz\n",
      "/home/attila/projects/bsm/results/2019-03-18-truth-sets/chr22//snp/truthset/genotypes/2102.vcf.gz\n",
      "/home/attila/projects/bsm/results/2019-03-18-truth-sets/chr22//snp/truthset/genotypes/2110.vcf.gz\n",
      "/home/attila/projects/bsm/results/2019-03-18-truth-sets/chr22//snp/truthset/genotypes/2111.vcf.gz\n",
      "/home/attila/projects/bsm/results/2019-03-18-truth-sets/chr22//snp/truthset/genotypes/2112.vcf.gz\n",
      "/home/attila/projects/bsm/results/2019-03-18-truth-sets/chr22//snp/truthset/genotypes/2120.vcf.gz\n",
      "/home/attila/projects/bsm/results/2019-03-18-truth-sets/chr22//snp/truthset/genotypes/2121.vcf.gz\n",
      "/home/attila/projects/bsm/results/2019-03-18-truth-sets/chr22//snp/truthset/genotypes/2122.vcf.gz\n",
      "/home/attila/projects/bsm/results/2019-03-18-truth-sets/chr22//snp/truthset/genotypes/2200.vcf.gz\n",
      "/home/attila/projects/bsm/results/2019-03-18-truth-sets/chr22//snp/truthset/genotypes/2201.vcf.gz\n",
      "/home/attila/projects/bsm/results/2019-03-18-truth-sets/chr22//snp/truthset/genotypes/2202.vcf.gz\n",
      "/home/attila/projects/bsm/results/2019-03-18-truth-sets/chr22//snp/truthset/genotypes/2210.vcf.gz\n",
      "/home/attila/projects/bsm/results/2019-03-18-truth-sets/chr22//snp/truthset/genotypes/2211.vcf.gz\n",
      "/home/attila/projects/bsm/results/2019-03-18-truth-sets/chr22//snp/truthset/genotypes/2212.vcf.gz\n",
      "/home/attila/projects/bsm/results/2019-03-18-truth-sets/chr22//snp/truthset/genotypes/2220.vcf.gz\n",
      "/home/attila/projects/bsm/results/2019-03-18-truth-sets/chr22//snp/truthset/genotypes/2221.vcf.gz\n",
      "/home/attila/projects/bsm/results/2019-03-18-truth-sets/chr22//snp/truthset/genotypes/2222.vcf.gz\n"
     ]
    }
   ],
   "source": [
    "%%bash\n",
    "mainscript=\"/home/attila/projects/bsm/notebook/2019-04-02-truth-sets-gt/truth-sets-gt\"\n",
    "wdir=/home/attila/projects/bsm/results/2019-03-18-truth-sets/chr22/\n",
    "$mainscript $wdir\n",
    "ls $wdir/snp/truthset/genotypes/*.vcf.gz"
   ]
  },
  {
   "cell_type": "code",
   "execution_count": null,
   "metadata": {},
   "outputs": [],
   "source": []
  }
 ],
 "metadata": {
  "kernelspec": {
   "display_name": "Python 3",
   "language": "python",
   "name": "python3"
  },
  "language_info": {
   "codemirror_mode": {
    "name": "ipython",
    "version": 3
   },
   "file_extension": ".py",
   "mimetype": "text/x-python",
   "name": "python",
   "nbconvert_exporter": "python",
   "pygments_lexer": "ipython3",
   "version": "3.5.3"
  }
 },
 "nbformat": 4,
 "nbformat_minor": 2
}
