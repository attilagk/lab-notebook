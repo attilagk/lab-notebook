{
 "cells": [
  {
   "cell_type": "markdown",
   "metadata": {},
   "source": [
    "Uploading validation data from the Chess lab to Synapse"
   ]
  },
  {
   "cell_type": "code",
   "execution_count": 13,
   "metadata": {},
   "outputs": [
    {
     "name": "stdout",
     "output_type": "stream",
     "text": [
      "Welcome, Attila Gulyás-Kovács!\n",
      "\n"
     ]
    }
   ],
   "source": [
    "import synapseclient\n",
    "import glob\n",
    "import os\n",
    "syn = synapseclient.login()"
   ]
  },
  {
   "cell_type": "markdown",
   "metadata": {},
   "source": [
    "Creating a Synapse folder [Chess Lab Validation Data](https://www.synapse.org/#!Synapse:syn18358175) in the [BSMN Scratch Space](https://www.synapse.org/#!Synapse:syn10964481)"
   ]
  },
  {
   "cell_type": "code",
   "execution_count": 4,
   "metadata": {},
   "outputs": [],
   "source": [
    "data_folder = synapseclient.Folder('Chess Lab Validation Data', parent=\"syn10964481\")\n",
    "data_folder = syn.store(data_folder)"
   ]
  },
  {
   "cell_type": "markdown",
   "metadata": {},
   "source": [
    "Manually downloading the `FASTQ` files from Andy's dropbox to my local computer.  The local paths are as follows:"
   ]
  },
  {
   "cell_type": "code",
   "execution_count": 24,
   "metadata": {},
   "outputs": [
    {
     "data": {
      "text/plain": [
       "['/home/attila/Downloads/paragoncontrol_S1_L001_R2_001.fastq.gz',\n",
       " '/home/attila/Downloads/paragoncontrol_S1_L001_R1_001.fastq.gz']"
      ]
     },
     "execution_count": 24,
     "metadata": {},
     "output_type": "execute_result"
    }
   ],
   "source": [
    "paths = glob.glob(\"/home/attila/Downloads/paragoncontrol*gz\")\n",
    "paths"
   ]
  },
  {
   "cell_type": "markdown",
   "metadata": {},
   "source": [
    "Storing files in the [Chess Lab Validation Data](https://www.synapse.org/#!Synapse:syn18358175) Synapse folder"
   ]
  },
  {
   "cell_type": "code",
   "execution_count": 26,
   "metadata": {},
   "outputs": [
    {
     "name": "stdout",
     "output_type": "stream",
     "text": [
      "\n",
      "##################################################\n",
      " Uploading file to your external S3 storage \n",
      "##################################################\n",
      "\n",
      "\n",
      "##################################################\n",
      " Uploading file to your external S3 storage \n",
      "##################################################\n",
      "\n"
     ]
    },
    {
     "data": {
      "text/plain": [
       "[None, None]"
      ]
     },
     "execution_count": 26,
     "metadata": {},
     "output_type": "execute_result"
    }
   ],
   "source": [
    "def my_upload(path, parent=data_folder.properties.id, syn=syn):\n",
    "    f = synapseclient.File(path=path, parent=parent)\n",
    "    syn.store(f)\n",
    "    \n",
    "[my_upload(path=p) for p in paths]"
   ]
  },
  {
   "cell_type": "markdown",
   "metadata": {},
   "source": [
    "Removing files from my computer"
   ]
  },
  {
   "cell_type": "code",
   "execution_count": 28,
   "metadata": {},
   "outputs": [
    {
     "data": {
      "text/plain": [
       "[None, None]"
      ]
     },
     "execution_count": 28,
     "metadata": {},
     "output_type": "execute_result"
    }
   ],
   "source": [
    "[os.remove(p) for p in paths]"
   ]
  },
  {
   "cell_type": "code",
   "execution_count": null,
   "metadata": {},
   "outputs": [],
   "source": []
  }
 ],
 "metadata": {
  "kernelspec": {
   "display_name": "Python 3",
   "language": "python",
   "name": "python3"
  },
  "language_info": {
   "codemirror_mode": {
    "name": "ipython",
    "version": 3
   },
   "file_extension": ".py",
   "mimetype": "text/x-python",
   "name": "python",
   "nbconvert_exporter": "python",
   "pygments_lexer": "ipython3",
   "version": "3.5.3"
  }
 },
 "nbformat": 4,
 "nbformat_minor": 2
}
