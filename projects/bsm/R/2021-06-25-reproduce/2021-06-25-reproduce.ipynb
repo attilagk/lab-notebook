{
 "cells": [
  {
   "cell_type": "markdown",
   "id": "extraordinary-barcelona",
   "metadata": {},
   "source": [
    "Checking some basic routines for Eduardo"
   ]
  },
  {
   "cell_type": "code",
   "execution_count": 3,
   "id": "negative-content",
   "metadata": {},
   "outputs": [
    {
     "name": "stdout",
     "output_type": "stream",
     "text": [
      "The autoreload extension is already loaded. To reload it, use:\n",
      "  %reload_ext autoreload\n"
     ]
    }
   ],
   "source": [
    "%load_ext autoreload\n",
    "%autoreload 2\n",
    "%reload_ext autoreload\n",
    "import pandas as pd\n",
    "from bsmcalls import SNPnexus\n",
    "from bsmcalls import operations\n",
    "import bsmutils\n",
    "import genome\n",
    "import os\n",
    "#os.environ[\"PYTHONPATH\"] = \"/mnt/c/Users/emaur/Dropbox (MIT)/Walsh Lab/SCZ_SNV/bsm/\"\n",
    "os.chdir(bsmutils.get_bsmdir())"
   ]
  },
  {
   "cell_type": "code",
   "execution_count": 4,
   "id": "ranking-malpractice",
   "metadata": {},
   "outputs": [],
   "source": [
    "data = SNPnexus.load_data('results/2020-09-07-annotations/annotated-calls.p')\n",
    "sczgwasloci = genome.read_scz_gwas()\n",
    "data = genome.annotate_with_gwas_loci(data, gwas=sczgwasloci, modify_return_data=True)\n",
    "clozukpath = 'resources/CLOZUK/supp-table-4.csv'\n",
    "gwasgenes = operations.get_geneset(df=pd.read_csv(clozukpath, skiprows=7), col='Gene(s) tagged')"
   ]
  },
  {
   "cell_type": "markdown",
   "id": "fitted-modeling",
   "metadata": {},
   "source": [
    "Export SCZ GWAS geneset"
   ]
  },
  {
   "cell_type": "code",
   "execution_count": 40,
   "id": "forward-reproduction",
   "metadata": {},
   "outputs": [],
   "source": [
    "gwasgenesl = list(gwasgenes)\n",
    "gwasgenesl.sort()\n",
    "df = pd.DataFrame({'SCZ GWAS genes': gwasgenesl})\n",
    "df.to_csv('results/2021-06-25-reproduce/scz-gwas-genes.csv', index=False)"
   ]
  },
  {
   "cell_type": "code",
   "execution_count": 10,
   "id": "italian-afghanistan",
   "metadata": {},
   "outputs": [
    {
     "data": {
      "text/html": [
       "<div>\n",
       "<style scoped>\n",
       "    .dataframe tbody tr th:only-of-type {\n",
       "        vertical-align: middle;\n",
       "    }\n",
       "\n",
       "    .dataframe tbody tr th {\n",
       "        vertical-align: top;\n",
       "    }\n",
       "\n",
       "    .dataframe thead th {\n",
       "        text-align: right;\n",
       "    }\n",
       "</style>\n",
       "<table border=\"1\" class=\"dataframe\">\n",
       "  <thead>\n",
       "    <tr style=\"text-align: right;\">\n",
       "      <th></th>\n",
       "      <th>Dx</th>\n",
       "      <th>Control</th>\n",
       "      <th>SCZ</th>\n",
       "      <th>ASD</th>\n",
       "    </tr>\n",
       "    <tr>\n",
       "      <th>Feature</th>\n",
       "      <th>Query</th>\n",
       "      <th></th>\n",
       "      <th></th>\n",
       "      <th></th>\n",
       "    </tr>\n",
       "  </thead>\n",
       "  <tbody>\n",
       "    <tr>\n",
       "      <th>near_gens_Overlapped Gene</th>\n",
       "      <th>SCZ GWAS</th>\n",
       "      <td>20</td>\n",
       "      <td>66</td>\n",
       "      <td>42</td>\n",
       "    </tr>\n",
       "  </tbody>\n",
       "</table>\n",
       "</div>"
      ],
      "text/plain": [
       "Dx                                  Control  SCZ  ASD\n",
       "Feature                   Query                      \n",
       "near_gens_Overlapped Gene SCZ GWAS       20   66   42"
      ]
     },
     "execution_count": 10,
     "metadata": {},
     "output_type": "execute_result"
    }
   ],
   "source": [
    "genesets = {'SCZ GWAS': gwasgenes}\n",
    "querydict = {'near_gens_Overlapped Gene': genesets}\n",
    "results = operations.multiquery(querydict, data, do_sum=False, do_sort=False)\n",
    "summary = operations.summarize_query_results(results, data, chisq=False, margin=False)\n",
    "summary#.style.bar(subset='chisq stat')"
   ]
  },
  {
   "cell_type": "code",
   "execution_count": 14,
   "id": "furnished-serve",
   "metadata": {},
   "outputs": [
    {
     "data": {
      "text/plain": [
       "<AxesSubplot:>"
      ]
     },
     "execution_count": 14,
     "metadata": {},
     "output_type": "execute_result"
    },
    {
     "data": {
      "image/png": "[encoded data removed]",
      "text/plain": [
       "<Figure size 432x288 with 1 Axes>"
      ]
     },
     "metadata": {
      "needs_background": "light"
     },
     "output_type": "display_data"
    }
   ],
   "source": [
    "results[('near_gens_Overlapped Gene', 'SCZ GWAS')].hist()"
   ]
  },
  {
   "cell_type": "markdown",
   "id": "emerging-migration",
   "metadata": {},
   "source": [
    "Export results"
   ]
  },
  {
   "cell_type": "code",
   "execution_count": 21,
   "id": "compound-rubber",
   "metadata": {},
   "outputs": [],
   "source": [
    "res = pd.concat([results, data[['near_gens_Overlapped Gene']]], axis=1)\n",
    "res.to_csv('results/2021-06-25-reproduce/overlapping-scz-gwas-genes.csv')"
   ]
  },
  {
   "cell_type": "code",
   "execution_count": null,
   "id": "common-sensitivity",
   "metadata": {},
   "outputs": [],
   "source": [
    "%connect_info"
   ]
  },
  {
   "cell_type": "code",
   "execution_count": null,
   "id": "popular-ethiopia",
   "metadata": {},
   "outputs": [],
   "source": []
  }
 ],
 "metadata": {
  "kernelspec": {
   "display_name": "Python 3",
   "language": "python",
   "name": "python3"
  },
  "language_info": {
   "codemirror_mode": {
    "name": "ipython",
    "version": 3
   },
   "file_extension": ".py",
   "mimetype": "text/x-python",
   "name": "python",
   "nbconvert_exporter": "python",
   "pygments_lexer": "ipython3",
   "version": "3.7.6"
  }
 },
 "nbformat": 4,
 "nbformat_minor": 5
}
