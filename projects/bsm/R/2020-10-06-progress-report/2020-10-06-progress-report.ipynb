{
 "cells": [
  {
   "cell_type": "markdown",
   "metadata": {},
   "source": [
    "Outline for progress report"
   ]
  },
  {
   "cell_type": "code",
   "execution_count": 1,
   "metadata": {},
   "outputs": [],
   "source": [
    "%load_ext autoreload\n",
    "%autoreload 2\n",
    "%reload_ext autoreload\n",
    "from matplotlib import pyplot as plt\n",
    "import pandas as pd\n",
    "import numpy as np\n",
    "import statsmodels.api as sm\n",
    "import fwsel\n",
    "from bsmcalls import individuals\n",
    "from bsmcalls import preprocessing"
   ]
  },
  {
   "cell_type": "markdown",
   "metadata": {},
   "source": [
    "## Outline\n",
    "\n",
    "1. SCZ germline variants: heritability and complexity\n",
    "1. The CommonMind Consortium: materials, data and studies\n",
    "    * materials: brains of Control and SCZ and AFF individuals\n",
    "    * data: Gabriel's data paper\n",
    "    * studies: most relevant to the present work is SCZ and de novo mutations in the exome\n",
    "1. Questions\n",
    "    * question 1: what about somatic variants?  Expectation: the number of somatic variants is comparable to that of de novo variants but their functional effects might be similar but more subtle\n",
    "    * question 2: role of intergenic and intronic regions, regulatory elements, ...?\n",
    "    * question 3: distribution of risk between germline and somatic variants\n",
    "1. Chess study\n",
    "    * Control and SCZ individuals from CommonMind\n",
    "    * NeuN+ brain samples and some NeuN- brain and muscle samples\n",
    "    * WGS bulk sequencing; Fig: avg depth distribution in NeuN+, NeuN- and muscle samples (also Control, SCZ)\n",
    "1. Call sets\n",
    "    * Fig: control & affected WGS data sets Walsh Control DLPFC WGS data to be added (NeuN+ ?)s\n",
    "    * bsmn-pipeline on AWS ParallelCluster; thanks to TJ et al\n",
    "    * filtered callsets; `2020-08-13-select-vars/named-figure/DP-AF-jointdensity-conddensity.pdf`: joint distribution of number of calls, depth, AF; discuss implications to sensitivity/recall\n",
    "1. Call features; philosophy: collect many features and select relevant ones with statistical techniques\n",
    "    1. from Chess/CommonMind data\n",
    "        1. VCF fields: sequencing, mapping and calling (GATK HC) features\n",
    "        1. clinical such as Dx {Control, SCZ}; Note: calls are nested in individuals so the same clinical datum is repeated for each nested call\n",
    "    1. from previous studies\n",
    "        * data bases, knowledge bases, publications\n",
    "        * based on different study subjects, usually estimates of population parameters\n",
    "    1. previous studies: data bases and publications that annotate genomic coordinates sometimes in a tissue specific manner; SNPnexus server\n",
    "1. Exploration of data\n",
    "    * Fig: correlation matrix; some notable correlations\n",
    "    * Fig: correlation with Dx variable is strong for some clinical variables; discuss in terms of causality why {ethnicity, sex} but not {antipsych, manner of death,...} need to be included in a regression model!\n",
    "1. Statistical modeling\n",
    "    * nested observations + high information content of some clinical variables for Dx => least squares regression on Dx"
   ]
  },
  {
   "cell_type": "markdown",
   "metadata": {},
   "source": [
    "## Feedback\n",
    "\n",
    "Chris Walsh wanted to see a more gene centric, hypothesis driven analysis. He referred us to this new study: [Exome sequencing identifies rare coding variants in 10 genes which confer substantial risk for schizophrenia](https://www.medrxiv.org/content/10.1101/2020.09.18.20192815v1)"
   ]
  },
  {
   "cell_type": "code",
   "execution_count": null,
   "metadata": {},
   "outputs": [],
   "source": []
  }
 ],
 "metadata": {
  "kernelspec": {
   "display_name": "Python 3",
   "language": "python",
   "name": "python3"
  },
  "language_info": {
   "codemirror_mode": {
    "name": "ipython",
    "version": 3
   },
   "file_extension": ".py",
   "mimetype": "text/x-python",
   "name": "python",
   "nbconvert_exporter": "python",
   "pygments_lexer": "ipython3",
   "version": "3.7.6"
  }
 },
 "nbformat": 4,
 "nbformat_minor": 4
}
