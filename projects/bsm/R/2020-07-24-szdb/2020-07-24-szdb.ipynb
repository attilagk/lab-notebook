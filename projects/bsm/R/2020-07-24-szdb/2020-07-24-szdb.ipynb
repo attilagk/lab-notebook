{
 "cells": [
  {
   "cell_type": "markdown",
   "metadata": {},
   "source": [
    "Fetching and cleaning data from the szdb, the schizophrenia database."
   ]
  },
  {
   "cell_type": "code",
   "execution_count": 1,
   "metadata": {},
   "outputs": [],
   "source": [
    "%load_ext autoreload\n",
    "%autoreload 2\n",
    "%reload_ext autoreload\n",
    "import pandas as pd\n",
    "import numpy as np\n",
    "import re\n",
    "import szdb\n",
    "%matplotlib inline"
   ]
  },
  {
   "cell_type": "markdown",
   "metadata": {},
   "source": [
    "## CNVs\n",
    "###  From the szdb based on 77 studies\n",
    "\n",
    "The location of the CNVs implicated in schizophrenia is given in terms of cytogenic bands.  Source URL:\n",
    "\n",
    "http://www.szdb.org/download/CNV.txt"
   ]
  },
  {
   "cell_type": "code",
   "execution_count": 2,
   "metadata": {},
   "outputs": [],
   "source": [
    "fpath = '/big/results/bsm/2020-07-24-szdb/downloaded/CNV.txt'\n",
    "CNV = pd.read_csv(fpath, sep='\\t')"
   ]
  },
  {
   "cell_type": "markdown",
   "metadata": {},
   "source": [
    "Clean and get start and end cytobands"
   ]
  },
  {
   "cell_type": "code",
   "execution_count": 3,
   "metadata": {},
   "outputs": [],
   "source": [
    "CNV = CNV.loc[[bool(re.match('^[pq][0-9]+', y)) for y in CNV['cytoband']], :]\n",
    "CNV['start cytoband'] = [re.sub('([pq][0-9]+(\\.[0-9]+)?).*$', '\\\\1', c) for c in CNV.loc[:, 'cytoband']]\n",
    "CNV['end cytoband'] = CNV.loc[:, 'start cytoband']\n",
    "categories = [str(y) for y in range(1, 23)] + list('XY')\n",
    "CNV['chrom'] = pd.Categorical(CNV['chromosome'], ordered=True, categories=categories)"
   ]
  },
  {
   "cell_type": "markdown",
   "metadata": {},
   "source": [
    "### Cytoband mapping for hg19\n",
    "Mapping between cytobands and nucleotide base positions for hg19/GRCh37\n",
    "\n",
    "https://hgdownload.cse.ucsc.edu/goldenpath/hg19/database/cytoBand.txt.gz\n",
    "\n",
    "First I extend the mapping with GRCh37 style contig names and index the DataFrame."
   ]
  },
  {
   "cell_type": "code",
   "execution_count": 4,
   "metadata": {},
   "outputs": [
    {
     "data": {
      "text/html": [
       "<div>\n",
       "<style scoped>\n",
       "    .dataframe tbody tr th:only-of-type {\n",
       "        vertical-align: middle;\n",
       "    }\n",
       "\n",
       "    .dataframe tbody tr th {\n",
       "        vertical-align: top;\n",
       "    }\n",
       "\n",
       "    .dataframe thead th {\n",
       "        text-align: right;\n",
       "    }\n",
       "</style>\n",
       "<table border=\"1\" class=\"dataframe\">\n",
       "  <thead>\n",
       "    <tr style=\"text-align: right;\">\n",
       "      <th></th>\n",
       "      <th></th>\n",
       "      <th>chr</th>\n",
       "      <th>start</th>\n",
       "      <th>end</th>\n",
       "      <th>name</th>\n",
       "      <th>score</th>\n",
       "      <th>chrom</th>\n",
       "    </tr>\n",
       "  </thead>\n",
       "  <tbody>\n",
       "    <tr>\n",
       "      <th rowspan=\"5\" valign=\"top\">1</th>\n",
       "      <th>p36.33</th>\n",
       "      <td>chr1</td>\n",
       "      <td>0</td>\n",
       "      <td>2300000</td>\n",
       "      <td>p36.33</td>\n",
       "      <td>gneg</td>\n",
       "      <td>1</td>\n",
       "    </tr>\n",
       "    <tr>\n",
       "      <th>p36.32</th>\n",
       "      <td>chr1</td>\n",
       "      <td>2300000</td>\n",
       "      <td>5400000</td>\n",
       "      <td>p36.32</td>\n",
       "      <td>gpos25</td>\n",
       "      <td>1</td>\n",
       "    </tr>\n",
       "    <tr>\n",
       "      <th>p36.31</th>\n",
       "      <td>chr1</td>\n",
       "      <td>5400000</td>\n",
       "      <td>7200000</td>\n",
       "      <td>p36.31</td>\n",
       "      <td>gneg</td>\n",
       "      <td>1</td>\n",
       "    </tr>\n",
       "    <tr>\n",
       "      <th>p36.23</th>\n",
       "      <td>chr1</td>\n",
       "      <td>7200000</td>\n",
       "      <td>9200000</td>\n",
       "      <td>p36.23</td>\n",
       "      <td>gpos25</td>\n",
       "      <td>1</td>\n",
       "    </tr>\n",
       "    <tr>\n",
       "      <th>p36.22</th>\n",
       "      <td>chr1</td>\n",
       "      <td>9200000</td>\n",
       "      <td>12700000</td>\n",
       "      <td>p36.22</td>\n",
       "      <td>gneg</td>\n",
       "      <td>1</td>\n",
       "    </tr>\n",
       "    <tr>\n",
       "      <th>...</th>\n",
       "      <th>...</th>\n",
       "      <td>...</td>\n",
       "      <td>...</td>\n",
       "      <td>...</td>\n",
       "      <td>...</td>\n",
       "      <td>...</td>\n",
       "      <td>...</td>\n",
       "    </tr>\n",
       "    <tr>\n",
       "      <th rowspan=\"5\" valign=\"top\">Y</th>\n",
       "      <th>q11.221</th>\n",
       "      <td>chrY</td>\n",
       "      <td>15100000</td>\n",
       "      <td>19800000</td>\n",
       "      <td>q11.221</td>\n",
       "      <td>gpos50</td>\n",
       "      <td>Y</td>\n",
       "    </tr>\n",
       "    <tr>\n",
       "      <th>q11.222</th>\n",
       "      <td>chrY</td>\n",
       "      <td>19800000</td>\n",
       "      <td>22100000</td>\n",
       "      <td>q11.222</td>\n",
       "      <td>gneg</td>\n",
       "      <td>Y</td>\n",
       "    </tr>\n",
       "    <tr>\n",
       "      <th>q11.223</th>\n",
       "      <td>chrY</td>\n",
       "      <td>22100000</td>\n",
       "      <td>26200000</td>\n",
       "      <td>q11.223</td>\n",
       "      <td>gpos50</td>\n",
       "      <td>Y</td>\n",
       "    </tr>\n",
       "    <tr>\n",
       "      <th>q11.23</th>\n",
       "      <td>chrY</td>\n",
       "      <td>26200000</td>\n",
       "      <td>28800000</td>\n",
       "      <td>q11.23</td>\n",
       "      <td>gneg</td>\n",
       "      <td>Y</td>\n",
       "    </tr>\n",
       "    <tr>\n",
       "      <th>q12</th>\n",
       "      <td>chrY</td>\n",
       "      <td>28800000</td>\n",
       "      <td>59373566</td>\n",
       "      <td>q12</td>\n",
       "      <td>gvar</td>\n",
       "      <td>Y</td>\n",
       "    </tr>\n",
       "  </tbody>\n",
       "</table>\n",
       "<p>862 rows × 6 columns</p>\n",
       "</div>"
      ],
      "text/plain": [
       "            chr     start       end     name   score chrom\n",
       "1 p36.33   chr1         0   2300000   p36.33    gneg     1\n",
       "  p36.32   chr1   2300000   5400000   p36.32  gpos25     1\n",
       "  p36.31   chr1   5400000   7200000   p36.31    gneg     1\n",
       "  p36.23   chr1   7200000   9200000   p36.23  gpos25     1\n",
       "  p36.22   chr1   9200000  12700000   p36.22    gneg     1\n",
       "...         ...       ...       ...      ...     ...   ...\n",
       "Y q11.221  chrY  15100000  19800000  q11.221  gpos50     Y\n",
       "  q11.222  chrY  19800000  22100000  q11.222    gneg     Y\n",
       "  q11.223  chrY  22100000  26200000  q11.223  gpos50     Y\n",
       "  q11.23   chrY  26200000  28800000   q11.23    gneg     Y\n",
       "  q12      chrY  28800000  59373566      q12    gvar     Y\n",
       "\n",
       "[862 rows x 6 columns]"
      ]
     },
     "execution_count": 4,
     "metadata": {},
     "output_type": "execute_result"
    }
   ],
   "source": [
    "hgcb = pd.read_csv('/big/data/refgenome/GRCh37/cytoBand.tsv', sep='\\t')\n",
    "# 'chrom' column will hold contig names in GRCh37 style\n",
    "l = [c.replace('chr', '') for c in hgcb['chr']]\n",
    "hgcb['chrom'] = pd.Categorical(l, ordered=True, categories=categories)\n",
    "hgcb.sort_values(by=['chrom', 'start'], inplace=True)\n",
    "# Index with tuples.  Multiindex might be better.\n",
    "#hgcb.index = [(c.replace('chr', ''), n) for c, n in zip(hgcb['chr'], hgcb['name'])]\n",
    "hgcb.index = pd.MultiIndex.from_tuples(zip(hgcb['chrom'], hgcb['name'])) \n",
    "hgcb"
   ]
  },
  {
   "cell_type": "markdown",
   "metadata": {},
   "source": [
    "Comparing the set of cytobands used in `CNV` (from szdb) to those in `hgcb` (from the hg19 bundle):"
   ]
  },
  {
   "cell_type": "code",
   "execution_count": 5,
   "metadata": {},
   "outputs": [],
   "source": [
    "set_hgcb = set(hgcb.index)\n",
    "set_CNV_start = set(list(zip(CNV['chromosome'], CNV['start cytoband'])))\n",
    "set_CNV_end = set(list(zip(CNV['chromosome'], CNV['end cytoband'])))"
   ]
  },
  {
   "cell_type": "markdown",
   "metadata": {},
   "source": [
    "In the previous code chunck `set_hgcb` is the set of cytoband names in `hgcb`. `set_CNV_starts` and `set_CNV_end` are the set of cytoband names that define the *start* and *end* of some schizophrenia related CNV, respectively.\n",
    "\n",
    "Both `set_CNV_start` and `set_CNV_end` contain cytoband names that are missing from `set_hgcb`. The following code shows that the same names are missing for `set_CNV_start` as for `set_CNV_end`."
   ]
  },
  {
   "cell_type": "code",
   "execution_count": 6,
   "metadata": {},
   "outputs": [
    {
     "data": {
      "text/plain": [
       "True"
      ]
     },
     "execution_count": 6,
     "metadata": {},
     "output_type": "execute_result"
    }
   ],
   "source": [
    "set_CNV_start - set_hgcb == set_CNV_end - set_hgcb"
   ]
  },
  {
   "cell_type": "markdown",
   "metadata": {},
   "source": [
    "I refer the missing names as *incorrect*.  The incorrect names are as follows"
   ]
  },
  {
   "cell_type": "code",
   "execution_count": 7,
   "metadata": {},
   "outputs": [
    {
     "data": {
      "text/plain": [
       "[('6', 'p13.11'),\n",
       " ('15', 'q12.1'),\n",
       " ('22', 'q11'),\n",
       " ('6', 'q22'),\n",
       " ('10', 'q23'),\n",
       " ('21', 'q22'),\n",
       " ('16', 'p12'),\n",
       " ('15', 'q11'),\n",
       " ('8', 'q11.2'),\n",
       " ('20', 'q11'),\n",
       " ('6', 'q24'),\n",
       " ('22', 'q11.2'),\n",
       " ('7', 'p36.3'),\n",
       " ('7', 'q11.2'),\n",
       " ('3', 'p21'),\n",
       " ('17', 'q21.3'),\n",
       " ('13', 'q31'),\n",
       " ('16', 'p13.1'),\n",
       " ('3', 'p263'),\n",
       " ('16', 'p11')]"
      ]
     },
     "execution_count": 7,
     "metadata": {},
     "output_type": "execute_result"
    }
   ],
   "source": [
    "incorr = list(set_CNV_start - set_hgcb)\n",
    "incorr"
   ]
  },
  {
   "cell_type": "markdown",
   "metadata": {},
   "source": [
    "By inspecting `hgcb` it turns out that the incorrect cytobands are all composed of multiple, more finely divided sub-cytobands.  So to correct each incorrect name I take the start (5') and end (3') member of its sub-cytobands from `hgcb`.  I will enter these semi-manually into the `corr start` and `corr end` columns of the following data frame."
   ]
  },
  {
   "cell_type": "code",
   "execution_count": 8,
   "metadata": {},
   "outputs": [],
   "source": [
    "corr_cb = pd.DataFrame({'incorr': incorr}, index=incorr)\n",
    "corr_cb['corr start'] = corr_cb.loc[:, 'incorr']\n",
    "corr_cb['corr end'] = corr_cb.loc[:, 'incorr']"
   ]
  },
  {
   "cell_type": "markdown",
   "metadata": {},
   "source": [
    "These functions will make manual data entry easier"
   ]
  },
  {
   "cell_type": "code",
   "execution_count": 9,
   "metadata": {},
   "outputs": [],
   "source": [
    "def correct(incorr, corr, which='start'):\n",
    "    corr_cb.loc[incorr, 'corr ' + which] = corr\n",
    "    if corr not in set_hgcb:\n",
    "        print('Wrong input:', corr, '\\nTry again')\n",
    "    \n",
    "def corrs(incorr, corr):\n",
    "    correct(incorr, corr, which='start')\n",
    "    \n",
    "def corre(incorr, corr):\n",
    "    correct(incorr, corr, which='end')"
   ]
  },
  {
   "cell_type": "markdown",
   "metadata": {},
   "source": [
    "Look at `/big/data/refgenome/GRCh37/cytoBand.tsv` for the following operations"
   ]
  },
  {
   "cell_type": "code",
   "execution_count": 10,
   "metadata": {},
   "outputs": [
    {
     "name": "stdout",
     "output_type": "stream",
     "text": [
      "Wrong input: ('6', 'p13.11') \n",
      "Try again\n",
      "Wrong input: ('6', 'p13.11') \n",
      "Try again\n",
      "Wrong input: ('7', 'p36.3') \n",
      "Try again\n",
      "Wrong input: ('7', 'p36.3') \n",
      "Try again\n"
     ]
    }
   ],
   "source": [
    "# I hate manual data entry\n",
    "corrs(('20', 'q11'), ('20', 'q11.1'))\n",
    "corre(('20', 'q11'), ('20', 'q11.23'))\n",
    "corrs(('15', 'q12.1'), ('15', 'q12'))\n",
    "corre(('15', 'q12.1'), ('15', 'q12'))\n",
    "corrs(('8', 'q11.2'), ('8', 'q11.21'))\n",
    "corre(('8', 'q11.2'), ('8', 'q11.23'))\n",
    "corrs(('16', 'p11'), ('16', 'p11.1'))\n",
    "corre(('16', 'p11'), ('16', 'p11.2'))\n",
    "corrs(('6', 'q24'), ('6', 'q24.1'))\n",
    "corre(('6', 'q24'), ('6', 'q24.3'))\n",
    "corrs(('22', 'q11.2'), ('22', 'q11.21'))\n",
    "corre(('22', 'q11.2'), ('22', 'q11.23'))\n",
    "corrs(('10', 'q23'), ('10', 'q23.1'))\n",
    "corre(('10', 'q23'), ('10', 'q23.33'))\n",
    "corrs(('6', 'p13.11'), ('6', 'p13.11'))\n",
    "corre(('6', 'p13.11'), ('6', 'p13.11'))\n",
    "corrs(('13', 'q31'), ('13', 'q31.1'))\n",
    "corre(('13', 'q31'), ('13', 'q31.3'))\n",
    "corrs(('16', 'p12'), ('16', 'p12.1'))\n",
    "corre(('16', 'p12'), ('16', 'p12.3'))\n",
    "corrs(('17', 'q21.3'), ('17', 'q21.31'))\n",
    "corre(('17', 'q21.3'), ('17', 'q21.33'))\n",
    "corrs(('3', 'p21'), ('3', 'p21.1'))\n",
    "corre(('3', 'p21'), ('3', 'p21.33'))\n",
    "corrs(('3', 'p263'), ('3', 'p26.3'))\n",
    "corre(('3', 'p263'), ('3', 'p26.3'))\n",
    "corrs(('15', 'q11'), ('15', 'q11.1'))\n",
    "corre(('15', 'q11'), ('15', 'q11.2'))\n",
    "corrs(('7', 'p36.3'), ('7', 'p36.3'))\n",
    "corre(('7', 'p36.3'), ('7', 'p36.3'))\n",
    "corrs(('22', 'q11'), ('22', 'q11.1'))\n",
    "corre(('22', 'q11'), ('22', 'q11.23'))\n",
    "corrs(('16', 'p13.1'), ('16', 'p13.11'))\n",
    "corre(('16', 'p13.1'), ('16', 'p13.13'))\n",
    "corrs(('7', 'q11.2'), ('7', 'q11.21'))\n",
    "corre(('7', 'q11.2'), ('7', 'q11.23'))\n",
    "corrs(('6', 'q22'), ('6', 'q22.1'))\n",
    "corre(('6', 'q22'), ('6', 'q22.33'))\n",
    "corrs(('21', 'q22'), ('21', 'q22.11'))\n",
    "corre(('21', 'q22'), ('21', 'q22.13'))"
   ]
  },
  {
   "cell_type": "markdown",
   "metadata": {},
   "source": [
    "The cytobands marked by `Wrong input` are probably typos made by the creators of `/big/results/bsm/2020-07-24-szdb/downloaded/CNV.txt` so I remove them from `CNV`:"
   ]
  },
  {
   "cell_type": "code",
   "execution_count": 11,
   "metadata": {},
   "outputs": [
    {
     "name": "stdout",
     "output_type": "stream",
     "text": [
      "748 943\n"
     ]
    }
   ],
   "source": [
    "l = list(zip(CNV['chromosome'], CNV['start cytoband']))\n",
    "print(l.index(('6', 'p13.11')), l.index(('7', 'p36.3')))"
   ]
  },
  {
   "cell_type": "code",
   "execution_count": 12,
   "metadata": {},
   "outputs": [],
   "source": [
    "ix_to_drop = CNV.index[[748, 943]]"
   ]
  },
  {
   "cell_type": "code",
   "execution_count": 13,
   "metadata": {},
   "outputs": [
    {
     "data": {
      "text/plain": [
       "Int64Index([760, 959], dtype='int64')"
      ]
     },
     "execution_count": 13,
     "metadata": {},
     "output_type": "execute_result"
    }
   ],
   "source": [
    "CNV.drop(index=ix_to_drop, inplace=True)\n",
    "CNV.index[[748, 943]]"
   ]
  },
  {
   "cell_type": "markdown",
   "metadata": {},
   "source": [
    "Now expand each row of `CNV` that corresponds multiple cytogenic bands either because a range of bands were given or the single band that was given corresponds to multiple ones in `hgcb`.  Essentially we move from CNV based rows to cytogenic band based ones.  We also annotate each row with the start and end base of its cytoband based on `hgcb`."
   ]
  },
  {
   "cell_type": "code",
   "execution_count": 14,
   "metadata": {},
   "outputs": [
    {
     "data": {
      "text/html": [
       "<div>\n",
       "<style scoped>\n",
       "    .dataframe tbody tr th:only-of-type {\n",
       "        vertical-align: middle;\n",
       "    }\n",
       "\n",
       "    .dataframe tbody tr th {\n",
       "        vertical-align: top;\n",
       "    }\n",
       "\n",
       "    .dataframe thead th {\n",
       "        text-align: right;\n",
       "    }\n",
       "</style>\n",
       "<table border=\"1\" class=\"dataframe\">\n",
       "  <thead>\n",
       "    <tr style=\"text-align: right;\">\n",
       "      <th></th>\n",
       "      <th></th>\n",
       "      <th>Author</th>\n",
       "      <th>Year</th>\n",
       "      <th>PMID</th>\n",
       "      <th>Platform</th>\n",
       "      <th>Cases</th>\n",
       "      <th>control</th>\n",
       "      <th>Familial</th>\n",
       "      <th>population</th>\n",
       "      <th>chromosome</th>\n",
       "      <th>cytoband</th>\n",
       "      <th>type</th>\n",
       "      <th>Genes</th>\n",
       "      <th>Main findings</th>\n",
       "      <th>note</th>\n",
       "      <th>chrom</th>\n",
       "      <th>hg cytoband</th>\n",
       "      <th>hg chr cytoband</th>\n",
       "      <th>start</th>\n",
       "      <th>end</th>\n",
       "    </tr>\n",
       "  </thead>\n",
       "  <tbody>\n",
       "    <tr>\n",
       "      <th>5</th>\n",
       "      <th>q21.3</th>\n",
       "      <td>Wilson</td>\n",
       "      <td>2006</td>\n",
       "      <td>16434481</td>\n",
       "      <td>human BAC microarray 2.0 and qPCR</td>\n",
       "      <td>35 + 15</td>\n",
       "      <td>35 + 15</td>\n",
       "      <td>Sporadic</td>\n",
       "      <td>NaN</td>\n",
       "      <td>5</td>\n",
       "      <td>q21.3</td>\n",
       "      <td>del</td>\n",
       "      <td>EFNA5 (1 gene)</td>\n",
       "      <td>4 genes in the abrrent loci are associated wit...</td>\n",
       "      <td>Bipolar disorder is also included in this rese...</td>\n",
       "      <td>5</td>\n",
       "      <td>q21.3</td>\n",
       "      <td>(5, q21.3)</td>\n",
       "      <td>104500000</td>\n",
       "      <td>109600000</td>\n",
       "    </tr>\n",
       "    <tr>\n",
       "      <th>22</th>\n",
       "      <th>q12.3</th>\n",
       "      <td>Wilson</td>\n",
       "      <td>2006</td>\n",
       "      <td>16434481</td>\n",
       "      <td>human BAC microarray 2.1 and qPCR</td>\n",
       "      <td>35 + 15</td>\n",
       "      <td>35 + 15</td>\n",
       "      <td>Sporadic</td>\n",
       "      <td>NaN</td>\n",
       "      <td>22</td>\n",
       "      <td>q12.3</td>\n",
       "      <td>del</td>\n",
       "      <td>CACNG2 (1 gene)</td>\n",
       "      <td>4 genes in the abrrent loci are associated wit...</td>\n",
       "      <td>Bipolar disorder is also included in this rese...</td>\n",
       "      <td>22</td>\n",
       "      <td>q12.3</td>\n",
       "      <td>(22, q12.3)</td>\n",
       "      <td>32200000</td>\n",
       "      <td>37600000</td>\n",
       "    </tr>\n",
       "    <tr>\n",
       "      <th>14</th>\n",
       "      <th>q23.3</th>\n",
       "      <td>Wilson</td>\n",
       "      <td>2006</td>\n",
       "      <td>16434481</td>\n",
       "      <td>human BAC microarray 2.2 and qPCR</td>\n",
       "      <td>35 + 15</td>\n",
       "      <td>35 + 15</td>\n",
       "      <td>Sporadic</td>\n",
       "      <td>NaN</td>\n",
       "      <td>14</td>\n",
       "      <td>q23.3</td>\n",
       "      <td>dup</td>\n",
       "      <td>AKAP5 (1 gene)</td>\n",
       "      <td>4 genes in the abrrent loci are associated wit...</td>\n",
       "      <td>Bipolar disorder is also included in this rese...</td>\n",
       "      <td>14</td>\n",
       "      <td>q23.3</td>\n",
       "      <td>(14, q23.3)</td>\n",
       "      <td>64800000</td>\n",
       "      <td>67900000</td>\n",
       "    </tr>\n",
       "    <tr>\n",
       "      <th rowspan=\"2\" valign=\"top\">1</th>\n",
       "      <th>p34.3</th>\n",
       "      <td>Wilson</td>\n",
       "      <td>2006</td>\n",
       "      <td>16434481</td>\n",
       "      <td>human BAC microarray 2.3 and qPCR</td>\n",
       "      <td>35 + 15</td>\n",
       "      <td>35 + 15</td>\n",
       "      <td>Sporadic</td>\n",
       "      <td>NaN</td>\n",
       "      <td>1</td>\n",
       "      <td>p34.3</td>\n",
       "      <td>dup</td>\n",
       "      <td>GRIK3 (1 gene)</td>\n",
       "      <td>4 genes in the abrrent loci are associated wit...</td>\n",
       "      <td>Bipolar disorder is also included in this rese...</td>\n",
       "      <td>1</td>\n",
       "      <td>p34.3</td>\n",
       "      <td>(1, p34.3)</td>\n",
       "      <td>34600000</td>\n",
       "      <td>40100000</td>\n",
       "    </tr>\n",
       "    <tr>\n",
       "      <th>q44</th>\n",
       "      <td>Kirov</td>\n",
       "      <td>2008</td>\n",
       "      <td>17989066</td>\n",
       "      <td>Tiling Path BAC Array</td>\n",
       "      <td>93 trios</td>\n",
       "      <td>Database of Genomic Variants + 372</td>\n",
       "      <td>Familial + Sporadic</td>\n",
       "      <td>Bulgarian</td>\n",
       "      <td>1</td>\n",
       "      <td>q44</td>\n",
       "      <td>dup</td>\n",
       "      <td>EFCAB2/KIF26B (2 genes)</td>\n",
       "      <td>13 aberrations were found to be associated wit...</td>\n",
       "      <td>1/93 in cases; inhereated from father</td>\n",
       "      <td>1</td>\n",
       "      <td>q44</td>\n",
       "      <td>(1, q44)</td>\n",
       "      <td>243700000</td>\n",
       "      <td>249250621</td>\n",
       "    </tr>\n",
       "  </tbody>\n",
       "</table>\n",
       "</div>"
      ],
      "text/plain": [
       "           Author  Year      PMID                           Platform  \\\n",
       "5  q21.3  Wilson   2006  16434481  human BAC microarray 2.0 and qPCR   \n",
       "22 q12.3  Wilson   2006  16434481  human BAC microarray 2.1 and qPCR   \n",
       "14 q23.3  Wilson   2006  16434481  human BAC microarray 2.2 and qPCR   \n",
       "1  p34.3  Wilson   2006  16434481  human BAC microarray 2.3 and qPCR   \n",
       "   q44     Kirov   2008  17989066              Tiling Path BAC Array   \n",
       "\n",
       "               Cases                             control             Familial  \\\n",
       "5  q21.3     35 + 15                             35 + 15             Sporadic   \n",
       "22 q12.3     35 + 15                             35 + 15             Sporadic   \n",
       "14 q23.3     35 + 15                             35 + 15             Sporadic   \n",
       "1  p34.3     35 + 15                             35 + 15             Sporadic   \n",
       "   q44    93 trios    Database of Genomic Variants + 372  Familial + Sporadic   \n",
       "\n",
       "         population chromosome cytoband type                    Genes  \\\n",
       "5  q21.3        NaN          5    q21.3  del           EFNA5 (1 gene)   \n",
       "22 q12.3        NaN         22    q12.3  del          CACNG2 (1 gene)   \n",
       "14 q23.3        NaN         14    q23.3  dup           AKAP5 (1 gene)   \n",
       "1  p34.3        NaN          1    p34.3  dup           GRIK3 (1 gene)   \n",
       "   q44    Bulgarian          1      q44  dup  EFCAB2/KIF26B (2 genes)   \n",
       "\n",
       "                                              Main findings  \\\n",
       "5  q21.3  4 genes in the abrrent loci are associated wit...   \n",
       "22 q12.3  4 genes in the abrrent loci are associated wit...   \n",
       "14 q23.3  4 genes in the abrrent loci are associated wit...   \n",
       "1  p34.3  4 genes in the abrrent loci are associated wit...   \n",
       "   q44    13 aberrations were found to be associated wit...   \n",
       "\n",
       "                                                       note chrom hg cytoband  \\\n",
       "5  q21.3  Bipolar disorder is also included in this rese...     5       q21.3   \n",
       "22 q12.3  Bipolar disorder is also included in this rese...    22       q12.3   \n",
       "14 q23.3  Bipolar disorder is also included in this rese...    14       q23.3   \n",
       "1  p34.3  Bipolar disorder is also included in this rese...     1       p34.3   \n",
       "   q44                1/93 in cases; inhereated from father     1         q44   \n",
       "\n",
       "         hg chr cytoband      start        end  \n",
       "5  q21.3      (5, q21.3)  104500000  109600000  \n",
       "22 q12.3     (22, q12.3)   32200000   37600000  \n",
       "14 q23.3     (14, q23.3)   64800000   67900000  \n",
       "1  p34.3      (1, p34.3)   34600000   40100000  \n",
       "   q44          (1, q44)  243700000  249250621  "
      ]
     },
     "execution_count": 14,
     "metadata": {},
     "output_type": "execute_result"
    }
   ],
   "source": [
    "expandedCNV = szdb.expandCNV(CNV, hgcb, corr_cb)\n",
    "expandedCNV.head()"
   ]
  },
  {
   "cell_type": "markdown",
   "metadata": {},
   "source": [
    "Summarize the results by counting how many times a cytogenic band appears in the `CNV` table.  Write summary to a BED file."
   ]
  },
  {
   "cell_type": "code",
   "execution_count": 15,
   "metadata": {},
   "outputs": [
    {
     "data": {
      "text/html": [
       "<div>\n",
       "<style scoped>\n",
       "    .dataframe tbody tr th:only-of-type {\n",
       "        vertical-align: middle;\n",
       "    }\n",
       "\n",
       "    .dataframe tbody tr th {\n",
       "        vertical-align: top;\n",
       "    }\n",
       "\n",
       "    .dataframe thead th {\n",
       "        text-align: right;\n",
       "    }\n",
       "</style>\n",
       "<table border=\"1\" class=\"dataframe\">\n",
       "  <thead>\n",
       "    <tr style=\"text-align: right;\">\n",
       "      <th></th>\n",
       "      <th></th>\n",
       "      <th>chrom</th>\n",
       "      <th>start</th>\n",
       "      <th>end</th>\n",
       "      <th>count</th>\n",
       "    </tr>\n",
       "  </thead>\n",
       "  <tbody>\n",
       "    <tr>\n",
       "      <th>15</th>\n",
       "      <th>q11.2</th>\n",
       "      <td>15</td>\n",
       "      <td>20700000</td>\n",
       "      <td>25700000</td>\n",
       "      <td>51</td>\n",
       "    </tr>\n",
       "    <tr>\n",
       "      <th>22</th>\n",
       "      <th>q11.21</th>\n",
       "      <td>22</td>\n",
       "      <td>17900000</td>\n",
       "      <td>22200000</td>\n",
       "      <td>49</td>\n",
       "    </tr>\n",
       "    <tr>\n",
       "      <th>1</th>\n",
       "      <th>q21.1</th>\n",
       "      <td>1</td>\n",
       "      <td>142600000</td>\n",
       "      <td>147000000</td>\n",
       "      <td>46</td>\n",
       "    </tr>\n",
       "    <tr>\n",
       "      <th>16</th>\n",
       "      <th>p11.2</th>\n",
       "      <td>16</td>\n",
       "      <td>28100000</td>\n",
       "      <td>34600000</td>\n",
       "      <td>39</td>\n",
       "    </tr>\n",
       "    <tr>\n",
       "      <th>22</th>\n",
       "      <th>q11.22</th>\n",
       "      <td>22</td>\n",
       "      <td>22200000</td>\n",
       "      <td>23500000</td>\n",
       "      <td>35</td>\n",
       "    </tr>\n",
       "    <tr>\n",
       "      <th>...</th>\n",
       "      <th>...</th>\n",
       "      <td>...</td>\n",
       "      <td>...</td>\n",
       "      <td>...</td>\n",
       "      <td>...</td>\n",
       "    </tr>\n",
       "    <tr>\n",
       "      <th rowspan=\"2\" valign=\"top\">11</th>\n",
       "      <th>q14.3</th>\n",
       "      <td>11</td>\n",
       "      <td>88300000</td>\n",
       "      <td>92800000</td>\n",
       "      <td>0</td>\n",
       "    </tr>\n",
       "    <tr>\n",
       "      <th>q14.2</th>\n",
       "      <td>11</td>\n",
       "      <td>85600000</td>\n",
       "      <td>88300000</td>\n",
       "      <td>0</td>\n",
       "    </tr>\n",
       "    <tr>\n",
       "      <th>3</th>\n",
       "      <th>q23</th>\n",
       "      <td>3</td>\n",
       "      <td>138700000</td>\n",
       "      <td>142800000</td>\n",
       "      <td>0</td>\n",
       "    </tr>\n",
       "    <tr>\n",
       "      <th>11</th>\n",
       "      <th>q13.5</th>\n",
       "      <td>11</td>\n",
       "      <td>75200000</td>\n",
       "      <td>77100000</td>\n",
       "      <td>0</td>\n",
       "    </tr>\n",
       "    <tr>\n",
       "      <th>6</th>\n",
       "      <th>p11.2</th>\n",
       "      <td>6</td>\n",
       "      <td>57000000</td>\n",
       "      <td>58700000</td>\n",
       "      <td>0</td>\n",
       "    </tr>\n",
       "  </tbody>\n",
       "</table>\n",
       "<p>862 rows × 4 columns</p>\n",
       "</div>"
      ],
      "text/plain": [
       "          chrom      start        end  count\n",
       "15 q11.2     15   20700000   25700000     51\n",
       "22 q11.21    22   17900000   22200000     49\n",
       "1  q21.1      1  142600000  147000000     46\n",
       "16 p11.2     16   28100000   34600000     39\n",
       "22 q11.22    22   22200000   23500000     35\n",
       "...         ...        ...        ...    ...\n",
       "11 q14.3     11   88300000   92800000      0\n",
       "   q14.2     11   85600000   88300000      0\n",
       "3  q23        3  138700000  142800000      0\n",
       "11 q13.5     11   75200000   77100000      0\n",
       "6  p11.2      6   57000000   58700000      0\n",
       "\n",
       "[862 rows x 4 columns]"
      ]
     },
     "execution_count": 15,
     "metadata": {},
     "output_type": "execute_result"
    }
   ],
   "source": [
    "CNV_bed = szdb.bedifyCNV(expandedCNV, hgcb)\n",
    "CNV_bed.to_csv('/big/results/bsm/2020-07-24-szdb/szdb-CNV-cytogenic-band-counts.bed', sep='\\t', index=False, header=False)\n",
    "CNV_bed.sort_values(by='count', ascending=False)"
   ]
  },
  {
   "cell_type": "markdown",
   "metadata": {},
   "source": [
    "Compare the most affected cytobands to Table2 in the review of Sullivan et al [Nature Reviews Genetics 13, 537 (2012)](https://www.nature.com/articles/nrg3240).  The two tables are consistent with each other."
   ]
  },
  {
   "cell_type": "code",
   "execution_count": 16,
   "metadata": {},
   "outputs": [
    {
     "name": "stdout",
     "output_type": "stream",
     "text": [
      "{\n",
      "  \"shell_port\": 43987,\n",
      "  \"iopub_port\": 59659,\n",
      "  \"stdin_port\": 33063,\n",
      "  \"control_port\": 37781,\n",
      "  \"hb_port\": 50461,\n",
      "  \"ip\": \"127.0.0.1\",\n",
      "  \"key\": \"ee0d5d00-36639e48b890f3e1b3862ab6\",\n",
      "  \"transport\": \"tcp\",\n",
      "  \"signature_scheme\": \"hmac-sha256\",\n",
      "  \"kernel_name\": \"\"\n",
      "}\n",
      "\n",
      "Paste the above JSON into a file, and connect with:\n",
      "    $> jupyter <app> --existing <file>\n",
      "or, if you are local, you can connect with just:\n",
      "    $> jupyter <app> --existing kernel-b585d399-74c2-42f7-98ff-eebddefb2b51.json\n",
      "or even just:\n",
      "    $> jupyter <app> --existing\n",
      "if this is the most recent Jupyter kernel you have started.\n"
     ]
    }
   ],
   "source": [
    "%connect_info"
   ]
  },
  {
   "cell_type": "code",
   "execution_count": null,
   "metadata": {},
   "outputs": [],
   "source": []
  }
 ],
 "metadata": {
  "kernelspec": {
   "display_name": "Python 3",
   "language": "python",
   "name": "python3"
  },
  "language_info": {
   "codemirror_mode": {
    "name": "ipython",
    "version": 3
   },
   "file_extension": ".py",
   "mimetype": "text/x-python",
   "name": "python",
   "nbconvert_exporter": "python",
   "pygments_lexer": "ipython3",
   "version": "3.7.6"
  }
 },
 "nbformat": 4,
 "nbformat_minor": 4
}
