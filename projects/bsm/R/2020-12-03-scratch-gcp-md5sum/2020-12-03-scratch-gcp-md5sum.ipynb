{
 "cells": [
  {
   "cell_type": "markdown",
   "metadata": {},
   "source": [
    "Check alignment file integrity in target (GCP) storage by comparing files' md5sum to that in source (Synapse BSMN Scrath Space)."
   ]
  },
  {
   "cell_type": "code",
   "execution_count": 1,
   "metadata": {},
   "outputs": [
    {
     "name": "stdout",
     "output_type": "stream",
     "text": [
      "Welcome, Attila Jones!\n",
      "\n"
     ]
    }
   ],
   "source": [
    "%load_ext autoreload\n",
    "%autoreload 2\n",
    "%reload_ext autoreload\n",
    "from matplotlib import pyplot as plt\n",
    "import pandas as pd\n",
    "import synapseclient\n",
    "import os.path\n",
    "import md5"
   ]
  },
  {
   "cell_type": "code",
   "execution_count": 2,
   "metadata": {},
   "outputs": [],
   "source": [
    "outcsv = '/home/attila/projects/bsm/results/2020-12-03-scratch-gcp-md5sum/check.csv'\n",
    "if not os.path.exists(outcsv):\n",
    "    check = md5.check_all_files()\n",
    "    check.to_csv(outcsv)"
   ]
  },
  {
   "cell_type": "code",
   "execution_count": 3,
   "metadata": {},
   "outputs": [
    {
     "data": {
      "text/html": [
       "<div>\n",
       "<style scoped>\n",
       "    .dataframe tbody tr th:only-of-type {\n",
       "        vertical-align: middle;\n",
       "    }\n",
       "\n",
       "    .dataframe tbody tr th {\n",
       "        vertical-align: top;\n",
       "    }\n",
       "\n",
       "    .dataframe thead th {\n",
       "        text-align: right;\n",
       "    }\n",
       "</style>\n",
       "<table border=\"1\" class=\"dataframe\">\n",
       "  <thead>\n",
       "    <tr style=\"text-align: right;\">\n",
       "      <th></th>\n",
       "      <th>match</th>\n",
       "      <th>source md5 (base64)</th>\n",
       "      <th>dest md5 (base64)</th>\n",
       "      <th>synapse ID</th>\n",
       "    </tr>\n",
       "  </thead>\n",
       "  <tbody>\n",
       "    <tr>\n",
       "      <th>MSSM_027_NeuN_pl.cram</th>\n",
       "      <td>True</td>\n",
       "      <td>mbMyW1VdoPkfc+uHcmS2Ww==</td>\n",
       "      <td>mbMyW1VdoPkfc+uHcmS2Ww==</td>\n",
       "      <td>syn22007834</td>\n",
       "    </tr>\n",
       "    <tr>\n",
       "      <th>MSSM_027_NeuN_pl.cram.crai</th>\n",
       "      <td>True</td>\n",
       "      <td>pnGF7q/U+Cro4aUvfU7P3g==</td>\n",
       "      <td>pnGF7q/U+Cro4aUvfU7P3g==</td>\n",
       "      <td>syn22007835</td>\n",
       "    </tr>\n",
       "    <tr>\n",
       "      <th>MSSM_033_NeuN_pl.cram</th>\n",
       "      <td>True</td>\n",
       "      <td>sDZZmvo47Gs2ddCxFe0CNw==</td>\n",
       "      <td>sDZZmvo47Gs2ddCxFe0CNw==</td>\n",
       "      <td>syn22090557</td>\n",
       "    </tr>\n",
       "    <tr>\n",
       "      <th>MSSM_033_NeuN_pl.cram.crai</th>\n",
       "      <td>True</td>\n",
       "      <td>eDpLdh8zh78wcNmE+YS6KQ==</td>\n",
       "      <td>eDpLdh8zh78wcNmE+YS6KQ==</td>\n",
       "      <td>syn22090558</td>\n",
       "    </tr>\n",
       "    <tr>\n",
       "      <th>MSSM_055_NeuN_pl.cram</th>\n",
       "      <td>True</td>\n",
       "      <td>xAc38Gl9T/apjUGBaaobIA==</td>\n",
       "      <td>xAc38Gl9T/apjUGBaaobIA==</td>\n",
       "      <td>syn22162964</td>\n",
       "    </tr>\n",
       "    <tr>\n",
       "      <th>...</th>\n",
       "      <td>...</td>\n",
       "      <td>...</td>\n",
       "      <td>...</td>\n",
       "      <td>...</td>\n",
       "    </tr>\n",
       "    <tr>\n",
       "      <th>PITT_117_NeuN_pl.cram.crai</th>\n",
       "      <td>True</td>\n",
       "      <td>Lojz3jFfnr7SL9eV69qElw==</td>\n",
       "      <td>Lojz3jFfnr7SL9eV69qElw==</td>\n",
       "      <td>syn22005536</td>\n",
       "    </tr>\n",
       "    <tr>\n",
       "      <th>PITT_118_NeuN_mn.cram</th>\n",
       "      <td>False</td>\n",
       "      <td>cGtsaQYfhdCzkzvgBzK3kw==</td>\n",
       "      <td>NaN</td>\n",
       "      <td>syn20751237</td>\n",
       "    </tr>\n",
       "    <tr>\n",
       "      <th>PITT_118_NeuN_mn.cram.crai</th>\n",
       "      <td>False</td>\n",
       "      <td>0vYBb7MKtTPvdpUYM9PBjg==</td>\n",
       "      <td>NaN</td>\n",
       "      <td>syn20751238</td>\n",
       "    </tr>\n",
       "    <tr>\n",
       "      <th>PITT_118_NeuN_pl.cram</th>\n",
       "      <td>True</td>\n",
       "      <td>fHQYnUCsNXrpP6sUOrpEFw==</td>\n",
       "      <td>fHQYnUCsNXrpP6sUOrpEFw==</td>\n",
       "      <td>syn20804248</td>\n",
       "    </tr>\n",
       "    <tr>\n",
       "      <th>PITT_118_NeuN_pl.cram.crai</th>\n",
       "      <td>True</td>\n",
       "      <td>Am6R59oTBUo6glV3TaEgjQ==</td>\n",
       "      <td>Am6R59oTBUo6glV3TaEgjQ==</td>\n",
       "      <td>syn20804249</td>\n",
       "    </tr>\n",
       "  </tbody>\n",
       "</table>\n",
       "<p>232 rows × 4 columns</p>\n",
       "</div>"
      ],
      "text/plain": [
       "                            match       source md5 (base64)  \\\n",
       "MSSM_027_NeuN_pl.cram        True  mbMyW1VdoPkfc+uHcmS2Ww==   \n",
       "MSSM_027_NeuN_pl.cram.crai   True  pnGF7q/U+Cro4aUvfU7P3g==   \n",
       "MSSM_033_NeuN_pl.cram        True  sDZZmvo47Gs2ddCxFe0CNw==   \n",
       "MSSM_033_NeuN_pl.cram.crai   True  eDpLdh8zh78wcNmE+YS6KQ==   \n",
       "MSSM_055_NeuN_pl.cram        True  xAc38Gl9T/apjUGBaaobIA==   \n",
       "...                           ...                       ...   \n",
       "PITT_117_NeuN_pl.cram.crai   True  Lojz3jFfnr7SL9eV69qElw==   \n",
       "PITT_118_NeuN_mn.cram       False  cGtsaQYfhdCzkzvgBzK3kw==   \n",
       "PITT_118_NeuN_mn.cram.crai  False  0vYBb7MKtTPvdpUYM9PBjg==   \n",
       "PITT_118_NeuN_pl.cram        True  fHQYnUCsNXrpP6sUOrpEFw==   \n",
       "PITT_118_NeuN_pl.cram.crai   True  Am6R59oTBUo6glV3TaEgjQ==   \n",
       "\n",
       "                                   dest md5 (base64)   synapse ID  \n",
       "MSSM_027_NeuN_pl.cram       mbMyW1VdoPkfc+uHcmS2Ww==  syn22007834  \n",
       "MSSM_027_NeuN_pl.cram.crai  pnGF7q/U+Cro4aUvfU7P3g==  syn22007835  \n",
       "MSSM_033_NeuN_pl.cram       sDZZmvo47Gs2ddCxFe0CNw==  syn22090557  \n",
       "MSSM_033_NeuN_pl.cram.crai  eDpLdh8zh78wcNmE+YS6KQ==  syn22090558  \n",
       "MSSM_055_NeuN_pl.cram       xAc38Gl9T/apjUGBaaobIA==  syn22162964  \n",
       "...                                              ...          ...  \n",
       "PITT_117_NeuN_pl.cram.crai  Lojz3jFfnr7SL9eV69qElw==  syn22005536  \n",
       "PITT_118_NeuN_mn.cram                            NaN  syn20751237  \n",
       "PITT_118_NeuN_mn.cram.crai                       NaN  syn20751238  \n",
       "PITT_118_NeuN_pl.cram       fHQYnUCsNXrpP6sUOrpEFw==  syn20804248  \n",
       "PITT_118_NeuN_pl.cram.crai  Am6R59oTBUo6glV3TaEgjQ==  syn20804249  \n",
       "\n",
       "[232 rows x 4 columns]"
      ]
     },
     "execution_count": 3,
     "metadata": {},
     "output_type": "execute_result"
    }
   ],
   "source": [
    "check = pd.read_csv(outcsv, index_col=0)\n",
    "check"
   ]
  },
  {
   "cell_type": "markdown",
   "metadata": {},
   "source": [
    "The number of samples transferred"
   ]
  },
  {
   "cell_type": "code",
   "execution_count": 4,
   "metadata": {},
   "outputs": [
    {
     "name": "stdout",
     "output_type": "stream",
     "text": [
      "samples transferred: 95\n",
      "corrupted files: 0\n"
     ]
    }
   ],
   "source": [
    "print('samples transferred:', int(len(check.dropna()) / 2))\n",
    "print('corrupted files:', int(len(check.dropna().loc[~ check['match'], :])))"
   ]
  },
  {
   "cell_type": "code",
   "execution_count": 5,
   "metadata": {},
   "outputs": [
    {
     "name": "stdout",
     "output_type": "stream",
     "text": [
      "{\n",
      "  \"shell_port\": 46747,\n",
      "  \"iopub_port\": 60009,\n",
      "  \"stdin_port\": 37497,\n",
      "  \"control_port\": 42139,\n",
      "  \"hb_port\": 57031,\n",
      "  \"ip\": \"127.0.0.1\",\n",
      "  \"key\": \"4558d0b9-98cefbcd5c3a46e5b76efbea\",\n",
      "  \"transport\": \"tcp\",\n",
      "  \"signature_scheme\": \"hmac-sha256\",\n",
      "  \"kernel_name\": \"\"\n",
      "}\n",
      "\n",
      "Paste the above JSON into a file, and connect with:\n",
      "    $> jupyter <app> --existing <file>\n",
      "or, if you are local, you can connect with just:\n",
      "    $> jupyter <app> --existing kernel-f39309f7-a72e-43f4-bfea-7d4d9893f99e.json\n",
      "or even just:\n",
      "    $> jupyter <app> --existing\n",
      "if this is the most recent Jupyter kernel you have started.\n"
     ]
    }
   ],
   "source": [
    "%connect_info"
   ]
  }
 ],
 "metadata": {
  "kernelspec": {
   "display_name": "Python 3",
   "language": "python",
   "name": "python3"
  },
  "language_info": {
   "codemirror_mode": {
    "name": "ipython",
    "version": 3
   },
   "file_extension": ".py",
   "mimetype": "text/x-python",
   "name": "python",
   "nbconvert_exporter": "python",
   "pygments_lexer": "ipython3",
   "version": "3.7.6"
  }
 },
 "nbformat": 4,
 "nbformat_minor": 4
}
