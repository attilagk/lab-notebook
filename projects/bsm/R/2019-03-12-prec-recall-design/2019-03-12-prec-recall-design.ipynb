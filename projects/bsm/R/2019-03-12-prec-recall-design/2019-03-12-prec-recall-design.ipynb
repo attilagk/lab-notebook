{
 "cells": [
  {
   "cell_type": "markdown",
   "metadata": {},
   "source": [
    "Design of the precision--recall calculations"
   ]
  },
  {
   "cell_type": "markdown",
   "metadata": {},
   "source": [
    "## Our goal\n",
    "\n",
    "Let $V$ be the **truth set** of (somatic) variants in our sample. From sequencing data we produce **callsets** with various callers and filtering.  It is useful to think of precision and recall as a functions on the domain of callsets.  For each callset $C$ the definition of precision and recall\n",
    "\n",
    "$$\n",
    "\\begin{eqnarray}\n",
    "\\mathrm{precision}&=& p(C) = \\frac{|C \\cap V|}{|C|} = \\frac{\\#\\text{true calls}}{\\#\\mathrm{calls}}\n",
    "\\; \\text{: the fraction of calls that are true} \\\\\n",
    "\\mathrm{recall}&=& r(C) = \\frac{|C \\cap V|}{|V|} = \\frac{\\#\\text{true calls}}{\\#\\mathrm{variants}}\n",
    "\\; \\text{: the fraction of variants that are called}\n",
    "\\end{eqnarray}\n",
    "$$\n",
    "\n",
    "We need the following\n",
    "1. $V$ based on four germline callsets---one callset from the unmixed DNA of NA12889, and three others from NA12890, NA12891, and NA12892\n",
    "1. $C$ based on a DNA mix of NA12889, ..., NA12892\n",
    "1. an implementation of precision and recall calculation\n",
    "\n",
    "### A note on terminology\n",
    "\n",
    "I replaced Chaggai's older the term **truth table** with **truth set** for two reasons.  First, the term truth table already has a separate meaning in mathematical logic, see [Wikipedia article](https://en.wikipedia.org/wiki/Truth_table).  Second, unlike Chaggai, I will keep the VCF format for the truth sets.  This will allow a concise and fast implementation (leveraging the excellent `bcftools` suite) of precision--recall calculation not only for SNVs but also for indels."
   ]
  },
  {
   "cell_type": "markdown",
   "metadata": {},
   "source": [
    "## Terms, quantities\n",
    "\n",
    "* everything below refers to a given variant $v$\n",
    "* reference allele: $R$ or $0$; alternative allele: $A$ or $1$\n",
    "* subject/individual: $s \\in \\{1, 2, 3, 4\\}$ or $s \\in \\{\\mathrm{NA12889}, ..., \\mathrm{NA12892}\\}$\n",
    "* genotype of subject $s$: $g_s \\in \\{0, 1, 2\\}$ or $g_s \\in \\{RR, RA, AA\\}$ as homozyg. ref, heterozyg., homozyg. alt\n",
    "* genotype vector (for all subjects): $g = (g_1, ..., g_4)$\n",
    "* note that $g \\in \\mathcal{G} \\equiv G_{(1)} \\times ... \\times G_{(4)} \\setminus \\{(0,0,0,0)\\}$, where each $G_{(s)} \\equiv \\{0, 1, 2\\}$ so that $g$ can take $3^4 - 1 = 80$ values: $(1,0,0,0),...,(2,2,2,2)$; (when $g = (0,0,0,0)$ then none of the four subjects contains the variant)\n",
    "* let $V$ be the set of all such variants that occur in at least one subject.  We can partition $V$ according to $\\mathcal{G}$ so we have $\\{V_g: \\; g \\in \\mathcal{G}\\}$\n",
    "* mix $m \\in \\{1, 2, 3\\}$ or $m \\in \\{\\mathrm{Mix}1, \\mathrm{Mix}2, \\mathrm{Mix}3\\}$\n",
    "* each mix $m$ is defined by the mixing ratios $q_m \\equiv (q_{1m}, q_{2m}, q_{3m}, q_{4m})$, which are normalized so $\\sum_{s=1}^4 q_{sm} = 1$"
   ]
  },
  {
   "cell_type": "markdown",
   "metadata": {},
   "source": [
    "## On alternative allele frequency\n",
    "\n",
    "The alternative allele frequency of a variant depends on the mixing ratios as well as the genotype vector $g$ of the variant w.r.t NA12889, ..., NA12892\n",
    "\n",
    "* for mix $m$ the alternative allele frequency $f\\equiv h(g, m) = \\frac{1}{2} \\sum_{s=1}^4 g_s q_{sm}$ or simply written as the dot product $f = \\frac{1}{2} g \\cdot q_m$\n",
    "* the notation $f \\equiv h(g, m)$ expresses the intention of treating $f$ as a function $h$ of the genotype vector $g$ and mix $m$\n",
    "* fix $m$; define the inverse mapping as $h^{-1}(f, m) = \\{g: h(g, m) = f\\}$\n",
    "\n"
   ]
  },
  {
   "cell_type": "code",
   "execution_count": 17,
   "metadata": {},
   "outputs": [
    {
     "name": "stdout",
     "output_type": "stream",
     "text": [
      "The autoreload extension is already loaded. To reload it, use:\n",
      "  %reload_ext autoreload\n"
     ]
    }
   ],
   "source": [
    "%matplotlib inline\n",
    "%load_ext autoreload\n",
    "%autoreload 2\n",
    "import matplotlib\n",
    "matplotlib.rcParams['figure.dpi'] = 150\n",
    "#matplotlib.rcParams['figure.figsize'] = [7, 5]\n",
    "from IPython.display import set_matplotlib_formats\n",
    "import attila_utils"
   ]
  },
  {
   "cell_type": "code",
   "execution_count": 2,
   "metadata": {},
   "outputs": [],
   "source": [
    "import pandas as pd\n",
    "import numpy as np\n",
    "import itertools\n",
    "import matplotlib.pyplot as plt\n",
    "import joint_gt_ceph as jgc"
   ]
  },
  {
   "cell_type": "markdown",
   "metadata": {},
   "source": [
    "Creating `genotypes`, the list of all genotype vectors."
   ]
  },
  {
   "cell_type": "code",
   "execution_count": 3,
   "metadata": {},
   "outputs": [],
   "source": [
    "combinations = list(itertools.combinations_with_replacement((0, 1, 2), 4))\n",
    "nested_list = [sorted(list({y: y for y in itertools.permutations(c)}.keys())) for c in combinations]\n",
    "# unlist nested list using itertools.chain\n",
    "genotypes = list(itertools.chain(*nested_list))[1:]\n",
    "# unlist nested list using sum\n",
    "#genotypes = sum(nested_list, [])[1:]"
   ]
  },
  {
   "cell_type": "code",
   "execution_count": 4,
   "metadata": {},
   "outputs": [],
   "source": [
    "genotypes = jgc.make_genotypes()"
   ]
  },
  {
   "cell_type": "markdown",
   "metadata": {},
   "source": [
    "First and last 10 genotype vectors.  Note the ordered pattern."
   ]
  },
  {
   "cell_type": "code",
   "execution_count": 5,
   "metadata": {},
   "outputs": [
    {
     "data": {
      "text/plain": [
       "[(0, 0, 0, 1),\n",
       " (0, 0, 1, 0),\n",
       " (0, 1, 0, 0),\n",
       " (1, 0, 0, 0),\n",
       " (0, 0, 0, 2),\n",
       " (0, 0, 2, 0),\n",
       " (0, 2, 0, 0),\n",
       " (2, 0, 0, 0),\n",
       " (0, 0, 1, 1),\n",
       " (0, 1, 0, 1)]"
      ]
     },
     "execution_count": 5,
     "metadata": {},
     "output_type": "execute_result"
    }
   ],
   "source": [
    "genotypes[:10] # first 10"
   ]
  },
  {
   "cell_type": "code",
   "execution_count": 6,
   "metadata": {},
   "outputs": [
    {
     "data": {
      "text/plain": [
       "[(1, 2, 1, 2),\n",
       " (1, 2, 2, 1),\n",
       " (2, 1, 1, 2),\n",
       " (2, 1, 2, 1),\n",
       " (2, 2, 1, 1),\n",
       " (1, 2, 2, 2),\n",
       " (2, 1, 2, 2),\n",
       " (2, 2, 1, 2),\n",
       " (2, 2, 2, 1),\n",
       " (2, 2, 2, 2)]"
      ]
     },
     "execution_count": 6,
     "metadata": {},
     "output_type": "execute_result"
    }
   ],
   "source": [
    "genotypes[70:] # last 10"
   ]
  },
  {
   "cell_type": "markdown",
   "metadata": {},
   "source": [
    "Mixing ratios in percentages."
   ]
  },
  {
   "cell_type": "code",
   "execution_count": 7,
   "metadata": {},
   "outputs": [
    {
     "data": {
      "text/html": [
       "<div>\n",
       "<style scoped>\n",
       "    .dataframe tbody tr th:only-of-type {\n",
       "        vertical-align: middle;\n",
       "    }\n",
       "\n",
       "    .dataframe tbody tr th {\n",
       "        vertical-align: top;\n",
       "    }\n",
       "\n",
       "    .dataframe thead th {\n",
       "        text-align: right;\n",
       "    }\n",
       "</style>\n",
       "<table border=\"1\" class=\"dataframe\">\n",
       "  <thead>\n",
       "    <tr style=\"text-align: right;\">\n",
       "      <th></th>\n",
       "      <th>mix1</th>\n",
       "      <th>mix2</th>\n",
       "      <th>mix3</th>\n",
       "    </tr>\n",
       "    <tr>\n",
       "      <th>genome</th>\n",
       "      <th></th>\n",
       "      <th></th>\n",
       "      <th></th>\n",
       "    </tr>\n",
       "  </thead>\n",
       "  <tbody>\n",
       "    <tr>\n",
       "      <th>NA12889</th>\n",
       "      <td>4</td>\n",
       "      <td>2</td>\n",
       "      <td>0</td>\n",
       "    </tr>\n",
       "    <tr>\n",
       "      <th>NA12891</th>\n",
       "      <td>8</td>\n",
       "      <td>4</td>\n",
       "      <td>0</td>\n",
       "    </tr>\n",
       "    <tr>\n",
       "      <th>NA12890</th>\n",
       "      <td>16</td>\n",
       "      <td>8</td>\n",
       "      <td>0</td>\n",
       "    </tr>\n",
       "    <tr>\n",
       "      <th>NA12892</th>\n",
       "      <td>72</td>\n",
       "      <td>86</td>\n",
       "      <td>100</td>\n",
       "    </tr>\n",
       "  </tbody>\n",
       "</table>\n",
       "</div>"
      ],
      "text/plain": [
       "         mix1  mix2  mix3\n",
       "genome                   \n",
       "NA12889     4     2     0\n",
       "NA12891     8     4     0\n",
       "NA12890    16     8     0\n",
       "NA12892    72    86   100"
      ]
     },
     "execution_count": 7,
     "metadata": {},
     "output_type": "execute_result"
    }
   ],
   "source": [
    "mixing_ratios = jgc.get_mixing_ratios()\n",
    "mixing_ratios"
   ]
  },
  {
   "cell_type": "markdown",
   "metadata": {},
   "source": [
    "For each genotype vector $g$, mixing ratio $q_m$, and mix $m$ calculate the alternative allele frequency as $f = \\frac{1}{2} g \\cdot q_m$.  We consider $f$ as a function of $g$, which motivates the name `aaf_of_gt`."
   ]
  },
  {
   "cell_type": "code",
   "execution_count": 8,
   "metadata": {},
   "outputs": [],
   "source": [
    "aaf_of_gt = jgc.get_aaf_of_gt()\n",
    "# write to csv\n",
    "aaf_of_gt.to_csv('/home/attila/projects/bsm/results/2019-03-12-prec-recall-design/aaf_of_gt.csv')"
   ]
  },
  {
   "cell_type": "markdown",
   "metadata": {},
   "source": [
    "First 6 (head) and last 6 (tail) of alternative allele frequencies.  Recall that there are 80 rows corresponding to 80 distinct genotype vectors."
   ]
  },
  {
   "cell_type": "code",
   "execution_count": 9,
   "metadata": {},
   "outputs": [
    {
     "data": {
      "text/html": [
       "<div>\n",
       "<style scoped>\n",
       "    .dataframe tbody tr th:only-of-type {\n",
       "        vertical-align: middle;\n",
       "    }\n",
       "\n",
       "    .dataframe tbody tr th {\n",
       "        vertical-align: top;\n",
       "    }\n",
       "\n",
       "    .dataframe thead th {\n",
       "        text-align: right;\n",
       "    }\n",
       "</style>\n",
       "<table border=\"1\" class=\"dataframe\">\n",
       "  <thead>\n",
       "    <tr style=\"text-align: right;\">\n",
       "      <th></th>\n",
       "      <th>mix1</th>\n",
       "      <th>mix2</th>\n",
       "      <th>mix3</th>\n",
       "    </tr>\n",
       "  </thead>\n",
       "  <tbody>\n",
       "    <tr>\n",
       "      <th>0001</th>\n",
       "      <td>36</td>\n",
       "      <td>43</td>\n",
       "      <td>50</td>\n",
       "    </tr>\n",
       "    <tr>\n",
       "      <th>0010</th>\n",
       "      <td>8</td>\n",
       "      <td>4</td>\n",
       "      <td>0</td>\n",
       "    </tr>\n",
       "    <tr>\n",
       "      <th>0100</th>\n",
       "      <td>4</td>\n",
       "      <td>2</td>\n",
       "      <td>0</td>\n",
       "    </tr>\n",
       "    <tr>\n",
       "      <th>1000</th>\n",
       "      <td>2</td>\n",
       "      <td>1</td>\n",
       "      <td>0</td>\n",
       "    </tr>\n",
       "    <tr>\n",
       "      <th>0002</th>\n",
       "      <td>72</td>\n",
       "      <td>86</td>\n",
       "      <td>100</td>\n",
       "    </tr>\n",
       "  </tbody>\n",
       "</table>\n",
       "</div>"
      ],
      "text/plain": [
       "      mix1  mix2  mix3\n",
       "0001    36    43    50\n",
       "0010     8     4     0\n",
       "0100     4     2     0\n",
       "1000     2     1     0\n",
       "0002    72    86   100"
      ]
     },
     "execution_count": 9,
     "metadata": {},
     "output_type": "execute_result"
    }
   ],
   "source": [
    "aaf_of_gt.head()"
   ]
  },
  {
   "cell_type": "code",
   "execution_count": 10,
   "metadata": {},
   "outputs": [
    {
     "data": {
      "text/html": [
       "<div>\n",
       "<style scoped>\n",
       "    .dataframe tbody tr th:only-of-type {\n",
       "        vertical-align: middle;\n",
       "    }\n",
       "\n",
       "    .dataframe tbody tr th {\n",
       "        vertical-align: top;\n",
       "    }\n",
       "\n",
       "    .dataframe thead th {\n",
       "        text-align: right;\n",
       "    }\n",
       "</style>\n",
       "<table border=\"1\" class=\"dataframe\">\n",
       "  <thead>\n",
       "    <tr style=\"text-align: right;\">\n",
       "      <th></th>\n",
       "      <th>mix1</th>\n",
       "      <th>mix2</th>\n",
       "      <th>mix3</th>\n",
       "    </tr>\n",
       "  </thead>\n",
       "  <tbody>\n",
       "    <tr>\n",
       "      <th>1222</th>\n",
       "      <td>98</td>\n",
       "      <td>99</td>\n",
       "      <td>100</td>\n",
       "    </tr>\n",
       "    <tr>\n",
       "      <th>2122</th>\n",
       "      <td>96</td>\n",
       "      <td>98</td>\n",
       "      <td>100</td>\n",
       "    </tr>\n",
       "    <tr>\n",
       "      <th>2212</th>\n",
       "      <td>92</td>\n",
       "      <td>96</td>\n",
       "      <td>100</td>\n",
       "    </tr>\n",
       "    <tr>\n",
       "      <th>2221</th>\n",
       "      <td>64</td>\n",
       "      <td>57</td>\n",
       "      <td>50</td>\n",
       "    </tr>\n",
       "    <tr>\n",
       "      <th>2222</th>\n",
       "      <td>100</td>\n",
       "      <td>100</td>\n",
       "      <td>100</td>\n",
       "    </tr>\n",
       "  </tbody>\n",
       "</table>\n",
       "</div>"
      ],
      "text/plain": [
       "      mix1  mix2  mix3\n",
       "1222    98    99   100\n",
       "2122    96    98   100\n",
       "2212    92    96   100\n",
       "2221    64    57    50\n",
       "2222   100   100   100"
      ]
     },
     "execution_count": 10,
     "metadata": {},
     "output_type": "execute_result"
    }
   ],
   "source": [
    "aaf_of_gt.tail()"
   ]
  },
  {
   "cell_type": "markdown",
   "metadata": {},
   "source": [
    "Out of 80 in total the following number of frequency values are unique:"
   ]
  },
  {
   "cell_type": "code",
   "execution_count": 11,
   "metadata": {},
   "outputs": [
    {
     "data": {
      "text/plain": [
       "[44, 44, 3]"
      ]
     },
     "execution_count": 11,
     "metadata": {},
     "output_type": "execute_result"
    }
   ],
   "source": [
    "aaf_values = {m: sorted(list(set(aaf_of_gt[m]))) for m in aaf_of_gt.columns}\n",
    "[len(aaf_values[m]) for m in aaf_of_gt.columns]"
   ]
  },
  {
   "cell_type": "markdown",
   "metadata": {},
   "source": [
    "These unique frequency values are depicted below."
   ]
  },
  {
   "cell_type": "code",
   "execution_count": 19,
   "metadata": {},
   "outputs": [
    {
     "data": {
      "text/plain": [
       "['named-figure/possible-vaf-values-mix123.png',\n",
       " 'named-figure/possible-vaf-values-mix123.pdf']"
      ]
     },
     "execution_count": 19,
     "metadata": {},
     "output_type": "execute_result"
    },
    {
     "data": {
      "image/png": "[encoded data removed]",
      "text/plain": [
       "<Figure size 900x600 with 1 Axes>"
      ]
     },
     "metadata": {},
     "output_type": "display_data"
    }
   ],
   "source": [
    "fig, axs = plt.subplots(1, 1)\n",
    "axs.eventplot(aaf_values['mix1'], lineoffset=1, colors='red', label='mix1')\n",
    "axs.eventplot(aaf_values['mix2'], lineoffset=2.5, colors='green', label='mix2')\n",
    "axs.eventplot(aaf_values['mix3'], lineoffset=4, colors='blue', label='mix3')\n",
    "axs.set_xlabel('alternative allele frequency')\n",
    "axs.legend(loc=(0.6, 0.75))\n",
    "axs.set_ylim(0, 5)\n",
    "attila_utils.savefig(fig, 'possible-vaf-values-mix123')"
   ]
  },
  {
   "cell_type": "markdown",
   "metadata": {},
   "source": [
    "As mentioned above, `aaf_of_gt` corresponds to the function $f$ of $g$.  Let's create the inverse mapping---from $f$ to $g$---and call it `gt_of_aaf`!"
   ]
  },
  {
   "cell_type": "code",
   "execution_count": 13,
   "metadata": {},
   "outputs": [],
   "source": [
    "gt_of_aaf = jgc.get_gt_of_aaf(aaf_of_gt)"
   ]
  },
  {
   "cell_type": "markdown",
   "metadata": {},
   "source": [
    "`gt_of_aaf` is a bit of a misnomer because the function $f$ of $g$ is not invertible.  In other words the reverse mapping is not onto the genotype vectors but to *sets of* those.  Below are the values of `gt_of_aaf` for mix1 and for the 6 lowest and 6 highest alternative allele frequencies."
   ]
  },
  {
   "cell_type": "code",
   "execution_count": 14,
   "metadata": {},
   "outputs": [
    {
     "data": {
      "text/plain": [
       "{2: ['1000'],\n",
       " 4: ['0100', '2000'],\n",
       " 6: ['1100'],\n",
       " 8: ['0010', '0200', '2100'],\n",
       " 10: ['1010', '1200'],\n",
       " 12: ['0110', '2010', '2200'],\n",
       " 14: ['1110'],\n",
       " 16: ['0020', '0210', '2110'],\n",
       " 18: ['1020', '1210'],\n",
       " 20: ['0120', '2020', '2210'],\n",
       " 22: ['1120'],\n",
       " 24: ['0220', '2120'],\n",
       " 26: ['1220'],\n",
       " 28: ['2220'],\n",
       " 36: ['0001'],\n",
       " 38: ['1001'],\n",
       " 40: ['0101', '2001'],\n",
       " 42: ['1101'],\n",
       " 44: ['0011', '0201', '2101'],\n",
       " 46: ['1011', '1201'],\n",
       " 48: ['0111', '2011', '2201'],\n",
       " 50: ['1111'],\n",
       " 52: ['0021', '0211', '2111'],\n",
       " 54: ['1021', '1211'],\n",
       " 56: ['0121', '2021', '2211'],\n",
       " 58: ['1121'],\n",
       " 60: ['0221', '2121'],\n",
       " 62: ['1221'],\n",
       " 64: ['2221'],\n",
       " 72: ['0002'],\n",
       " 74: ['1002'],\n",
       " 76: ['0102', '2002'],\n",
       " 78: ['1102'],\n",
       " 80: ['0012', '0202', '2102'],\n",
       " 82: ['1012', '1202'],\n",
       " 84: ['0112', '2012', '2202'],\n",
       " 86: ['1112'],\n",
       " 88: ['0022', '0212', '2112'],\n",
       " 90: ['1022', '1212'],\n",
       " 92: ['0122', '2022', '2212'],\n",
       " 94: ['1122'],\n",
       " 96: ['0222', '2122'],\n",
       " 98: ['1222'],\n",
       " 100: ['2222']}"
      ]
     },
     "execution_count": 14,
     "metadata": {},
     "output_type": "execute_result"
    }
   ],
   "source": [
    "gt_of_aaf['mix1']"
   ]
  },
  {
   "cell_type": "markdown",
   "metadata": {},
   "source": [
    "Writing `gt_of_aaf` to three files distinguished by the mix they relate to:"
   ]
  },
  {
   "cell_type": "code",
   "execution_count": 15,
   "metadata": {},
   "outputs": [
    {
     "data": {
      "text/plain": [
       "['/home/attila/projects/bsm/results/2019-03-12-prec-recall-design//gt_of_aaf-mix1',\n",
       " '/home/attila/projects/bsm/results/2019-03-12-prec-recall-design//gt_of_aaf-mix2',\n",
       " '/home/attila/projects/bsm/results/2019-03-12-prec-recall-design//gt_of_aaf-mix3']"
      ]
     },
     "execution_count": 15,
     "metadata": {},
     "output_type": "execute_result"
    }
   ],
   "source": [
    "[jgc.write_gt_of_aaf(m, gt_of_aaf=gt_of_aaf) for m in aaf_of_gt.columns]"
   ]
  },
  {
   "cell_type": "markdown",
   "metadata": {},
   "source": [
    "## Refinements\n",
    "\n",
    "### Conditioning on allele frequency\n",
    "\n",
    "Our DNA mix design results in modeled somatic variants with various alternative frequencies.  Let $V_f \\subset V$ be the set of variants whose frequency is $f$.  Then the definitions above can be refined as\n",
    "\n",
    "$$\n",
    "\\begin{eqnarray}\n",
    "\\text{precision at}\\, f &=& p(C, f) = \\frac{\\mid C \\cap V_f\\mid}{\\mid C\\mid} \\\\\n",
    "\\text{recall at}\\, f &=& r(C, f) = \\frac{\\mid C \\cap V_f\\mid}{\\mid V_f\\mid}\n",
    "\\end{eqnarray}\n",
    "$$\n",
    "\n",
    "\n",
    "### Overall downsizing  of the set of variants\n",
    "\n",
    "In our real samples (i.e from the DLPFC) we expect orders of magnitude fewer somatic variants than germline variants.  But in a mixed sample each modeled somatic variant corresponds to a germline variant contained in one or more of the four individuals. This generates a discrepancy: we have orders of magnitude more modeled somatic variants than the expected number of real somatic variants.\n",
    "\n",
    "### Frequency dependent downsizing\n",
    "\n",
    "We see (TODO: demonstration) that for our modeled somatic variants the distribution $P$ on the domain of alternative allele frequency $f$ is far from uniform, that is $P(f_1) \\neq P(f_2)$.  This means that we may have more (or less) variants at one frequency $f_1$ than another frequency $f_2$; that is: $\\mid W_{f_1}\\mid \\neq \\mid W_{f_2}\\mid$.  We don't know the frequency distribution for real somatic variants in the DLPFC.  Therefore we may express our ignorance by adjusting the distribution $P(f)$ to some theoretical probability distribution e.g uniform.\n",
    "\n",
    "### Variants of high allele frequency\n",
    "\n",
    "Somatic variants of frequency at or near $1/2$ are, in our bulk sequencing setup, indistinguishable from heterozygous germline variants.\n",
    "\n",
    "### Adjustments\n",
    "\n",
    "This adjustment can be done by discarding from $W$ a different number of variants at each $f$ under the constraint that "
   ]
  },
  {
   "cell_type": "markdown",
   "metadata": {},
   "source": [
    "## Procedures\n",
    "\n",
    "This section merely sketches the procedures and implementation details, if mentioned at all, are only hinted at.  For implementation see the post\n",
    "\n",
    "1. germline callsets from our lab `NA12889-chess.vcf`, ..., `NA12892-chess.vcf` and illumina `NA12889-illumina.vcf`, ..., `NA12892-illumina.vcf`\n",
    "1. take intersections `NA12889-chess.vcf` $\\cap$ `NA12889-illumina.vcf` $\\rightarrow$ `NA12889.vcf`; likewise obtain `NA12890.vcf`, ...\n",
    "1. separate `NA12889.vcf` $\\rightarrow$ `NA12889-snvs.vcf`, `NA12889-indels.vcf`; the treatment of indels is the same as that of snvs from this point on\n",
    "1. let $W^{(1)}\\equiv$ `NA12889-snps.vcf`, ..., $W^{(4)}\\equiv$ `NA12892-snps.vcf`; the notation $W^{(s)}$ makes the point that we consider these sets as the sets of all *variants*, i.e. the biological reality\n",
    "1. take union $W = \\bigcup_{s=1}^4 W^{(s)}$ a.k.a `snps.vcf` and partition according to all possible genotype vector $\\{W_g: \\; g \\in \\mathcal{G}\\}$ leading to 63 files `snps-1000.vcf`,...,`snps-2222.vcf`\n",
    "1. apply refinements to $W$ and each $W_g$ in order to arrive at $V$ and each $V_g$, respectively."
   ]
  },
  {
   "cell_type": "code",
   "execution_count": null,
   "metadata": {},
   "outputs": [],
   "source": []
  }
 ],
 "metadata": {
  "kernelspec": {
   "display_name": "Python 3",
   "language": "python",
   "name": "python3"
  },
  "language_info": {
   "codemirror_mode": {
    "name": "ipython",
    "version": 3
   },
   "file_extension": ".py",
   "mimetype": "text/x-python",
   "name": "python",
   "nbconvert_exporter": "python",
   "pygments_lexer": "ipython3",
   "version": "3.5.3"
  }
 },
 "nbformat": 4,
 "nbformat_minor": 2
}
