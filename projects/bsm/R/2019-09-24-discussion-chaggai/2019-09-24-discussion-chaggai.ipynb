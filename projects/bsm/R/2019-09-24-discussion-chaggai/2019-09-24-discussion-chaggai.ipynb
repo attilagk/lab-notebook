{
 "cells": [
  {
   "cell_type": "markdown",
   "metadata": {},
   "source": [
    "Chaggai and I sat together to discuss the BSM project"
   ]
  },
  {
   "cell_type": "markdown",
   "metadata": {},
   "source": [
    "## On the presentation 2019-08-27-bsmn-workshop\n",
    "\n",
    "* amplicon seq validation: how did Vaccarino and Walsh et al obtain their NGS data? \n",
    "* the late somatic mutations tend to be absent from the control tissue but very low VAF: detection is very uncertain\n",
    "* VAF distribution in a given callset\n",
    "\n",
    "## New samples\n",
    "\n",
    "* check samples for contamination and label swap with veryfyBamID"
   ]
  },
  {
   "cell_type": "code",
   "execution_count": null,
   "metadata": {},
   "outputs": [],
   "source": []
  }
 ],
 "metadata": {
  "kernelspec": {
   "display_name": "Python 3",
   "language": "python",
   "name": "python3"
  },
  "language_info": {
   "codemirror_mode": {
    "name": "ipython",
    "version": 3
   },
   "file_extension": ".py",
   "mimetype": "text/x-python",
   "name": "python",
   "nbconvert_exporter": "python",
   "pygments_lexer": "ipython3",
   "version": "3.7.3"
  }
 },
 "nbformat": 4,
 "nbformat_minor": 2
}
