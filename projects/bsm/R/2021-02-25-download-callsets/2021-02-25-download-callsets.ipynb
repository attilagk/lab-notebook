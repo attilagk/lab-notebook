{
 "cells": [
  {
   "cell_type": "markdown",
   "metadata": {},
   "source": [
    "Here I download raw callsets from the Synapse BSMN scratch space in order to upload them to the chesslab-bsmn bucket in Google Cloud Platform for Eduardo Maury at Harvard.  I also check earlier manifests I made for submissions to NDA to send to Eduardo."
   ]
  },
  {
   "cell_type": "code",
   "execution_count": 1,
   "metadata": {},
   "outputs": [],
   "source": [
    "%load_ext autoreload\n",
    "%autoreload 2\n",
    "%reload_ext autoreload\n",
    "import synapseclient\n",
    "import synapseutils\n",
    "import pandas as pd"
   ]
  },
  {
   "cell_type": "markdown",
   "metadata": {},
   "source": [
    "## Download"
   ]
  },
  {
   "cell_type": "code",
   "execution_count": 2,
   "metadata": {},
   "outputs": [
    {
     "name": "stdout",
     "output_type": "stream",
     "text": [
      "Welcome, Attila Jones!\n",
      "\n"
     ]
    }
   ],
   "source": [
    "syn = synapseclient.login()"
   ]
  },
  {
   "cell_type": "code",
   "execution_count": 3,
   "metadata": {},
   "outputs": [],
   "source": [
    "synID = 'syn20812330'\n",
    "fpath = '/home/attila/projects/bsm/results/calls/raw/'\n",
    "if False:\n",
    "    entities = synapseutils.syncFromSynapse(syn=syn, entity=synID, path=fpath)"
   ]
  },
  {
   "cell_type": "markdown",
   "metadata": {},
   "source": [
    "## Manifests\n",
    "First get individual IDs for the raw callsets uploaded to the GCP bucket"
   ]
  },
  {
   "cell_type": "code",
   "execution_count": 4,
   "metadata": {},
   "outputs": [],
   "source": [
    "fpath = '/home/attila/projects/bsm/results/calls/raw/ploidy_2/indiv_ids'\n",
    "with open(fpath) as f:\n",
    "    l = f.readlines()\n",
    "uploaded_IDs = set(['CMC_' + s.strip() for s in l])"
   ]
  },
  {
   "cell_type": "markdown",
   "metadata": {},
   "source": [
    "`genomics_subject02-2021-02-02.csv` lacks some individuals"
   ]
  },
  {
   "cell_type": "code",
   "execution_count": 5,
   "metadata": {},
   "outputs": [
    {
     "data": {
      "text/plain": [
       "{'CMC_MSSM_106',\n",
       " 'CMC_MSSM_109',\n",
       " 'CMC_MSSM_118',\n",
       " 'CMC_MSSM_175',\n",
       " 'CMC_MSSM_179',\n",
       " 'CMC_MSSM_183',\n",
       " 'CMC_MSSM_215',\n",
       " 'CMC_MSSM_369',\n",
       " 'CMC_MSSM_373',\n",
       " 'CMC_MSSM_391',\n",
       " 'CMC_PITT_010',\n",
       " 'CMC_PITT_064',\n",
       " 'CMC_PITT_091',\n",
       " 'CMC_PITT_118'}"
      ]
     },
     "execution_count": 5,
     "metadata": {},
     "output_type": "execute_result"
    }
   ],
   "source": [
    "def read_gsub(fpath):\n",
    "    df = pd.read_csv(fpath, skiprows=1)\n",
    "    return(df)\n",
    "\n",
    "gsub_2021_02_02 = read_gsub('/home/attila/projects/bsm/results/2021-02-02-submit-to-nda/genomics_subject02-2021-02-02.csv')\n",
    "missing = uploaded_IDs.difference(set(gsub_2021_02_02['src_subject_id']))\n",
    "missing"
   ]
  },
  {
   "cell_type": "markdown",
   "metadata": {},
   "source": [
    "`2020-06-08-genomics_subject02.csv` is redundant with respect to `genomics_subject02-2021-02-02.csv`"
   ]
  },
  {
   "cell_type": "code",
   "execution_count": 6,
   "metadata": {},
   "outputs": [
    {
     "data": {
      "text/plain": [
       "set()"
      ]
     },
     "execution_count": 6,
     "metadata": {},
     "output_type": "execute_result"
    }
   ],
   "source": [
    "gsub_2020_06_08 = read_gsub('/home/attila/projects/bsm/results/2020-04-22-upload-to-ndar-from-s3/2020-06-08-genomics_subject02.csv')\n",
    "set(gsub_2020_06_08['src_subject_id']).difference(set(gsub_2021_02_02['src_subject_id']))"
   ]
  },
  {
   "cell_type": "markdown",
   "metadata": {},
   "source": [
    "`genomics_subject02_U01MH106891_Chess.csv` contains all the individuals missing from `genomics_subject02-2021-02-02.csv`"
   ]
  },
  {
   "cell_type": "code",
   "execution_count": 7,
   "metadata": {},
   "outputs": [
    {
     "data": {
      "text/plain": [
       "set()"
      ]
     },
     "execution_count": 7,
     "metadata": {},
     "output_type": "execute_result"
    }
   ],
   "source": [
    "gsub_2019_12_09 = read_gsub('/home/attila/projects/bsm/results/2019-12-09-upload-to-ndar/genomics_subject02_U01MH106891_Chess.csv')\n",
    "uploaded_IDs.difference(set(gsub_2021_02_02['src_subject_id'])).difference(set(gsub_2019_12_09['src_subject_id']))"
   ]
  },
  {
   "cell_type": "code",
   "execution_count": 8,
   "metadata": {},
   "outputs": [],
   "source": [
    "gsub = pd.concat([gsub_2021_02_02, gsub_2019_12_09.loc[gsub_2019_12_09.src_subject_id.isin(missing)]], axis=0)\n",
    "gsub['phenotype'] = pd.Categorical(gsub.phenotype).remove_categories(['schizophrenia']).fillna('SCZ').remove_categories(['control']).fillna('Control')\n",
    "gsub.to_csv('/home/attila/projects/bsm/results/2021-02-25-download-callsets/genomics_subject02.csv', index=False)"
   ]
  },
  {
   "cell_type": "code",
   "execution_count": 9,
   "metadata": {},
   "outputs": [
    {
     "name": "stdout",
     "output_type": "stream",
     "text": [
      "{\n",
      "  \"shell_port\": 36007,\n",
      "  \"iopub_port\": 43451,\n",
      "  \"stdin_port\": 37983,\n",
      "  \"control_port\": 59995,\n",
      "  \"hb_port\": 33827,\n",
      "  \"ip\": \"127.0.0.1\",\n",
      "  \"key\": \"66cd7423-8efec5c5fdb8a7e1faa2265e\",\n",
      "  \"transport\": \"tcp\",\n",
      "  \"signature_scheme\": \"hmac-sha256\",\n",
      "  \"kernel_name\": \"\"\n",
      "}\n",
      "\n",
      "Paste the above JSON into a file, and connect with:\n",
      "    $> jupyter <app> --existing <file>\n",
      "or, if you are local, you can connect with just:\n",
      "    $> jupyter <app> --existing kernel-4e8f32b1-97b8-4ac3-885b-1616a286ece8.json\n",
      "or even just:\n",
      "    $> jupyter <app> --existing\n",
      "if this is the most recent Jupyter kernel you have started.\n"
     ]
    }
   ],
   "source": [
    "%connect_info"
   ]
  }
 ],
 "metadata": {
  "kernelspec": {
   "display_name": "Python 3",
   "language": "python",
   "name": "python3"
  },
  "language_info": {
   "codemirror_mode": {
    "name": "ipython",
    "version": 3
   },
   "file_extension": ".py",
   "mimetype": "text/x-python",
   "name": "python",
   "nbconvert_exporter": "python",
   "pygments_lexer": "ipython3",
   "version": "3.7.6"
  }
 },
 "nbformat": 4,
 "nbformat_minor": 4
}
