{
 "cells": [
  {
   "cell_type": "markdown",
   "metadata": {},
   "source": [
    "Setting up MosaicForecast and applying it to our data (from CommonMind samples)."
   ]
  },
  {
   "cell_type": "markdown",
   "metadata": {},
   "source": [
    "## Outline\n",
    "\n",
    "* install MosaicForecast: done on Ada and attilaThinkS\n",
    "    * was tricky: software dependencies\n",
    "* test data (demo): ongoing; the [README](https://github.com/parklab/MosaicForecast) is unclear on the input and output files so personal communication is essential with Yanmei\n",
    "    1. [Phasing](https://github.com/parklab/MosaicForecast#phasing): OK\n",
    "    1. [Extraction of read-level features](https://github.com/parklab/MosaicForecast#extraction-of-read-level-features): to do\n",
    "    1. [Genotype Prediction](https://github.com/parklab/MosaicForecast#genotype-prediction): to do\n",
    "* prepare real data (CMC) for MosaicForecast\n",
    "    * [Regions to filter out](https://github.com/parklab/MosaicForecast#regions-to-filter-out): to do; learning bedtools\n",
    "        1. segmental duplications\n",
    "        1. regions enriched for SNPs with >=3 haplotypes\n",
    "        1. simple repeats\n",
    "        1. variants in [gnomAD](https://gnomad.broadinstitute.org/) with VAF > 0.4\n",
    "    * input callset (MuTect2): to do\n",
    "        * preferrably use the fast MuTect2 implementation (Sentieon TNseq)\n",
    "        * tumor-only mode, Panel Of Normals (PON)\n",
    "* run MosaicForecast, interpret results: to do"
   ]
  },
  {
   "cell_type": "code",
   "execution_count": null,
   "metadata": {},
   "outputs": [],
   "source": []
  }
 ],
 "metadata": {
  "kernelspec": {
   "display_name": "Python 3",
   "language": "python",
   "name": "python3"
  },
  "language_info": {
   "codemirror_mode": {
    "name": "ipython",
    "version": 3
   },
   "file_extension": ".py",
   "mimetype": "text/x-python",
   "name": "python",
   "nbconvert_exporter": "python",
   "pygments_lexer": "ipython3",
   "version": "3.7.3"
  }
 },
 "nbformat": 4,
 "nbformat_minor": 2
}
