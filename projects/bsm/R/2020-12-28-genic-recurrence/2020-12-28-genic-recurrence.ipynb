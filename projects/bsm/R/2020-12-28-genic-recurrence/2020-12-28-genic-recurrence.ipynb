{
 "cells": [
  {
   "cell_type": "markdown",
   "metadata": {},
   "source": [
    "Calculating genic recurrence and addressing its association with schizophrenia."
   ]
  },
  {
   "cell_type": "code",
   "execution_count": 3,
   "metadata": {},
   "outputs": [],
   "source": [
    "%load_ext autoreload\n",
    "%autoreload 2\n",
    "%reload_ext autoreload\n",
    "from matplotlib import pyplot as plt\n",
    "import pandas as pd\n",
    "import numpy as np\n",
    "import attila_utils\n",
    "from bsmcalls import readVCF, individuals, preprocessing, SNPnexus\n",
    "import attila_utils\n",
    "import recur\n",
    "%matplotlib inline"
   ]
  },
  {
   "cell_type": "markdown",
   "metadata": {},
   "source": [
    "## All genic variants\n",
    "\n",
    "The following steps have been re-implemented in `notebook/2020-12-28-genic-recurrence/recur.py`.\n",
    "\n",
    "Import annotated, expanded calls"
   ]
  },
  {
   "cell_type": "code",
   "execution_count": 4,
   "metadata": {},
   "outputs": [],
   "source": [
    "# we could also call here recur.read_expand_calls()\n",
    "calls = SNPnexus.read_annot()\n",
    "colnamel = ['near_gens_Type', 'near_gens_Annotation', 'ensembl_Predicted Function', 'sift_Prediction']\n",
    "nonestrl = ['None', 'None', 'other', 'other']\n",
    "calls = SNPnexus.expand_multiple_setvalued(calls, colnamel=colnamel, nonestrl=nonestrl)"
   ]
  },
  {
   "cell_type": "markdown",
   "metadata": {},
   "source": [
    "Number of overlapped genes"
   ]
  },
  {
   "cell_type": "code",
   "execution_count": 5,
   "metadata": {},
   "outputs": [
    {
     "data": {
      "text/html": [
       "<style  type=\"text/css\" >\n",
       "#T_a4b3a80c_4fd9_11eb_be9d_87640336484arow0_col0{\n",
       "            width:  10em;\n",
       "             height:  80%;\n",
       "            background:  linear-gradient(90deg,#d65f5f 29.3%, transparent 29.3%);\n",
       "        }#T_a4b3a80c_4fd9_11eb_be9d_87640336484arow1_col0{\n",
       "            width:  10em;\n",
       "             height:  80%;\n",
       "            background:  linear-gradient(90deg,#d65f5f 76.3%, transparent 76.3%);\n",
       "        }#T_a4b3a80c_4fd9_11eb_be9d_87640336484arow2_col0{\n",
       "            width:  10em;\n",
       "             height:  80%;\n",
       "            background:  linear-gradient(90deg,#d65f5f 100.0%, transparent 100.0%);\n",
       "        }</style><table id=\"T_a4b3a80c_4fd9_11eb_be9d_87640336484a\" ><thead>    <tr>        <th class=\"blank level0\" ></th>        <th class=\"col_heading level0 col0\" >num calls</th>    </tr>    <tr>        <th class=\"index_name level0\" >Dx</th>        <th class=\"blank\" ></th>    </tr></thead><tbody>\n",
       "                <tr>\n",
       "                        <th id=\"T_a4b3a80c_4fd9_11eb_be9d_87640336484alevel0_row0\" class=\"row_heading level0 row0\" >Control</th>\n",
       "                        <td id=\"T_a4b3a80c_4fd9_11eb_be9d_87640336484arow0_col0\" class=\"data row0 col0\" >471</td>\n",
       "            </tr>\n",
       "            <tr>\n",
       "                        <th id=\"T_a4b3a80c_4fd9_11eb_be9d_87640336484alevel0_row1\" class=\"row_heading level0 row1\" >SCZ</th>\n",
       "                        <td id=\"T_a4b3a80c_4fd9_11eb_be9d_87640336484arow1_col0\" class=\"data row1 col0\" >1228</td>\n",
       "            </tr>\n",
       "            <tr>\n",
       "                        <th id=\"T_a4b3a80c_4fd9_11eb_be9d_87640336484alevel0_row2\" class=\"row_heading level0 row2\" >All</th>\n",
       "                        <td id=\"T_a4b3a80c_4fd9_11eb_be9d_87640336484arow2_col0\" class=\"data row2 col0\" >1610</td>\n",
       "            </tr>\n",
       "    </tbody></table>"
      ],
      "text/plain": [
       "<pandas.io.formats.style.Styler at 0x7f3f2f34fb90>"
      ]
     },
     "execution_count": 5,
     "metadata": {},
     "output_type": "execute_result"
    }
   ],
   "source": [
    "coding = calls.loc[~ (calls['near_gens_Overlapped Gene'] == 'None')]\n",
    "ncoding = coding.pivot_table(values='near_gens_Overlapped Gene', index='Dx', aggfunc='nunique', margins=True).rename(columns={'near_gens_Overlapped Gene': 'num calls'})\n",
    "ncoding['frac calls'] = ncoding / ncoding.loc['All', 'num calls']\n",
    "ncoding[['num calls']].style.bar(vmin=0)"
   ]
  },
  {
   "cell_type": "code",
   "execution_count": 6,
   "metadata": {},
   "outputs": [],
   "source": [
    "genes = list(set(coding['near_gens_Overlapped Gene']))\n",
    "genes.sort()"
   ]
  },
  {
   "cell_type": "code",
   "execution_count": 7,
   "metadata": {},
   "outputs": [
    {
     "data": {
      "text/plain": [
       "Individual ID\n",
       "CMC_MSSM_027    {SLC10A7, C10orf11, CDH4, FGF14, SLC35F6:CENPA...\n",
       "CMC_MSSM_055    {CDK19, FIP1L1, SFXN2, CDC42SE2, LDB3, DYX1C1-...\n",
       "CMC_MSSM_056    {SNED1:AC005237.4, C9, CCDC120, RP11-260O18.1,...\n",
       "CMC_MSSM_069        {EPHA6, CNKSR2, LIPA, GALNT16, CASK, ZNF385D}\n",
       "CMC_MSSM_097    {CTD-2008P7.3, MADD, SNTG1, SEC14L4, FAM156A, ...\n",
       "                                      ...                        \n",
       "CMC_PITT_098    {PTPRN2, SYT16, RP11-649A16.1, MYLK4, HAND2-AS...\n",
       "CMC_PITT_101    {NEGR1, MIPOL1, ZFHX4, SEMA3A, RALGAPB, SLC35E...\n",
       "CMC_PITT_113    {DOT1L, CD164, QPCT, RNFT2, MARK4, AUTS2, MGAT...\n",
       "CMC_PITT_117    {RALGAPA2, C9orf96, AC133680.1, CERS6, TMEM184...\n",
       "CMC_PITT_118    {SGCD, TBC1D5, ZBTB20, SELT, DCC, FEZ2, FTO:RP...\n",
       "Name: near_gens_Overlapped Gene, Length: 86, dtype: object"
      ]
     },
     "execution_count": 7,
     "metadata": {},
     "output_type": "execute_result"
    }
   ],
   "source": [
    "s = coding.groupby('Individual ID')['near_gens_Overlapped Gene'].agg(set)\n",
    "s"
   ]
  },
  {
   "cell_type": "code",
   "execution_count": 8,
   "metadata": {},
   "outputs": [
    {
     "data": {
      "text/plain": [
       "5S_rRNA                            [CMC_MSSM_391]\n",
       "AAGAB                              [CMC_MSSM_304]\n",
       "ABCA12                             [CMC_MSSM_372]\n",
       "ABCA9:ABCA9-AS1                    [CMC_MSSM_363]\n",
       "ABCG1                              [CMC_MSSM_352]\n",
       "                                 ...             \n",
       "ZNF804A                            [CMC_MSSM_273]\n",
       "ZNF804B              [CMC_MSSM_130, CMC_PITT_098]\n",
       "ZYG11A                             [CMC_MSSM_321]\n",
       "hsa-mir-490                        [CMC_MSSM_097]\n",
       "hsa-mir-490:CHRM2    [CMC_MSSM_055, CMC_MSSM_099]\n",
       "Length: 1610, dtype: object"
      ]
     },
     "execution_count": 8,
     "metadata": {},
     "output_type": "execute_result"
    }
   ],
   "source": [
    "recurrence_dict = {gene: [ind for ind in s.index if gene in s[ind]] for gene in genes}\n",
    "recurrence_ser = pd.Series(recurrence_dict)\n",
    "recurrence_ser"
   ]
  },
  {
   "cell_type": "code",
   "execution_count": 9,
   "metadata": {},
   "outputs": [],
   "source": [
    "ss = recurrence_ser.apply(lambda l: [sum([calls.xs(key=ind, axis=0, level='Individual ID')['Dx'].unique()[0] == dx for ind in l]) for dx in ['Control', 'SCZ']])\n",
    "recurrence = ss.apply(pd.Series).rename(columns={0: 'n Control indiv', 1: 'n SCZ indiv'})\n",
    "recurrence['Individual IDs'] = recurrence_ser"
   ]
  },
  {
   "cell_type": "code",
   "execution_count": 10,
   "metadata": {},
   "outputs": [
    {
     "data": {
      "text/html": [
       "<div>\n",
       "<style scoped>\n",
       "    .dataframe tbody tr th:only-of-type {\n",
       "        vertical-align: middle;\n",
       "    }\n",
       "\n",
       "    .dataframe tbody tr th {\n",
       "        vertical-align: top;\n",
       "    }\n",
       "\n",
       "    .dataframe thead th {\n",
       "        text-align: right;\n",
       "    }\n",
       "</style>\n",
       "<table border=\"1\" class=\"dataframe\">\n",
       "  <thead>\n",
       "    <tr style=\"text-align: right;\">\n",
       "      <th></th>\n",
       "      <th>n Control indiv</th>\n",
       "      <th>n SCZ indiv</th>\n",
       "      <th>Individual IDs</th>\n",
       "    </tr>\n",
       "  </thead>\n",
       "  <tbody>\n",
       "    <tr>\n",
       "      <th>KCND2</th>\n",
       "      <td>0</td>\n",
       "      <td>4</td>\n",
       "      <td>[CMC_MSSM_211, CMC_MSSM_327, CMC_MSSM_352, CMC...</td>\n",
       "    </tr>\n",
       "    <tr>\n",
       "      <th>RBFOX1</th>\n",
       "      <td>0</td>\n",
       "      <td>4</td>\n",
       "      <td>[CMC_MSSM_213, CMC_MSSM_224, CMC_MSSM_305, CMC...</td>\n",
       "    </tr>\n",
       "    <tr>\n",
       "      <th>SGCD</th>\n",
       "      <td>0</td>\n",
       "      <td>3</td>\n",
       "      <td>[CMC_MSSM_352, CMC_PITT_072, CMC_PITT_118]</td>\n",
       "    </tr>\n",
       "    <tr>\n",
       "      <th>ADARB2</th>\n",
       "      <td>0</td>\n",
       "      <td>3</td>\n",
       "      <td>[CMC_MSSM_321, CMC_MSSM_366, CMC_MSSM_415]</td>\n",
       "    </tr>\n",
       "    <tr>\n",
       "      <th>TTC28</th>\n",
       "      <td>0</td>\n",
       "      <td>3</td>\n",
       "      <td>[CMC_MSSM_118, CMC_MSSM_265, CMC_MSSM_293]</td>\n",
       "    </tr>\n",
       "    <tr>\n",
       "      <th>...</th>\n",
       "      <td>...</td>\n",
       "      <td>...</td>\n",
       "      <td>...</td>\n",
       "    </tr>\n",
       "    <tr>\n",
       "      <th>NTSR1</th>\n",
       "      <td>1</td>\n",
       "      <td>0</td>\n",
       "      <td>[CMC_PITT_064]</td>\n",
       "    </tr>\n",
       "    <tr>\n",
       "      <th>NUCB2</th>\n",
       "      <td>1</td>\n",
       "      <td>0</td>\n",
       "      <td>[CMC_PITT_050]</td>\n",
       "    </tr>\n",
       "    <tr>\n",
       "      <th>NUDT7</th>\n",
       "      <td>1</td>\n",
       "      <td>0</td>\n",
       "      <td>[CMC_MSSM_215]</td>\n",
       "    </tr>\n",
       "    <tr>\n",
       "      <th>NYAP2</th>\n",
       "      <td>1</td>\n",
       "      <td>0</td>\n",
       "      <td>[CMC_MSSM_406]</td>\n",
       "    </tr>\n",
       "    <tr>\n",
       "      <th>hsa-mir-490:CHRM2</th>\n",
       "      <td>2</td>\n",
       "      <td>0</td>\n",
       "      <td>[CMC_MSSM_055, CMC_MSSM_099]</td>\n",
       "    </tr>\n",
       "  </tbody>\n",
       "</table>\n",
       "<p>1610 rows × 3 columns</p>\n",
       "</div>"
      ],
      "text/plain": [
       "                   n Control indiv  n SCZ indiv  \\\n",
       "KCND2                            0            4   \n",
       "RBFOX1                           0            4   \n",
       "SGCD                             0            3   \n",
       "ADARB2                           0            3   \n",
       "TTC28                            0            3   \n",
       "...                            ...          ...   \n",
       "NTSR1                            1            0   \n",
       "NUCB2                            1            0   \n",
       "NUDT7                            1            0   \n",
       "NYAP2                            1            0   \n",
       "hsa-mir-490:CHRM2                2            0   \n",
       "\n",
       "                                                      Individual IDs  \n",
       "KCND2              [CMC_MSSM_211, CMC_MSSM_327, CMC_MSSM_352, CMC...  \n",
       "RBFOX1             [CMC_MSSM_213, CMC_MSSM_224, CMC_MSSM_305, CMC...  \n",
       "SGCD                      [CMC_MSSM_352, CMC_PITT_072, CMC_PITT_118]  \n",
       "ADARB2                    [CMC_MSSM_321, CMC_MSSM_366, CMC_MSSM_415]  \n",
       "TTC28                     [CMC_MSSM_118, CMC_MSSM_265, CMC_MSSM_293]  \n",
       "...                                                              ...  \n",
       "NTSR1                                                 [CMC_PITT_064]  \n",
       "NUCB2                                                 [CMC_PITT_050]  \n",
       "NUDT7                                                 [CMC_MSSM_215]  \n",
       "NYAP2                                                 [CMC_MSSM_406]  \n",
       "hsa-mir-490:CHRM2                       [CMC_MSSM_055, CMC_MSSM_099]  \n",
       "\n",
       "[1610 rows x 3 columns]"
      ]
     },
     "execution_count": 10,
     "metadata": {},
     "output_type": "execute_result"
    }
   ],
   "source": [
    "recurrence.sort_values('n SCZ indiv', ascending=False)"
   ]
  },
  {
   "cell_type": "code",
   "execution_count": 11,
   "metadata": {},
   "outputs": [
    {
     "data": {
      "text/html": [
       "<style  type=\"text/css\" >\n",
       "#T_a739f130_4fd9_11eb_be9d_87640336484arow0_col0,#T_a739f130_4fd9_11eb_be9d_87640336484arow1_col3,#T_a739f130_4fd9_11eb_be9d_87640336484arow1_col4,#T_a739f130_4fd9_11eb_be9d_87640336484arow2_col4,#T_a739f130_4fd9_11eb_be9d_87640336484arow3_col0,#T_a739f130_4fd9_11eb_be9d_87640336484arow3_col2,#T_a739f130_4fd9_11eb_be9d_87640336484arow3_col3,#T_a739f130_4fd9_11eb_be9d_87640336484arow3_col4{\n",
       "            background-color:  #ebf3eb;\n",
       "            color:  #000000;\n",
       "        }#T_a739f130_4fd9_11eb_be9d_87640336484arow0_col1,#T_a739f130_4fd9_11eb_be9d_87640336484arow1_col0{\n",
       "            background-color:  #008000;\n",
       "            color:  #f1f1f1;\n",
       "        }#T_a739f130_4fd9_11eb_be9d_87640336484arow0_col2{\n",
       "            background-color:  #108810;\n",
       "            color:  #f1f1f1;\n",
       "        }#T_a739f130_4fd9_11eb_be9d_87640336484arow0_col3{\n",
       "            background-color:  #d5e9d5;\n",
       "            color:  #000000;\n",
       "        }#T_a739f130_4fd9_11eb_be9d_87640336484arow0_col4{\n",
       "            background-color:  #e6f1e6;\n",
       "            color:  #000000;\n",
       "        }#T_a739f130_4fd9_11eb_be9d_87640336484arow1_col1{\n",
       "            background-color:  #52a852;\n",
       "            color:  #000000;\n",
       "        }#T_a739f130_4fd9_11eb_be9d_87640336484arow1_col2{\n",
       "            background-color:  #cce4cc;\n",
       "            color:  #000000;\n",
       "        }#T_a739f130_4fd9_11eb_be9d_87640336484arow2_col0{\n",
       "            background-color:  #c8e2c8;\n",
       "            color:  #000000;\n",
       "        }#T_a739f130_4fd9_11eb_be9d_87640336484arow2_col1{\n",
       "            background-color:  #d8ead8;\n",
       "            color:  #000000;\n",
       "        }#T_a739f130_4fd9_11eb_be9d_87640336484arow2_col2,#T_a739f130_4fd9_11eb_be9d_87640336484arow2_col3,#T_a739f130_4fd9_11eb_be9d_87640336484arow3_col1{\n",
       "            background-color:  #e9f2e9;\n",
       "            color:  #000000;\n",
       "        }</style><table id=\"T_a739f130_4fd9_11eb_be9d_87640336484a\" ><caption># mutated genes in (m, n) individuals</caption><thead>    <tr>        <th class=\"index_name level0\" >n SCZ indiv</th>        <th class=\"col_heading level0 col0\" >0</th>        <th class=\"col_heading level0 col1\" >1</th>        <th class=\"col_heading level0 col2\" >2</th>        <th class=\"col_heading level0 col3\" >3</th>        <th class=\"col_heading level0 col4\" >4</th>    </tr>    <tr>        <th class=\"index_name level0\" >m Control indiv</th>        <th class=\"blank\" ></th>        <th class=\"blank\" ></th>        <th class=\"blank\" ></th>        <th class=\"blank\" ></th>        <th class=\"blank\" ></th>    </tr></thead><tbody>\n",
       "                <tr>\n",
       "                        <th id=\"T_a739f130_4fd9_11eb_be9d_87640336484alevel0_row0\" class=\"row_heading level0 row0\" >0</th>\n",
       "                        <td id=\"T_a739f130_4fd9_11eb_be9d_87640336484arow0_col0\" class=\"data row0 col0\" >0</td>\n",
       "                        <td id=\"T_a739f130_4fd9_11eb_be9d_87640336484arow0_col1\" class=\"data row0 col1\" >1035</td>\n",
       "                        <td id=\"T_a739f130_4fd9_11eb_be9d_87640336484arow0_col2\" class=\"data row0 col2\" >93</td>\n",
       "                        <td id=\"T_a739f130_4fd9_11eb_be9d_87640336484arow0_col3\" class=\"data row0 col3\" >9</td>\n",
       "                        <td id=\"T_a739f130_4fd9_11eb_be9d_87640336484arow0_col4\" class=\"data row0 col4\" >2</td>\n",
       "            </tr>\n",
       "            <tr>\n",
       "                        <th id=\"T_a739f130_4fd9_11eb_be9d_87640336484alevel0_row1\" class=\"row_heading level0 row1\" >1</th>\n",
       "                        <td id=\"T_a739f130_4fd9_11eb_be9d_87640336484arow1_col0\" class=\"data row1 col0\" >367</td>\n",
       "                        <td id=\"T_a739f130_4fd9_11eb_be9d_87640336484arow1_col1\" class=\"data row1 col1\" >65</td>\n",
       "                        <td id=\"T_a739f130_4fd9_11eb_be9d_87640336484arow1_col2\" class=\"data row1 col2\" >13</td>\n",
       "                        <td id=\"T_a739f130_4fd9_11eb_be9d_87640336484arow1_col3\" class=\"data row1 col3\" >0</td>\n",
       "                        <td id=\"T_a739f130_4fd9_11eb_be9d_87640336484arow1_col4\" class=\"data row1 col4\" >0</td>\n",
       "            </tr>\n",
       "            <tr>\n",
       "                        <th id=\"T_a739f130_4fd9_11eb_be9d_87640336484alevel0_row2\" class=\"row_heading level0 row2\" >2</th>\n",
       "                        <td id=\"T_a739f130_4fd9_11eb_be9d_87640336484arow2_col0\" class=\"data row2 col0\" >15</td>\n",
       "                        <td id=\"T_a739f130_4fd9_11eb_be9d_87640336484arow2_col1\" class=\"data row2 col1\" >8</td>\n",
       "                        <td id=\"T_a739f130_4fd9_11eb_be9d_87640336484arow2_col2\" class=\"data row2 col2\" >1</td>\n",
       "                        <td id=\"T_a739f130_4fd9_11eb_be9d_87640336484arow2_col3\" class=\"data row2 col3\" >1</td>\n",
       "                        <td id=\"T_a739f130_4fd9_11eb_be9d_87640336484arow2_col4\" class=\"data row2 col4\" >0</td>\n",
       "            </tr>\n",
       "            <tr>\n",
       "                        <th id=\"T_a739f130_4fd9_11eb_be9d_87640336484alevel0_row3\" class=\"row_heading level0 row3\" >3</th>\n",
       "                        <td id=\"T_a739f130_4fd9_11eb_be9d_87640336484arow3_col0\" class=\"data row3 col0\" >0</td>\n",
       "                        <td id=\"T_a739f130_4fd9_11eb_be9d_87640336484arow3_col1\" class=\"data row3 col1\" >1</td>\n",
       "                        <td id=\"T_a739f130_4fd9_11eb_be9d_87640336484arow3_col2\" class=\"data row3 col2\" >0</td>\n",
       "                        <td id=\"T_a739f130_4fd9_11eb_be9d_87640336484arow3_col3\" class=\"data row3 col3\" >0</td>\n",
       "                        <td id=\"T_a739f130_4fd9_11eb_be9d_87640336484arow3_col4\" class=\"data row3 col4\" >0</td>\n",
       "            </tr>\n",
       "    </tbody></table>"
      ],
      "text/plain": [
       "<pandas.io.formats.style.Styler at 0x7f3f60ee98d0>"
      ]
     },
     "execution_count": 11,
     "metadata": {},
     "output_type": "execute_result"
    }
   ],
   "source": [
    "joint_recur = recurrence.value_counts(['n Control indiv', 'n SCZ indiv']).unstack().fillna(0).astype('int64').rename_axis(index='m Control indiv')\n",
    "import seaborn as sns\n",
    "cm = sns.light_palette(\"green\", as_cmap=True)\n",
    "joint_recur.style.background_gradient(cmap=cm, vmin=0, vmax=100).set_caption('# mutated genes in (m, n) individuals')"
   ]
  },
  {
   "cell_type": "code",
   "execution_count": 12,
   "metadata": {},
   "outputs": [
    {
     "data": {
      "text/html": [
       "<style  type=\"text/css\" >\n",
       "#T_a73fb426_4fd9_11eb_be9d_87640336484arow0_col0,#T_a73fb426_4fd9_11eb_be9d_87640336484arow1_col1{\n",
       "            background-color:  #008000;\n",
       "            color:  #f1f1f1;\n",
       "        }#T_a73fb426_4fd9_11eb_be9d_87640336484arow0_col1{\n",
       "            background-color:  #379b37;\n",
       "            color:  #000000;\n",
       "        }#T_a73fb426_4fd9_11eb_be9d_87640336484arow1_col0{\n",
       "            background-color:  #1a8d1a;\n",
       "            color:  #000000;\n",
       "        }#T_a73fb426_4fd9_11eb_be9d_87640336484arow2_col0{\n",
       "            background-color:  #e0eedf;\n",
       "            color:  #000000;\n",
       "        }#T_a73fb426_4fd9_11eb_be9d_87640336484arow2_col1{\n",
       "            background-color:  #b9dbb9;\n",
       "            color:  #000000;\n",
       "        }#T_a73fb426_4fd9_11eb_be9d_87640336484arow3_col0,#T_a73fb426_4fd9_11eb_be9d_87640336484arow4_col0{\n",
       "            background-color:  #ebf3eb;\n",
       "            color:  #000000;\n",
       "        }#T_a73fb426_4fd9_11eb_be9d_87640336484arow3_col1{\n",
       "            background-color:  #e6f1e6;\n",
       "            color:  #000000;\n",
       "        }#T_a73fb426_4fd9_11eb_be9d_87640336484arow4_col1{\n",
       "            background-color:  #eaf2ea;\n",
       "            color:  #000000;\n",
       "        }</style><table id=\"T_a73fb426_4fd9_11eb_be9d_87640336484a\" ><caption># mutated genes in n individuals</caption><thead>    <tr>        <th class=\"blank level0\" ></th>        <th class=\"col_heading level0 col0\" >Control</th>        <th class=\"col_heading level0 col1\" >SCZ</th>    </tr>    <tr>        <th class=\"index_name level0\" >n indiv</th>        <th class=\"blank\" ></th>        <th class=\"blank\" ></th>    </tr></thead><tbody>\n",
       "                <tr>\n",
       "                        <th id=\"T_a73fb426_4fd9_11eb_be9d_87640336484alevel0_row0\" class=\"row_heading level0 row0\" >0</th>\n",
       "                        <td id=\"T_a73fb426_4fd9_11eb_be9d_87640336484arow0_col0\" class=\"data row0 col0\" >1139</td>\n",
       "                        <td id=\"T_a73fb426_4fd9_11eb_be9d_87640336484arow0_col1\" class=\"data row0 col1\" >382</td>\n",
       "            </tr>\n",
       "            <tr>\n",
       "                        <th id=\"T_a73fb426_4fd9_11eb_be9d_87640336484alevel0_row1\" class=\"row_heading level0 row1\" >1</th>\n",
       "                        <td id=\"T_a73fb426_4fd9_11eb_be9d_87640336484arow1_col0\" class=\"data row1 col0\" >445</td>\n",
       "                        <td id=\"T_a73fb426_4fd9_11eb_be9d_87640336484arow1_col1\" class=\"data row1 col1\" >1109</td>\n",
       "            </tr>\n",
       "            <tr>\n",
       "                        <th id=\"T_a73fb426_4fd9_11eb_be9d_87640336484alevel0_row2\" class=\"row_heading level0 row2\" >2</th>\n",
       "                        <td id=\"T_a73fb426_4fd9_11eb_be9d_87640336484arow2_col0\" class=\"data row2 col0\" >25</td>\n",
       "                        <td id=\"T_a73fb426_4fd9_11eb_be9d_87640336484arow2_col1\" class=\"data row2 col1\" >107</td>\n",
       "            </tr>\n",
       "            <tr>\n",
       "                        <th id=\"T_a73fb426_4fd9_11eb_be9d_87640336484alevel0_row3\" class=\"row_heading level0 row3\" >3</th>\n",
       "                        <td id=\"T_a73fb426_4fd9_11eb_be9d_87640336484arow3_col0\" class=\"data row3 col0\" >1</td>\n",
       "                        <td id=\"T_a73fb426_4fd9_11eb_be9d_87640336484arow3_col1\" class=\"data row3 col1\" >10</td>\n",
       "            </tr>\n",
       "            <tr>\n",
       "                        <th id=\"T_a73fb426_4fd9_11eb_be9d_87640336484alevel0_row4\" class=\"row_heading level0 row4\" >4</th>\n",
       "                        <td id=\"T_a73fb426_4fd9_11eb_be9d_87640336484arow4_col0\" class=\"data row4 col0\" >0</td>\n",
       "                        <td id=\"T_a73fb426_4fd9_11eb_be9d_87640336484arow4_col1\" class=\"data row4 col1\" >2</td>\n",
       "            </tr>\n",
       "    </tbody></table>"
      ],
      "text/plain": [
       "<pandas.io.formats.style.Styler at 0x7f3f2ee2cc50>"
      ]
     },
     "execution_count": 12,
     "metadata": {},
     "output_type": "execute_result"
    }
   ],
   "source": [
    "marginal_recur = pd.DataFrame([recurrence.value_counts(x) for x in ['n Control indiv', 'n SCZ indiv']], index=['Control', 'SCZ']).T.fillna(0).astype('int64').rename_axis(index='n indiv')\n",
    "marginal_recur.style.background_gradient(cmap=cm, vmin=0, vmax=500).set_caption('# mutated genes in n individuals')"
   ]
  },
  {
   "cell_type": "markdown",
   "metadata": {},
   "source": [
    "## Functional genic variants\n",
    "\n",
    "Here I repeat the calculations with the modification that first I filter for functional genic variants.  Functional genic variants are: 'coding nonsyn', 'stop-gain', 'intronic (splice_site)'."
   ]
  },
  {
   "cell_type": "code",
   "execution_count": 13,
   "metadata": {},
   "outputs": [
    {
     "data": {
      "text/plain": [
       "coding nonsyn             59\n",
       "stop-gain                  4\n",
       "intronic (splice_site)     1\n",
       "dtype: int64"
      ]
     },
     "execution_count": 13,
     "metadata": {},
     "output_type": "execute_result"
    }
   ],
   "source": [
    "coding_functional = recur.get_coding(calls)\n",
    "coding_functional[recur.functional_genic].apply(sum)"
   ]
  },
  {
   "cell_type": "code",
   "execution_count": 14,
   "metadata": {},
   "outputs": [
    {
     "data": {
      "text/html": [
       "<style  type=\"text/css\" >\n",
       "#T_a756cee0_4fd9_11eb_be9d_87640336484arow0_col0,#T_a756cee0_4fd9_11eb_be9d_87640336484arow1_col1,#T_a756cee0_4fd9_11eb_be9d_87640336484arow1_col2{\n",
       "            background-color:  #ebf3eb;\n",
       "            color:  #000000;\n",
       "        }#T_a756cee0_4fd9_11eb_be9d_87640336484arow0_col1{\n",
       "            background-color:  #85c185;\n",
       "            color:  #000000;\n",
       "        }#T_a756cee0_4fd9_11eb_be9d_87640336484arow0_col2{\n",
       "            background-color:  #e9f2e9;\n",
       "            color:  #000000;\n",
       "        }#T_a756cee0_4fd9_11eb_be9d_87640336484arow1_col0{\n",
       "            background-color:  #c8e2c8;\n",
       "            color:  #000000;\n",
       "        }</style><table id=\"T_a756cee0_4fd9_11eb_be9d_87640336484a\" ><caption># mutated genes in (m, n) individuals</caption><thead>    <tr>        <th class=\"index_name level0\" >n SCZ indiv</th>        <th class=\"col_heading level0 col0\" >0</th>        <th class=\"col_heading level0 col1\" >1</th>        <th class=\"col_heading level0 col2\" >2</th>    </tr>    <tr>        <th class=\"index_name level0\" >m Control indiv</th>        <th class=\"blank\" ></th>        <th class=\"blank\" ></th>        <th class=\"blank\" ></th>    </tr></thead><tbody>\n",
       "                <tr>\n",
       "                        <th id=\"T_a756cee0_4fd9_11eb_be9d_87640336484alevel0_row0\" class=\"row_heading level0 row0\" >0</th>\n",
       "                        <td id=\"T_a756cee0_4fd9_11eb_be9d_87640336484arow0_col0\" class=\"data row0 col0\" >0</td>\n",
       "                        <td id=\"T_a756cee0_4fd9_11eb_be9d_87640336484arow0_col1\" class=\"data row0 col1\" >43</td>\n",
       "                        <td id=\"T_a756cee0_4fd9_11eb_be9d_87640336484arow0_col2\" class=\"data row0 col2\" >1</td>\n",
       "            </tr>\n",
       "            <tr>\n",
       "                        <th id=\"T_a756cee0_4fd9_11eb_be9d_87640336484alevel0_row1\" class=\"row_heading level0 row1\" >1</th>\n",
       "                        <td id=\"T_a756cee0_4fd9_11eb_be9d_87640336484arow1_col0\" class=\"data row1 col0\" >15</td>\n",
       "                        <td id=\"T_a756cee0_4fd9_11eb_be9d_87640336484arow1_col1\" class=\"data row1 col1\" >0</td>\n",
       "                        <td id=\"T_a756cee0_4fd9_11eb_be9d_87640336484arow1_col2\" class=\"data row1 col2\" >0</td>\n",
       "            </tr>\n",
       "    </tbody></table>"
      ],
      "text/plain": [
       "<pandas.io.formats.style.Styler at 0x7f3f2f291b50>"
      ]
     },
     "execution_count": 14,
     "metadata": {},
     "output_type": "execute_result"
    }
   ],
   "source": [
    "recurrence_functional = recur.genic_recurrence_df(coding_functional)\n",
    "recur.contingency_tab(recurrence_functional).style.background_gradient(cmap=cm, vmin=0, vmax=100).set_caption('# mutated genes in (m, n) individuals')"
   ]
  },
  {
   "cell_type": "markdown",
   "metadata": {},
   "source": [
    "We see that only one gene is recurrently mutated.  Both mutations are in SCZ individuals.  The mutated gene is an olfactory receptor:"
   ]
  },
  {
   "cell_type": "code",
   "execution_count": 15,
   "metadata": {},
   "outputs": [
    {
     "data": {
      "text/html": [
       "<div>\n",
       "<style scoped>\n",
       "    .dataframe tbody tr th:only-of-type {\n",
       "        vertical-align: middle;\n",
       "    }\n",
       "\n",
       "    .dataframe tbody tr th {\n",
       "        vertical-align: top;\n",
       "    }\n",
       "\n",
       "    .dataframe thead th {\n",
       "        text-align: right;\n",
       "    }\n",
       "</style>\n",
       "<table border=\"1\" class=\"dataframe\">\n",
       "  <thead>\n",
       "    <tr style=\"text-align: right;\">\n",
       "      <th></th>\n",
       "      <th>n Control indiv</th>\n",
       "      <th>n SCZ indiv</th>\n",
       "      <th>Individual IDs</th>\n",
       "    </tr>\n",
       "  </thead>\n",
       "  <tbody>\n",
       "    <tr>\n",
       "      <th>OR2G6</th>\n",
       "      <td>0</td>\n",
       "      <td>2</td>\n",
       "      <td>[CMC_MSSM_193, CMC_MSSM_211]</td>\n",
       "    </tr>\n",
       "  </tbody>\n",
       "</table>\n",
       "</div>"
      ],
      "text/plain": [
       "       n Control indiv  n SCZ indiv                Individual IDs\n",
       "OR2G6                0            2  [CMC_MSSM_193, CMC_MSSM_211]"
      ]
     },
     "execution_count": 15,
     "metadata": {},
     "output_type": "execute_result"
    }
   ],
   "source": [
    "recurrence_functional.loc[recurrence_functional[['n Control indiv', 'n SCZ indiv']].sum(axis=1) > 1]"
   ]
  },
  {
   "cell_type": "code",
   "execution_count": 16,
   "metadata": {},
   "outputs": [
    {
     "name": "stdout",
     "output_type": "stream",
     "text": [
      "{\n",
      "  \"shell_port\": 59331,\n",
      "  \"iopub_port\": 60005,\n",
      "  \"stdin_port\": 47103,\n",
      "  \"control_port\": 48785,\n",
      "  \"hb_port\": 35265,\n",
      "  \"ip\": \"127.0.0.1\",\n",
      "  \"key\": \"fe97ccb2-b86727c1a9e6c482de52d2b7\",\n",
      "  \"transport\": \"tcp\",\n",
      "  \"signature_scheme\": \"hmac-sha256\",\n",
      "  \"kernel_name\": \"\"\n",
      "}\n",
      "\n",
      "Paste the above JSON into a file, and connect with:\n",
      "    $> jupyter <app> --existing <file>\n",
      "or, if you are local, you can connect with just:\n",
      "    $> jupyter <app> --existing kernel-a8805923-697d-4886-8fa1-9d8966270445.json\n",
      "or even just:\n",
      "    $> jupyter <app> --existing\n",
      "if this is the most recent Jupyter kernel you have started.\n"
     ]
    }
   ],
   "source": [
    "%connect_info"
   ]
  },
  {
   "cell_type": "code",
   "execution_count": null,
   "metadata": {},
   "outputs": [],
   "source": []
  }
 ],
 "metadata": {
  "kernelspec": {
   "display_name": "Python 3",
   "language": "python",
   "name": "python3"
  },
  "language_info": {
   "codemirror_mode": {
    "name": "ipython",
    "version": 3
   },
   "file_extension": ".py",
   "mimetype": "text/x-python",
   "name": "python",
   "nbconvert_exporter": "python",
   "pygments_lexer": "ipython3",
   "version": "3.7.6"
  }
 },
 "nbformat": 4,
 "nbformat_minor": 4
}
