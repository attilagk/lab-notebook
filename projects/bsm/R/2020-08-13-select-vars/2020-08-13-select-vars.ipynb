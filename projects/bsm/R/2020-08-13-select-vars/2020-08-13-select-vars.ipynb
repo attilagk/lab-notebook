{
 "cells": [
  {
   "cell_type": "markdown",
   "metadata": {},
   "source": [
    "Selecting variables"
   ]
  },
  {
   "cell_type": "code",
   "execution_count": 1,
   "metadata": {},
   "outputs": [],
   "source": [
    "%load_ext autoreload\n",
    "%autoreload 2\n",
    "%reload_ext autoreload\n",
    "from matplotlib import pyplot as plt\n",
    "import pandas as pd\n",
    "from bsmcalls import individuals\n",
    "from bsmcalls import preprocessing\n",
    "import fwsel\n",
    "import statsmodels as sm\n",
    "%matplotlib inline"
   ]
  },
  {
   "cell_type": "code",
   "execution_count": 2,
   "metadata": {},
   "outputs": [],
   "source": [
    "calls, clin = individuals.get_data(merge=False, cleancalls=True)"
   ]
  },
  {
   "cell_type": "markdown",
   "metadata": {},
   "source": [
    "The `cleancalls` argument in `bsmcalls.individuals.get_data` takes care of redundant and degenerate variables.\n",
    "\n",
    "Below `bsmcalls.preprocessing.preprocess` performs\n",
    "\n",
    "* imputation or removing a variable if the fraction of missing values exceeds 10%\n",
    "* prettifying the variable names (replace whitespace and `./\\:` characters with `_`)\n",
    "* turns *Dx* into a response variable by dummifying it so it takes values on $\\{0, 1\\}$\n",
    "* standardizes numeric variables"
   ]
  },
  {
   "cell_type": "code",
   "execution_count": 3,
   "metadata": {},
   "outputs": [],
   "source": [
    "calls1 = preprocessing.preprocess(calls)\n",
    "clin1 = preprocessing.preprocess(clin)\n",
    "calls1 = individuals.merge_data(calls1, clin1[['Dx']])"
   ]
  },
  {
   "cell_type": "code",
   "execution_count": 4,
   "metadata": {},
   "outputs": [
    {
     "name": "stdout",
     "output_type": "stream",
     "text": [
      "<class 'pandas.core.frame.DataFrame'>\n",
      "MultiIndex: 3301 entries, ('CMC_MSSM_027', 'NeuN_pl', '1', 11973569, 'C->T') to ('CMC_PITT_118', 'NeuN_pl', 'X', 120533592, 'C->A')\n",
      "Data columns (total 15 columns):\n",
      " #   Column                Non-Null Count  Dtype   \n",
      "---  ------                --------------  -----   \n",
      " 0   REF                   3301 non-null   category\n",
      " 1   ALT                   3301 non-null   category\n",
      " 2   FILTER_PASS           3301 non-null   category\n",
      " 3   AF                    3301 non-null   float64 \n",
      " 4   BaseQRankSum          3301 non-null   float64 \n",
      " 5   DP                    3301 non-null   float64 \n",
      " 6   FS                    3301 non-null   float64 \n",
      " 7   SOR                   3301 non-null   float64 \n",
      " 8   VQSLOD                3301 non-null   float64 \n",
      " 9   culprit               3301 non-null   category\n",
      " 10  ChromatinState_DLPFC  3301 non-null   category\n",
      " 11  szdbCNVcount          3301 non-null   float64 \n",
      " 12  GWASpval              3301 non-null   float64 \n",
      " 13  evolConstrain         3301 non-null   category\n",
      " 14  Dx                    3301 non-null   int32   \n",
      "dtypes: category(6), float64(8), int32(1)\n",
      "memory usage: 286.9+ KB\n"
     ]
    }
   ],
   "source": [
    "calls1.info()"
   ]
  },
  {
   "cell_type": "markdown",
   "metadata": {},
   "source": [
    "## Forward variable selection"
   ]
  },
  {
   "cell_type": "code",
   "execution_count": 5,
   "metadata": {},
   "outputs": [],
   "source": [
    "best1 = fwsel.forward_selected(calls1, 'Dx')"
   ]
  },
  {
   "cell_type": "code",
   "execution_count": 6,
   "metadata": {},
   "outputs": [
    {
     "data": {
      "text/plain": [
       "'Dx ~ culprit + DP + ALT + AF + FILTER_PASS + VQSLOD + BaseQRankSum + SOR + REF + GWASpval + 1'"
      ]
     },
     "execution_count": 6,
     "metadata": {},
     "output_type": "execute_result"
    }
   ],
   "source": [
    "best1.model.formula"
   ]
  },
  {
   "cell_type": "code",
   "execution_count": 7,
   "metadata": {},
   "outputs": [
    {
     "data": {
      "text/html": [
       "<table class=\"simpletable\">\n",
       "<caption>OLS Regression Results</caption>\n",
       "<tr>\n",
       "  <th>Dep. Variable:</th>           <td>Dx</td>        <th>  R-squared:         </th> <td>   0.047</td>\n",
       "</tr>\n",
       "<tr>\n",
       "  <th>Model:</th>                   <td>OLS</td>       <th>  Adj. R-squared:    </th> <td>   0.040</td>\n",
       "</tr>\n",
       "<tr>\n",
       "  <th>Method:</th>             <td>Least Squares</td>  <th>  F-statistic:       </th> <td>   7.284</td>\n",
       "</tr>\n",
       "<tr>\n",
       "  <th>Date:</th>             <td>Fri, 21 Aug 2020</td> <th>  Prob (F-statistic):</th> <td>2.34e-22</td>\n",
       "</tr>\n",
       "<tr>\n",
       "  <th>Time:</th>                 <td>10:55:09</td>     <th>  Log-Likelihood:    </th> <td> -1929.0</td>\n",
       "</tr>\n",
       "<tr>\n",
       "  <th>No. Observations:</th>      <td>  3301</td>      <th>  AIC:               </th> <td>   3904.</td>\n",
       "</tr>\n",
       "<tr>\n",
       "  <th>Df Residuals:</th>          <td>  3278</td>      <th>  BIC:               </th> <td>   4044.</td>\n",
       "</tr>\n",
       "<tr>\n",
       "  <th>Df Model:</th>              <td>    22</td>      <th>                     </th>     <td> </td>   \n",
       "</tr>\n",
       "<tr>\n",
       "  <th>Covariance Type:</th>      <td>nonrobust</td>    <th>                     </th>     <td> </td>   \n",
       "</tr>\n",
       "</table>\n",
       "<table class=\"simpletable\">\n",
       "<tr>\n",
       "                <td></td>                  <th>coef</th>     <th>std err</th>      <th>t</th>      <th>P>|t|</th>  <th>[0.025</th>    <th>0.975]</th>  \n",
       "</tr>\n",
       "<tr>\n",
       "  <th>Intercept</th>                    <td>    0.9985</td> <td>    0.103</td> <td>    9.663</td> <td> 0.000</td> <td>    0.796</td> <td>    1.201</td>\n",
       "</tr>\n",
       "<tr>\n",
       "  <th>culprit[T.FS]</th>                <td>   -0.3283</td> <td>    0.142</td> <td>   -2.319</td> <td> 0.020</td> <td>   -0.606</td> <td>   -0.051</td>\n",
       "</tr>\n",
       "<tr>\n",
       "  <th>culprit[T.MQ]</th>                <td>   -0.1283</td> <td>    0.093</td> <td>   -1.380</td> <td> 0.168</td> <td>   -0.311</td> <td>    0.054</td>\n",
       "</tr>\n",
       "<tr>\n",
       "  <th>culprit[T.MQRankSum]</th>         <td>   -0.6091</td> <td>    0.178</td> <td>   -3.420</td> <td> 0.001</td> <td>   -0.958</td> <td>   -0.260</td>\n",
       "</tr>\n",
       "<tr>\n",
       "  <th>culprit[T.QD]</th>                <td>   -0.3199</td> <td>    0.086</td> <td>   -3.713</td> <td> 0.000</td> <td>   -0.489</td> <td>   -0.151</td>\n",
       "</tr>\n",
       "<tr>\n",
       "  <th>culprit[T.ReadPosRankSum]</th>    <td>   -0.2100</td> <td>    0.104</td> <td>   -2.016</td> <td> 0.044</td> <td>   -0.414</td> <td>   -0.006</td>\n",
       "</tr>\n",
       "<tr>\n",
       "  <th>culprit[T.SOR]</th>               <td>   -0.3166</td> <td>    0.093</td> <td>   -3.387</td> <td> 0.001</td> <td>   -0.500</td> <td>   -0.133</td>\n",
       "</tr>\n",
       "<tr>\n",
       "  <th>ALT[T.C]</th>                     <td>    0.0689</td> <td>    0.030</td> <td>    2.320</td> <td> 0.020</td> <td>    0.011</td> <td>    0.127</td>\n",
       "</tr>\n",
       "<tr>\n",
       "  <th>ALT[T.G]</th>                     <td>    0.0823</td> <td>    0.032</td> <td>    2.606</td> <td> 0.009</td> <td>    0.020</td> <td>    0.144</td>\n",
       "</tr>\n",
       "<tr>\n",
       "  <th>ALT[T.T]</th>                     <td>    0.0120</td> <td>    0.023</td> <td>    0.527</td> <td> 0.599</td> <td>   -0.033</td> <td>    0.057</td>\n",
       "</tr>\n",
       "<tr>\n",
       "  <th>FILTER_PASS[T.EXT;PASS/PASS]</th> <td>   -0.0182</td> <td>    0.056</td> <td>   -0.325</td> <td> 0.745</td> <td>   -0.128</td> <td>    0.092</td>\n",
       "</tr>\n",
       "<tr>\n",
       "  <th>FILTER_PASS[T.HC/PASS]</th>       <td>   -0.0028</td> <td>    0.056</td> <td>   -0.051</td> <td> 0.959</td> <td>   -0.112</td> <td>    0.106</td>\n",
       "</tr>\n",
       "<tr>\n",
       "  <th>FILTER_PASS[T.HC;PASS/PASS]</th>  <td>   -0.0304</td> <td>    0.052</td> <td>   -0.583</td> <td> 0.560</td> <td>   -0.132</td> <td>    0.072</td>\n",
       "</tr>\n",
       "<tr>\n",
       "  <th>FILTER_PASS[T.PASS/PASS]</th>     <td>    0.0815</td> <td>    0.056</td> <td>    1.447</td> <td> 0.148</td> <td>   -0.029</td> <td>    0.192</td>\n",
       "</tr>\n",
       "<tr>\n",
       "  <th>REF[T.C]</th>                     <td>    0.0103</td> <td>    0.031</td> <td>    0.333</td> <td> 0.739</td> <td>   -0.050</td> <td>    0.071</td>\n",
       "</tr>\n",
       "<tr>\n",
       "  <th>REF[T.G]</th>                     <td>    0.0520</td> <td>    0.032</td> <td>    1.627</td> <td> 0.104</td> <td>   -0.011</td> <td>    0.115</td>\n",
       "</tr>\n",
       "<tr>\n",
       "  <th>REF[T.T]</th>                     <td>    0.0179</td> <td>    0.028</td> <td>    0.639</td> <td> 0.523</td> <td>   -0.037</td> <td>    0.073</td>\n",
       "</tr>\n",
       "<tr>\n",
       "  <th>DP</th>                           <td>   -0.0390</td> <td>    0.009</td> <td>   -4.177</td> <td> 0.000</td> <td>   -0.057</td> <td>   -0.021</td>\n",
       "</tr>\n",
       "<tr>\n",
       "  <th>AF</th>                           <td>   -0.0388</td> <td>    0.010</td> <td>   -3.815</td> <td> 0.000</td> <td>   -0.059</td> <td>   -0.019</td>\n",
       "</tr>\n",
       "<tr>\n",
       "  <th>VQSLOD</th>                       <td>    0.0260</td> <td>    0.009</td> <td>    2.762</td> <td> 0.006</td> <td>    0.008</td> <td>    0.044</td>\n",
       "</tr>\n",
       "<tr>\n",
       "  <th>BaseQRankSum</th>                 <td>   -0.0200</td> <td>    0.010</td> <td>   -2.007</td> <td> 0.045</td> <td>   -0.040</td> <td>   -0.000</td>\n",
       "</tr>\n",
       "<tr>\n",
       "  <th>SOR</th>                          <td>    0.0185</td> <td>    0.010</td> <td>    1.777</td> <td> 0.076</td> <td>   -0.002</td> <td>    0.039</td>\n",
       "</tr>\n",
       "<tr>\n",
       "  <th>GWASpval</th>                     <td>   -0.0111</td> <td>    0.008</td> <td>   -1.466</td> <td> 0.143</td> <td>   -0.026</td> <td>    0.004</td>\n",
       "</tr>\n",
       "</table>\n",
       "<table class=\"simpletable\">\n",
       "<tr>\n",
       "  <th>Omnibus:</th>       <td>763.739</td> <th>  Durbin-Watson:     </th> <td>   0.092</td> \n",
       "</tr>\n",
       "<tr>\n",
       "  <th>Prob(Omnibus):</th> <td> 0.000</td>  <th>  Jarque-Bera (JB):  </th> <td> 609.459</td> \n",
       "</tr>\n",
       "<tr>\n",
       "  <th>Skew:</th>          <td>-0.957</td>  <th>  Prob(JB):          </th> <td>4.55e-133</td>\n",
       "</tr>\n",
       "<tr>\n",
       "  <th>Kurtosis:</th>      <td> 2.125</td>  <th>  Cond. No.          </th> <td>    54.0</td> \n",
       "</tr>\n",
       "</table><br/><br/>Warnings:<br/>[1] Standard Errors assume that the covariance matrix of the errors is correctly specified."
      ],
      "text/plain": [
       "<class 'statsmodels.iolib.summary.Summary'>\n",
       "\"\"\"\n",
       "                            OLS Regression Results                            \n",
       "==============================================================================\n",
       "Dep. Variable:                     Dx   R-squared:                       0.047\n",
       "Model:                            OLS   Adj. R-squared:                  0.040\n",
       "Method:                 Least Squares   F-statistic:                     7.284\n",
       "Date:                Fri, 21 Aug 2020   Prob (F-statistic):           2.34e-22\n",
       "Time:                        10:55:09   Log-Likelihood:                -1929.0\n",
       "No. Observations:                3301   AIC:                             3904.\n",
       "Df Residuals:                    3278   BIC:                             4044.\n",
       "Df Model:                          22                                         \n",
       "Covariance Type:            nonrobust                                         \n",
       "================================================================================================\n",
       "                                   coef    std err          t      P>|t|      [0.025      0.975]\n",
       "------------------------------------------------------------------------------------------------\n",
       "Intercept                        0.9985      0.103      9.663      0.000       0.796       1.201\n",
       "culprit[T.FS]                   -0.3283      0.142     -2.319      0.020      -0.606      -0.051\n",
       "culprit[T.MQ]                   -0.1283      0.093     -1.380      0.168      -0.311       0.054\n",
       "culprit[T.MQRankSum]            -0.6091      0.178     -3.420      0.001      -0.958      -0.260\n",
       "culprit[T.QD]                   -0.3199      0.086     -3.713      0.000      -0.489      -0.151\n",
       "culprit[T.ReadPosRankSum]       -0.2100      0.104     -2.016      0.044      -0.414      -0.006\n",
       "culprit[T.SOR]                  -0.3166      0.093     -3.387      0.001      -0.500      -0.133\n",
       "ALT[T.C]                         0.0689      0.030      2.320      0.020       0.011       0.127\n",
       "ALT[T.G]                         0.0823      0.032      2.606      0.009       0.020       0.144\n",
       "ALT[T.T]                         0.0120      0.023      0.527      0.599      -0.033       0.057\n",
       "FILTER_PASS[T.EXT;PASS/PASS]    -0.0182      0.056     -0.325      0.745      -0.128       0.092\n",
       "FILTER_PASS[T.HC/PASS]          -0.0028      0.056     -0.051      0.959      -0.112       0.106\n",
       "FILTER_PASS[T.HC;PASS/PASS]     -0.0304      0.052     -0.583      0.560      -0.132       0.072\n",
       "FILTER_PASS[T.PASS/PASS]         0.0815      0.056      1.447      0.148      -0.029       0.192\n",
       "REF[T.C]                         0.0103      0.031      0.333      0.739      -0.050       0.071\n",
       "REF[T.G]                         0.0520      0.032      1.627      0.104      -0.011       0.115\n",
       "REF[T.T]                         0.0179      0.028      0.639      0.523      -0.037       0.073\n",
       "DP                              -0.0390      0.009     -4.177      0.000      -0.057      -0.021\n",
       "AF                              -0.0388      0.010     -3.815      0.000      -0.059      -0.019\n",
       "VQSLOD                           0.0260      0.009      2.762      0.006       0.008       0.044\n",
       "BaseQRankSum                    -0.0200      0.010     -2.007      0.045      -0.040      -0.000\n",
       "SOR                              0.0185      0.010      1.777      0.076      -0.002       0.039\n",
       "GWASpval                        -0.0111      0.008     -1.466      0.143      -0.026       0.004\n",
       "==============================================================================\n",
       "Omnibus:                      763.739   Durbin-Watson:                   0.092\n",
       "Prob(Omnibus):                  0.000   Jarque-Bera (JB):              609.459\n",
       "Skew:                          -0.957   Prob(JB):                    4.55e-133\n",
       "Kurtosis:                       2.125   Cond. No.                         54.0\n",
       "==============================================================================\n",
       "\n",
       "Warnings:\n",
       "[1] Standard Errors assume that the covariance matrix of the errors is correctly specified.\n",
       "\"\"\""
      ]
     },
     "execution_count": 7,
     "metadata": {},
     "output_type": "execute_result"
    }
   ],
   "source": [
    "best1.summary()"
   ]
  },
  {
   "cell_type": "markdown",
   "metadata": {},
   "source": [
    "### Some followup\n",
    "\n",
    "Interestingly, Control samples tend to have higher coverage than SCZ samples."
   ]
  },
  {
   "cell_type": "code",
   "execution_count": 8,
   "metadata": {},
   "outputs": [
    {
     "data": {
      "text/plain": [
       "Text(0.5, 1.0, 'Distribution of mean depth per sample')"
      ]
     },
     "execution_count": 8,
     "metadata": {},
     "output_type": "execute_result"
    },
    {
     "data": {
      "image/png": "[encoded data removed]",
      "text/plain": [
       "<Figure size 432x288 with 1 Axes>"
      ]
     },
     "metadata": {
      "needs_background": "light"
     },
     "output_type": "display_data"
    }
   ],
   "source": [
    "calls2 = calls.copy()\n",
    "calls2 = individuals.merge_data(calls2, clin[['Dx']])\n",
    "%matplotlib inline\n",
    "def plotter(var='DP'):\n",
    "    s = calls2.groupby(['Dx', 'Individual ID'])[var].mean()\n",
    "    s = s.dropna()\n",
    "    fig, ax = plt.subplots()\n",
    "    vp = ax.violinplot([s.groupby('Dx').get_group(y).values for y in calls2['Dx'].cat.categories])\n",
    "    ax.set_xticks([1, 2])\n",
    "    ax.set_xticklabels(['Control', 'SCZ'])\n",
    "    ax.set_ylabel(var)\n",
    "    return((fig, ax, s))\n",
    "\n",
    "fig, ax, df = plotter('DP')\n",
    "ax.set_title('Distribution of mean depth per sample')"
   ]
  },
  {
   "cell_type": "markdown",
   "metadata": {},
   "source": [
    "Somatic variants in control samples also tend to have slightly higher allele frequency."
   ]
  },
  {
   "cell_type": "code",
   "execution_count": 9,
   "metadata": {},
   "outputs": [
    {
     "data": {
      "text/plain": [
       "Text(0.5, 1.0, 'Distribution of mean allele frequency per sample')"
      ]
     },
     "execution_count": 9,
     "metadata": {},
     "output_type": "execute_result"
    },
    {
     "data": {
      "image/png": "[encoded data removed]",
      "text/plain": [
       "<Figure size 432x288 with 1 Axes>"
      ]
     },
     "metadata": {
      "needs_background": "light"
     },
     "output_type": "display_data"
    }
   ],
   "source": [
    "fig, ax, df = plotter('AF')\n",
    "ax.set_title('Distribution of mean allele frequency per sample')"
   ]
  },
  {
   "cell_type": "markdown",
   "metadata": {},
   "source": [
    "There seems to be a nonlinear relationship between AF and DP but they are not collinear.  Red means Control and blue SCZ."
   ]
  },
  {
   "cell_type": "code",
   "execution_count": 10,
   "metadata": {},
   "outputs": [
    {
     "data": {
      "text/plain": [
       "<matplotlib.axes._subplots.AxesSubplot at 0x7f3c45b31210>"
      ]
     },
     "execution_count": 10,
     "metadata": {},
     "output_type": "execute_result"
    },
    {
     "data": {
      "image/png": "[encoded data removed]",
      "text/plain": [
       "<Figure size 432x432 with 2 Axes>"
      ]
     },
     "metadata": {
      "needs_background": "light"
     },
     "output_type": "display_data"
    }
   ],
   "source": [
    "fig, ax = plt.subplots(figsize=(6, 6))\n",
    "preprocessing.dummify_var(calls2).plot(kind='scatter', x='DP', y='AF', marker='o', alpha=0.3, c='Dx', cmap='coolwarm_r', ax=ax)"
   ]
  },
  {
   "cell_type": "markdown",
   "metadata": {},
   "source": [
    "## Other\n",
    "\n",
    "### Chromatin state\n",
    "\n",
    "Our earlier visual analysis showed slight enrichment of TssA (Active TSS) and TssAFlnk (Flanking Active TSS) in SCZ somatic variants relative to Control ones.  But the variable selection above dropped `chromatinState_DLPFC` suggesting that variable carried little information on `Dx`.\n",
    "\n",
    "This is possible even if TssA and TssAFlnk are indeed informative for `Dx` because `chromatinState_DLPFC` is a factor of 15 levels and thus adds 14 degrees of freedom to the model.  Below we test this possibility by reducing the number of levels."
   ]
  },
  {
   "cell_type": "code",
   "execution_count": 11,
   "metadata": {},
   "outputs": [
    {
     "data": {
      "text/plain": [
       "Index(['TssA', 'TssAFlnk', 'TxFlnk', 'Tx', 'TxWk', 'EnhG', 'Enh', 'ZNF/Rpts',\n",
       "       'Het', 'TssBiv', 'BivFlnk', 'EnhBiv', 'ReprPC', 'ReprPCWk', 'Quies'],\n",
       "      dtype='object')"
      ]
     },
     "execution_count": 11,
     "metadata": {},
     "output_type": "execute_result"
    }
   ],
   "source": [
    "calls1['ChromatinState_DLPFC'].cat.categories"
   ]
  },
  {
   "cell_type": "markdown",
   "metadata": {},
   "source": [
    "We first merge the TssAFlnk level into a TssA.  Then we merge all other levels into a single *Other* category."
   ]
  },
  {
   "cell_type": "code",
   "execution_count": 12,
   "metadata": {},
   "outputs": [],
   "source": [
    "s = calls1['ChromatinState_DLPFC']\n",
    "other = s.cat.categories[2:]\n",
    "s = s.cat.remove_categories(['TssAFlnk']).fillna('TssA')\n",
    "s = s.cat.remove_categories(other).cat.add_categories('Other').fillna('Other')\n",
    "s = s.cat.reorder_categories(['Other', 'TssA'], ordered=True)"
   ]
  },
  {
   "cell_type": "markdown",
   "metadata": {},
   "source": [
    "Now we repeat the variable selection."
   ]
  },
  {
   "cell_type": "code",
   "execution_count": 13,
   "metadata": {},
   "outputs": [
    {
     "data": {
      "text/plain": [
       "'Dx ~ culprit + DP + ALT + AF + FILTER_PASS + VQSLOD + BaseQRankSum + SOR + REF + ChromatinState_DLPFC + GWASpval + 1'"
      ]
     },
     "execution_count": 13,
     "metadata": {},
     "output_type": "execute_result"
    }
   ],
   "source": [
    "calls1['ChromatinState_DLPFC'] = s\n",
    "best3 = fwsel.forward_selected(calls1.loc[:, :'Dx'], 'Dx')\n",
    "best3.model.formula"
   ]
  },
  {
   "cell_type": "markdown",
   "metadata": {},
   "source": [
    "As the formula shows this time `chromatinState_DLPFC` is selected by the algorithm.  But the following summary shows that the effect of this variable is not significant (see chromatinState_DLPFC[T.Other])"
   ]
  },
  {
   "cell_type": "code",
   "execution_count": 14,
   "metadata": {},
   "outputs": [
    {
     "data": {
      "text/html": [
       "<table class=\"simpletable\">\n",
       "<caption>OLS Regression Results</caption>\n",
       "<tr>\n",
       "  <th>Dep. Variable:</th>           <td>Dx</td>        <th>  R-squared:         </th> <td>   0.047</td>\n",
       "</tr>\n",
       "<tr>\n",
       "  <th>Model:</th>                   <td>OLS</td>       <th>  Adj. R-squared:    </th> <td>   0.041</td>\n",
       "</tr>\n",
       "<tr>\n",
       "  <th>Method:</th>             <td>Least Squares</td>  <th>  F-statistic:       </th> <td>   7.083</td>\n",
       "</tr>\n",
       "<tr>\n",
       "  <th>Date:</th>             <td>Fri, 21 Aug 2020</td> <th>  Prob (F-statistic):</th> <td>2.09e-22</td>\n",
       "</tr>\n",
       "<tr>\n",
       "  <th>Time:</th>                 <td>10:55:11</td>     <th>  Log-Likelihood:    </th> <td> -1927.7</td>\n",
       "</tr>\n",
       "<tr>\n",
       "  <th>No. Observations:</th>      <td>  3301</td>      <th>  AIC:               </th> <td>   3903.</td>\n",
       "</tr>\n",
       "<tr>\n",
       "  <th>Df Residuals:</th>          <td>  3277</td>      <th>  BIC:               </th> <td>   4050.</td>\n",
       "</tr>\n",
       "<tr>\n",
       "  <th>Df Model:</th>              <td>    23</td>      <th>                     </th>     <td> </td>   \n",
       "</tr>\n",
       "<tr>\n",
       "  <th>Covariance Type:</th>      <td>nonrobust</td>    <th>                     </th>     <td> </td>   \n",
       "</tr>\n",
       "</table>\n",
       "<table class=\"simpletable\">\n",
       "<tr>\n",
       "                <td></td>                  <th>coef</th>     <th>std err</th>      <th>t</th>      <th>P>|t|</th>  <th>[0.025</th>    <th>0.975]</th>  \n",
       "</tr>\n",
       "<tr>\n",
       "  <th>Intercept</th>                    <td>    0.9911</td> <td>    0.103</td> <td>    9.583</td> <td> 0.000</td> <td>    0.788</td> <td>    1.194</td>\n",
       "</tr>\n",
       "<tr>\n",
       "  <th>culprit[T.FS]</th>                <td>   -0.3240</td> <td>    0.142</td> <td>   -2.289</td> <td> 0.022</td> <td>   -0.602</td> <td>   -0.046</td>\n",
       "</tr>\n",
       "<tr>\n",
       "  <th>culprit[T.MQ]</th>                <td>   -0.1208</td> <td>    0.093</td> <td>   -1.297</td> <td> 0.195</td> <td>   -0.303</td> <td>    0.062</td>\n",
       "</tr>\n",
       "<tr>\n",
       "  <th>culprit[T.MQRankSum]</th>         <td>   -0.6017</td> <td>    0.178</td> <td>   -3.378</td> <td> 0.001</td> <td>   -0.951</td> <td>   -0.252</td>\n",
       "</tr>\n",
       "<tr>\n",
       "  <th>culprit[T.QD]</th>                <td>   -0.3125</td> <td>    0.086</td> <td>   -3.623</td> <td> 0.000</td> <td>   -0.482</td> <td>   -0.143</td>\n",
       "</tr>\n",
       "<tr>\n",
       "  <th>culprit[T.ReadPosRankSum]</th>    <td>   -0.2010</td> <td>    0.104</td> <td>   -1.928</td> <td> 0.054</td> <td>   -0.406</td> <td>    0.003</td>\n",
       "</tr>\n",
       "<tr>\n",
       "  <th>culprit[T.SOR]</th>               <td>   -0.3089</td> <td>    0.094</td> <td>   -3.302</td> <td> 0.001</td> <td>   -0.492</td> <td>   -0.125</td>\n",
       "</tr>\n",
       "<tr>\n",
       "  <th>ALT[T.C]</th>                     <td>    0.0659</td> <td>    0.030</td> <td>    2.213</td> <td> 0.027</td> <td>    0.007</td> <td>    0.124</td>\n",
       "</tr>\n",
       "<tr>\n",
       "  <th>ALT[T.G]</th>                     <td>    0.0808</td> <td>    0.032</td> <td>    2.558</td> <td> 0.011</td> <td>    0.019</td> <td>    0.143</td>\n",
       "</tr>\n",
       "<tr>\n",
       "  <th>ALT[T.T]</th>                     <td>    0.0122</td> <td>    0.023</td> <td>    0.537</td> <td> 0.591</td> <td>   -0.032</td> <td>    0.057</td>\n",
       "</tr>\n",
       "<tr>\n",
       "  <th>FILTER_PASS[T.EXT;PASS/PASS]</th> <td>   -0.0191</td> <td>    0.056</td> <td>   -0.341</td> <td> 0.733</td> <td>   -0.129</td> <td>    0.091</td>\n",
       "</tr>\n",
       "<tr>\n",
       "  <th>FILTER_PASS[T.HC/PASS]</th>       <td>   -0.0026</td> <td>    0.056</td> <td>   -0.047</td> <td> 0.962</td> <td>   -0.112</td> <td>    0.106</td>\n",
       "</tr>\n",
       "<tr>\n",
       "  <th>FILTER_PASS[T.HC;PASS/PASS]</th>  <td>   -0.0307</td> <td>    0.052</td> <td>   -0.590</td> <td> 0.555</td> <td>   -0.133</td> <td>    0.071</td>\n",
       "</tr>\n",
       "<tr>\n",
       "  <th>FILTER_PASS[T.PASS/PASS]</th>     <td>    0.0774</td> <td>    0.056</td> <td>    1.372</td> <td> 0.170</td> <td>   -0.033</td> <td>    0.188</td>\n",
       "</tr>\n",
       "<tr>\n",
       "  <th>REF[T.C]</th>                     <td>    0.0090</td> <td>    0.031</td> <td>    0.291</td> <td> 0.771</td> <td>   -0.051</td> <td>    0.069</td>\n",
       "</tr>\n",
       "<tr>\n",
       "  <th>REF[T.G]</th>                     <td>    0.0518</td> <td>    0.032</td> <td>    1.623</td> <td> 0.105</td> <td>   -0.011</td> <td>    0.114</td>\n",
       "</tr>\n",
       "<tr>\n",
       "  <th>REF[T.T]</th>                     <td>    0.0176</td> <td>    0.028</td> <td>    0.630</td> <td> 0.529</td> <td>   -0.037</td> <td>    0.072</td>\n",
       "</tr>\n",
       "<tr>\n",
       "  <th>ChromatinState_DLPFC[T.TssA]</th> <td>    0.0802</td> <td>    0.050</td> <td>    1.606</td> <td> 0.108</td> <td>   -0.018</td> <td>    0.178</td>\n",
       "</tr>\n",
       "<tr>\n",
       "  <th>DP</th>                           <td>   -0.0391</td> <td>    0.009</td> <td>   -4.193</td> <td> 0.000</td> <td>   -0.057</td> <td>   -0.021</td>\n",
       "</tr>\n",
       "<tr>\n",
       "  <th>AF</th>                           <td>   -0.0379</td> <td>    0.010</td> <td>   -3.713</td> <td> 0.000</td> <td>   -0.058</td> <td>   -0.018</td>\n",
       "</tr>\n",
       "<tr>\n",
       "  <th>VQSLOD</th>                       <td>    0.0257</td> <td>    0.009</td> <td>    2.740</td> <td> 0.006</td> <td>    0.007</td> <td>    0.044</td>\n",
       "</tr>\n",
       "<tr>\n",
       "  <th>BaseQRankSum</th>                 <td>   -0.0203</td> <td>    0.010</td> <td>   -2.034</td> <td> 0.042</td> <td>   -0.040</td> <td>   -0.001</td>\n",
       "</tr>\n",
       "<tr>\n",
       "  <th>SOR</th>                          <td>    0.0182</td> <td>    0.010</td> <td>    1.755</td> <td> 0.079</td> <td>   -0.002</td> <td>    0.039</td>\n",
       "</tr>\n",
       "<tr>\n",
       "  <th>GWASpval</th>                     <td>   -0.0119</td> <td>    0.008</td> <td>   -1.561</td> <td> 0.119</td> <td>   -0.027</td> <td>    0.003</td>\n",
       "</tr>\n",
       "</table>\n",
       "<table class=\"simpletable\">\n",
       "<tr>\n",
       "  <th>Omnibus:</th>       <td>764.929</td> <th>  Durbin-Watson:     </th> <td>   0.092</td> \n",
       "</tr>\n",
       "<tr>\n",
       "  <th>Prob(Omnibus):</th> <td> 0.000</td>  <th>  Jarque-Bera (JB):  </th> <td> 607.835</td> \n",
       "</tr>\n",
       "<tr>\n",
       "  <th>Skew:</th>          <td>-0.955</td>  <th>  Prob(JB):          </th> <td>1.02e-132</td>\n",
       "</tr>\n",
       "<tr>\n",
       "  <th>Kurtosis:</th>      <td> 2.124</td>  <th>  Cond. No.          </th> <td>    54.0</td> \n",
       "</tr>\n",
       "</table><br/><br/>Warnings:<br/>[1] Standard Errors assume that the covariance matrix of the errors is correctly specified."
      ],
      "text/plain": [
       "<class 'statsmodels.iolib.summary.Summary'>\n",
       "\"\"\"\n",
       "                            OLS Regression Results                            \n",
       "==============================================================================\n",
       "Dep. Variable:                     Dx   R-squared:                       0.047\n",
       "Model:                            OLS   Adj. R-squared:                  0.041\n",
       "Method:                 Least Squares   F-statistic:                     7.083\n",
       "Date:                Fri, 21 Aug 2020   Prob (F-statistic):           2.09e-22\n",
       "Time:                        10:55:11   Log-Likelihood:                -1927.7\n",
       "No. Observations:                3301   AIC:                             3903.\n",
       "Df Residuals:                    3277   BIC:                             4050.\n",
       "Df Model:                          23                                         \n",
       "Covariance Type:            nonrobust                                         \n",
       "================================================================================================\n",
       "                                   coef    std err          t      P>|t|      [0.025      0.975]\n",
       "------------------------------------------------------------------------------------------------\n",
       "Intercept                        0.9911      0.103      9.583      0.000       0.788       1.194\n",
       "culprit[T.FS]                   -0.3240      0.142     -2.289      0.022      -0.602      -0.046\n",
       "culprit[T.MQ]                   -0.1208      0.093     -1.297      0.195      -0.303       0.062\n",
       "culprit[T.MQRankSum]            -0.6017      0.178     -3.378      0.001      -0.951      -0.252\n",
       "culprit[T.QD]                   -0.3125      0.086     -3.623      0.000      -0.482      -0.143\n",
       "culprit[T.ReadPosRankSum]       -0.2010      0.104     -1.928      0.054      -0.406       0.003\n",
       "culprit[T.SOR]                  -0.3089      0.094     -3.302      0.001      -0.492      -0.125\n",
       "ALT[T.C]                         0.0659      0.030      2.213      0.027       0.007       0.124\n",
       "ALT[T.G]                         0.0808      0.032      2.558      0.011       0.019       0.143\n",
       "ALT[T.T]                         0.0122      0.023      0.537      0.591      -0.032       0.057\n",
       "FILTER_PASS[T.EXT;PASS/PASS]    -0.0191      0.056     -0.341      0.733      -0.129       0.091\n",
       "FILTER_PASS[T.HC/PASS]          -0.0026      0.056     -0.047      0.962      -0.112       0.106\n",
       "FILTER_PASS[T.HC;PASS/PASS]     -0.0307      0.052     -0.590      0.555      -0.133       0.071\n",
       "FILTER_PASS[T.PASS/PASS]         0.0774      0.056      1.372      0.170      -0.033       0.188\n",
       "REF[T.C]                         0.0090      0.031      0.291      0.771      -0.051       0.069\n",
       "REF[T.G]                         0.0518      0.032      1.623      0.105      -0.011       0.114\n",
       "REF[T.T]                         0.0176      0.028      0.630      0.529      -0.037       0.072\n",
       "ChromatinState_DLPFC[T.TssA]     0.0802      0.050      1.606      0.108      -0.018       0.178\n",
       "DP                              -0.0391      0.009     -4.193      0.000      -0.057      -0.021\n",
       "AF                              -0.0379      0.010     -3.713      0.000      -0.058      -0.018\n",
       "VQSLOD                           0.0257      0.009      2.740      0.006       0.007       0.044\n",
       "BaseQRankSum                    -0.0203      0.010     -2.034      0.042      -0.040      -0.001\n",
       "SOR                              0.0182      0.010      1.755      0.079      -0.002       0.039\n",
       "GWASpval                        -0.0119      0.008     -1.561      0.119      -0.027       0.003\n",
       "==============================================================================\n",
       "Omnibus:                      764.929   Durbin-Watson:                   0.092\n",
       "Prob(Omnibus):                  0.000   Jarque-Bera (JB):              607.835\n",
       "Skew:                          -0.955   Prob(JB):                    1.02e-132\n",
       "Kurtosis:                       2.124   Cond. No.                         54.0\n",
       "==============================================================================\n",
       "\n",
       "Warnings:\n",
       "[1] Standard Errors assume that the covariance matrix of the errors is correctly specified.\n",
       "\"\"\""
      ]
     },
     "execution_count": 14,
     "metadata": {},
     "output_type": "execute_result"
    }
   ],
   "source": [
    "best3.summary()"
   ]
  },
  {
   "cell_type": "code",
   "execution_count": 15,
   "metadata": {},
   "outputs": [
    {
     "name": "stdout",
     "output_type": "stream",
     "text": [
      "{\n",
      "  \"shell_port\": 51679,\n",
      "  \"iopub_port\": 43703,\n",
      "  \"stdin_port\": 49807,\n",
      "  \"control_port\": 58093,\n",
      "  \"hb_port\": 40613,\n",
      "  \"ip\": \"127.0.0.1\",\n",
      "  \"key\": \"f2c96e47-15d92a9ef1ed6e701e9fc41b\",\n",
      "  \"transport\": \"tcp\",\n",
      "  \"signature_scheme\": \"hmac-sha256\",\n",
      "  \"kernel_name\": \"\"\n",
      "}\n",
      "\n",
      "Paste the above JSON into a file, and connect with:\n",
      "    $> jupyter <app> --existing <file>\n",
      "or, if you are local, you can connect with just:\n",
      "    $> jupyter <app> --existing kernel-6499d66e-0592-42ee-80df-fbd2f9601269.json\n",
      "or even just:\n",
      "    $> jupyter <app> --existing\n",
      "if this is the most recent Jupyter kernel you have started.\n"
     ]
    }
   ],
   "source": [
    "%connect_info"
   ]
  }
 ],
 "metadata": {
  "kernelspec": {
   "display_name": "Python 3",
   "language": "python",
   "name": "python3"
  },
  "language_info": {
   "codemirror_mode": {
    "name": "ipython",
    "version": 3
   },
   "file_extension": ".py",
   "mimetype": "text/x-python",
   "name": "python",
   "nbconvert_exporter": "python",
   "pygments_lexer": "ipython3",
   "version": "3.7.6"
  }
 },
 "nbformat": 4,
 "nbformat_minor": 4
}
