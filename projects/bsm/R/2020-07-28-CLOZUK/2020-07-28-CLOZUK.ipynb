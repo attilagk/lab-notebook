{
 "cells": [
  {
   "cell_type": "markdown",
   "metadata": {},
   "source": [
    "GWAS loci are taken from the CLOZUK paper Pardiñas et al Nature genetics, 2018, 50, 381-389  DOI 10.1038/s41588-018-0059-2.  This paper presented a meta analysis of the author's own GWAS and the earlier PGC2 GWAS.  CLOZUK comes from CLOZapine UK; clozapine is an antipsychotic medication mainly used for schizophrenia."
   ]
  },
  {
   "cell_type": "code",
   "execution_count": 1,
   "metadata": {},
   "outputs": [],
   "source": [
    "%load_ext autoreload\n",
    "%autoreload 2\n",
    "%reload_ext autoreload\n",
    "import pandas as pd\n",
    "import numpy as np\n",
    "import genome\n",
    "from bsmcalls import SNPnexus\n",
    "from bsmcalls import operations\n",
    "import matplotlib.pyplot as plt\n",
    "import attila_utils\n",
    "%matplotlib inline"
   ]
  },
  {
   "cell_type": "code",
   "execution_count": 2,
   "metadata": {},
   "outputs": [
    {
     "data": {
      "text/html": [
       "<div>\n",
       "<style scoped>\n",
       "    .dataframe tbody tr th:only-of-type {\n",
       "        vertical-align: middle;\n",
       "    }\n",
       "\n",
       "    .dataframe tbody tr th {\n",
       "        vertical-align: top;\n",
       "    }\n",
       "\n",
       "    .dataframe thead th {\n",
       "        text-align: right;\n",
       "    }\n",
       "</style>\n",
       "<table border=\"1\" class=\"dataframe\">\n",
       "  <thead>\n",
       "    <tr style=\"text-align: right;\">\n",
       "      <th></th>\n",
       "      <th>Locus</th>\n",
       "      <th>GWS in PGC2?</th>\n",
       "      <th>Chromosome</th>\n",
       "      <th>Start (BP)</th>\n",
       "      <th>End (BP)</th>\n",
       "      <th>Index SNP (dbSNP b141)</th>\n",
       "      <th>A1</th>\n",
       "      <th>A2</th>\n",
       "      <th>OR</th>\n",
       "      <th>SE</th>\n",
       "      <th>P-value</th>\n",
       "      <th>Number of SNPs</th>\n",
       "      <th>Length (KB)</th>\n",
       "      <th>Gene(s) tagged</th>\n",
       "    </tr>\n",
       "  </thead>\n",
       "  <tbody>\n",
       "    <tr>\n",
       "      <th>40</th>\n",
       "      <td>41</td>\n",
       "      <td>Yes</td>\n",
       "      <td>1</td>\n",
       "      <td>2372397</td>\n",
       "      <td>2402499</td>\n",
       "      <td>rs4648845</td>\n",
       "      <td>C</td>\n",
       "      <td>T</td>\n",
       "      <td>0.926</td>\n",
       "      <td>0.011</td>\n",
       "      <td>6.740000e-12</td>\n",
       "      <td>27</td>\n",
       "      <td>30.102</td>\n",
       "      <td>PLCH2</td>\n",
       "    </tr>\n",
       "    <tr>\n",
       "      <th>86</th>\n",
       "      <td>87</td>\n",
       "      <td>Yes</td>\n",
       "      <td>1</td>\n",
       "      <td>8392592</td>\n",
       "      <td>8701288</td>\n",
       "      <td>rs34269918</td>\n",
       "      <td>G</td>\n",
       "      <td>GA</td>\n",
       "      <td>0.941</td>\n",
       "      <td>0.010</td>\n",
       "      <td>3.270000e-09</td>\n",
       "      <td>56</td>\n",
       "      <td>308.696</td>\n",
       "      <td>RERE, SLC45A1</td>\n",
       "    </tr>\n",
       "    <tr>\n",
       "      <th>38</th>\n",
       "      <td>39</td>\n",
       "      <td>Yes</td>\n",
       "      <td>1</td>\n",
       "      <td>30428943</td>\n",
       "      <td>30459412</td>\n",
       "      <td>rs6694545</td>\n",
       "      <td>A</td>\n",
       "      <td>G</td>\n",
       "      <td>1.080</td>\n",
       "      <td>0.011</td>\n",
       "      <td>6.200000e-12</td>\n",
       "      <td>46</td>\n",
       "      <td>30.469</td>\n",
       "      <td>LOC101929406</td>\n",
       "    </tr>\n",
       "    <tr>\n",
       "      <th>45</th>\n",
       "      <td>46</td>\n",
       "      <td>Yes</td>\n",
       "      <td>1</td>\n",
       "      <td>44029353</td>\n",
       "      <td>44137257</td>\n",
       "      <td>rs2970610</td>\n",
       "      <td>T</td>\n",
       "      <td>C</td>\n",
       "      <td>1.070</td>\n",
       "      <td>0.010</td>\n",
       "      <td>1.390000e-11</td>\n",
       "      <td>73</td>\n",
       "      <td>107.904</td>\n",
       "      <td>KDM4A, PTPRF</td>\n",
       "    </tr>\n",
       "    <tr>\n",
       "      <th>135</th>\n",
       "      <td>136</td>\n",
       "      <td>No</td>\n",
       "      <td>1</td>\n",
       "      <td>66304167</td>\n",
       "      <td>66333877</td>\n",
       "      <td>rs12129719</td>\n",
       "      <td>G</td>\n",
       "      <td>A</td>\n",
       "      <td>0.947</td>\n",
       "      <td>0.010</td>\n",
       "      <td>3.350000e-08</td>\n",
       "      <td>23</td>\n",
       "      <td>29.710</td>\n",
       "      <td>PDE4B</td>\n",
       "    </tr>\n",
       "    <tr>\n",
       "      <th>...</th>\n",
       "      <td>...</td>\n",
       "      <td>...</td>\n",
       "      <td>...</td>\n",
       "      <td>...</td>\n",
       "      <td>...</td>\n",
       "      <td>...</td>\n",
       "      <td>...</td>\n",
       "      <td>...</td>\n",
       "      <td>...</td>\n",
       "      <td>...</td>\n",
       "      <td>...</td>\n",
       "      <td>...</td>\n",
       "      <td>...</td>\n",
       "      <td>...</td>\n",
       "    </tr>\n",
       "    <tr>\n",
       "      <th>27</th>\n",
       "      <td>28</td>\n",
       "      <td>Yes</td>\n",
       "      <td>22</td>\n",
       "      <td>39840130</td>\n",
       "      <td>40091818</td>\n",
       "      <td>rs5757730</td>\n",
       "      <td>A</td>\n",
       "      <td>G</td>\n",
       "      <td>0.931</td>\n",
       "      <td>0.010</td>\n",
       "      <td>1.760000e-12</td>\n",
       "      <td>49</td>\n",
       "      <td>251.688</td>\n",
       "      <td>LOC100506472, MGAT3, TAB1, CACNA1I, RPS19BP1</td>\n",
       "    </tr>\n",
       "    <tr>\n",
       "      <th>24</th>\n",
       "      <td>25</td>\n",
       "      <td>Yes</td>\n",
       "      <td>22</td>\n",
       "      <td>41408754</td>\n",
       "      <td>41684093</td>\n",
       "      <td>rs9607782</td>\n",
       "      <td>T</td>\n",
       "      <td>A</td>\n",
       "      <td>0.922</td>\n",
       "      <td>0.011</td>\n",
       "      <td>5.540000e-13</td>\n",
       "      <td>104</td>\n",
       "      <td>275.339</td>\n",
       "      <td>CHADL, EP300, EP300-AS1, L3MBTL2, MIR1281, MIR...</td>\n",
       "    </tr>\n",
       "    <tr>\n",
       "      <th>13</th>\n",
       "      <td>14</td>\n",
       "      <td>Yes</td>\n",
       "      <td>22</td>\n",
       "      <td>42315790</td>\n",
       "      <td>42689370</td>\n",
       "      <td>rs6002655</td>\n",
       "      <td>C</td>\n",
       "      <td>T</td>\n",
       "      <td>0.928</td>\n",
       "      <td>0.010</td>\n",
       "      <td>2.150000e-14</td>\n",
       "      <td>119</td>\n",
       "      <td>373.580</td>\n",
       "      <td>CENPM, LINC00634, MIR33A, SEPT3, SHISA8, SREBF...</td>\n",
       "    </tr>\n",
       "    <tr>\n",
       "      <th>60</th>\n",
       "      <td>61</td>\n",
       "      <td>Yes</td>\n",
       "      <td>X</td>\n",
       "      <td>5859733</td>\n",
       "      <td>6029533</td>\n",
       "      <td>rs12009217</td>\n",
       "      <td>A</td>\n",
       "      <td>G</td>\n",
       "      <td>0.937</td>\n",
       "      <td>0.010</td>\n",
       "      <td>1.780000e-10</td>\n",
       "      <td>51</td>\n",
       "      <td>169.801</td>\n",
       "      <td>NLGN4X</td>\n",
       "    </tr>\n",
       "    <tr>\n",
       "      <th>26</th>\n",
       "      <td>27</td>\n",
       "      <td>Yes</td>\n",
       "      <td>X</td>\n",
       "      <td>68377126</td>\n",
       "      <td>68377205</td>\n",
       "      <td>rs62606711</td>\n",
       "      <td>A</td>\n",
       "      <td>G</td>\n",
       "      <td>1.075</td>\n",
       "      <td>0.010</td>\n",
       "      <td>1.260000e-12</td>\n",
       "      <td>4</td>\n",
       "      <td>0.079</td>\n",
       "      <td>PJA1</td>\n",
       "    </tr>\n",
       "  </tbody>\n",
       "</table>\n",
       "<p>145 rows × 14 columns</p>\n",
       "</div>"
      ],
      "text/plain": [
       "     Locus GWS in PGC2? Chromosome  Start (BP)  End (BP)  \\\n",
       "40      41          Yes          1     2372397   2402499   \n",
       "86      87          Yes          1     8392592   8701288   \n",
       "38      39          Yes          1    30428943  30459412   \n",
       "45      46          Yes          1    44029353  44137257   \n",
       "135    136           No          1    66304167  66333877   \n",
       "..     ...          ...        ...         ...       ...   \n",
       "27      28          Yes         22    39840130  40091818   \n",
       "24      25          Yes         22    41408754  41684093   \n",
       "13      14          Yes         22    42315790  42689370   \n",
       "60      61          Yes          X     5859733   6029533   \n",
       "26      27          Yes          X    68377126  68377205   \n",
       "\n",
       "    Index SNP (dbSNP b141) A1  A2     OR     SE       P-value  Number of SNPs  \\\n",
       "40               rs4648845  C   T  0.926  0.011  6.740000e-12              27   \n",
       "86              rs34269918  G  GA  0.941  0.010  3.270000e-09              56   \n",
       "38               rs6694545  A   G  1.080  0.011  6.200000e-12              46   \n",
       "45               rs2970610  T   C  1.070  0.010  1.390000e-11              73   \n",
       "135             rs12129719  G   A  0.947  0.010  3.350000e-08              23   \n",
       "..                     ... ..  ..    ...    ...           ...             ...   \n",
       "27               rs5757730  A   G  0.931  0.010  1.760000e-12              49   \n",
       "24               rs9607782  T   A  0.922  0.011  5.540000e-13             104   \n",
       "13               rs6002655  C   T  0.928  0.010  2.150000e-14             119   \n",
       "60              rs12009217  A   G  0.937  0.010  1.780000e-10              51   \n",
       "26              rs62606711  A   G  1.075  0.010  1.260000e-12               4   \n",
       "\n",
       "     Length (KB)                                     Gene(s) tagged  \n",
       "40        30.102                                              PLCH2  \n",
       "86       308.696                                      RERE, SLC45A1  \n",
       "38        30.469                                       LOC101929406  \n",
       "45       107.904                                       KDM4A, PTPRF  \n",
       "135       29.710                                              PDE4B  \n",
       "..           ...                                                ...  \n",
       "27       251.688       LOC100506472, MGAT3, TAB1, CACNA1I, RPS19BP1  \n",
       "24       275.339  CHADL, EP300, EP300-AS1, L3MBTL2, MIR1281, MIR...  \n",
       "13       373.580  CENPM, LINC00634, MIR33A, SEPT3, SHISA8, SREBF...  \n",
       "60       169.801                                             NLGN4X  \n",
       "26         0.079                                               PJA1  \n",
       "\n",
       "[145 rows x 14 columns]"
      ]
     },
     "execution_count": 2,
     "metadata": {},
     "output_type": "execute_result"
    }
   ],
   "source": [
    "fpath = '../../resources/CLOZUK/supp-table-4.csv'\n",
    "gwas = pd.read_csv(fpath, skiprows=7)\n",
    "gwas['Chromosome'] = pd.Categorical(gwas['Chromosome'], ordered=True, categories=[str(y) for y in range(1, 23)] + list('XY'))\n",
    "gwas.sort_values(['Chromosome', 'Start (BP)'], inplace=True)\n",
    "gwas"
   ]
  },
  {
   "cell_type": "code",
   "execution_count": 3,
   "metadata": {},
   "outputs": [],
   "source": [
    "%%bash\n",
    "cd /home/attila/projects/bsm/resources/CLOZUK\n",
    "fai=/big/data/refgenome/GRCh37/dna/hs37d5.fa.fai\n",
    "# The genome.py module uses the bed file below\n",
    "bed=/big/data/refgenome/GRCh37/dna/hs37d5.bed\n",
    "sed 's/^\\(\\S\\+\\t\\)\\(\\S\\+\\)\\t.*$/\\10\\t\\2/; /^Y/ q' $fai > $bed"
   ]
  },
  {
   "cell_type": "code",
   "execution_count": 4,
   "metadata": {},
   "outputs": [],
   "source": [
    "coord_cols = ['Chromosome', 'Start (BP)', 'End (BP)']\n",
    "cgwas = genome.complement_intervals(gwas, coord_cols=coord_cols, onebased=True) # complemented gwas data frame"
   ]
  },
  {
   "cell_type": "code",
   "execution_count": 5,
   "metadata": {},
   "outputs": [
    {
     "data": {
      "text/html": [
       "<div>\n",
       "<style scoped>\n",
       "    .dataframe tbody tr th:only-of-type {\n",
       "        vertical-align: middle;\n",
       "    }\n",
       "\n",
       "    .dataframe tbody tr th {\n",
       "        vertical-align: top;\n",
       "    }\n",
       "\n",
       "    .dataframe thead th {\n",
       "        text-align: right;\n",
       "    }\n",
       "</style>\n",
       "<table border=\"1\" class=\"dataframe\">\n",
       "  <thead>\n",
       "    <tr style=\"text-align: right;\">\n",
       "      <th></th>\n",
       "      <th>Locus</th>\n",
       "      <th>GWS in PGC2?</th>\n",
       "      <th>Chromosome</th>\n",
       "      <th>Start (BP)</th>\n",
       "      <th>End (BP)</th>\n",
       "      <th>Index SNP (dbSNP b141)</th>\n",
       "      <th>A1</th>\n",
       "      <th>A2</th>\n",
       "      <th>OR</th>\n",
       "      <th>SE</th>\n",
       "      <th>P-value</th>\n",
       "      <th>Number of SNPs</th>\n",
       "      <th>Length (KB)</th>\n",
       "      <th>Gene(s) tagged</th>\n",
       "      <th>-log p-value</th>\n",
       "    </tr>\n",
       "  </thead>\n",
       "  <tbody>\n",
       "    <tr>\n",
       "      <th>0</th>\n",
       "      <td>NaN</td>\n",
       "      <td>NaN</td>\n",
       "      <td>1</td>\n",
       "      <td>0</td>\n",
       "      <td>2372396</td>\n",
       "      <td>NaN</td>\n",
       "      <td>NaN</td>\n",
       "      <td>NaN</td>\n",
       "      <td>NaN</td>\n",
       "      <td>NaN</td>\n",
       "      <td>NaN</td>\n",
       "      <td>NaN</td>\n",
       "      <td>NaN</td>\n",
       "      <td>NaN</td>\n",
       "      <td>NaN</td>\n",
       "    </tr>\n",
       "    <tr>\n",
       "      <th>40</th>\n",
       "      <td>41.0</td>\n",
       "      <td>Yes</td>\n",
       "      <td>1</td>\n",
       "      <td>2372396</td>\n",
       "      <td>2402499</td>\n",
       "      <td>rs4648845</td>\n",
       "      <td>C</td>\n",
       "      <td>T</td>\n",
       "      <td>0.926</td>\n",
       "      <td>0.011</td>\n",
       "      <td>6.740000e-12</td>\n",
       "      <td>27.0</td>\n",
       "      <td>30.102</td>\n",
       "      <td>PLCH2</td>\n",
       "      <td>11.171340</td>\n",
       "    </tr>\n",
       "    <tr>\n",
       "      <th>1</th>\n",
       "      <td>NaN</td>\n",
       "      <td>NaN</td>\n",
       "      <td>1</td>\n",
       "      <td>2402499</td>\n",
       "      <td>8392591</td>\n",
       "      <td>NaN</td>\n",
       "      <td>NaN</td>\n",
       "      <td>NaN</td>\n",
       "      <td>NaN</td>\n",
       "      <td>NaN</td>\n",
       "      <td>NaN</td>\n",
       "      <td>NaN</td>\n",
       "      <td>NaN</td>\n",
       "      <td>NaN</td>\n",
       "      <td>NaN</td>\n",
       "    </tr>\n",
       "    <tr>\n",
       "      <th>86</th>\n",
       "      <td>87.0</td>\n",
       "      <td>Yes</td>\n",
       "      <td>1</td>\n",
       "      <td>8392591</td>\n",
       "      <td>8701288</td>\n",
       "      <td>rs34269918</td>\n",
       "      <td>G</td>\n",
       "      <td>GA</td>\n",
       "      <td>0.941</td>\n",
       "      <td>0.010</td>\n",
       "      <td>3.270000e-09</td>\n",
       "      <td>56.0</td>\n",
       "      <td>308.696</td>\n",
       "      <td>RERE, SLC45A1</td>\n",
       "      <td>8.485452</td>\n",
       "    </tr>\n",
       "    <tr>\n",
       "      <th>2</th>\n",
       "      <td>NaN</td>\n",
       "      <td>NaN</td>\n",
       "      <td>1</td>\n",
       "      <td>8701288</td>\n",
       "      <td>30428942</td>\n",
       "      <td>NaN</td>\n",
       "      <td>NaN</td>\n",
       "      <td>NaN</td>\n",
       "      <td>NaN</td>\n",
       "      <td>NaN</td>\n",
       "      <td>NaN</td>\n",
       "      <td>NaN</td>\n",
       "      <td>NaN</td>\n",
       "      <td>NaN</td>\n",
       "      <td>NaN</td>\n",
       "    </tr>\n",
       "    <tr>\n",
       "      <th>...</th>\n",
       "      <td>...</td>\n",
       "      <td>...</td>\n",
       "      <td>...</td>\n",
       "      <td>...</td>\n",
       "      <td>...</td>\n",
       "      <td>...</td>\n",
       "      <td>...</td>\n",
       "      <td>...</td>\n",
       "      <td>...</td>\n",
       "      <td>...</td>\n",
       "      <td>...</td>\n",
       "      <td>...</td>\n",
       "      <td>...</td>\n",
       "      <td>...</td>\n",
       "      <td>...</td>\n",
       "    </tr>\n",
       "    <tr>\n",
       "      <th>60</th>\n",
       "      <td>61.0</td>\n",
       "      <td>Yes</td>\n",
       "      <td>X</td>\n",
       "      <td>5859732</td>\n",
       "      <td>6029533</td>\n",
       "      <td>rs12009217</td>\n",
       "      <td>A</td>\n",
       "      <td>G</td>\n",
       "      <td>0.937</td>\n",
       "      <td>0.010</td>\n",
       "      <td>1.780000e-10</td>\n",
       "      <td>51.0</td>\n",
       "      <td>169.801</td>\n",
       "      <td>NLGN4X</td>\n",
       "      <td>9.749580</td>\n",
       "    </tr>\n",
       "    <tr>\n",
       "      <th>166</th>\n",
       "      <td>NaN</td>\n",
       "      <td>NaN</td>\n",
       "      <td>X</td>\n",
       "      <td>6029533</td>\n",
       "      <td>68377125</td>\n",
       "      <td>NaN</td>\n",
       "      <td>NaN</td>\n",
       "      <td>NaN</td>\n",
       "      <td>NaN</td>\n",
       "      <td>NaN</td>\n",
       "      <td>NaN</td>\n",
       "      <td>NaN</td>\n",
       "      <td>NaN</td>\n",
       "      <td>NaN</td>\n",
       "      <td>NaN</td>\n",
       "    </tr>\n",
       "    <tr>\n",
       "      <th>26</th>\n",
       "      <td>27.0</td>\n",
       "      <td>Yes</td>\n",
       "      <td>X</td>\n",
       "      <td>68377125</td>\n",
       "      <td>68377205</td>\n",
       "      <td>rs62606711</td>\n",
       "      <td>A</td>\n",
       "      <td>G</td>\n",
       "      <td>1.075</td>\n",
       "      <td>0.010</td>\n",
       "      <td>1.260000e-12</td>\n",
       "      <td>4.0</td>\n",
       "      <td>0.079</td>\n",
       "      <td>PJA1</td>\n",
       "      <td>11.899629</td>\n",
       "    </tr>\n",
       "    <tr>\n",
       "      <th>167</th>\n",
       "      <td>NaN</td>\n",
       "      <td>NaN</td>\n",
       "      <td>X</td>\n",
       "      <td>68377205</td>\n",
       "      <td>155270560</td>\n",
       "      <td>NaN</td>\n",
       "      <td>NaN</td>\n",
       "      <td>NaN</td>\n",
       "      <td>NaN</td>\n",
       "      <td>NaN</td>\n",
       "      <td>NaN</td>\n",
       "      <td>NaN</td>\n",
       "      <td>NaN</td>\n",
       "      <td>NaN</td>\n",
       "      <td>NaN</td>\n",
       "    </tr>\n",
       "    <tr>\n",
       "      <th>168</th>\n",
       "      <td>NaN</td>\n",
       "      <td>NaN</td>\n",
       "      <td>Y</td>\n",
       "      <td>0</td>\n",
       "      <td>59373566</td>\n",
       "      <td>NaN</td>\n",
       "      <td>NaN</td>\n",
       "      <td>NaN</td>\n",
       "      <td>NaN</td>\n",
       "      <td>NaN</td>\n",
       "      <td>NaN</td>\n",
       "      <td>NaN</td>\n",
       "      <td>NaN</td>\n",
       "      <td>NaN</td>\n",
       "      <td>NaN</td>\n",
       "    </tr>\n",
       "  </tbody>\n",
       "</table>\n",
       "<p>314 rows × 15 columns</p>\n",
       "</div>"
      ],
      "text/plain": [
       "     Locus GWS in PGC2? Chromosome  Start (BP)   End (BP)  \\\n",
       "0      NaN          NaN          1           0    2372396   \n",
       "40    41.0          Yes          1     2372396    2402499   \n",
       "1      NaN          NaN          1     2402499    8392591   \n",
       "86    87.0          Yes          1     8392591    8701288   \n",
       "2      NaN          NaN          1     8701288   30428942   \n",
       "..     ...          ...        ...         ...        ...   \n",
       "60    61.0          Yes          X     5859732    6029533   \n",
       "166    NaN          NaN          X     6029533   68377125   \n",
       "26    27.0          Yes          X    68377125   68377205   \n",
       "167    NaN          NaN          X    68377205  155270560   \n",
       "168    NaN          NaN          Y           0   59373566   \n",
       "\n",
       "    Index SNP (dbSNP b141)   A1   A2     OR     SE       P-value  \\\n",
       "0                      NaN  NaN  NaN    NaN    NaN           NaN   \n",
       "40               rs4648845    C    T  0.926  0.011  6.740000e-12   \n",
       "1                      NaN  NaN  NaN    NaN    NaN           NaN   \n",
       "86              rs34269918    G   GA  0.941  0.010  3.270000e-09   \n",
       "2                      NaN  NaN  NaN    NaN    NaN           NaN   \n",
       "..                     ...  ...  ...    ...    ...           ...   \n",
       "60              rs12009217    A    G  0.937  0.010  1.780000e-10   \n",
       "166                    NaN  NaN  NaN    NaN    NaN           NaN   \n",
       "26              rs62606711    A    G  1.075  0.010  1.260000e-12   \n",
       "167                    NaN  NaN  NaN    NaN    NaN           NaN   \n",
       "168                    NaN  NaN  NaN    NaN    NaN           NaN   \n",
       "\n",
       "     Number of SNPs  Length (KB) Gene(s) tagged  -log p-value  \n",
       "0               NaN          NaN            NaN           NaN  \n",
       "40             27.0       30.102          PLCH2     11.171340  \n",
       "1               NaN          NaN            NaN           NaN  \n",
       "86             56.0      308.696  RERE, SLC45A1      8.485452  \n",
       "2               NaN          NaN            NaN           NaN  \n",
       "..              ...          ...            ...           ...  \n",
       "60             51.0      169.801         NLGN4X      9.749580  \n",
       "166             NaN          NaN            NaN           NaN  \n",
       "26              4.0        0.079           PJA1     11.899629  \n",
       "167             NaN          NaN            NaN           NaN  \n",
       "168             NaN          NaN            NaN           NaN  \n",
       "\n",
       "[314 rows x 15 columns]"
      ]
     },
     "execution_count": 5,
     "metadata": {},
     "output_type": "execute_result"
    }
   ],
   "source": [
    "cgwas['-log p-value'] = - np.log10(cgwas.loc[:, 'P-value'])\n",
    "cgwas"
   ]
  },
  {
   "cell_type": "code",
   "execution_count": 6,
   "metadata": {},
   "outputs": [],
   "source": [
    "bedpath = '../../resources/CLOZUK/gwas.bed'\n",
    "cgwas[coord_cols + ['-log p-value']].to_csv(bedpath, sep='\\t', header=False, index=False, na_rep='0')"
   ]
  },
  {
   "cell_type": "markdown",
   "metadata": {},
   "source": [
    "## Discrepancy: calls in SCZ GWAS loci vs calls in SCZ GWAS genes"
   ]
  },
  {
   "cell_type": "code",
   "execution_count": 7,
   "metadata": {},
   "outputs": [
    {
     "name": "stdout",
     "output_type": "stream",
     "text": [
      "478 SCZ GWAS genes\n"
     ]
    }
   ],
   "source": [
    "clozukpath = '../../resources/CLOZUK/supp-table-4.csv'\n",
    "gwasgenes = operations.get_geneset(df=pd.read_csv(clozukpath, skiprows=7), col='Gene(s) tagged')\n",
    "print(len(gwasgenes), 'SCZ GWAS genes')"
   ]
  },
  {
   "cell_type": "code",
   "execution_count": 8,
   "metadata": {},
   "outputs": [],
   "source": [
    "data = SNPnexus.load_data('../../results/2020-09-07-annotations/annotated-calls.p')\n",
    "data = genome.annotate_with_gwas_loci(data, modify_return_data=True)"
   ]
  },
  {
   "cell_type": "code",
   "execution_count": 9,
   "metadata": {},
   "outputs": [
    {
     "name": "stderr",
     "output_type": "stream",
     "text": [
      "/home/attila/anaconda3/lib/python3.7/site-packages/pandas/core/generic.py:4153: PerformanceWarning: dropping on a non-lexsorted multi-index without a level parameter may impact performance.\n",
      "  obj = obj._drop_axis(labels, axis, level=level, errors=errors)\n"
     ]
    },
    {
     "data": {
      "text/html": [
       "<div>\n",
       "<style scoped>\n",
       "    .dataframe tbody tr th:only-of-type {\n",
       "        vertical-align: middle;\n",
       "    }\n",
       "\n",
       "    .dataframe tbody tr th {\n",
       "        vertical-align: top;\n",
       "    }\n",
       "\n",
       "    .dataframe thead th {\n",
       "        text-align: right;\n",
       "    }\n",
       "</style>\n",
       "<table border=\"1\" class=\"dataframe\">\n",
       "  <thead>\n",
       "    <tr style=\"text-align: right;\">\n",
       "      <th></th>\n",
       "      <th>Dx</th>\n",
       "      <th>Control</th>\n",
       "      <th>SCZ</th>\n",
       "      <th>ASD</th>\n",
       "    </tr>\n",
       "    <tr>\n",
       "      <th>Feature</th>\n",
       "      <th>Query</th>\n",
       "      <th></th>\n",
       "      <th></th>\n",
       "      <th></th>\n",
       "    </tr>\n",
       "  </thead>\n",
       "  <tbody>\n",
       "    <tr>\n",
       "      <th rowspan=\"5\" valign=\"top\">near_gens_Annotation</th>\n",
       "      <th>coding nonsyn</th>\n",
       "      <td>23</td>\n",
       "      <td>43</td>\n",
       "      <td>23</td>\n",
       "    </tr>\n",
       "    <tr>\n",
       "      <th>coding syn</th>\n",
       "      <td>16</td>\n",
       "      <td>20</td>\n",
       "      <td>15</td>\n",
       "    </tr>\n",
       "    <tr>\n",
       "      <th>missense</th>\n",
       "      <td>0</td>\n",
       "      <td>0</td>\n",
       "      <td>0</td>\n",
       "    </tr>\n",
       "    <tr>\n",
       "      <th>stop-gain</th>\n",
       "      <td>1</td>\n",
       "      <td>0</td>\n",
       "      <td>0</td>\n",
       "    </tr>\n",
       "    <tr>\n",
       "      <th>intronic (splice_site)</th>\n",
       "      <td>0</td>\n",
       "      <td>1</td>\n",
       "      <td>0</td>\n",
       "    </tr>\n",
       "    <tr>\n",
       "      <th>...</th>\n",
       "      <th>...</th>\n",
       "      <td>...</td>\n",
       "      <td>...</td>\n",
       "      <td>...</td>\n",
       "    </tr>\n",
       "    <tr>\n",
       "      <th rowspan=\"5\" valign=\"top\">SCZ GWAS locus, coding</th>\n",
       "      <th>141</th>\n",
       "      <td>0</td>\n",
       "      <td>0</td>\n",
       "      <td>0</td>\n",
       "    </tr>\n",
       "    <tr>\n",
       "      <th>142</th>\n",
       "      <td>0</td>\n",
       "      <td>0</td>\n",
       "      <td>0</td>\n",
       "    </tr>\n",
       "    <tr>\n",
       "      <th>143</th>\n",
       "      <td>0</td>\n",
       "      <td>0</td>\n",
       "      <td>0</td>\n",
       "    </tr>\n",
       "    <tr>\n",
       "      <th>144</th>\n",
       "      <td>0</td>\n",
       "      <td>2</td>\n",
       "      <td>0</td>\n",
       "    </tr>\n",
       "    <tr>\n",
       "      <th>145</th>\n",
       "      <td>0</td>\n",
       "      <td>0</td>\n",
       "      <td>0</td>\n",
       "    </tr>\n",
       "  </tbody>\n",
       "</table>\n",
       "<p>297 rows × 3 columns</p>\n",
       "</div>"
      ],
      "text/plain": [
       "Dx                                             Control  SCZ  ASD\n",
       "Feature                Query                                    \n",
       "near_gens_Annotation   coding nonsyn                23   43   23\n",
       "                       coding syn                   16   20   15\n",
       "                       missense                      0    0    0\n",
       "                       stop-gain                     1    0    0\n",
       "                       intronic (splice_site)        0    1    0\n",
       "...                                                ...  ...  ...\n",
       "SCZ GWAS locus, coding 141                           0    0    0\n",
       "                       142                           0    0    0\n",
       "                       143                           0    0    0\n",
       "                       144                           0    2    0\n",
       "                       145                           0    0    0\n",
       "\n",
       "[297 rows x 3 columns]"
      ]
     },
     "execution_count": 9,
     "metadata": {},
     "output_type": "execute_result"
    }
   ],
   "source": [
    "loci = [str(x) for x in list(gwas.Locus.sort_values().to_numpy())]\n",
    "querydict = {'near_gens_Annotation': ['coding nonsyn', 'coding syn', 'missense', 'stop-gain', 'intronic (splice_site)'],\n",
    "             'ensembl_Predicted Function': ['coding'],\n",
    "             'near_gens_Overlapped Gene': {'SCZ GWAS genes': gwasgenes},\n",
    "             'SCZ GWAS locus': loci,\n",
    "             'SCZ GWAS locus, coding': loci,\n",
    "            }\n",
    "results = operations.multiquery(querydict, data, do_sum=False, do_sort=False)\n",
    "summary = operations.summarize_query_results(results, data, chisq=False, margin=False)\n",
    "summary"
   ]
  },
  {
   "cell_type": "markdown",
   "metadata": {},
   "source": [
    "The cross tabulation table below compares calls in `SCZ GWAS genes` to SCZ GWAS **loci** (where `GWASpval` > 0).  The table shows that\n",
    "* only 38 calls are in both SCZ GWAS genes and SCZ GWAS loci\n",
    "* 90 calls are overlapped by SCZ GWAS genes but are not in SCZ GWAS loci\n",
    "* 35 calls are in SCZ GWAS loci but not overlapped by SCZ GWAS genes"
   ]
  },
  {
   "cell_type": "code",
   "execution_count": 10,
   "metadata": {},
   "outputs": [
    {
     "data": {
      "text/html": [
       "<style  type=\"text/css\" >\n",
       "</style><table id=\"T_515ac_\" ><caption>Number of calls</caption><thead>    <tr>        <th class=\"index_name level0\" >in SCZ GWAS loci</th>        <th class=\"col_heading level0 col0\" >False</th>        <th class=\"col_heading level0 col1\" >True</th>    </tr>    <tr>        <th class=\"index_name level0\" >in SCZ GWAS genes</th>        <th class=\"blank\" ></th>        <th class=\"blank\" ></th>    </tr></thead><tbody>\n",
       "                <tr>\n",
       "                        <th id=\"T_515ac_level0_row0\" class=\"row_heading level0 row0\" >False</th>\n",
       "                        <td id=\"T_515ac_row0_col0\" class=\"data row0 col0\" >6263</td>\n",
       "                        <td id=\"T_515ac_row0_col1\" class=\"data row0 col1\" >35</td>\n",
       "            </tr>\n",
       "            <tr>\n",
       "                        <th id=\"T_515ac_level0_row1\" class=\"row_heading level0 row1\" >True</th>\n",
       "                        <td id=\"T_515ac_row1_col0\" class=\"data row1 col0\" >90</td>\n",
       "                        <td id=\"T_515ac_row1_col1\" class=\"data row1 col1\" >38</td>\n",
       "            </tr>\n",
       "    </tbody></table>"
      ],
      "text/plain": [
       "<pandas.io.formats.style.Styler at 0x7f90f77f3c90>"
      ]
     },
     "execution_count": 10,
     "metadata": {},
     "output_type": "execute_result"
    }
   ],
   "source": [
    "contingency = pd.crosstab(index=results[('near_gens_Overlapped Gene', 'SCZ GWAS genes')].astype('bool'), columns=(data['GWASpval'] > 0), margins=False)\n",
    "contingency = contingency.rename_axis('in SCZ GWAS genes', axis='index').rename_axis('in SCZ GWAS loci', axis='columns')\n",
    "contingency.style.set_caption('Number of calls')"
   ]
  },
  {
   "cell_type": "markdown",
   "metadata": {},
   "source": [
    "## Enrichment of Dx groups"
   ]
  },
  {
   "cell_type": "code",
   "execution_count": 11,
   "metadata": {},
   "outputs": [
    {
     "data": {
      "text/html": [
       "<div>\n",
       "<style scoped>\n",
       "    .dataframe tbody tr th:only-of-type {\n",
       "        vertical-align: middle;\n",
       "    }\n",
       "\n",
       "    .dataframe tbody tr th {\n",
       "        vertical-align: top;\n",
       "    }\n",
       "\n",
       "    .dataframe thead th {\n",
       "        text-align: right;\n",
       "    }\n",
       "</style>\n",
       "<table border=\"1\" class=\"dataframe\">\n",
       "  <thead>\n",
       "    <tr style=\"text-align: right;\">\n",
       "      <th></th>\n",
       "      <th>all</th>\n",
       "      <th>in SCZ GWAS loci</th>\n",
       "    </tr>\n",
       "    <tr>\n",
       "      <th>Dx</th>\n",
       "      <th></th>\n",
       "      <th></th>\n",
       "    </tr>\n",
       "  </thead>\n",
       "  <tbody>\n",
       "    <tr>\n",
       "      <th>Control</th>\n",
       "      <td>1653</td>\n",
       "      <td>17</td>\n",
       "    </tr>\n",
       "    <tr>\n",
       "      <th>SCZ</th>\n",
       "      <td>2488</td>\n",
       "      <td>28</td>\n",
       "    </tr>\n",
       "    <tr>\n",
       "      <th>ASD</th>\n",
       "      <td>2285</td>\n",
       "      <td>28</td>\n",
       "    </tr>\n",
       "  </tbody>\n",
       "</table>\n",
       "</div>"
      ],
      "text/plain": [
       "          all  in SCZ GWAS loci\n",
       "Dx                             \n",
       "Control  1653                17\n",
       "SCZ      2488                28\n",
       "ASD      2285                28"
      ]
     },
     "execution_count": 11,
     "metadata": {},
     "output_type": "execute_result"
    }
   ],
   "source": [
    "gwasloci = pd.concat([data.groupby('Dx').size(), data.loc[data['GWASpval'] > 0].groupby('Dx').size()], axis=1).rename({0: 'all', 1: 'in SCZ GWAS loci'}, axis=1)\n",
    "gwasloci"
   ]
  },
  {
   "cell_type": "code",
   "execution_count": 12,
   "metadata": {},
   "outputs": [
    {
     "data": {
      "text/plain": [
       "['named-figure/calls-in-scz-gwas-loci.png',\n",
       " 'named-figure/calls-in-scz-gwas-loci.pdf']"
      ]
     },
     "execution_count": 12,
     "metadata": {},
     "output_type": "execute_result"
    },
    {
     "data": {
      "image/png": "[encoded data removed]",
      "text/plain": [
       "<Figure size 432x576 with 2 Axes>"
      ]
     },
     "metadata": {
      "needs_background": "light"
     },
     "output_type": "display_data"
    }
   ],
   "source": [
    "%matplotlib inline\n",
    "fig, ax = plt.subplots(2, 1, figsize=(6, 8), sharex=True)\n",
    "for col, axi in zip(gwasloci.columns, [0, 1]):\n",
    "    gwasloci[col].plot(kind='bar', ax=ax[axi])\n",
    "    ax[axi].set_title('Calls: ' + col)\n",
    "    ax[axi].set_ylabel('count')\n",
    "attila_utils.savefig(fig, 'calls-in-scz-gwas-loci')"
   ]
  },
  {
   "cell_type": "markdown",
   "metadata": {},
   "source": [
    "## Coordinate system issue?\n",
    "\n",
    "The explanation for the discrepancy might be that the genomic coordinates were provided under GRCh38 by the PGC in their [CLOZUK paper](https://www.ncbi.nlm.nih.gov/pmc/articles/PMC5918692/) while I assumed GRCh37 when I annotated our callsets.  So far I haven't found any mention of which reference genome the PGC used for their study so I assumed GRCh38.\n",
    "\n",
    "To test this assumption I used the [The NCBI remap service](https://www.ncbi.nlm.nih.gov/genome/tools/remap) to map the start and end locations of the SCZ GWAS loci to GRCh37.  As an input to the remapping I manually created `clozuk-reported-gwas-loci.bed` by extracting the `Chromosome`, `Start (BP)`, `End (BP)` columns.  The output `report_clozuk-reported-gwas-loci.bed.csv` is further analyzed here."
   ]
  },
  {
   "cell_type": "code",
   "execution_count": 13,
   "metadata": {},
   "outputs": [],
   "source": [
    "fpath = '../../results/2020-07-28-CLOZUK/report_clozuk-reported-gwas-loci.bed.csv'\n",
    "remapped = pd.read_csv(fpath, sep='\\t')\n",
    "remapped = remapped.set_index(['source_id', 'source_start'], drop=False)"
   ]
  },
  {
   "cell_type": "markdown",
   "metadata": {},
   "source": [
    "This shows that an alternative method of annotating calls based on SCZ GWAS loci produces the same results as the original method (which annotated VCF files)."
   ]
  },
  {
   "cell_type": "code",
   "execution_count": 14,
   "metadata": {},
   "outputs": [
    {
     "data": {
      "text/html": [
       "<style  type=\"text/css\" >\n",
       "</style><table id=\"T_1306b_\" ><caption>Number of calls in SCZ GWAS loci</caption><thead>    <tr>        <th class=\"index_name level0\" >original method</th>        <th class=\"col_heading level0 col0\" >False</th>        <th class=\"col_heading level0 col1\" >True</th>    </tr>    <tr>        <th class=\"index_name level0\" >new method</th>        <th class=\"blank\" ></th>        <th class=\"blank\" ></th>    </tr></thead><tbody>\n",
       "                <tr>\n",
       "                        <th id=\"T_1306b_level0_row0\" class=\"row_heading level0 row0\" >False</th>\n",
       "                        <td id=\"T_1306b_row0_col0\" class=\"data row0 col0\" >6353</td>\n",
       "                        <td id=\"T_1306b_row0_col1\" class=\"data row0 col1\" >0</td>\n",
       "            </tr>\n",
       "            <tr>\n",
       "                        <th id=\"T_1306b_level0_row1\" class=\"row_heading level0 row1\" >True</th>\n",
       "                        <td id=\"T_1306b_row1_col0\" class=\"data row1 col0\" >0</td>\n",
       "                        <td id=\"T_1306b_row1_col1\" class=\"data row1 col1\" >73</td>\n",
       "            </tr>\n",
       "    </tbody></table>"
      ],
      "text/plain": [
       "<pandas.io.formats.style.Styler at 0x7f90d51933d0>"
      ]
     },
     "execution_count": 14,
     "metadata": {},
     "output_type": "execute_result"
    }
   ],
   "source": [
    "source = operations.is_in_segments(remapped[['source_id', 'source_start', 'source_stop']], data)\n",
    "mapped = operations.is_in_segments(remapped[['mapped_id', 'mapped_start', 'mapped_stop']], data)\n",
    "df = pd.crosstab(index=source, columns=(data['GWASpval'] > 0), margins=False)\n",
    "df = df.rename_axis('new method', axis='index').rename_axis('original method', axis='columns')\n",
    "df.style.set_caption('Number of calls in SCZ GWAS loci')"
   ]
  },
  {
   "cell_type": "markdown",
   "metadata": {},
   "source": [
    "Here we see how remapping from GRCh38 to GRCh37 changes the set of calls in SCZ GWAS loci"
   ]
  },
  {
   "cell_type": "code",
   "execution_count": 15,
   "metadata": {},
   "outputs": [
    {
     "data": {
      "text/html": [
       "<style  type=\"text/css\" >\n",
       "</style><table id=\"T_aa2d3_\" ><caption>Number of calls in SCZ GWAS loci</caption><thead>    <tr>        <th class=\"index_name level0\" >remap: GRCh38 -> GRCh37</th>        <th class=\"col_heading level0 col0\" >False</th>        <th class=\"col_heading level0 col1\" >True</th>    </tr>    <tr>        <th class=\"index_name level0\" >published</th>        <th class=\"blank\" ></th>        <th class=\"blank\" ></th>    </tr></thead><tbody>\n",
       "                <tr>\n",
       "                        <th id=\"T_aa2d3_level0_row0\" class=\"row_heading level0 row0\" >False</th>\n",
       "                        <td id=\"T_aa2d3_row0_col0\" class=\"data row0 col0\" >6314</td>\n",
       "                        <td id=\"T_aa2d3_row0_col1\" class=\"data row0 col1\" >39</td>\n",
       "            </tr>\n",
       "            <tr>\n",
       "                        <th id=\"T_aa2d3_level0_row1\" class=\"row_heading level0 row1\" >True</th>\n",
       "                        <td id=\"T_aa2d3_row1_col0\" class=\"data row1 col0\" >41</td>\n",
       "                        <td id=\"T_aa2d3_row1_col1\" class=\"data row1 col1\" >32</td>\n",
       "            </tr>\n",
       "    </tbody></table>"
      ],
      "text/plain": [
       "<pandas.io.formats.style.Styler at 0x7f90d6ca8f50>"
      ]
     },
     "execution_count": 15,
     "metadata": {},
     "output_type": "execute_result"
    }
   ],
   "source": [
    "df = pd.crosstab(index=source, columns=mapped, margins=False)\n",
    "df = df.rename_axis('published', axis='index').rename_axis('remap: GRCh38 -> GRCh37', axis='columns')\n",
    "df.style.set_caption('Number of calls in SCZ GWAS loci')"
   ]
  },
  {
   "cell_type": "markdown",
   "metadata": {},
   "source": [
    "This shows that remapping the start-stop positons of SCZ GWAS loci leads to even stronger discordance between calls in SCZ GWAS genes and calls in loci."
   ]
  },
  {
   "cell_type": "code",
   "execution_count": 16,
   "metadata": {},
   "outputs": [
    {
     "data": {
      "text/html": [
       "<style  type=\"text/css\" >\n",
       "</style><table id=\"T_03595_\" ><caption>Number of calls</caption><thead>    <tr>        <th class=\"index_name level0\" >in SCZ GWAS loci (GRCh38 -> GRCh37)</th>        <th class=\"col_heading level0 col0\" >False</th>        <th class=\"col_heading level0 col1\" >True</th>    </tr>    <tr>        <th class=\"index_name level0\" >in SCZ GWAS genes</th>        <th class=\"blank\" ></th>        <th class=\"blank\" ></th>    </tr></thead><tbody>\n",
       "                <tr>\n",
       "                        <th id=\"T_03595_level0_row0\" class=\"row_heading level0 row0\" >False</th>\n",
       "                        <td id=\"T_03595_row0_col0\" class=\"data row0 col0\" >6242</td>\n",
       "                        <td id=\"T_03595_row0_col1\" class=\"data row0 col1\" >56</td>\n",
       "            </tr>\n",
       "            <tr>\n",
       "                        <th id=\"T_03595_level0_row1\" class=\"row_heading level0 row1\" >True</th>\n",
       "                        <td id=\"T_03595_row1_col0\" class=\"data row1 col0\" >113</td>\n",
       "                        <td id=\"T_03595_row1_col1\" class=\"data row1 col1\" >15</td>\n",
       "            </tr>\n",
       "    </tbody></table>"
      ],
      "text/plain": [
       "<pandas.io.formats.style.Styler at 0x7f90d5187950>"
      ]
     },
     "execution_count": 16,
     "metadata": {},
     "output_type": "execute_result"
    }
   ],
   "source": [
    "df = pd.crosstab(index=results[('near_gens_Overlapped Gene', 'SCZ GWAS genes')].astype('bool'), columns=mapped, margins=False)\n",
    "df = df.rename_axis('in SCZ GWAS genes', axis='index').rename_axis('in SCZ GWAS loci (GRCh38 -> GRCh37)', axis='columns')\n",
    "df.style.set_caption('Number of calls')"
   ]
  },
  {
   "cell_type": "markdown",
   "metadata": {},
   "source": [
    "The result suggests that the PGC authors used probably GRCh37 instead of GRCh38 and therefore it's not a coordinate system issue we are dealing with.\n",
    "\n",
    "## Coding parts of loci\n",
    "\n",
    "The next hypothesis is that SCZ GWAS loci are less enriched in SCZ calls than SCZ GWAS genes because the former not only contain noncoding variants, which tend to be less functionally important than coding variants, but also lack parts of those SCZ GWAS genes that strech beond the LD block defining the locus.\n",
    "\n",
    "To test this hypothesis I filter variants for **coding** ones and compare that picture to the previous one termed **any** variants, which includes noncoding variants as well.  The table and plots below show that **coding** variants in SCZ GWAS loci are indeed enriched in SCZ calls unlike **any** variants"
   ]
  },
  {
   "cell_type": "code",
   "execution_count": 17,
   "metadata": {},
   "outputs": [
    {
     "data": {
      "text/html": [
       "<style  type=\"text/css\" >\n",
       "</style><table id=\"T_447bc_\" ><caption>Number of calls</caption><thead>    <tr>        <th class=\"blank level0\" ></th>        <th class=\"col_heading level0 col0\" colspan=\"2\">all</th>        <th class=\"col_heading level0 col2\" colspan=\"2\">in SCZ GWAS loci</th>    </tr>    <tr>        <th class=\"blank level1\" ></th>        <th class=\"col_heading level1 col0\" >any</th>        <th class=\"col_heading level1 col1\" >coding</th>        <th class=\"col_heading level1 col2\" >any</th>        <th class=\"col_heading level1 col3\" >coding</th>    </tr>    <tr>        <th class=\"index_name level0\" >Dx</th>        <th class=\"blank\" ></th>        <th class=\"blank\" ></th>        <th class=\"blank\" ></th>        <th class=\"blank\" ></th>    </tr></thead><tbody>\n",
       "                <tr>\n",
       "                        <th id=\"T_447bc_level0_row0\" class=\"row_heading level0 row0\" >Control</th>\n",
       "                        <td id=\"T_447bc_row0_col0\" class=\"data row0 col0\" >1653</td>\n",
       "                        <td id=\"T_447bc_row0_col1\" class=\"data row0 col1\" >917</td>\n",
       "                        <td id=\"T_447bc_row0_col2\" class=\"data row0 col2\" >17</td>\n",
       "                        <td id=\"T_447bc_row0_col3\" class=\"data row0 col3\" >7</td>\n",
       "            </tr>\n",
       "            <tr>\n",
       "                        <th id=\"T_447bc_level0_row1\" class=\"row_heading level0 row1\" >SCZ</th>\n",
       "                        <td id=\"T_447bc_row1_col0\" class=\"data row1 col0\" >2488</td>\n",
       "                        <td id=\"T_447bc_row1_col1\" class=\"data row1 col1\" >1377</td>\n",
       "                        <td id=\"T_447bc_row1_col2\" class=\"data row1 col2\" >28</td>\n",
       "                        <td id=\"T_447bc_row1_col3\" class=\"data row1 col3\" >23</td>\n",
       "            </tr>\n",
       "            <tr>\n",
       "                        <th id=\"T_447bc_level0_row2\" class=\"row_heading level0 row2\" >ASD</th>\n",
       "                        <td id=\"T_447bc_row2_col0\" class=\"data row2 col0\" >2285</td>\n",
       "                        <td id=\"T_447bc_row2_col1\" class=\"data row2 col1\" >1181</td>\n",
       "                        <td id=\"T_447bc_row2_col2\" class=\"data row2 col2\" >28</td>\n",
       "                        <td id=\"T_447bc_row2_col3\" class=\"data row2 col3\" >17</td>\n",
       "            </tr>\n",
       "    </tbody></table>"
      ],
      "text/plain": [
       "<pandas.io.formats.style.Styler at 0x7f90d5209750>"
      ]
     },
     "execution_count": 17,
     "metadata": {},
     "output_type": "execute_result"
    }
   ],
   "source": [
    "coding = ~ data['near_gens_Overlapped Gene'].isna()\n",
    "coding_gwasloci = pd.concat([data.loc[coding].groupby('Dx').size(), data.loc[(data['GWASpval'] > 0) & coding].groupby('Dx').size()], axis=1).rename({0: 'all', 1: 'in SCZ GWAS loci'}, axis=1)\n",
    "gwasloci1 = pd.concat([gwasloci, coding_gwasloci], axis=1)\n",
    "gwasloci1.columns = pd.MultiIndex.from_product([['any', 'coding'], gwasloci.columns])\n",
    "gwasloci1 = gwasloci1.reorder_levels([1, 0], axis=1).iloc[:, [0, 2, 1, 3]]\n",
    "gwasloci1.style.set_caption('Number of calls')"
   ]
  },
  {
   "cell_type": "code",
   "execution_count": 18,
   "metadata": {},
   "outputs": [
    {
     "data": {
      "text/plain": [
       "['named-figure/calls-in-scz-gwas-loci-coding.png',\n",
       " 'named-figure/calls-in-scz-gwas-loci-coding.pdf']"
      ]
     },
     "execution_count": 18,
     "metadata": {},
     "output_type": "execute_result"
    },
    {
     "data": {
      "image/png": "[encoded data removed]",
      "text/plain": [
       "<Figure size 432x576 with 2 Axes>"
      ]
     },
     "metadata": {
      "needs_background": "light"
     },
     "output_type": "display_data"
    }
   ],
   "source": [
    "%matplotlib inline\n",
    "fig, ax = plt.subplots(2, 1, figsize=(6, 8), sharex=True)\n",
    "for axi, col in zip(ax, gwasloci1.columns.get_level_values(0).unique()):\n",
    "    gwasloci1.xs(col, axis=1).plot(kind='bar', ax=axi)\n",
    "    axi.set_title('Calls: ' + col)\n",
    "attila_utils.savefig(fig, 'calls-in-scz-gwas-loci-coding')"
   ]
  },
  {
   "cell_type": "markdown",
   "metadata": {},
   "source": [
    "### Relative call rates\n",
    "\n",
    "These plots show more clearly the results discussed"
   ]
  },
  {
   "cell_type": "code",
   "execution_count": 19,
   "metadata": {},
   "outputs": [
    {
     "data": {
      "text/html": [
       "<div>\n",
       "<style scoped>\n",
       "    .dataframe tbody tr th:only-of-type {\n",
       "        vertical-align: middle;\n",
       "    }\n",
       "\n",
       "    .dataframe tbody tr th {\n",
       "        vertical-align: top;\n",
       "    }\n",
       "\n",
       "    .dataframe thead tr th {\n",
       "        text-align: left;\n",
       "    }\n",
       "</style>\n",
       "<table border=\"1\" class=\"dataframe\">\n",
       "  <thead>\n",
       "    <tr>\n",
       "      <th>Dx</th>\n",
       "      <th colspan=\"2\" halign=\"left\">Control</th>\n",
       "      <th colspan=\"2\" halign=\"left\">SCZ</th>\n",
       "      <th colspan=\"2\" halign=\"left\">ASD</th>\n",
       "    </tr>\n",
       "    <tr>\n",
       "      <th></th>\n",
       "      <th>mean</th>\n",
       "      <th>sem</th>\n",
       "      <th>mean</th>\n",
       "      <th>sem</th>\n",
       "      <th>mean</th>\n",
       "      <th>sem</th>\n",
       "    </tr>\n",
       "  </thead>\n",
       "  <tbody>\n",
       "    <tr>\n",
       "      <th>SCZ GWAS loci genic</th>\n",
       "      <td>1.0</td>\n",
       "      <td>0.343303</td>\n",
       "      <td>2.154567</td>\n",
       "      <td>0.579949</td>\n",
       "      <td>1.704261</td>\n",
       "      <td>0.374162</td>\n",
       "    </tr>\n",
       "    <tr>\n",
       "      <th>SCZ GWAS loci</th>\n",
       "      <td>1.0</td>\n",
       "      <td>0.274492</td>\n",
       "      <td>1.080039</td>\n",
       "      <td>0.264857</td>\n",
       "      <td>1.155831</td>\n",
       "      <td>0.234408</td>\n",
       "    </tr>\n",
       "    <tr>\n",
       "      <th>SCZ GWAS genes</th>\n",
       "      <td>1.0</td>\n",
       "      <td>0.244949</td>\n",
       "      <td>2.163934</td>\n",
       "      <td>0.383186</td>\n",
       "      <td>1.473684</td>\n",
       "      <td>0.269634</td>\n",
       "    </tr>\n",
       "  </tbody>\n",
       "</table>\n",
       "</div>"
      ],
      "text/plain": [
       "Dx                  Control                 SCZ                 ASD          \n",
       "                       mean       sem      mean       sem      mean       sem\n",
       "SCZ GWAS loci genic     1.0  0.343303  2.154567  0.579949  1.704261  0.374162\n",
       "SCZ GWAS loci           1.0  0.274492  1.080039  0.264857  1.155831  0.234408\n",
       "SCZ GWAS genes          1.0  0.244949  2.163934  0.383186  1.473684  0.269634"
      ]
     },
     "execution_count": 19,
     "metadata": {},
     "output_type": "execute_result"
    }
   ],
   "source": [
    "a = results.xs('SCZ GWAS genes', axis=1, level=1)['near_gens_Overlapped Gene']\n",
    "b = pd.Series(0, index=a.index, dtype=pd.Int16Dtype())\n",
    "c = b.copy()\n",
    "b[(data['GWASpval'] > 0)] = 1\n",
    "c[(data['GWASpval'] > 0) & coding] = 1\n",
    "results_scz_gwas = pd.DataFrame({'SCZ GWAS genes': a, 'SCZ GWAS loci': b, 'SCZ GWAS loci genic': c})\n",
    "callsperind = operations.summarize_query_mean_sem(results_scz_gwas, data)\n",
    "stdcpi = callsperind.sort_values(('Control', 'mean'), ascending=True).apply(lambda x: x / x[('Control', 'mean')], axis=1).dropna()\n",
    "stdcpi"
   ]
  },
  {
   "cell_type": "code",
   "execution_count": 20,
   "metadata": {},
   "outputs": [
    {
     "data": {
      "text/plain": [
       "['named-figure/rel-callrate-sczgwas.png',\n",
       " 'named-figure/rel-callrate-sczgwas.pdf']"
      ]
     },
     "execution_count": 20,
     "metadata": {},
     "output_type": "execute_result"
    },
    {
     "data": {
      "image/png": "[encoded data removed]",
      "text/plain": [
       "<Figure size 288x288 with 1 Axes>"
      ]
     },
     "metadata": {
      "needs_background": "light"
     },
     "output_type": "display_data"
    }
   ],
   "source": [
    "def callrates_bar(stdcpi, only_scz=False, drop_gwasloci_genic=False):\n",
    "    fig, ax = plt.subplots(1, 1, figsize=(4, 4))\n",
    "    if only_scz:\n",
    "        stdcpi = stdcpi.drop('ASD', axis=1, level=0)\n",
    "    if drop_gwasloci_genic:\n",
    "        stdcpi = stdcpi.drop('SCZ GWAS loci genic', axis=0)\n",
    "    stdcpi.xs('mean', axis=1, level=1).plot(kind='barh', xerr=stdcpi.xs('sem', axis=1, level=1), ax=ax)\n",
    "    ax.plot([1, 1], [-1, 3], linestyle='dashed', color='black', linewidth=0.5)\n",
    "    ax.set_xlabel('relative SNV call rate')\n",
    "    return((fig, ax))\n",
    "\n",
    "fig, ax = callrates_bar(stdcpi, only_scz=False, drop_gwasloci_genic=False)\n",
    "attila_utils.savefig(fig, 'rel-callrate-sczgwas')"
   ]
  },
  {
   "cell_type": "code",
   "execution_count": 21,
   "metadata": {
    "scrolled": true
   },
   "outputs": [
    {
     "data": {
      "text/plain": [
       "['named-figure/rel-callrate-sczgwas_scz.png',\n",
       " 'named-figure/rel-callrate-sczgwas_scz.pdf']"
      ]
     },
     "execution_count": 21,
     "metadata": {},
     "output_type": "execute_result"
    },
    {
     "data": {
      "image/png": "[encoded data removed]",
      "text/plain": [
       "<Figure size 288x288 with 1 Axes>"
      ]
     },
     "metadata": {
      "needs_background": "light"
     },
     "output_type": "display_data"
    }
   ],
   "source": [
    "fig, ax = callrates_bar(stdcpi, only_scz=True, drop_gwasloci_genic=False)\n",
    "attila_utils.savefig(fig, 'rel-callrate-sczgwas_scz')"
   ]
  },
  {
   "cell_type": "code",
   "execution_count": 22,
   "metadata": {},
   "outputs": [
    {
     "data": {
      "text/plain": [
       "['named-figure/rel-callrate-sczgwas2_scz.png',\n",
       " 'named-figure/rel-callrate-sczgwas2_scz.pdf']"
      ]
     },
     "execution_count": 22,
     "metadata": {},
     "output_type": "execute_result"
    },
    {
     "data": {
      "image/png": "[encoded data removed]",
      "text/plain": [
       "<Figure size 288x288 with 1 Axes>"
      ]
     },
     "metadata": {
      "needs_background": "light"
     },
     "output_type": "display_data"
    }
   ],
   "source": [
    "fig, ax = callrates_bar(stdcpi, only_scz=True, drop_gwasloci_genic=True)\n",
    "attila_utils.savefig(fig, 'rel-callrate-sczgwas2_scz')"
   ]
  },
  {
   "cell_type": "code",
   "execution_count": 23,
   "metadata": {},
   "outputs": [
    {
     "data": {
      "text/plain": [
       "['named-figure/rel-callrate-sczgwas-3ax.png',\n",
       " 'named-figure/rel-callrate-sczgwas-3ax.pdf']"
      ]
     },
     "execution_count": 23,
     "metadata": {},
     "output_type": "execute_result"
    },
    {
     "data": {
      "image/png": "[encoded data removed]",
      "text/plain": [
       "<Figure size 576x288 with 3 Axes>"
      ]
     },
     "metadata": {
      "needs_background": "light"
     },
     "output_type": "display_data"
    }
   ],
   "source": [
    "def callrates_bar1(stdcpi, only_scz=False):\n",
    "    if only_scz:\n",
    "        stdcpi = stdcpi.drop('ASD', axis=1)\n",
    "    nDx = stdcpi.xs('mean', axis=1, level=1).shape[1]\n",
    "    fig, ax = plt.subplots(1, len(stdcpi.index), figsize=(8, 4))\n",
    "    for i, categ in zip(np.arange(len(stdcpi.index)), stdcpi.index):\n",
    "        axi = ax[i]\n",
    "        x = stdcpi.loc[categ]\n",
    "        x_mean = x.xs('mean', level=1)\n",
    "        x_sem = x.xs('sem', level=1)\n",
    "        x_mean.plot(kind='barh', xerr=x_sem, ax=axi, color='gray')\n",
    "        axi.set_title(categ)\n",
    "        axi.set_xlabel('relative SNV call rate')\n",
    "        axi.set_xlim(0, 2.75)\n",
    "        if i > 0:\n",
    "            axi.set_yticklabels('')\n",
    "            axi.set_ylabel('')\n",
    "    return((fig, ax))\n",
    "\n",
    "fig, ax = callrates_bar1(stdcpi, only_scz=False)\n",
    "attila_utils.savefig(fig, 'rel-callrate-sczgwas-3ax')"
   ]
  },
  {
   "cell_type": "code",
   "execution_count": 24,
   "metadata": {},
   "outputs": [
    {
     "name": "stderr",
     "output_type": "stream",
     "text": [
      "/home/attila/anaconda3/lib/python3.7/site-packages/pandas/core/generic.py:4153: PerformanceWarning: dropping on a non-lexsorted multi-index without a level parameter may impact performance.\n",
      "  obj = obj._drop_axis(labels, axis, level=level, errors=errors)\n"
     ]
    },
    {
     "data": {
      "text/plain": [
       "['named-figure/rel-callrate-sczgwas-3ax_scz.png',\n",
       " 'named-figure/rel-callrate-sczgwas-3ax_scz.pdf']"
      ]
     },
     "execution_count": 24,
     "metadata": {},
     "output_type": "execute_result"
    },
    {
     "data": {
      "image/png": "[encoded data removed]",
      "text/plain": [
       "<Figure size 576x288 with 3 Axes>"
      ]
     },
     "metadata": {
      "needs_background": "light"
     },
     "output_type": "display_data"
    }
   ],
   "source": [
    "fig, ax = callrates_bar1(stdcpi, only_scz=True)\n",
    "attila_utils.savefig(fig, 'rel-callrate-sczgwas-3ax_scz')"
   ]
  },
  {
   "cell_type": "markdown",
   "metadata": {},
   "source": [
    "## Remaining discrepancy\n",
    "First recall the discrepancy given by the original contingency table"
   ]
  },
  {
   "cell_type": "code",
   "execution_count": 25,
   "metadata": {},
   "outputs": [
    {
     "data": {
      "text/html": [
       "<style  type=\"text/css\" >\n",
       "</style><table id=\"T_34171_\" ><caption>Number of calls</caption><thead>    <tr>        <th class=\"index_name level0\" >in SCZ GWAS loci</th>        <th class=\"col_heading level0 col0\" >False</th>        <th class=\"col_heading level0 col1\" >True</th>    </tr>    <tr>        <th class=\"index_name level0\" >in SCZ GWAS genes</th>        <th class=\"blank\" ></th>        <th class=\"blank\" ></th>    </tr></thead><tbody>\n",
       "                <tr>\n",
       "                        <th id=\"T_34171_level0_row0\" class=\"row_heading level0 row0\" >False</th>\n",
       "                        <td id=\"T_34171_row0_col0\" class=\"data row0 col0\" >6263</td>\n",
       "                        <td id=\"T_34171_row0_col1\" class=\"data row0 col1\" >35</td>\n",
       "            </tr>\n",
       "            <tr>\n",
       "                        <th id=\"T_34171_level0_row1\" class=\"row_heading level0 row1\" >True</th>\n",
       "                        <td id=\"T_34171_row1_col0\" class=\"data row1 col0\" >90</td>\n",
       "                        <td id=\"T_34171_row1_col1\" class=\"data row1 col1\" >38</td>\n",
       "            </tr>\n",
       "    </tbody></table>"
      ],
      "text/plain": [
       "<pandas.io.formats.style.Styler at 0x7f90d678e3d0>"
      ]
     },
     "execution_count": 25,
     "metadata": {},
     "output_type": "execute_result"
    }
   ],
   "source": [
    "contingency.style.set_caption('Number of calls')"
   ]
  },
  {
   "cell_type": "markdown",
   "metadata": {},
   "source": [
    "We see that the contingency between calls in SCZ GWAS genes and those in SCZ GWAS loci improves when we base our contingency table on only **coding** variants"
   ]
  },
  {
   "cell_type": "code",
   "execution_count": 26,
   "metadata": {},
   "outputs": [
    {
     "data": {
      "text/html": [
       "<style  type=\"text/css\" >\n",
       "</style><table id=\"T_e5e24_\" ><caption>Number of calls</caption><thead>    <tr>        <th class=\"index_name level0\" >in SCZ GWAS loci</th>        <th class=\"col_heading level0 col0\" >False</th>        <th class=\"col_heading level0 col1\" >True</th>    </tr>    <tr>        <th class=\"index_name level0\" >in SCZ GWAS genes</th>        <th class=\"blank\" ></th>        <th class=\"blank\" ></th>    </tr></thead><tbody>\n",
       "                <tr>\n",
       "                        <th id=\"T_e5e24_level0_row0\" class=\"row_heading level0 row0\" >False</th>\n",
       "                        <td id=\"T_e5e24_row0_col0\" class=\"data row0 col0\" >6289</td>\n",
       "                        <td id=\"T_e5e24_row0_col1\" class=\"data row0 col1\" >9</td>\n",
       "            </tr>\n",
       "            <tr>\n",
       "                        <th id=\"T_e5e24_level0_row1\" class=\"row_heading level0 row1\" >True</th>\n",
       "                        <td id=\"T_e5e24_row1_col0\" class=\"data row1 col0\" >90</td>\n",
       "                        <td id=\"T_e5e24_row1_col1\" class=\"data row1 col1\" >38</td>\n",
       "            </tr>\n",
       "    </tbody></table>"
      ],
      "text/plain": [
       "<pandas.io.formats.style.Styler at 0x7f90d4dc4350>"
      ]
     },
     "execution_count": 26,
     "metadata": {},
     "output_type": "execute_result"
    }
   ],
   "source": [
    "df = pd.crosstab(index=results[('near_gens_Overlapped Gene', 'SCZ GWAS genes')].astype('bool'), columns=(data['GWASpval'] > 0) & coding, margins=False)\n",
    "df = df.rename_axis('in SCZ GWAS genes', axis='index').rename_axis('in SCZ GWAS loci', axis='columns')\n",
    "df.style.set_caption('Number of calls')"
   ]
  },
  {
   "cell_type": "markdown",
   "metadata": {},
   "source": [
    "The remaining discrepancy is due to genes not listed aming the SCZ GWAS genes"
   ]
  },
  {
   "cell_type": "code",
   "execution_count": 27,
   "metadata": {},
   "outputs": [
    {
     "data": {
      "text/plain": [
       "Individual ID  CHROM  POS        Mutation\n",
       "CMC_MSSM_161   6      33652345   C/T                                {ITPR3}\n",
       "CMC_MSSM_343   6      31607395   A/C                                 {BAG6}\n",
       "CMC_MSSM_370   6      32286038   A/G                              {C6orf10}\n",
       "CMC_PITT_036   6      28565106   A/G                               {SCAND3}\n",
       "AN05983        18     53799852   A/T         {CTD-2008L17.2, RP11-456O19.4}\n",
       "AN13654        1      190617632  C/T                         {RP11-463J7.2}\n",
       "UMB1465        5      152500272  C/A                           {AC091969.1}\n",
       "UMB4899        6      33133388   G/A                              {COL11A2}\n",
       "UMB5297        1      190713407  T/C                         {RP11-463J7.2}\n",
       "Name: near_gens_Overlapped Gene, dtype: object"
      ]
     },
     "execution_count": 27,
     "metadata": {},
     "output_type": "execute_result"
    }
   ],
   "source": [
    "data.loc[(data['GWASpval'] > 0) & coding & ~ results[('near_gens_Overlapped Gene', 'SCZ GWAS genes')], 'near_gens_Overlapped Gene']"
   ]
  },
  {
   "cell_type": "markdown",
   "metadata": {},
   "source": [
    "1. The genes on chrom 6 are all on one locus that is labeled by xMHC by the PGC in the CLOZUK paper.  This is the major histocompatibility complex, which contains multiple genes\n",
    "1. For the locus on chrom 18 PGC lists TCF4, LOC101927273, LOC100505474 as SCZ GWAS genes; these might correspond to CTD-2008L17.2, RP11-456O19.4\n",
    "1. For the locus on chrom 1 PGC lists LOC440704, which contains LINC01720; what's the relation of LINC01720 to RP11-463J7.2 and/or RP11-463J7.2?\n",
    "1. For the locus on chrom 5 PGC lists LOC101927134, which contains LINC01470; would it be AC091969.1?  Yes, see [this page](https://grch37.ensembl.org/Homo_sapiens/Gene/Summary?g=ENSG00000249484;r=5:151998525-152603103)"
   ]
  },
  {
   "cell_type": "markdown",
   "metadata": {},
   "source": [
    "## Conclusion\n",
    "\n",
    "1. SCZ GWAS genes are more informative to SCZ pathological mechanism than SCZ GWAS loci because the latter contain also noncoding parts (which are less likely functional) besides genes.  On the other hand SCZ GWAS loci only partially overlap with some SCZ GWAS genes and thus exclude some somatic variants in the non-overlapping parts of SCZ GWAS genes.\n",
    "1. The SCZ GWAS gene set provided by the PGC in the CLOZUK paper\n",
    "    * does not list genes of xMHC explicitly\n",
    "    * lists several loci like LOC101927134 that seem to represent LINC RNAs\n",
    "1. Given these findings best way to study enrichment of SCZ variants in SCZ GWAS genes is to combine the `data['GWASpval'] > 0` filter with `coding = ~ data['near_gens_Overlapped Gene'].isna()` in order to get coding regions in GWAS loci\n",
    "1. This approach can be extended to variants located in SCZ GWAS genes stretching outside of SCZ GWAS loci"
   ]
  },
  {
   "cell_type": "markdown",
   "metadata": {},
   "source": [
    "## Individual loci"
   ]
  },
  {
   "cell_type": "code",
   "execution_count": 28,
   "metadata": {},
   "outputs": [
    {
     "data": {
      "text/plain": [
       "['named-figure/calls-in-individual-scz-gwas-loci-coding.png',\n",
       " 'named-figure/calls-in-individual-scz-gwas-loci-coding.pdf']"
      ]
     },
     "execution_count": 28,
     "metadata": {},
     "output_type": "execute_result"
    },
    {
     "data": {
      "image/png": "[encoded data removed]",
      "text/plain": [
       "<Figure size 432x288 with 1 Axes>"
      ]
     },
     "metadata": {
      "needs_background": "light"
     },
     "output_type": "display_data"
    }
   ],
   "source": [
    "only_scz = True\n",
    "x = summary.xs('SCZ GWAS locus, coding', axis=0, level=0)\n",
    "if only_scz:\n",
    "    x = x.drop('ASD', axis=1)\n",
    "x = x.drop(x.index[~ x.sum(axis=1).astype('bool')])\n",
    "%matplotlib inline\n",
    "x\n",
    "fig, ax = plt.subplots()\n",
    "ticks = np.arange(len(x))\n",
    "ax.bar(x=ticks, height=x['Control'], label='Control')\n",
    "ax.bar(x=ticks, height=x['SCZ'], bottom=x['Control'], label='SCZ')\n",
    "ax.set_xticks(ticks)\n",
    "ax.set_xticklabels(x.index)\n",
    "plt.xticks(rotation=45)\n",
    "ax.set_xlabel('Schizophrenia GWAS locus')\n",
    "ax.set_ylabel('somatic SNV calls')\n",
    "ax.legend()\n",
    "attila_utils.savefig(fig, 'calls-in-individual-scz-gwas-loci-coding')"
   ]
  },
  {
   "cell_type": "markdown",
   "metadata": {},
   "source": [
    "Checking locus 1"
   ]
  },
  {
   "cell_type": "code",
   "execution_count": 29,
   "metadata": {},
   "outputs": [
    {
     "data": {
      "text/html": [
       "<div>\n",
       "<style scoped>\n",
       "    .dataframe tbody tr th:only-of-type {\n",
       "        vertical-align: middle;\n",
       "    }\n",
       "\n",
       "    .dataframe tbody tr th {\n",
       "        vertical-align: top;\n",
       "    }\n",
       "\n",
       "    .dataframe thead th {\n",
       "        text-align: right;\n",
       "    }\n",
       "</style>\n",
       "<table border=\"1\" class=\"dataframe\">\n",
       "  <thead>\n",
       "    <tr style=\"text-align: right;\">\n",
       "      <th></th>\n",
       "      <th></th>\n",
       "      <th></th>\n",
       "      <th></th>\n",
       "      <th>Dx</th>\n",
       "      <th>near_gens_Annotation</th>\n",
       "      <th>sift_Prediction</th>\n",
       "      <th>near_gens_Nearest Upstream Gene</th>\n",
       "      <th>near_gens_Type of Nearest Upstream Gene</th>\n",
       "      <th>near_gens_Distance to Nearest Upstream Gene</th>\n",
       "      <th>near_gens_Nearest Downstream Gene</th>\n",
       "      <th>near_gens_Type of Nearest Downstream Gene</th>\n",
       "      <th>near_gens_Distance to Nearest Downstream Gene</th>\n",
       "    </tr>\n",
       "    <tr>\n",
       "      <th>Individual ID</th>\n",
       "      <th>CHROM</th>\n",
       "      <th>POS</th>\n",
       "      <th>Mutation</th>\n",
       "      <th></th>\n",
       "      <th></th>\n",
       "      <th></th>\n",
       "      <th></th>\n",
       "      <th></th>\n",
       "      <th></th>\n",
       "      <th></th>\n",
       "      <th></th>\n",
       "      <th></th>\n",
       "    </tr>\n",
       "  </thead>\n",
       "  <tbody>\n",
       "    <tr>\n",
       "      <th>CMC_MSSM_161</th>\n",
       "      <th>6</th>\n",
       "      <th>33652345</th>\n",
       "      <th>C/T</th>\n",
       "      <td>SCZ</td>\n",
       "      <td>{'ITPR3': ['intronic']}</td>\n",
       "      <td>NaN</td>\n",
       "      <td>NaN</td>\n",
       "      <td>NaN</td>\n",
       "      <td>&lt;NA&gt;</td>\n",
       "      <td>NaN</td>\n",
       "      <td>NaN</td>\n",
       "      <td>&lt;NA&gt;</td>\n",
       "    </tr>\n",
       "    <tr>\n",
       "      <th rowspan=\"2\" valign=\"top\">CMC_MSSM_343</th>\n",
       "      <th rowspan=\"2\" valign=\"top\">6</th>\n",
       "      <th>26533434</th>\n",
       "      <th>A/C</th>\n",
       "      <td>SCZ</td>\n",
       "      <td>NaN</td>\n",
       "      <td>NaN</td>\n",
       "      <td>CTA-14H9.5</td>\n",
       "      <td>lincRNA</td>\n",
       "      <td>5802</td>\n",
       "      <td>HMGN4</td>\n",
       "      <td>protein_coding</td>\n",
       "      <td>5199</td>\n",
       "    </tr>\n",
       "    <tr>\n",
       "      <th>31607395</th>\n",
       "      <th>A/C</th>\n",
       "      <td>SCZ</td>\n",
       "      <td>{'BAG6': ['coding nonsyn', '3downstream', 'int...</td>\n",
       "      <td>Tolerated - Low Confidence</td>\n",
       "      <td>NaN</td>\n",
       "      <td>NaN</td>\n",
       "      <td>&lt;NA&gt;</td>\n",
       "      <td>NaN</td>\n",
       "      <td>NaN</td>\n",
       "      <td>&lt;NA&gt;</td>\n",
       "    </tr>\n",
       "    <tr>\n",
       "      <th>CMC_MSSM_369</th>\n",
       "      <th>6</th>\n",
       "      <th>33127726</th>\n",
       "      <th>C/T</th>\n",
       "      <td>Control</td>\n",
       "      <td>NaN</td>\n",
       "      <td>NaN</td>\n",
       "      <td>HCG24</td>\n",
       "      <td>antisense</td>\n",
       "      <td>12182</td>\n",
       "      <td>COL11A2</td>\n",
       "      <td>protein_coding</td>\n",
       "      <td>2732</td>\n",
       "    </tr>\n",
       "    <tr>\n",
       "      <th>CMC_MSSM_370</th>\n",
       "      <th>6</th>\n",
       "      <th>32286038</th>\n",
       "      <th>A/G</th>\n",
       "      <td>SCZ</td>\n",
       "      <td>{'C6orf10': ['intronic']}</td>\n",
       "      <td>NaN</td>\n",
       "      <td>NaN</td>\n",
       "      <td>NaN</td>\n",
       "      <td>&lt;NA&gt;</td>\n",
       "      <td>NaN</td>\n",
       "      <td>NaN</td>\n",
       "      <td>&lt;NA&gt;</td>\n",
       "    </tr>\n",
       "    <tr>\n",
       "      <th>CMC_PITT_010</th>\n",
       "      <th>6</th>\n",
       "      <th>27486318</th>\n",
       "      <th>C/T</th>\n",
       "      <td>Control</td>\n",
       "      <td>NaN</td>\n",
       "      <td>NaN</td>\n",
       "      <td>XXbac-BPGBPG34I8.1</td>\n",
       "      <td>pseudogene</td>\n",
       "      <td>3265</td>\n",
       "      <td>HNRNPA1P1</td>\n",
       "      <td>pseudogene</td>\n",
       "      <td>4537</td>\n",
       "    </tr>\n",
       "    <tr>\n",
       "      <th>CMC_PITT_036</th>\n",
       "      <th>6</th>\n",
       "      <th>28565106</th>\n",
       "      <th>A/G</th>\n",
       "      <td>Control</td>\n",
       "      <td>{'SCAND3': ['non-coding intronic']}</td>\n",
       "      <td>NaN</td>\n",
       "      <td>NaN</td>\n",
       "      <td>NaN</td>\n",
       "      <td>&lt;NA&gt;</td>\n",
       "      <td>NaN</td>\n",
       "      <td>NaN</td>\n",
       "      <td>&lt;NA&gt;</td>\n",
       "    </tr>\n",
       "    <tr>\n",
       "      <th>CMC_PITT_050</th>\n",
       "      <th>6</th>\n",
       "      <th>29961978</th>\n",
       "      <th>T/C</th>\n",
       "      <td>Control</td>\n",
       "      <td>NaN</td>\n",
       "      <td>NaN</td>\n",
       "      <td>DDX39BP2</td>\n",
       "      <td>pseudogene</td>\n",
       "      <td>596</td>\n",
       "      <td>MCCD1P2</td>\n",
       "      <td>pseudogene</td>\n",
       "      <td>236</td>\n",
       "    </tr>\n",
       "    <tr>\n",
       "      <th>AN13654</th>\n",
       "      <th>6</th>\n",
       "      <th>33724752</th>\n",
       "      <th>C/G</th>\n",
       "      <td>ASD</td>\n",
       "      <td>NaN</td>\n",
       "      <td>NaN</td>\n",
       "      <td>IP6K3</td>\n",
       "      <td>protein_coding</td>\n",
       "      <td>9990</td>\n",
       "      <td>LEMD2</td>\n",
       "      <td>protein_coding</td>\n",
       "      <td>14227</td>\n",
       "    </tr>\n",
       "    <tr>\n",
       "      <th>UMB4672</th>\n",
       "      <th>6</th>\n",
       "      <th>33129348</th>\n",
       "      <th>G/A</th>\n",
       "      <td>Control</td>\n",
       "      <td>NaN</td>\n",
       "      <td>NaN</td>\n",
       "      <td>HCG24</td>\n",
       "      <td>antisense</td>\n",
       "      <td>13804</td>\n",
       "      <td>COL11A2</td>\n",
       "      <td>protein_coding</td>\n",
       "      <td>1110</td>\n",
       "    </tr>\n",
       "    <tr>\n",
       "      <th rowspan=\"2\" valign=\"top\">UMB4899</th>\n",
       "      <th rowspan=\"2\" valign=\"top\">6</th>\n",
       "      <th>28913226</th>\n",
       "      <th>T/C</th>\n",
       "      <td>ASD</td>\n",
       "      <td>NaN</td>\n",
       "      <td>NaN</td>\n",
       "      <td>C6orf100</td>\n",
       "      <td>protein_coding</td>\n",
       "      <td>912</td>\n",
       "      <td>KRT18P1</td>\n",
       "      <td>pseudogene</td>\n",
       "      <td>23681</td>\n",
       "    </tr>\n",
       "    <tr>\n",
       "      <th>33133388</th>\n",
       "      <th>G/A</th>\n",
       "      <td>ASD</td>\n",
       "      <td>{'COL11A2': ['coding nonsyn', 'non-coding']}</td>\n",
       "      <td>Deleterious</td>\n",
       "      <td>NaN</td>\n",
       "      <td>NaN</td>\n",
       "      <td>&lt;NA&gt;</td>\n",
       "      <td>NaN</td>\n",
       "      <td>NaN</td>\n",
       "      <td>&lt;NA&gt;</td>\n",
       "    </tr>\n",
       "    <tr>\n",
       "      <th>UMB5864</th>\n",
       "      <th>6</th>\n",
       "      <th>28673793</th>\n",
       "      <th>G/A</th>\n",
       "      <td>ASD</td>\n",
       "      <td>NaN</td>\n",
       "      <td>NaN</td>\n",
       "      <td>LINC00533</td>\n",
       "      <td>lincRNA</td>\n",
       "      <td>56950</td>\n",
       "      <td>RPSAP2</td>\n",
       "      <td>pseudogene</td>\n",
       "      <td>26001</td>\n",
       "    </tr>\n",
       "  </tbody>\n",
       "</table>\n",
       "</div>"
      ],
      "text/plain": [
       "                                            Dx  \\\n",
       "Individual ID CHROM POS      Mutation            \n",
       "CMC_MSSM_161  6     33652345 C/T           SCZ   \n",
       "CMC_MSSM_343  6     26533434 A/C           SCZ   \n",
       "                    31607395 A/C           SCZ   \n",
       "CMC_MSSM_369  6     33127726 C/T       Control   \n",
       "CMC_MSSM_370  6     32286038 A/G           SCZ   \n",
       "CMC_PITT_010  6     27486318 C/T       Control   \n",
       "CMC_PITT_036  6     28565106 A/G       Control   \n",
       "CMC_PITT_050  6     29961978 T/C       Control   \n",
       "AN13654       6     33724752 C/G           ASD   \n",
       "UMB4672       6     33129348 G/A       Control   \n",
       "UMB4899       6     28913226 T/C           ASD   \n",
       "                    33133388 G/A           ASD   \n",
       "UMB5864       6     28673793 G/A           ASD   \n",
       "\n",
       "                                                                    near_gens_Annotation  \\\n",
       "Individual ID CHROM POS      Mutation                                                      \n",
       "CMC_MSSM_161  6     33652345 C/T                                 {'ITPR3': ['intronic']}   \n",
       "CMC_MSSM_343  6     26533434 A/C                                                     NaN   \n",
       "                    31607395 A/C       {'BAG6': ['coding nonsyn', '3downstream', 'int...   \n",
       "CMC_MSSM_369  6     33127726 C/T                                                     NaN   \n",
       "CMC_MSSM_370  6     32286038 A/G                               {'C6orf10': ['intronic']}   \n",
       "CMC_PITT_010  6     27486318 C/T                                                     NaN   \n",
       "CMC_PITT_036  6     28565106 A/G                     {'SCAND3': ['non-coding intronic']}   \n",
       "CMC_PITT_050  6     29961978 T/C                                                     NaN   \n",
       "AN13654       6     33724752 C/G                                                     NaN   \n",
       "UMB4672       6     33129348 G/A                                                     NaN   \n",
       "UMB4899       6     28913226 T/C                                                     NaN   \n",
       "                    33133388 G/A            {'COL11A2': ['coding nonsyn', 'non-coding']}   \n",
       "UMB5864       6     28673793 G/A                                                     NaN   \n",
       "\n",
       "                                                  sift_Prediction  \\\n",
       "Individual ID CHROM POS      Mutation                               \n",
       "CMC_MSSM_161  6     33652345 C/T                              NaN   \n",
       "CMC_MSSM_343  6     26533434 A/C                              NaN   \n",
       "                    31607395 A/C       Tolerated - Low Confidence   \n",
       "CMC_MSSM_369  6     33127726 C/T                              NaN   \n",
       "CMC_MSSM_370  6     32286038 A/G                              NaN   \n",
       "CMC_PITT_010  6     27486318 C/T                              NaN   \n",
       "CMC_PITT_036  6     28565106 A/G                              NaN   \n",
       "CMC_PITT_050  6     29961978 T/C                              NaN   \n",
       "AN13654       6     33724752 C/G                              NaN   \n",
       "UMB4672       6     33129348 G/A                              NaN   \n",
       "UMB4899       6     28913226 T/C                              NaN   \n",
       "                    33133388 G/A                      Deleterious   \n",
       "UMB5864       6     28673793 G/A                              NaN   \n",
       "\n",
       "                                      near_gens_Nearest Upstream Gene  \\\n",
       "Individual ID CHROM POS      Mutation                                   \n",
       "CMC_MSSM_161  6     33652345 C/T                                  NaN   \n",
       "CMC_MSSM_343  6     26533434 A/C                           CTA-14H9.5   \n",
       "                    31607395 A/C                                  NaN   \n",
       "CMC_MSSM_369  6     33127726 C/T                                HCG24   \n",
       "CMC_MSSM_370  6     32286038 A/G                                  NaN   \n",
       "CMC_PITT_010  6     27486318 C/T                   XXbac-BPGBPG34I8.1   \n",
       "CMC_PITT_036  6     28565106 A/G                                  NaN   \n",
       "CMC_PITT_050  6     29961978 T/C                             DDX39BP2   \n",
       "AN13654       6     33724752 C/G                                IP6K3   \n",
       "UMB4672       6     33129348 G/A                                HCG24   \n",
       "UMB4899       6     28913226 T/C                             C6orf100   \n",
       "                    33133388 G/A                                  NaN   \n",
       "UMB5864       6     28673793 G/A                            LINC00533   \n",
       "\n",
       "                                      near_gens_Type of Nearest Upstream Gene  \\\n",
       "Individual ID CHROM POS      Mutation                                           \n",
       "CMC_MSSM_161  6     33652345 C/T                                          NaN   \n",
       "CMC_MSSM_343  6     26533434 A/C                                      lincRNA   \n",
       "                    31607395 A/C                                          NaN   \n",
       "CMC_MSSM_369  6     33127726 C/T                                    antisense   \n",
       "CMC_MSSM_370  6     32286038 A/G                                          NaN   \n",
       "CMC_PITT_010  6     27486318 C/T                                   pseudogene   \n",
       "CMC_PITT_036  6     28565106 A/G                                          NaN   \n",
       "CMC_PITT_050  6     29961978 T/C                                   pseudogene   \n",
       "AN13654       6     33724752 C/G                               protein_coding   \n",
       "UMB4672       6     33129348 G/A                                    antisense   \n",
       "UMB4899       6     28913226 T/C                               protein_coding   \n",
       "                    33133388 G/A                                          NaN   \n",
       "UMB5864       6     28673793 G/A                                      lincRNA   \n",
       "\n",
       "                                       near_gens_Distance to Nearest Upstream Gene  \\\n",
       "Individual ID CHROM POS      Mutation                                                \n",
       "CMC_MSSM_161  6     33652345 C/T                                              <NA>   \n",
       "CMC_MSSM_343  6     26533434 A/C                                              5802   \n",
       "                    31607395 A/C                                              <NA>   \n",
       "CMC_MSSM_369  6     33127726 C/T                                             12182   \n",
       "CMC_MSSM_370  6     32286038 A/G                                              <NA>   \n",
       "CMC_PITT_010  6     27486318 C/T                                              3265   \n",
       "CMC_PITT_036  6     28565106 A/G                                              <NA>   \n",
       "CMC_PITT_050  6     29961978 T/C                                               596   \n",
       "AN13654       6     33724752 C/G                                              9990   \n",
       "UMB4672       6     33129348 G/A                                             13804   \n",
       "UMB4899       6     28913226 T/C                                               912   \n",
       "                    33133388 G/A                                              <NA>   \n",
       "UMB5864       6     28673793 G/A                                             56950   \n",
       "\n",
       "                                      near_gens_Nearest Downstream Gene  \\\n",
       "Individual ID CHROM POS      Mutation                                     \n",
       "CMC_MSSM_161  6     33652345 C/T                                    NaN   \n",
       "CMC_MSSM_343  6     26533434 A/C                                  HMGN4   \n",
       "                    31607395 A/C                                    NaN   \n",
       "CMC_MSSM_369  6     33127726 C/T                                COL11A2   \n",
       "CMC_MSSM_370  6     32286038 A/G                                    NaN   \n",
       "CMC_PITT_010  6     27486318 C/T                              HNRNPA1P1   \n",
       "CMC_PITT_036  6     28565106 A/G                                    NaN   \n",
       "CMC_PITT_050  6     29961978 T/C                                MCCD1P2   \n",
       "AN13654       6     33724752 C/G                                  LEMD2   \n",
       "UMB4672       6     33129348 G/A                                COL11A2   \n",
       "UMB4899       6     28913226 T/C                                KRT18P1   \n",
       "                    33133388 G/A                                    NaN   \n",
       "UMB5864       6     28673793 G/A                                 RPSAP2   \n",
       "\n",
       "                                      near_gens_Type of Nearest Downstream Gene  \\\n",
       "Individual ID CHROM POS      Mutation                                             \n",
       "CMC_MSSM_161  6     33652345 C/T                                            NaN   \n",
       "CMC_MSSM_343  6     26533434 A/C                                 protein_coding   \n",
       "                    31607395 A/C                                            NaN   \n",
       "CMC_MSSM_369  6     33127726 C/T                                 protein_coding   \n",
       "CMC_MSSM_370  6     32286038 A/G                                            NaN   \n",
       "CMC_PITT_010  6     27486318 C/T                                     pseudogene   \n",
       "CMC_PITT_036  6     28565106 A/G                                            NaN   \n",
       "CMC_PITT_050  6     29961978 T/C                                     pseudogene   \n",
       "AN13654       6     33724752 C/G                                 protein_coding   \n",
       "UMB4672       6     33129348 G/A                                 protein_coding   \n",
       "UMB4899       6     28913226 T/C                                     pseudogene   \n",
       "                    33133388 G/A                                            NaN   \n",
       "UMB5864       6     28673793 G/A                                     pseudogene   \n",
       "\n",
       "                                       near_gens_Distance to Nearest Downstream Gene  \n",
       "Individual ID CHROM POS      Mutation                                                 \n",
       "CMC_MSSM_161  6     33652345 C/T                                                <NA>  \n",
       "CMC_MSSM_343  6     26533434 A/C                                                5199  \n",
       "                    31607395 A/C                                                <NA>  \n",
       "CMC_MSSM_369  6     33127726 C/T                                                2732  \n",
       "CMC_MSSM_370  6     32286038 A/G                                                <NA>  \n",
       "CMC_PITT_010  6     27486318 C/T                                                4537  \n",
       "CMC_PITT_036  6     28565106 A/G                                                <NA>  \n",
       "CMC_PITT_050  6     29961978 T/C                                                 236  \n",
       "AN13654       6     33724752 C/G                                               14227  \n",
       "UMB4672       6     33129348 G/A                                                1110  \n",
       "UMB4899       6     28913226 T/C                                               23681  \n",
       "                    33133388 G/A                                                <NA>  \n",
       "UMB5864       6     28673793 G/A                                               26001  "
      ]
     },
     "execution_count": 29,
     "metadata": {},
     "output_type": "execute_result"
    }
   ],
   "source": [
    "selcols = ['Dx', 'near_gens_Annotation', 'sift_Prediction', 'near_gens_Nearest Upstream Gene', 'near_gens_Type of Nearest Upstream Gene', 'near_gens_Distance to Nearest Upstream Gene', 'near_gens_Nearest Downstream Gene', 'near_gens_Type of Nearest Downstream Gene', 'near_gens_Distance to Nearest Downstream Gene']\n",
    "data.loc[data['SCZ GWAS locus'] == 1, selcols]"
   ]
  },
  {
   "cell_type": "code",
   "execution_count": 30,
   "metadata": {},
   "outputs": [
    {
     "name": "stdout",
     "output_type": "stream",
     "text": [
      "{\n",
      "  \"shell_port\": 41427,\n",
      "  \"iopub_port\": 41399,\n",
      "  \"stdin_port\": 60385,\n",
      "  \"control_port\": 36927,\n",
      "  \"hb_port\": 51263,\n",
      "  \"ip\": \"127.0.0.1\",\n",
      "  \"key\": \"d5d5b2ac-752828bbd2bc7f10acc3a932\",\n",
      "  \"transport\": \"tcp\",\n",
      "  \"signature_scheme\": \"hmac-sha256\",\n",
      "  \"kernel_name\": \"\"\n",
      "}\n",
      "\n",
      "Paste the above JSON into a file, and connect with:\n",
      "    $> jupyter <app> --existing <file>\n",
      "or, if you are local, you can connect with just:\n",
      "    $> jupyter <app> --existing kernel-f88acea7-604b-47f9-b649-da5e05a2c8eb.json\n",
      "or even just:\n",
      "    $> jupyter <app> --existing\n",
      "if this is the most recent Jupyter kernel you have started.\n"
     ]
    }
   ],
   "source": [
    "%connect_info"
   ]
  },
  {
   "cell_type": "code",
   "execution_count": null,
   "metadata": {},
   "outputs": [],
   "source": []
  }
 ],
 "metadata": {
  "kernelspec": {
   "display_name": "Python 3",
   "language": "python",
   "name": "python3"
  },
  "language_info": {
   "codemirror_mode": {
    "name": "ipython",
    "version": 3
   },
   "file_extension": ".py",
   "mimetype": "text/x-python",
   "name": "python",
   "nbconvert_exporter": "python",
   "pygments_lexer": "ipython3",
   "version": "3.7.6"
  }
 },
 "nbformat": 4,
 "nbformat_minor": 4
}
